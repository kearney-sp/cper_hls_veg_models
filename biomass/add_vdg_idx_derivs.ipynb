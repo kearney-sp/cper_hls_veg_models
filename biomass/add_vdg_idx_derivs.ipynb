{
 "cells": [
  {
   "cell_type": "code",
   "execution_count": null,
   "id": "7879a219-a8c5-4722-a73e-94a8df1db9ef",
   "metadata": {},
   "outputs": [],
   "source": [
    "import pandas as pd\n",
    "import seaborn as sns\n",
    "import matplotlib.pyplot as plt\n",
    "import numpy as np"
   ]
  },
  {
   "cell_type": "code",
   "execution_count": null,
   "id": "65c3e55e-8aef-4d3b-98d0-f637fa6dfc76",
   "metadata": {},
   "outputs": [],
   "source": [
    "# load data\n",
    "df_ts = pd.read_csv('../data/raw_tmp/ts_raw_vor_plot.csv', parse_dates=[1])"
   ]
  },
  {
   "cell_type": "code",
   "execution_count": null,
   "id": "3d547650-1842-47f7-9f76-38098a44eae0",
   "metadata": {},
   "outputs": [],
   "source": [
    "# identify duplicates\n",
    "df_ts['duplicated'] = df_ts.duplicated(subset=['Id', 'Date'], keep=False)\n",
    "df_ts['dup_first'] = df_ts.duplicated(subset=['Id', 'Date'], keep='first')\n",
    "df_ts['dup_last'] = df_ts.duplicated(subset=['Id', 'Date'], keep='last')"
   ]
  },
  {
   "cell_type": "code",
   "execution_count": null,
   "id": "63d00c95-6edd-42d2-9365-7f3c4b91a1f5",
   "metadata": {},
   "outputs": [],
   "source": [
    "# drop duplicates based on year, keeping last entry for Jan/Feb and first entry for Nov/Dec\n",
    "# this corresponds to how data are smoothed within year, but extending before/after each year during extraction\n",
    "df_ts = df_ts[\n",
    "(~df_ts['duplicated']) |\n",
    "(df_ts['Date'].dt.month < 3) & df_ts['duplicated'] & (~df_ts['dup_last']) |\n",
    "(df_ts['Date'].dt.month > 10) & df_ts['duplicated'] & (~df_ts['dup_first'])]\n",
    "\n",
    "df_ts = df_ts.drop(columns=['duplicated', 'dup_last', 'dup_first'])"
   ]
  },
  {
   "cell_type": "code",
   "execution_count": null,
   "id": "a517a2f8-8b7e-449c-bf3c-ceba2c6459c0",
   "metadata": {},
   "outputs": [],
   "source": [
    "cols = [x for x in df_ts.columns[2:] if '_smooth' not in x]"
   ]
  },
  {
   "cell_type": "code",
   "execution_count": null,
   "id": "17d5fd71-dfd6-4f10-abf3-7796173fb495",
   "metadata": {},
   "outputs": [],
   "source": [
    "# plot smoothed data for a single plot\n",
    "plot = '15E_P3'\n",
    "fig, axs = plt.subplots(figsize=(20, 3*len(cols)), nrows=len(cols))\n",
    "for idx, ax in enumerate(axs):\n",
    "    df_ts[df_ts['Id'] == plot].plot.scatter(x='Date', y=cols[idx], ax=ax, c='black', s=10, alpha=0.5)\n",
    "    df_ts[df_ts['Id'] == plot].plot(x='Date', y=cols[idx] + '_smooth', ax=ax, c='red')"
   ]
  },
  {
   "cell_type": "code",
   "execution_count": null,
   "id": "54742c5d-aeaa-4a16-8169-910ae82dafeb",
   "metadata": {},
   "outputs": [],
   "source": [
    "veg_idxs = ['NDVI', 'NDII7', 'SAVI', 'RDVI', 'MTVI1', 'PSRI', 'NDWI', 'EVI', 'TCGI']"
   ]
  },
  {
   "cell_type": "code",
   "execution_count": null,
   "id": "63d2109f-d848-4cc5-a0a0-d5fd4f9b1f44",
   "metadata": {},
   "outputs": [],
   "source": [
    "# add in the 1st derivatives of the specified vegetation indices\n",
    "for i in veg_idxs:\n",
    "    df_ts[i + '_dv1'] = df_ts.groupby([df_ts['Date'].dt.year, 'Id'])[i + '_smooth'].transform(lambda x: x.diff())"
   ]
  },
  {
   "cell_type": "code",
   "execution_count": null,
   "id": "a5b54954-9816-4e48-92e0-7c6bf64e1129",
   "metadata": {},
   "outputs": [],
   "source": [
    "# plot\n",
    "plot1 = '7NW_P2'\n",
    "plot2 = '20NW_P4'\n",
    "var1 = 'NDTI'\n",
    "var2 = 'SWIR1'\n",
    "\n",
    "fig, axs = plt.subplots(figsize=(20, 6), nrows=2)\n",
    "df_ts[df_ts['Id'] == plot1].plot.scatter(x='Date', y=var1, ax=axs[0], c='blue', s=10, alpha=0.5)\n",
    "df_ts[df_ts['Id'] == plot2].plot.scatter(x='Date', y=var1, ax=axs[0], c='red', s=10, alpha=0.5)\n",
    "df_ts[df_ts['Id'] == plot1].plot(x='Date', y= var1 + '_smooth', ax=axs[0], c='blue')\n",
    "df_ts[df_ts['Id'] == plot2].plot(x='Date', y= var1 + '_smooth', ax=axs[0], c='red')\n",
    "\n",
    "df_ts[df_ts['Id'] == plot1].plot.scatter(x='Date', y=var2, ax=axs[1], c='blue', s=10, alpha=0.5)\n",
    "df_ts[df_ts['Id'] == plot2].plot.scatter(x='Date', y=var2, ax=axs[1], c='red', s=10, alpha=0.5)\n",
    "df_ts[df_ts['Id'] == plot1].plot(x='Date', y= var2 + '_smooth', ax=axs[1], c='blue')\n",
    "df_ts[df_ts['Id'] == plot2].plot(x='Date', y= var2 + '_smooth', ax=axs[1], c='red')\n",
    "\n",
    "for ax in axs:\n",
    "    for yr in range(2013, 2023):\n",
    "        ax.axvline(pd.Timestamp(str(yr) + '-06-12'), color='g')\n",
    "        ax.axvline(pd.Timestamp(str(yr) + '-10-5'), color='orange')"
   ]
  },
  {
   "cell_type": "code",
   "execution_count": null,
   "id": "90f34d90-9867-45fc-961d-a41062ef448a",
   "metadata": {},
   "outputs": [],
   "source": [
    "# plot\n",
    "plot = '15E_P3'\n",
    "var1 = 'NDVI'\n",
    "var2 = 'NDVI_dv1'\n",
    "\n",
    "fig, axs = plt.subplots(figsize=(20, 6), nrows=2)\n",
    "df_ts[df_ts['Id'] == plot].plot.scatter(x='Date', y=var1, ax=axs[0], c='black', s=10, alpha=0.5)\n",
    "df_ts[df_ts['Id'] == plot].plot(x='Date', y= var1 + '_smooth', ax=axs[0], c='red')\n",
    "df_ts[df_ts['Id'] == plot].plot(x='Date', y= var2 , ax=axs[1], c='red')"
   ]
  },
  {
   "cell_type": "code",
   "execution_count": null,
   "id": "4b275d18-7431-44f9-bd27-86479acdb200",
   "metadata": {},
   "outputs": [],
   "source": [
    "df_vor = pd.read_csv('../data/training/vor_2013_2022_cln_2023_08_29_plot_hls_idxs.csv', parse_dates=[2,3])"
   ]
  },
  {
   "cell_type": "code",
   "execution_count": null,
   "id": "afe57187-35ae-40fb-a87b-6178ae7b49e5",
   "metadata": {},
   "outputs": [],
   "source": [
    "df_out = pd.merge(df_vor,\n",
    "                  df_ts[['Id', 'Date'] + [i + '_dv1' for i in veg_idxs]], \n",
    "                  on=['Id', 'Date'],\n",
    "                  how='left')"
   ]
  },
  {
   "cell_type": "code",
   "execution_count": null,
   "id": "8a1fff06-05e9-48ea-8eba-f645600885c4",
   "metadata": {},
   "outputs": [],
   "source": [
    "df_out.to_csv('../data/training/vor_2013_2022_cln_2023_08_29_plot_hls_idxs_dv1.csv', index=False)"
   ]
  },
  {
   "cell_type": "code",
   "execution_count": null,
   "id": "67c136b7-79f7-4a03-97d7-bf7a7a402922",
   "metadata": {},
   "outputs": [],
   "source": [
    "for c in cols:\n",
    "    print(c + ': ', (abs((df_ts[c] - df_ts[c + '_smooth']) / df_ts[c + '_smooth'])).mean().round(2))"
   ]
  },
  {
   "cell_type": "code",
   "execution_count": null,
   "id": "ca44c58f-15c2-457f-b407-9e13af79bf6b",
   "metadata": {},
   "outputs": [],
   "source": [
    "for c in cols:\n",
    "    print(c + ': ', (20*np.log10(abs(df_ts[c + '_smooth'] / (df_ts[c] - df_ts[c + '_smooth']))).mean().round(2)))"
   ]
  },
  {
   "cell_type": "code",
   "execution_count": null,
   "id": "98e6ae99-f2e4-4923-85e8-385f237806c5",
   "metadata": {},
   "outputs": [],
   "source": [
    "df_ts[c + '_smooth']"
   ]
  },
  {
   "cell_type": "code",
   "execution_count": null,
   "id": "09277973-2363-4ea4-893a-a4f69a681d9d",
   "metadata": {},
   "outputs": [],
   "source": [
    "df_out.columns"
   ]
  },
  {
   "cell_type": "code",
   "execution_count": null,
   "id": "d56da240-49cd-41eb-94a3-945688f33a23",
   "metadata": {},
   "outputs": [],
   "source": []
  }
 ],
 "metadata": {
  "kernelspec": {
   "display_name": "hls_nrt_env",
   "language": "python",
   "name": "hls_nrt_env"
  },
  "language_info": {
   "codemirror_mode": {
    "name": "ipython",
    "version": 3
   },
   "file_extension": ".py",
   "mimetype": "text/x-python",
   "name": "python",
   "nbconvert_exporter": "python",
   "pygments_lexer": "ipython3",
   "version": "3.9.12"
  }
 },
 "nbformat": 4,
 "nbformat_minor": 5
}
