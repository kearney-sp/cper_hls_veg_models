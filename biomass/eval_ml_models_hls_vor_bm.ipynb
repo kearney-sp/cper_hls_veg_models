{
 "cells": [
  {
   "cell_type": "code",
   "execution_count": 1,
   "id": "33e8bcde-38c6-45e9-b5a9-c4583dd8f86d",
   "metadata": {},
   "outputs": [],
   "source": [
    "import pandas as pd\n",
    "import seaborn as sns\n",
    "import matplotlib.pyplot as plt\n",
    "import numpy as np\n",
    "import os\n",
    "import re\n",
    "from sklearn.metrics import r2_score\n",
    "import pickle"
   ]
  },
  {
   "cell_type": "code",
   "execution_count": 2,
   "id": "220ea554-d94b-496a-bc8d-49fe5cd553d3",
   "metadata": {},
   "outputs": [],
   "source": [
    "prefix = 'plot'\n",
    "tuneby = 'year'\n",
    "inPATH = 'results/ml_pred_' + prefix + '_cv_year_tuneby_' + tuneby + '.csv'\n",
    "with open('results/ml_train_' + prefix + '_cv_year_tuneby_' + tuneby + '_results.pk', 'rb') as f:\n",
    "    mod_dict = pickle.load(f)\n",
    "df_bm_pred = pd.read_csv(inPATH)\n",
    "df_bm_pred['Source'] = pd.Categorical(df_bm_pred['Source'], \n",
    "                                      categories=['LASSO', 'PLS', 'PCR', 'SVR', 'RF', 'GBR'])\n",
    "\n",
    "save_results = False"
   ]
  },
  {
   "cell_type": "code",
   "execution_count": 3,
   "id": "aa9e2ad5-684c-47e3-8c43-f1bff868e883",
   "metadata": {},
   "outputs": [],
   "source": [
    "def r2_corrcoef(y_obs, y_pred):\n",
    "    corr_matrix = np.corrcoef(y_obs, y_pred)\n",
    "    corr = corr_matrix[0,1]\n",
    "    R_sq = corr**2\n",
    "    return R_sq"
   ]
  },
  {
   "cell_type": "code",
   "execution_count": 4,
   "id": "0947f893-b60c-443f-978e-8fc9c287c770",
   "metadata": {},
   "outputs": [
    {
     "data": {
      "text/plain": [
       "array([2013, 2014, 2015, 2016, 2017, 2018, 2019, 2020, 2021, 2022])"
      ]
     },
     "execution_count": 4,
     "metadata": {},
     "output_type": "execute_result"
    }
   ],
   "source": [
    "df_bm_pred['Year'].unique()"
   ]
  },
  {
   "cell_type": "code",
   "execution_count": null,
   "id": "320fbad0-d029-4a66-b571-17c3869ae1fe",
   "metadata": {},
   "outputs": [],
   "source": [
    "if 'Transect' in df_bm_pred.columns:\n",
    "    mae_transect = df_bm_pred.groupby(['Source', 'Year']).apply(\n",
    "        lambda z: z.groupby(['Pasture', 'Plot', 'Transect', 'Date_mean']).apply(\n",
    "            lambda x: abs(np.mean(x['Predicted']) - np.mean(x['Observed']))).mean()).round(2)\n",
    "    mape_transect = df_bm_pred.groupby(['Source', 'Year']).apply(\n",
    "        lambda z: z.groupby(['Pasture', 'Plot', 'Transect', 'Date_mean']).apply(\n",
    "            lambda x: abs(np.mean(x['Predicted']) - np.mean(x['Observed'])) / np.mean(x['Observed'])).mean()).round(2)\n",
    "    r2_transect = df_bm_pred.groupby(['Source', 'Year']).apply((lambda x: r2_score(x['Observed'], x['Predicted']))).round(2)\n",
    "    r2_corr_transect = df_bm_pred.groupby(['Source', 'Year']).apply((lambda x: r2_corrcoef(x['Observed'], x['Predicted']))).round(2)"
   ]
  },
  {
   "cell_type": "code",
   "execution_count": null,
   "id": "d3953897-3dac-472e-9bc9-ba31edd992fd",
   "metadata": {},
   "outputs": [],
   "source": [
    "if 'Transect' in df_bm_pred.columns:\n",
    "    df_smry_transect = pd.DataFrame({\n",
    "        'MAE': mae_transect.unstack(level=0).mean().round(2),\n",
    "        'MAPE': mape_transect.unstack(level=0).mean().round(2),\n",
    "        'R^2': r2_transect.unstack(level=0).mean().round(2),\n",
    "        'r^2': r2_corr_transect.unstack(level=0).mean().round(2)\n",
    "    })\n",
    "    display(df_smry_transect)\n",
    "    if save_results:\n",
    "        df_smry_transect.to_csv('results/tables/ml_models/ml_yrly_pred_transect_from_' + prefix + '_tuneby_' + tuneby + '.csv')\n",
    "\n",
    "    df_smry_transect_by_yr = pd.DataFrame({\n",
    "        'MAE': mae_transect.round(2),\n",
    "        'MAPE': mape_transect.round(2),\n",
    "        'R^2': r2_transect.round(2),\n",
    "        'r^2': r2_corr_transect.round(2)\n",
    "    })\n",
    "    #display(df_smry_plot_by_yr)\n",
    "    if save_results:\n",
    "        df_smry_transect_by_yr.to_csv('results/tables/ml_models/ml_yrly_pred_transect_from_' + prefix + '_tuneby_' + tuneby + '_yearly.csv')"
   ]
  },
  {
   "cell_type": "code",
   "execution_count": null,
   "id": "d0babc43-b8ef-4c94-a01a-24f0da917108",
   "metadata": {
    "scrolled": true
   },
   "outputs": [],
   "source": [
    "mae_plot = df_bm_pred.groupby(['Source', 'Year']).apply(\n",
    "    lambda z: z.groupby(['Pasture', 'Plot', 'Date_mean']).apply(lambda x: abs(np.mean(x['Predicted']) - np.mean(x['Observed']))).mean()).round(2)\n",
    "mape_plot = df_bm_pred.groupby(['Source', 'Year']).apply(\n",
    "    lambda z: z.groupby(['Pasture', 'Plot', 'Date_mean']).apply(lambda x: abs(np.mean(x['Predicted']) - np.mean(x['Observed'])) / np.mean(x['Observed'])).mean()).round(2)\n",
    "r2_plot = df_bm_pred.groupby(['Source', 'Year', 'Pasture', 'Plot']).mean().reset_index().dropna().groupby(['Source', 'Year']).apply(\n",
    "    (lambda x: r2_score(x['Observed'], x['Predicted']))).round(2)\n",
    "r2_corr_plot = df_bm_pred.groupby(['Source', 'Year', 'Pasture', 'Plot']).mean().reset_index().dropna().groupby(['Source', 'Year']).apply(\n",
    "        lambda x: r2_corrcoef(x['Observed'], x['Predicted'])).round(2)"
   ]
  },
  {
   "cell_type": "code",
   "execution_count": null,
   "id": "e8970ca3-e618-4a8c-a201-0b10c5aae2e4",
   "metadata": {},
   "outputs": [],
   "source": [
    "df_smry_plot = pd.DataFrame({\n",
    "    'MAE': mae_plot.unstack(level=0).mean().round(2),\n",
    "    'MAPE': mape_plot.unstack(level=0).mean().round(2),\n",
    "    'R^2': r2_plot.unstack(level=0).mean().round(2),\n",
    "    'r^2': r2_corr_plot.unstack(level=0).mean().round(2)\n",
    "})\n",
    "display(df_smry_plot)\n",
    "if save_results:\n",
    "    df_smry_plot.to_csv('results/tables/ml_models/ml_yrly_pred_plot_from_' + prefix + '_tuneby_' + tuneby + '.csv')\n",
    "\n",
    "df_smry_plot_by_yr = pd.DataFrame({\n",
    "    'MAE': mae_plot.round(2),\n",
    "    'MAPE': mape_plot.round(2),\n",
    "    'R^2': r2_plot.round(2),\n",
    "    'r^2': r2_corr_plot.round(2)\n",
    "})\n",
    "#display(df_smry_plot_by_yr)\n",
    "if save_results:\n",
    "    df_smry_plot_by_yr.to_csv('results/tables/ml_models/ml_yrly_pred_plot_from_' + prefix + '_tuneby_' + tuneby + '_yearly.csv')"
   ]
  },
  {
   "cell_type": "code",
   "execution_count": null,
   "id": "6ca0a02e-8793-46cc-af31-67e4c623e973",
   "metadata": {},
   "outputs": [],
   "source": [
    "mae_pasture = df_bm_pred.groupby(['Source', 'Year']).apply(\n",
    "    lambda z: z.groupby(['Pasture', 'Date_mean']).apply(lambda x: abs(np.mean(x['Predicted']) - np.mean(x['Observed']))).mean()).round(2)\n",
    "mape_pasture = df_bm_pred.groupby(['Source', 'Year']).apply(\n",
    "    lambda z: z.groupby(['Pasture', 'Date_mean']).apply(lambda x: abs(np.mean(x['Predicted']) - np.mean(x['Observed'])) / np.mean(x['Observed'])).mean()).round(2)\n",
    "r2_pasture = df_bm_pred.groupby(['Source', 'Year', 'Pasture']).mean().reset_index().dropna().groupby(['Source', 'Year']).apply(\n",
    "    lambda x: r2_score(x['Observed'], x['Predicted'])).round(2)\n",
    "r2_corr_pasture = df_bm_pred.groupby(['Source', 'Year', 'Pasture']).mean().reset_index().dropna().groupby(['Source', 'Year']).apply(\n",
    "    lambda x: r2_corrcoef(x['Observed'], x['Predicted'])).round(2)"
   ]
  },
  {
   "cell_type": "code",
   "execution_count": null,
   "id": "3dec1d23-c774-4267-be90-a58a60e0a484",
   "metadata": {},
   "outputs": [],
   "source": [
    "df_smry_pasture = pd.DataFrame({\n",
    "    'MAE': mae_pasture.unstack(level=0).mean().round(2),\n",
    "    'MAPE': mape_pasture.unstack(level=0).mean().round(2),\n",
    "    'R^2': r2_pasture.unstack(level=0).mean().round(2),\n",
    "    'r^2': r2_corr_pasture.unstack(level=0).mean().round(2)\n",
    "})\n",
    "display(df_smry_pasture)\n",
    "if save_results:\n",
    "    df_smry_pasture.to_csv('results/tables/ml_models/ml_yrly_pred_pasture_from_' + prefix + '_tuneby_' + tuneby + '.csv')\n",
    "\n",
    "df_smry_pasture_by_yr = pd.DataFrame({\n",
    "    'MAE': mae_pasture.round(2),\n",
    "    'MAPE': mape_pasture.round(2),\n",
    "    'R^2': r2_pasture.round(2),\n",
    "    'r^2': r2_corr_pasture.round(2)\n",
    "})\n",
    "#display(df_smry_pasture_by_yr)\n",
    "if save_results:\n",
    "    df_smry_pasture_by_yr.to_csv('results/tables/ml_models/ml_yrly_pred_pasture_from_' + prefix + '_tuneby_' + tuneby + '_yearly.csv')"
   ]
  },
  {
   "cell_type": "code",
   "execution_count": null,
   "id": "f6943358-8575-4401-bcb6-c6c2b8e5250a",
   "metadata": {},
   "outputs": [],
   "source": [
    "if 'Transect' in df_bm_pred.columns:\n",
    "    p_trans = sns.lmplot(df_bm_pred, x='Observed', y='Predicted', col='Source', col_wrap=3, hue='Year', ci=None,\n",
    "                         scatter_kws={'s': 8, 'alpha': 0.25, 'edgecolor': None})\n",
    "    for ax in p_trans.axes:\n",
    "        ax.set_ylim((0, 4000))\n",
    "        ax.plot(np.arange(0, 4000), np.arange(0, 4000), c='black')\n",
    "    if save_results:\n",
    "        plt.savefig(os.path.join('results/figures/ml_models', 'ml_yrly_pred_transect_from_' + prefix + '_tuneby_' + tuneby + '.png'), dpi=100)\n",
    "else:\n",
    "    p_trans=None"
   ]
  },
  {
   "cell_type": "code",
   "execution_count": null,
   "id": "755af4d6-276b-4f6d-acec-3a05147c5df8",
   "metadata": {},
   "outputs": [],
   "source": [
    "p_plot = sns.lmplot(df_bm_pred.groupby(['Year', 'Source', 'Pasture', 'Plot', 'Date_mean']).mean().reset_index(),\n",
    "               x='Observed', y='Predicted', col='Source', col_wrap=3, col_order=['LASSO', 'PLS', 'PCR', 'RF', 'SVR', 'GBR'],\n",
    "               hue='Year', ci=None,\n",
    "                    scatter_kws={'s': 8, 'alpha': 0.25, 'edgecolor': None})\n",
    "for ax in p_plot.axes:\n",
    "        ax.set_ylim((0, 4000))\n",
    "        ax.plot(np.arange(0, 4000), np.arange(0, 4000), c='black')\n",
    "if save_results:\n",
    "    plt.savefig(os.path.join('results/figures/ml_models', 'ml_yrly_pred_plot_from_' + prefix + '_tuneby_' + tuneby + '.png'), dpi=100)"
   ]
  },
  {
   "cell_type": "code",
   "execution_count": null,
   "id": "b949cfb9-f2fa-4c08-a10c-4896f3b1db75",
   "metadata": {},
   "outputs": [],
   "source": [
    "p_pasture = sns.lmplot(df_bm_pred.groupby(['Year', 'Source', 'Pasture', 'Date_mean']).mean().reset_index(), \n",
    "               x='Observed', y='Predicted', col='Source', col_wrap=3, col_order=['LASSO', 'PLS', 'PCR', 'RF', 'SVR', 'GBR'], \n",
    "               hue='Year', ci=None, \n",
    "                       scatter_kws={'s': 8, 'alpha': 0.25, 'edgecolor': None})\n",
    "for ax in p_pasture.axes:\n",
    "    ax.set_ylim((0, 4000))\n",
    "    ax.plot(np.arange(0, 4000), np.arange(0, 4000), c='black')\n",
    "if save_results:\n",
    "    plt.savefig(os.path.join('results/figures/ml_models', 'ml_yrly_pred_pasture_from_' + prefix + '_tuneby_' + tuneby + '.png'), dpi=100)"
   ]
  },
  {
   "cell_type": "code",
   "execution_count": null,
   "id": "8fa28f14-5836-475c-994e-fffac45349d4",
   "metadata": {},
   "outputs": [],
   "source": [
    "df_lasso_coefs = mod_dict['LASSO']['variable_df']\n",
    "df_lasso_coefs['Coef_abs'] = abs(df_lasso_coefs['Coef'])\n",
    "df_lasso_coefs_ranked = df_lasso_coefs.groupby('Variable')['Coef_abs'].mean().sort_values(ascending=False)\n",
    "df_lasso_coefs['Variable'] = pd.Categorical(df_lasso_coefs['Variable'], categories=df_lasso_coefs_ranked.index.values)\n",
    "p = sns.catplot(df_lasso_coefs, x='Coef_abs', y='Variable', hue='Year', height=8, aspect=1.0, orient='h')\n",
    "#for ax in p.axes.flatten():\n",
    "#    ax.tick_params(axis='x', rotation=90)"
   ]
  },
  {
   "cell_type": "code",
   "execution_count": null,
   "id": "6ff2cdc6-5e88-4802-b7d6-8b0c274034de",
   "metadata": {},
   "outputs": [],
   "source": [
    "df_lasso_coefs.groupby('Variable')['Coef'].count().sort_values(ascending=False)"
   ]
  },
  {
   "cell_type": "code",
   "execution_count": null,
   "id": "5e43b916-a145-4ad3-9ad3-b43eca6d87f3",
   "metadata": {},
   "outputs": [],
   "source": [
    "df_lasso_coefs.groupby('Year')['Coef'].count()"
   ]
  },
  {
   "cell_type": "code",
   "execution_count": null,
   "id": "61e6ce94-64e3-422d-86f4-05ba2e403646",
   "metadata": {},
   "outputs": [],
   "source": [
    "df_vip = mod_dict['PLS']['variable_df']\n",
    "df_vip_ranked = df_vip.groupby('Variable')['VIP'].mean().sort_values(ascending=False)\n",
    "df_vip['Variable'] = pd.Categorical(df_vip['Variable'], categories=df_vip_ranked.index.values)\n",
    "df_vip_top = df_vip[df_vip['VIP'] > 1.0].copy()\n",
    "df_vip_top['Variable'] = df_vip_top['Variable'].cat.remove_unused_categories()\n",
    "p = sns.catplot(df_vip_top, x='VIP', y='Variable',  hue='Year', height=8, aspect=1.0, orient='h')"
   ]
  },
  {
   "cell_type": "code",
   "execution_count": null,
   "id": "2ca1d1f5-cfd1-490c-90d1-e24a3a5975b0",
   "metadata": {
    "scrolled": true
   },
   "outputs": [],
   "source": [
    "df_vip[df_vip['VIP'] > 1.0].groupby('Variable')['VIP'].count().sort_values(ascending=False)"
   ]
  },
  {
   "cell_type": "code",
   "execution_count": null,
   "id": "cc793596-e749-48e9-b8fb-3e3d56fa9dd1",
   "metadata": {},
   "outputs": [],
   "source": [
    "df_pcr_coefs = mod_dict['PCR']['variable_df']\n",
    "pcr_coefs_abs_mean = df_pcr_coefs.groupby(['Year', 'Variable']).apply(lambda x: np.mean(np.abs(x), axis=1))\n",
    "pcr_coefs_abs_mean.name = 'Coef_mean_abs'\n",
    "df_pcr_coefs_mean = pcr_coefs_abs_mean.reset_index()\n",
    "\n",
    "pcr_vars_mean_ranked = df_pcr_coefs_mean.groupby('Variable')['Coef_mean_abs'].mean().sort_values(ascending=False)\n",
    "df_pcr_coefs_mean['Variable'] = pd.Categorical(df_pcr_coefs_mean['Variable'], categories=pcr_vars_mean_ranked.index.values)\n",
    "\n",
    "df_pcr_coefs_mean_top20 = df_pcr_coefs_mean[df_pcr_coefs_mean['Variable'].isin(pcr_vars_mean_ranked.head(20).index.values)].copy()\n",
    "df_pcr_coefs_mean_top20['Variable'] = df_pcr_coefs_mean_top20['Variable'].cat.remove_unused_categories()\n",
    "\n",
    "p = sns.catplot(df_pcr_coefs_mean_top20,\n",
    "                x='Coef_mean_abs', y='Variable',  hue='Year', height=6, aspect=1, orient='h')"
   ]
  },
  {
   "cell_type": "code",
   "execution_count": null,
   "id": "4c8f9951-93df-4d97-bcab-f54eb0bd222d",
   "metadata": {},
   "outputs": [],
   "source": [
    "df_svr_pi = mod_dict['SVR']['variable_df']\n",
    "df_svr_pi_ranked = df_svr_pi.groupby('Variable')['PI'].mean().sort_values(ascending=False)\n",
    "df_svr_pi['Variable'] = pd.Categorical(df_svr_pi['Variable'], categories=df_svr_pi_ranked.index.values)\n",
    "p = sns.catplot(df_svr_pi,\n",
    "                x='PI', y='Variable',  hue='Year', height=6, aspect=1, orient='h')"
   ]
  },
  {
   "cell_type": "code",
   "execution_count": null,
   "id": "0d94ec6e-bc3d-441a-8731-45bec2b68fc8",
   "metadata": {},
   "outputs": [],
   "source": [
    "df_rf_pi = mod_dict['RF']['variable_df']\n",
    "df_rf_pi_ranked = df_rf_pi.groupby('Variable')['PI'].mean().sort_values(ascending=False)\n",
    "df_rf_pi['Variable'] = pd.Categorical(df_rf_pi['Variable'], categories=df_rf_pi_ranked.index.values)\n",
    "p = sns.catplot(df_rf_pi,\n",
    "                x='PI', y='Variable',  hue='Year', height=6, aspect=1, orient='h')"
   ]
  },
  {
   "cell_type": "code",
   "execution_count": null,
   "id": "d5791af5-1b50-4683-80d2-8a29005b2ede",
   "metadata": {},
   "outputs": [],
   "source": [
    "df_gbr_pi = mod_dict['GBR']['variable_df']\n",
    "df_gbr_pi_ranked = df_gbr_pi.groupby('Variable')['PI'].mean().sort_values(ascending=False)\n",
    "df_gbr_pi['Variable'] = pd.Categorical(df_gbr_pi['Variable'], categories=df_gbr_pi_ranked.index.values)\n",
    "p = sns.catplot(df_gbr_pi,\n",
    "                x='PI', y='Variable',  hue='Year', height=6, aspect=1, orient='h')"
   ]
  },
  {
   "cell_type": "code",
   "execution_count": null,
   "id": "96acad27-c3fc-436c-9735-63f91be8526f",
   "metadata": {},
   "outputs": [],
   "source": [
    "p_plot_seas = sns.lmplot(df_bm_pred.groupby(['Year', 'Source', 'Pasture', 'Plot', 'Season']).mean().reset_index(),\n",
    "               x='Observed', y='Predicted', col='Source', row='Year', col_order=['LASSO', 'PLS', 'PCR', 'RF', 'SVR', 'GBR'],\n",
    "               hue='Season', ci=None, order=1,\n",
    "                    scatter_kws={'s': 8, 'alpha': 0.25, 'edgecolor': None})\n",
    "for ax in p_plot_seas.axes.flatten():\n",
    "        ax.set_ylim((0, 4000))\n",
    "        ax.plot(np.arange(0, 4000), np.arange(0, 4000), c='black')"
   ]
  },
  {
   "cell_type": "code",
   "execution_count": 5,
   "id": "60e9b0ec-032a-4b9b-8fe7-3209793adf82",
   "metadata": {},
   "outputs": [],
   "source": [
    "param_dfs = {}\n",
    "for k in mod_dict:\n",
    "    for idx, yr in enumerate(mod_dict[k]['tune_results']):\n",
    "        if idx == 0:\n",
    "            param_names = list(np.unique([list(x.keys()) for x in mod_dict[k]['tune_results'][yr]['params']]))\n",
    "            param_dfs[k] = pd.DataFrame(columns=['Model', 'Year', 'Best', 'MAPE', 'MSE', 'R2', 'R2_train'] + param_names)\n",
    "        df_tmp = pd.DataFrame({'Model': k,\n",
    "                               'Year': yr,\n",
    "                               'Best': 0,\n",
    "                               'MAPE': mod_dict[k]['tune_results'][yr]['mean_test_MAPE'],\n",
    "                               'MSE': mod_dict[k]['tune_results'][yr]['mean_test_MSE'],\n",
    "                               'R2': mod_dict[k]['tune_results'][yr]['mean_test_R2'],\n",
    "                               'R2_train': mod_dict[k]['tune_results'][yr]['mean_train_R2']})\n",
    "        for p in param_names:\n",
    "            df_tmp[p] = mod_dict[k]['tune_results'][yr]['param_' + p].data\n",
    "        idx_best = mod_dict[k]['tune_results'][yr]['rank_test_MAPE'].argmin()\n",
    "        df_tmp.loc[idx_best, 'Best'] = 1\n",
    "        param_dfs[k] = pd.concat([param_dfs[k], df_tmp])"
   ]
  },
  {
   "cell_type": "code",
   "execution_count": 6,
   "id": "3f30bfea-4085-40e2-9172-ff2b1a5a7793",
   "metadata": {},
   "outputs": [
    {
     "data": {
      "text/plain": [
       "<seaborn.axisgrid.FacetGrid at 0x1498415fe5b0>"
      ]
     },
     "execution_count": 6,
     "metadata": {},
     "output_type": "execute_result"
    },
    {
     "data": {
      "image/png": "[encoded data removed]",
      "text/plain": [
       "<Figure size 781.5x360 with 1 Axes>"
      ]
     },
     "metadata": {
      "needs_background": "light"
     },
     "output_type": "display_data"
    }
   ],
   "source": [
    "sns.catplot(x='alpha', y='MAPE', data=param_dfs['LASSO'], hue='Year', kind='point', aspect=2)"
   ]
  },
  {
   "cell_type": "code",
   "execution_count": null,
   "id": "243e943f-3ddb-4b27-9b29-26b5c9d95314",
   "metadata": {},
   "outputs": [],
   "source": [
    "sns.catplot(x='n_components', y='MAPE', data=param_dfs['PLS'], hue='Year', kind='point', aspect=2)"
   ]
  },
  {
   "cell_type": "code",
   "execution_count": null,
   "id": "e58f7952-a519-4691-acf7-265bcd96a2ad",
   "metadata": {},
   "outputs": [],
   "source": [
    "sns.catplot(x='pca__n_components', y='MAPE', data=param_dfs['PCR'], hue='Year', kind='point', aspect=2)"
   ]
  },
  {
   "cell_type": "code",
   "execution_count": null,
   "id": "61012d01-4dd1-4ac0-9690-75c5d472612d",
   "metadata": {},
   "outputs": [],
   "source": [
    "sns.catplot(x='min_samples_split', y='MAPE', data=param_dfs['RF'], hue='Year', kind='point', aspect=2)"
   ]
  },
  {
   "cell_type": "code",
   "execution_count": null,
   "id": "5780d63c-3ce0-440a-8e43-0d2e01572e76",
   "metadata": {},
   "outputs": [],
   "source": [
    "sns.catplot(x='max_samples', y='MAPE', data=param_dfs['RF'], hue='Year', kind='point', aspect=2)"
   ]
  },
  {
   "cell_type": "code",
   "execution_count": null,
   "id": "d59404e8-ac85-459b-8056-d6f1f0ae09bd",
   "metadata": {},
   "outputs": [],
   "source": [
    "sns.catplot(x='n_estimators', y='MAPE', data=param_dfs['RF'], hue='Year', kind='point', aspect=2)"
   ]
  },
  {
   "cell_type": "code",
   "execution_count": null,
   "id": "0e00f72d-0fc2-4df1-a52a-f98308fe5794",
   "metadata": {},
   "outputs": [],
   "source": [
    "param_dfs['RF']['max_features'][param_dfs['RF']['max_features'].isnull()] = 'None'\n",
    "sns.catplot(x='max_features', y='MAPE', data=param_dfs['RF'], hue='Year', kind='point', aspect=2)"
   ]
  },
  {
   "cell_type": "code",
   "execution_count": null,
   "id": "431b8440-318f-4322-a0c7-405fd370b3db",
   "metadata": {},
   "outputs": [],
   "source": [
    "sns.catplot(x='gamma', y='MAPE', data=param_dfs['SVR'], hue='Year', kind='point', aspect=2)"
   ]
  },
  {
   "cell_type": "code",
   "execution_count": null,
   "id": "3e045212-0cda-4fd6-9488-466644f7463a",
   "metadata": {},
   "outputs": [],
   "source": [
    "sns.catplot(x='C', y='MAPE', data=param_dfs['SVR'], hue='Year', kind='point', aspect=2)"
   ]
  },
  {
   "cell_type": "code",
   "execution_count": null,
   "id": "616fb546-86e6-4f61-a0e6-559dd7ac51f5",
   "metadata": {},
   "outputs": [],
   "source": [
    "sns.catplot(x='max_depth', y='MAPE', data=param_dfs['GBR'], hue='Year', kind='point', aspect=2)"
   ]
  },
  {
   "cell_type": "code",
   "execution_count": null,
   "id": "a229d5b4-5ed7-473a-a3a7-aae017d98e28",
   "metadata": {},
   "outputs": [],
   "source": [
    "sns.catplot(x='learning_rate', y='MAPE', data=param_dfs['GBR'], hue='Year', kind='point', aspect=2)"
   ]
  },
  {
   "cell_type": "code",
   "execution_count": null,
   "id": "bd2b01f5-7198-4f3e-b79b-b2e13bd992c6",
   "metadata": {},
   "outputs": [],
   "source": [
    "sns.catplot(x='min_child_weight', y='MAPE', data=param_dfs['GBR'], hue='Year', kind='point', aspect=2)"
   ]
  },
  {
   "cell_type": "code",
   "execution_count": null,
   "id": "d673e6f0-3e9f-4169-95eb-f6c98bba19ff",
   "metadata": {},
   "outputs": [],
   "source": [
    "sns.catplot(x='n_estimators', y='MAPE', data=param_dfs['GBR'], hue='Year', kind='point', aspect=2)"
   ]
  },
  {
   "cell_type": "code",
   "execution_count": null,
   "id": "bde1f8c4-7b51-42c9-9325-18346095e41e",
   "metadata": {},
   "outputs": [],
   "source": []
  },
  {
   "cell_type": "code",
   "execution_count": null,
   "id": "56e612b7-4bc5-4de4-85b6-f94ec1fcfc18",
   "metadata": {},
   "outputs": [],
   "source": []
  }
 ],
 "metadata": {
  "kernelspec": {
   "display_name": "hls_nrt_env",
   "language": "python",
   "name": "hls_nrt_env"
  },
  "language_info": {
   "codemirror_mode": {
    "name": "ipython",
    "version": 3
   },
   "file_extension": ".py",
   "mimetype": "text/x-python",
   "name": "python",
   "nbconvert_exporter": "python",
   "pygments_lexer": "ipython3",
   "version": "3.9.12"
  }
 },
 "nbformat": 4,
 "nbformat_minor": 5
}
