{
 "cells": [
  {
   "cell_type": "code",
   "execution_count": 1,
   "id": "3f46c911-d0ed-4931-b44c-6c0e2449663d",
   "metadata": {},
   "outputs": [],
   "source": [
    "import seaborn as sns\n",
    "import pandas as pd\n",
    "import numpy as np\n",
    "import os\n",
    "import matplotlib.pyplot as plt\n",
    "from scipy.stats import gaussian_kde\n",
    "from tqdm import tqdm\n",
    "import pickle\n",
    "import seaborn as sns\n",
    "import multiprocessing\n",
    "import re\n",
    "from importlib import reload"
   ]
  },
  {
   "cell_type": "code",
   "execution_count": 2,
   "id": "7eeb7d3a-8387-4c78-94bf-8a506ccc05ab",
   "metadata": {},
   "outputs": [],
   "source": [
    "import sys\n",
    "sys.path.insert(1, '/project/cper_neon_aop/cper_hls_veg_models/biomass/params')\n",
    "sys.path.insert(1, '/project/cper_neon_aop/hls_nrt/fit')\n",
    "sys.path.insert(1, '/project/cper_neon_aop/hls_nrt/extract')"
   ]
  },
  {
   "cell_type": "code",
   "execution_count": 3,
   "id": "5af0ebc5-80dc-49d8-adb6-d783eba8fc79",
   "metadata": {},
   "outputs": [],
   "source": [
    "#reload(sys.modules[\"cper_bm_params_fit_kmeans_transect\"])\n",
    "from cper_bm_params_fit_kmeans_transect import *"
   ]
  },
  {
   "cell_type": "code",
   "execution_count": 4,
   "id": "99d8719b-1b76-46c5-87e2-1e0740e6d35d",
   "metadata": {},
   "outputs": [],
   "source": [
    "#reload(sys.modules[\"hpc_setup\"])\n",
    "from hpc_setup import launch_dask\n",
    "from ml_setup import fit_ols, fit_dnn"
   ]
  },
  {
   "cell_type": "code",
   "execution_count": 6,
   "id": "264cc2bb-e112-47da-b7cc-0a9fb69c3ed1",
   "metadata": {
    "scrolled": true
   },
   "outputs": [],
   "source": [
    "#client.cluster.close()\n",
    "#client.close()"
   ]
  },
  {
   "cell_type": "code",
   "execution_count": 7,
   "id": "fe9716be-0238-446d-851e-666db2ba72f9",
   "metadata": {},
   "outputs": [
    {
     "name": "stdout",
     "output_type": "stream",
     "text": [
      "ib0\n",
      "   setting up cluster on HPC...\n"
     ]
    },
    {
     "data": {
      "text/html": [
       "<div>\n",
       "    <div style=\"width: 24px; height: 24px; background-color: #e1e1e1; border: 3px solid #9D9D9D; border-radius: 5px; position: absolute;\"> </div>\n",
       "    <div style=\"margin-left: 48px;\">\n",
       "        <h3 style=\"margin-bottom: 0px;\">Client</h3>\n",
       "        <p style=\"color: #9D9D9D; margin-bottom: 0px;\">Client-25cafc12-cd51-11ef-8a16-a4bf015e9ca2</p>\n",
       "        <table style=\"width: 100%; text-align: left;\">\n",
       "\n",
       "        <tr>\n",
       "        \n",
       "            <td style=\"text-align: left;\"><strong>Connection method:</strong> Cluster object</td>\n",
       "            <td style=\"text-align: left;\"><strong>Cluster type:</strong> dask_jobqueue.SLURMCluster</td>\n",
       "        \n",
       "        </tr>\n",
       "\n",
       "        \n",
       "            <tr>\n",
       "                <td style=\"text-align: left;\">\n",
       "                    <strong>Dashboard: </strong> <a href=\"http://172.21.15.135:8787/status\" target=\"_blank\">http://172.21.15.135:8787/status</a>\n",
       "                </td>\n",
       "                <td style=\"text-align: left;\"></td>\n",
       "            </tr>\n",
       "        \n",
       "\n",
       "        </table>\n",
       "\n",
       "        \n",
       "\n",
       "        \n",
       "            <details>\n",
       "            <summary style=\"margin-bottom: 20px;\"><h3 style=\"display: inline;\">Cluster Info</h3></summary>\n",
       "            <div class=\"jp-RenderedHTMLCommon jp-RenderedHTML jp-mod-trusted jp-OutputArea-output\">\n",
       "    <div style=\"width: 24px; height: 24px; background-color: #e1e1e1; border: 3px solid #9D9D9D; border-radius: 5px; position: absolute;\">\n",
       "    </div>\n",
       "    <div style=\"margin-left: 48px;\">\n",
       "        <h3 style=\"margin-bottom: 0px; margin-top: 0px;\">SLURMCluster</h3>\n",
       "        <p style=\"color: #9D9D9D; margin-bottom: 0px;\">220f3c0b</p>\n",
       "        <table style=\"width: 100%; text-align: left;\">\n",
       "            <tr>\n",
       "                <td style=\"text-align: left;\">\n",
       "                    <strong>Dashboard:</strong> <a href=\"http://172.21.15.135:8787/status\" target=\"_blank\">http://172.21.15.135:8787/status</a>\n",
       "                </td>\n",
       "                <td style=\"text-align: left;\">\n",
       "                    <strong>Workers:</strong> 32\n",
       "                </td>\n",
       "            </tr>\n",
       "            <tr>\n",
       "                <td style=\"text-align: left;\">\n",
       "                    <strong>Total threads:</strong> 64\n",
       "                </td>\n",
       "                <td style=\"text-align: left;\">\n",
       "                    <strong>Total memory:</strong> 238.40 GiB\n",
       "                </td>\n",
       "            </tr>\n",
       "            \n",
       "        </table>\n",
       "\n",
       "        <details>\n",
       "            <summary style=\"margin-bottom: 20px;\">\n",
       "                <h3 style=\"display: inline;\">Scheduler Info</h3>\n",
       "            </summary>\n",
       "\n",
       "            <div style=\"\">\n",
       "    <div>\n",
       "        <div style=\"width: 24px; height: 24px; background-color: #FFF7E5; border: 3px solid #FF6132; border-radius: 5px; position: absolute;\"> </div>\n",
       "        <div style=\"margin-left: 48px;\">\n",
       "            <h3 style=\"margin-bottom: 0px;\">Scheduler</h3>\n",
       "            <p style=\"color: #9D9D9D; margin-bottom: 0px;\">Scheduler-9f7bff67-97b3-495f-9227-da808c2a978c</p>\n",
       "            <table style=\"width: 100%; text-align: left;\">\n",
       "                <tr>\n",
       "                    <td style=\"text-align: left;\">\n",
       "                        <strong>Comm:</strong> tcp://172.21.15.135:36923\n",
       "                    </td>\n",
       "                    <td style=\"text-align: left;\">\n",
       "                        <strong>Workers:</strong> 32\n",
       "                    </td>\n",
       "                </tr>\n",
       "                <tr>\n",
       "                    <td style=\"text-align: left;\">\n",
       "                        <strong>Dashboard:</strong> <a href=\"http://172.21.15.135:8787/status\" target=\"_blank\">http://172.21.15.135:8787/status</a>\n",
       "                    </td>\n",
       "                    <td style=\"text-align: left;\">\n",
       "                        <strong>Total threads:</strong> 64\n",
       "                    </td>\n",
       "                </tr>\n",
       "                <tr>\n",
       "                    <td style=\"text-align: left;\">\n",
       "                        <strong>Started:</strong> Just now\n",
       "                    </td>\n",
       "                    <td style=\"text-align: left;\">\n",
       "                        <strong>Total memory:</strong> 238.40 GiB\n",
       "                    </td>\n",
       "                </tr>\n",
       "            </table>\n",
       "        </div>\n",
       "    </div>\n",
       "\n",
       "    <details style=\"margin-left: 48px;\">\n",
       "        <summary style=\"margin-bottom: 20px;\">\n",
       "            <h3 style=\"display: inline;\">Workers</h3>\n",
       "        </summary>\n",
       "\n",
       "        \n",
       "        <div style=\"margin-bottom: 20px;\">\n",
       "            <div style=\"width: 24px; height: 24px; background-color: #DBF5FF; border: 3px solid #4CC9FF; border-radius: 5px; position: absolute;\"> </div>\n",
       "            <div style=\"margin-left: 48px;\">\n",
       "            <details>\n",
       "                <summary>\n",
       "                    <h4 style=\"margin-bottom: 0px; display: inline;\">Worker: SLURMCluster-0</h4>\n",
       "                </summary>\n",
       "                <table style=\"width: 100%; text-align: left;\">\n",
       "                    <tr>\n",
       "                        <td style=\"text-align: left;\">\n",
       "                            <strong>Comm: </strong> tcp://172.21.15.5:41711\n",
       "                        </td>\n",
       "                        <td style=\"text-align: left;\">\n",
       "                            <strong>Total threads: </strong> 2\n",
       "                        </td>\n",
       "                    </tr>\n",
       "                    <tr>\n",
       "                        <td style=\"text-align: left;\">\n",
       "                            <strong>Dashboard: </strong> <a href=\"http://172.21.15.5:46511/status\" target=\"_blank\">http://172.21.15.5:46511/status</a>\n",
       "                        </td>\n",
       "                        <td style=\"text-align: left;\">\n",
       "                            <strong>Memory: </strong> 7.45 GiB\n",
       "                        </td>\n",
       "                    </tr>\n",
       "                    <tr>\n",
       "                        <td style=\"text-align: left;\">\n",
       "                            <strong>Nanny: </strong> tcp://172.21.15.5:40749\n",
       "                        </td>\n",
       "                        <td style=\"text-align: left;\"></td>\n",
       "                    </tr>\n",
       "                    <tr>\n",
       "                        <td colspan=\"2\" style=\"text-align: left;\">\n",
       "                            <strong>Local directory: </strong> /local/scratch/sean.kearney/16774716/dask-scratch-space/worker-bggsl_9n\n",
       "                        </td>\n",
       "                    </tr>\n",
       "\n",
       "                    \n",
       "\n",
       "                    \n",
       "\n",
       "                </table>\n",
       "            </details>\n",
       "            </div>\n",
       "        </div>\n",
       "        \n",
       "        <div style=\"margin-bottom: 20px;\">\n",
       "            <div style=\"width: 24px; height: 24px; background-color: #DBF5FF; border: 3px solid #4CC9FF; border-radius: 5px; position: absolute;\"> </div>\n",
       "            <div style=\"margin-left: 48px;\">\n",
       "            <details>\n",
       "                <summary>\n",
       "                    <h4 style=\"margin-bottom: 0px; display: inline;\">Worker: SLURMCluster-1</h4>\n",
       "                </summary>\n",
       "                <table style=\"width: 100%; text-align: left;\">\n",
       "                    <tr>\n",
       "                        <td style=\"text-align: left;\">\n",
       "                            <strong>Comm: </strong> tcp://172.21.15.157:44749\n",
       "                        </td>\n",
       "                        <td style=\"text-align: left;\">\n",
       "                            <strong>Total threads: </strong> 2\n",
       "                        </td>\n",
       "                    </tr>\n",
       "                    <tr>\n",
       "                        <td style=\"text-align: left;\">\n",
       "                            <strong>Dashboard: </strong> <a href=\"http://172.21.15.157:41447/status\" target=\"_blank\">http://172.21.15.157:41447/status</a>\n",
       "                        </td>\n",
       "                        <td style=\"text-align: left;\">\n",
       "                            <strong>Memory: </strong> 7.45 GiB\n",
       "                        </td>\n",
       "                    </tr>\n",
       "                    <tr>\n",
       "                        <td style=\"text-align: left;\">\n",
       "                            <strong>Nanny: </strong> tcp://172.21.15.157:33103\n",
       "                        </td>\n",
       "                        <td style=\"text-align: left;\"></td>\n",
       "                    </tr>\n",
       "                    <tr>\n",
       "                        <td colspan=\"2\" style=\"text-align: left;\">\n",
       "                            <strong>Local directory: </strong> /local/scratch/sean.kearney/16774713/dask-scratch-space/worker-upfs6uu6\n",
       "                        </td>\n",
       "                    </tr>\n",
       "\n",
       "                    \n",
       "\n",
       "                    \n",
       "                    <tr>\n",
       "                        <td style=\"text-align: left;\">\n",
       "                            <strong>Tasks executing: </strong> \n",
       "                        </td>\n",
       "                        <td style=\"text-align: left;\">\n",
       "                            <strong>Tasks in memory: </strong> \n",
       "                        </td>\n",
       "                    </tr>\n",
       "                    <tr>\n",
       "                        <td style=\"text-align: left;\">\n",
       "                            <strong>Tasks ready: </strong> \n",
       "                        </td>\n",
       "                        <td style=\"text-align: left;\">\n",
       "                            <strong>Tasks in flight: </strong>\n",
       "                        </td>\n",
       "                    </tr>\n",
       "                    <tr>\n",
       "                        <td style=\"text-align: left;\">\n",
       "                            <strong>CPU usage:</strong> 0.0%\n",
       "                        </td>\n",
       "                        <td style=\"text-align: left;\">\n",
       "                            <strong>Last seen: </strong> Just now\n",
       "                        </td>\n",
       "                    </tr>\n",
       "                    <tr>\n",
       "                        <td style=\"text-align: left;\">\n",
       "                            <strong>Memory usage: </strong> 67.34 MiB\n",
       "                        </td>\n",
       "                        <td style=\"text-align: left;\">\n",
       "                            <strong>Spilled bytes: </strong> 0 B\n",
       "                        </td>\n",
       "                    </tr>\n",
       "                    <tr>\n",
       "                        <td style=\"text-align: left;\">\n",
       "                            <strong>Read bytes: </strong> 0.0 B\n",
       "                        </td>\n",
       "                        <td style=\"text-align: left;\">\n",
       "                            <strong>Write bytes: </strong> 0.0 B\n",
       "                        </td>\n",
       "                    </tr>\n",
       "                    \n",
       "\n",
       "                </table>\n",
       "            </details>\n",
       "            </div>\n",
       "        </div>\n",
       "        \n",
       "        <div style=\"margin-bottom: 20px;\">\n",
       "            <div style=\"width: 24px; height: 24px; background-color: #DBF5FF; border: 3px solid #4CC9FF; border-radius: 5px; position: absolute;\"> </div>\n",
       "            <div style=\"margin-left: 48px;\">\n",
       "            <details>\n",
       "                <summary>\n",
       "                    <h4 style=\"margin-bottom: 0px; display: inline;\">Worker: SLURMCluster-10</h4>\n",
       "                </summary>\n",
       "                <table style=\"width: 100%; text-align: left;\">\n",
       "                    <tr>\n",
       "                        <td style=\"text-align: left;\">\n",
       "                            <strong>Comm: </strong> tcp://172.21.15.156:45879\n",
       "                        </td>\n",
       "                        <td style=\"text-align: left;\">\n",
       "                            <strong>Total threads: </strong> 2\n",
       "                        </td>\n",
       "                    </tr>\n",
       "                    <tr>\n",
       "                        <td style=\"text-align: left;\">\n",
       "                            <strong>Dashboard: </strong> <a href=\"http://172.21.15.156:40233/status\" target=\"_blank\">http://172.21.15.156:40233/status</a>\n",
       "                        </td>\n",
       "                        <td style=\"text-align: left;\">\n",
       "                            <strong>Memory: </strong> 7.45 GiB\n",
       "                        </td>\n",
       "                    </tr>\n",
       "                    <tr>\n",
       "                        <td style=\"text-align: left;\">\n",
       "                            <strong>Nanny: </strong> tcp://172.21.15.156:38941\n",
       "                        </td>\n",
       "                        <td style=\"text-align: left;\"></td>\n",
       "                    </tr>\n",
       "                    <tr>\n",
       "                        <td colspan=\"2\" style=\"text-align: left;\">\n",
       "                            <strong>Local directory: </strong> /local/scratch/sean.kearney/16774706/dask-scratch-space/worker-54low0f7\n",
       "                        </td>\n",
       "                    </tr>\n",
       "\n",
       "                    \n",
       "\n",
       "                    \n",
       "                    <tr>\n",
       "                        <td style=\"text-align: left;\">\n",
       "                            <strong>Tasks executing: </strong> \n",
       "                        </td>\n",
       "                        <td style=\"text-align: left;\">\n",
       "                            <strong>Tasks in memory: </strong> \n",
       "                        </td>\n",
       "                    </tr>\n",
       "                    <tr>\n",
       "                        <td style=\"text-align: left;\">\n",
       "                            <strong>Tasks ready: </strong> \n",
       "                        </td>\n",
       "                        <td style=\"text-align: left;\">\n",
       "                            <strong>Tasks in flight: </strong>\n",
       "                        </td>\n",
       "                    </tr>\n",
       "                    <tr>\n",
       "                        <td style=\"text-align: left;\">\n",
       "                            <strong>CPU usage:</strong> 0.0%\n",
       "                        </td>\n",
       "                        <td style=\"text-align: left;\">\n",
       "                            <strong>Last seen: </strong> Just now\n",
       "                        </td>\n",
       "                    </tr>\n",
       "                    <tr>\n",
       "                        <td style=\"text-align: left;\">\n",
       "                            <strong>Memory usage: </strong> 67.34 MiB\n",
       "                        </td>\n",
       "                        <td style=\"text-align: left;\">\n",
       "                            <strong>Spilled bytes: </strong> 0 B\n",
       "                        </td>\n",
       "                    </tr>\n",
       "                    <tr>\n",
       "                        <td style=\"text-align: left;\">\n",
       "                            <strong>Read bytes: </strong> 0.0 B\n",
       "                        </td>\n",
       "                        <td style=\"text-align: left;\">\n",
       "                            <strong>Write bytes: </strong> 0.0 B\n",
       "                        </td>\n",
       "                    </tr>\n",
       "                    \n",
       "\n",
       "                </table>\n",
       "            </details>\n",
       "            </div>\n",
       "        </div>\n",
       "        \n",
       "        <div style=\"margin-bottom: 20px;\">\n",
       "            <div style=\"width: 24px; height: 24px; background-color: #DBF5FF; border: 3px solid #4CC9FF; border-radius: 5px; position: absolute;\"> </div>\n",
       "            <div style=\"margin-left: 48px;\">\n",
       "            <details>\n",
       "                <summary>\n",
       "                    <h4 style=\"margin-bottom: 0px; display: inline;\">Worker: SLURMCluster-11</h4>\n",
       "                </summary>\n",
       "                <table style=\"width: 100%; text-align: left;\">\n",
       "                    <tr>\n",
       "                        <td style=\"text-align: left;\">\n",
       "                            <strong>Comm: </strong> tcp://172.21.15.156:41073\n",
       "                        </td>\n",
       "                        <td style=\"text-align: left;\">\n",
       "                            <strong>Total threads: </strong> 2\n",
       "                        </td>\n",
       "                    </tr>\n",
       "                    <tr>\n",
       "                        <td style=\"text-align: left;\">\n",
       "                            <strong>Dashboard: </strong> <a href=\"http://172.21.15.156:41587/status\" target=\"_blank\">http://172.21.15.156:41587/status</a>\n",
       "                        </td>\n",
       "                        <td style=\"text-align: left;\">\n",
       "                            <strong>Memory: </strong> 7.45 GiB\n",
       "                        </td>\n",
       "                    </tr>\n",
       "                    <tr>\n",
       "                        <td style=\"text-align: left;\">\n",
       "                            <strong>Nanny: </strong> tcp://172.21.15.156:35213\n",
       "                        </td>\n",
       "                        <td style=\"text-align: left;\"></td>\n",
       "                    </tr>\n",
       "                    <tr>\n",
       "                        <td colspan=\"2\" style=\"text-align: left;\">\n",
       "                            <strong>Local directory: </strong> /local/scratch/sean.kearney/16774708/dask-scratch-space/worker-5jpvijxn\n",
       "                        </td>\n",
       "                    </tr>\n",
       "\n",
       "                    \n",
       "\n",
       "                    \n",
       "                    <tr>\n",
       "                        <td style=\"text-align: left;\">\n",
       "                            <strong>Tasks executing: </strong> \n",
       "                        </td>\n",
       "                        <td style=\"text-align: left;\">\n",
       "                            <strong>Tasks in memory: </strong> \n",
       "                        </td>\n",
       "                    </tr>\n",
       "                    <tr>\n",
       "                        <td style=\"text-align: left;\">\n",
       "                            <strong>Tasks ready: </strong> \n",
       "                        </td>\n",
       "                        <td style=\"text-align: left;\">\n",
       "                            <strong>Tasks in flight: </strong>\n",
       "                        </td>\n",
       "                    </tr>\n",
       "                    <tr>\n",
       "                        <td style=\"text-align: left;\">\n",
       "                            <strong>CPU usage:</strong> 0.0%\n",
       "                        </td>\n",
       "                        <td style=\"text-align: left;\">\n",
       "                            <strong>Last seen: </strong> Just now\n",
       "                        </td>\n",
       "                    </tr>\n",
       "                    <tr>\n",
       "                        <td style=\"text-align: left;\">\n",
       "                            <strong>Memory usage: </strong> 67.42 MiB\n",
       "                        </td>\n",
       "                        <td style=\"text-align: left;\">\n",
       "                            <strong>Spilled bytes: </strong> 0 B\n",
       "                        </td>\n",
       "                    </tr>\n",
       "                    <tr>\n",
       "                        <td style=\"text-align: left;\">\n",
       "                            <strong>Read bytes: </strong> 0.0 B\n",
       "                        </td>\n",
       "                        <td style=\"text-align: left;\">\n",
       "                            <strong>Write bytes: </strong> 0.0 B\n",
       "                        </td>\n",
       "                    </tr>\n",
       "                    \n",
       "\n",
       "                </table>\n",
       "            </details>\n",
       "            </div>\n",
       "        </div>\n",
       "        \n",
       "        <div style=\"margin-bottom: 20px;\">\n",
       "            <div style=\"width: 24px; height: 24px; background-color: #DBF5FF; border: 3px solid #4CC9FF; border-radius: 5px; position: absolute;\"> </div>\n",
       "            <div style=\"margin-left: 48px;\">\n",
       "            <details>\n",
       "                <summary>\n",
       "                    <h4 style=\"margin-bottom: 0px; display: inline;\">Worker: SLURMCluster-12</h4>\n",
       "                </summary>\n",
       "                <table style=\"width: 100%; text-align: left;\">\n",
       "                    <tr>\n",
       "                        <td style=\"text-align: left;\">\n",
       "                            <strong>Comm: </strong> tcp://172.21.15.2:34413\n",
       "                        </td>\n",
       "                        <td style=\"text-align: left;\">\n",
       "                            <strong>Total threads: </strong> 2\n",
       "                        </td>\n",
       "                    </tr>\n",
       "                    <tr>\n",
       "                        <td style=\"text-align: left;\">\n",
       "                            <strong>Dashboard: </strong> <a href=\"http://172.21.15.2:44973/status\" target=\"_blank\">http://172.21.15.2:44973/status</a>\n",
       "                        </td>\n",
       "                        <td style=\"text-align: left;\">\n",
       "                            <strong>Memory: </strong> 7.45 GiB\n",
       "                        </td>\n",
       "                    </tr>\n",
       "                    <tr>\n",
       "                        <td style=\"text-align: left;\">\n",
       "                            <strong>Nanny: </strong> tcp://172.21.15.2:34107\n",
       "                        </td>\n",
       "                        <td style=\"text-align: left;\"></td>\n",
       "                    </tr>\n",
       "                    <tr>\n",
       "                        <td colspan=\"2\" style=\"text-align: left;\">\n",
       "                            <strong>Local directory: </strong> /local/scratch/sean.kearney/16774722/dask-scratch-space/worker-_ohheh39\n",
       "                        </td>\n",
       "                    </tr>\n",
       "\n",
       "                    \n",
       "\n",
       "                    \n",
       "\n",
       "                </table>\n",
       "            </details>\n",
       "            </div>\n",
       "        </div>\n",
       "        \n",
       "        <div style=\"margin-bottom: 20px;\">\n",
       "            <div style=\"width: 24px; height: 24px; background-color: #DBF5FF; border: 3px solid #4CC9FF; border-radius: 5px; position: absolute;\"> </div>\n",
       "            <div style=\"margin-left: 48px;\">\n",
       "            <details>\n",
       "                <summary>\n",
       "                    <h4 style=\"margin-bottom: 0px; display: inline;\">Worker: SLURMCluster-13</h4>\n",
       "                </summary>\n",
       "                <table style=\"width: 100%; text-align: left;\">\n",
       "                    <tr>\n",
       "                        <td style=\"text-align: left;\">\n",
       "                            <strong>Comm: </strong> tcp://172.21.15.5:33357\n",
       "                        </td>\n",
       "                        <td style=\"text-align: left;\">\n",
       "                            <strong>Total threads: </strong> 2\n",
       "                        </td>\n",
       "                    </tr>\n",
       "                    <tr>\n",
       "                        <td style=\"text-align: left;\">\n",
       "                            <strong>Dashboard: </strong> <a href=\"http://172.21.15.5:42627/status\" target=\"_blank\">http://172.21.15.5:42627/status</a>\n",
       "                        </td>\n",
       "                        <td style=\"text-align: left;\">\n",
       "                            <strong>Memory: </strong> 7.45 GiB\n",
       "                        </td>\n",
       "                    </tr>\n",
       "                    <tr>\n",
       "                        <td style=\"text-align: left;\">\n",
       "                            <strong>Nanny: </strong> tcp://172.21.15.5:38393\n",
       "                        </td>\n",
       "                        <td style=\"text-align: left;\"></td>\n",
       "                    </tr>\n",
       "                    <tr>\n",
       "                        <td colspan=\"2\" style=\"text-align: left;\">\n",
       "                            <strong>Local directory: </strong> /local/scratch/sean.kearney/16774714/dask-scratch-space/worker-t81lnfud\n",
       "                        </td>\n",
       "                    </tr>\n",
       "\n",
       "                    \n",
       "\n",
       "                    \n",
       "\n",
       "                </table>\n",
       "            </details>\n",
       "            </div>\n",
       "        </div>\n",
       "        \n",
       "        <div style=\"margin-bottom: 20px;\">\n",
       "            <div style=\"width: 24px; height: 24px; background-color: #DBF5FF; border: 3px solid #4CC9FF; border-radius: 5px; position: absolute;\"> </div>\n",
       "            <div style=\"margin-left: 48px;\">\n",
       "            <details>\n",
       "                <summary>\n",
       "                    <h4 style=\"margin-bottom: 0px; display: inline;\">Worker: SLURMCluster-14</h4>\n",
       "                </summary>\n",
       "                <table style=\"width: 100%; text-align: left;\">\n",
       "                    <tr>\n",
       "                        <td style=\"text-align: left;\">\n",
       "                            <strong>Comm: </strong> tcp://172.21.15.156:37359\n",
       "                        </td>\n",
       "                        <td style=\"text-align: left;\">\n",
       "                            <strong>Total threads: </strong> 2\n",
       "                        </td>\n",
       "                    </tr>\n",
       "                    <tr>\n",
       "                        <td style=\"text-align: left;\">\n",
       "                            <strong>Dashboard: </strong> <a href=\"http://172.21.15.156:43979/status\" target=\"_blank\">http://172.21.15.156:43979/status</a>\n",
       "                        </td>\n",
       "                        <td style=\"text-align: left;\">\n",
       "                            <strong>Memory: </strong> 7.45 GiB\n",
       "                        </td>\n",
       "                    </tr>\n",
       "                    <tr>\n",
       "                        <td style=\"text-align: left;\">\n",
       "                            <strong>Nanny: </strong> tcp://172.21.15.156:37633\n",
       "                        </td>\n",
       "                        <td style=\"text-align: left;\"></td>\n",
       "                    </tr>\n",
       "                    <tr>\n",
       "                        <td colspan=\"2\" style=\"text-align: left;\">\n",
       "                            <strong>Local directory: </strong> /local/scratch/sean.kearney/16774707/dask-scratch-space/worker-tcgvm6rl\n",
       "                        </td>\n",
       "                    </tr>\n",
       "\n",
       "                    \n",
       "\n",
       "                    \n",
       "                    <tr>\n",
       "                        <td style=\"text-align: left;\">\n",
       "                            <strong>Tasks executing: </strong> \n",
       "                        </td>\n",
       "                        <td style=\"text-align: left;\">\n",
       "                            <strong>Tasks in memory: </strong> \n",
       "                        </td>\n",
       "                    </tr>\n",
       "                    <tr>\n",
       "                        <td style=\"text-align: left;\">\n",
       "                            <strong>Tasks ready: </strong> \n",
       "                        </td>\n",
       "                        <td style=\"text-align: left;\">\n",
       "                            <strong>Tasks in flight: </strong>\n",
       "                        </td>\n",
       "                    </tr>\n",
       "                    <tr>\n",
       "                        <td style=\"text-align: left;\">\n",
       "                            <strong>CPU usage:</strong> 0.0%\n",
       "                        </td>\n",
       "                        <td style=\"text-align: left;\">\n",
       "                            <strong>Last seen: </strong> Just now\n",
       "                        </td>\n",
       "                    </tr>\n",
       "                    <tr>\n",
       "                        <td style=\"text-align: left;\">\n",
       "                            <strong>Memory usage: </strong> 67.38 MiB\n",
       "                        </td>\n",
       "                        <td style=\"text-align: left;\">\n",
       "                            <strong>Spilled bytes: </strong> 0 B\n",
       "                        </td>\n",
       "                    </tr>\n",
       "                    <tr>\n",
       "                        <td style=\"text-align: left;\">\n",
       "                            <strong>Read bytes: </strong> 0.0 B\n",
       "                        </td>\n",
       "                        <td style=\"text-align: left;\">\n",
       "                            <strong>Write bytes: </strong> 0.0 B\n",
       "                        </td>\n",
       "                    </tr>\n",
       "                    \n",
       "\n",
       "                </table>\n",
       "            </details>\n",
       "            </div>\n",
       "        </div>\n",
       "        \n",
       "        <div style=\"margin-bottom: 20px;\">\n",
       "            <div style=\"width: 24px; height: 24px; background-color: #DBF5FF; border: 3px solid #4CC9FF; border-radius: 5px; position: absolute;\"> </div>\n",
       "            <div style=\"margin-left: 48px;\">\n",
       "            <details>\n",
       "                <summary>\n",
       "                    <h4 style=\"margin-bottom: 0px; display: inline;\">Worker: SLURMCluster-15</h4>\n",
       "                </summary>\n",
       "                <table style=\"width: 100%; text-align: left;\">\n",
       "                    <tr>\n",
       "                        <td style=\"text-align: left;\">\n",
       "                            <strong>Comm: </strong> tcp://172.21.15.7:46115\n",
       "                        </td>\n",
       "                        <td style=\"text-align: left;\">\n",
       "                            <strong>Total threads: </strong> 2\n",
       "                        </td>\n",
       "                    </tr>\n",
       "                    <tr>\n",
       "                        <td style=\"text-align: left;\">\n",
       "                            <strong>Dashboard: </strong> <a href=\"http://172.21.15.7:32961/status\" target=\"_blank\">http://172.21.15.7:32961/status</a>\n",
       "                        </td>\n",
       "                        <td style=\"text-align: left;\">\n",
       "                            <strong>Memory: </strong> 7.45 GiB\n",
       "                        </td>\n",
       "                    </tr>\n",
       "                    <tr>\n",
       "                        <td style=\"text-align: left;\">\n",
       "                            <strong>Nanny: </strong> tcp://172.21.15.7:37017\n",
       "                        </td>\n",
       "                        <td style=\"text-align: left;\"></td>\n",
       "                    </tr>\n",
       "                    <tr>\n",
       "                        <td colspan=\"2\" style=\"text-align: left;\">\n",
       "                            <strong>Local directory: </strong> /local/scratch/sean.kearney/16774693/dask-scratch-space/worker-6626om7a\n",
       "                        </td>\n",
       "                    </tr>\n",
       "\n",
       "                    \n",
       "\n",
       "                    \n",
       "                    <tr>\n",
       "                        <td style=\"text-align: left;\">\n",
       "                            <strong>Tasks executing: </strong> \n",
       "                        </td>\n",
       "                        <td style=\"text-align: left;\">\n",
       "                            <strong>Tasks in memory: </strong> \n",
       "                        </td>\n",
       "                    </tr>\n",
       "                    <tr>\n",
       "                        <td style=\"text-align: left;\">\n",
       "                            <strong>Tasks ready: </strong> \n",
       "                        </td>\n",
       "                        <td style=\"text-align: left;\">\n",
       "                            <strong>Tasks in flight: </strong>\n",
       "                        </td>\n",
       "                    </tr>\n",
       "                    <tr>\n",
       "                        <td style=\"text-align: left;\">\n",
       "                            <strong>CPU usage:</strong> 0.0%\n",
       "                        </td>\n",
       "                        <td style=\"text-align: left;\">\n",
       "                            <strong>Last seen: </strong> Just now\n",
       "                        </td>\n",
       "                    </tr>\n",
       "                    <tr>\n",
       "                        <td style=\"text-align: left;\">\n",
       "                            <strong>Memory usage: </strong> 67.45 MiB\n",
       "                        </td>\n",
       "                        <td style=\"text-align: left;\">\n",
       "                            <strong>Spilled bytes: </strong> 0 B\n",
       "                        </td>\n",
       "                    </tr>\n",
       "                    <tr>\n",
       "                        <td style=\"text-align: left;\">\n",
       "                            <strong>Read bytes: </strong> 0.0 B\n",
       "                        </td>\n",
       "                        <td style=\"text-align: left;\">\n",
       "                            <strong>Write bytes: </strong> 0.0 B\n",
       "                        </td>\n",
       "                    </tr>\n",
       "                    \n",
       "\n",
       "                </table>\n",
       "            </details>\n",
       "            </div>\n",
       "        </div>\n",
       "        \n",
       "        <div style=\"margin-bottom: 20px;\">\n",
       "            <div style=\"width: 24px; height: 24px; background-color: #DBF5FF; border: 3px solid #4CC9FF; border-radius: 5px; position: absolute;\"> </div>\n",
       "            <div style=\"margin-left: 48px;\">\n",
       "            <details>\n",
       "                <summary>\n",
       "                    <h4 style=\"margin-bottom: 0px; display: inline;\">Worker: SLURMCluster-16</h4>\n",
       "                </summary>\n",
       "                <table style=\"width: 100%; text-align: left;\">\n",
       "                    <tr>\n",
       "                        <td style=\"text-align: left;\">\n",
       "                            <strong>Comm: </strong> tcp://172.21.15.67:38559\n",
       "                        </td>\n",
       "                        <td style=\"text-align: left;\">\n",
       "                            <strong>Total threads: </strong> 2\n",
       "                        </td>\n",
       "                    </tr>\n",
       "                    <tr>\n",
       "                        <td style=\"text-align: left;\">\n",
       "                            <strong>Dashboard: </strong> <a href=\"http://172.21.15.67:45445/status\" target=\"_blank\">http://172.21.15.67:45445/status</a>\n",
       "                        </td>\n",
       "                        <td style=\"text-align: left;\">\n",
       "                            <strong>Memory: </strong> 7.45 GiB\n",
       "                        </td>\n",
       "                    </tr>\n",
       "                    <tr>\n",
       "                        <td style=\"text-align: left;\">\n",
       "                            <strong>Nanny: </strong> tcp://172.21.15.67:45627\n",
       "                        </td>\n",
       "                        <td style=\"text-align: left;\"></td>\n",
       "                    </tr>\n",
       "                    <tr>\n",
       "                        <td colspan=\"2\" style=\"text-align: left;\">\n",
       "                            <strong>Local directory: </strong> /local/scratch/sean.kearney/16774698/dask-scratch-space/worker-c0_8ylwu\n",
       "                        </td>\n",
       "                    </tr>\n",
       "\n",
       "                    \n",
       "\n",
       "                    \n",
       "                    <tr>\n",
       "                        <td style=\"text-align: left;\">\n",
       "                            <strong>Tasks executing: </strong> \n",
       "                        </td>\n",
       "                        <td style=\"text-align: left;\">\n",
       "                            <strong>Tasks in memory: </strong> \n",
       "                        </td>\n",
       "                    </tr>\n",
       "                    <tr>\n",
       "                        <td style=\"text-align: left;\">\n",
       "                            <strong>Tasks ready: </strong> \n",
       "                        </td>\n",
       "                        <td style=\"text-align: left;\">\n",
       "                            <strong>Tasks in flight: </strong>\n",
       "                        </td>\n",
       "                    </tr>\n",
       "                    <tr>\n",
       "                        <td style=\"text-align: left;\">\n",
       "                            <strong>CPU usage:</strong> 0.0%\n",
       "                        </td>\n",
       "                        <td style=\"text-align: left;\">\n",
       "                            <strong>Last seen: </strong> Just now\n",
       "                        </td>\n",
       "                    </tr>\n",
       "                    <tr>\n",
       "                        <td style=\"text-align: left;\">\n",
       "                            <strong>Memory usage: </strong> 67.30 MiB\n",
       "                        </td>\n",
       "                        <td style=\"text-align: left;\">\n",
       "                            <strong>Spilled bytes: </strong> 0 B\n",
       "                        </td>\n",
       "                    </tr>\n",
       "                    <tr>\n",
       "                        <td style=\"text-align: left;\">\n",
       "                            <strong>Read bytes: </strong> 0.0 B\n",
       "                        </td>\n",
       "                        <td style=\"text-align: left;\">\n",
       "                            <strong>Write bytes: </strong> 0.0 B\n",
       "                        </td>\n",
       "                    </tr>\n",
       "                    \n",
       "\n",
       "                </table>\n",
       "            </details>\n",
       "            </div>\n",
       "        </div>\n",
       "        \n",
       "        <div style=\"margin-bottom: 20px;\">\n",
       "            <div style=\"width: 24px; height: 24px; background-color: #DBF5FF; border: 3px solid #4CC9FF; border-radius: 5px; position: absolute;\"> </div>\n",
       "            <div style=\"margin-left: 48px;\">\n",
       "            <details>\n",
       "                <summary>\n",
       "                    <h4 style=\"margin-bottom: 0px; display: inline;\">Worker: SLURMCluster-17</h4>\n",
       "                </summary>\n",
       "                <table style=\"width: 100%; text-align: left;\">\n",
       "                    <tr>\n",
       "                        <td style=\"text-align: left;\">\n",
       "                            <strong>Comm: </strong> tcp://172.21.15.156:37141\n",
       "                        </td>\n",
       "                        <td style=\"text-align: left;\">\n",
       "                            <strong>Total threads: </strong> 2\n",
       "                        </td>\n",
       "                    </tr>\n",
       "                    <tr>\n",
       "                        <td style=\"text-align: left;\">\n",
       "                            <strong>Dashboard: </strong> <a href=\"http://172.21.15.156:33927/status\" target=\"_blank\">http://172.21.15.156:33927/status</a>\n",
       "                        </td>\n",
       "                        <td style=\"text-align: left;\">\n",
       "                            <strong>Memory: </strong> 7.45 GiB\n",
       "                        </td>\n",
       "                    </tr>\n",
       "                    <tr>\n",
       "                        <td style=\"text-align: left;\">\n",
       "                            <strong>Nanny: </strong> tcp://172.21.15.156:36241\n",
       "                        </td>\n",
       "                        <td style=\"text-align: left;\"></td>\n",
       "                    </tr>\n",
       "                    <tr>\n",
       "                        <td colspan=\"2\" style=\"text-align: left;\">\n",
       "                            <strong>Local directory: </strong> /local/scratch/sean.kearney/16774709/dask-scratch-space/worker-71mxrab0\n",
       "                        </td>\n",
       "                    </tr>\n",
       "\n",
       "                    \n",
       "\n",
       "                    \n",
       "                    <tr>\n",
       "                        <td style=\"text-align: left;\">\n",
       "                            <strong>Tasks executing: </strong> \n",
       "                        </td>\n",
       "                        <td style=\"text-align: left;\">\n",
       "                            <strong>Tasks in memory: </strong> \n",
       "                        </td>\n",
       "                    </tr>\n",
       "                    <tr>\n",
       "                        <td style=\"text-align: left;\">\n",
       "                            <strong>Tasks ready: </strong> \n",
       "                        </td>\n",
       "                        <td style=\"text-align: left;\">\n",
       "                            <strong>Tasks in flight: </strong>\n",
       "                        </td>\n",
       "                    </tr>\n",
       "                    <tr>\n",
       "                        <td style=\"text-align: left;\">\n",
       "                            <strong>CPU usage:</strong> 0.0%\n",
       "                        </td>\n",
       "                        <td style=\"text-align: left;\">\n",
       "                            <strong>Last seen: </strong> Just now\n",
       "                        </td>\n",
       "                    </tr>\n",
       "                    <tr>\n",
       "                        <td style=\"text-align: left;\">\n",
       "                            <strong>Memory usage: </strong> 67.45 MiB\n",
       "                        </td>\n",
       "                        <td style=\"text-align: left;\">\n",
       "                            <strong>Spilled bytes: </strong> 0 B\n",
       "                        </td>\n",
       "                    </tr>\n",
       "                    <tr>\n",
       "                        <td style=\"text-align: left;\">\n",
       "                            <strong>Read bytes: </strong> 0.0 B\n",
       "                        </td>\n",
       "                        <td style=\"text-align: left;\">\n",
       "                            <strong>Write bytes: </strong> 0.0 B\n",
       "                        </td>\n",
       "                    </tr>\n",
       "                    \n",
       "\n",
       "                </table>\n",
       "            </details>\n",
       "            </div>\n",
       "        </div>\n",
       "        \n",
       "        <div style=\"margin-bottom: 20px;\">\n",
       "            <div style=\"width: 24px; height: 24px; background-color: #DBF5FF; border: 3px solid #4CC9FF; border-radius: 5px; position: absolute;\"> </div>\n",
       "            <div style=\"margin-left: 48px;\">\n",
       "            <details>\n",
       "                <summary>\n",
       "                    <h4 style=\"margin-bottom: 0px; display: inline;\">Worker: SLURMCluster-18</h4>\n",
       "                </summary>\n",
       "                <table style=\"width: 100%; text-align: left;\">\n",
       "                    <tr>\n",
       "                        <td style=\"text-align: left;\">\n",
       "                            <strong>Comm: </strong> tcp://172.21.15.160:33629\n",
       "                        </td>\n",
       "                        <td style=\"text-align: left;\">\n",
       "                            <strong>Total threads: </strong> 2\n",
       "                        </td>\n",
       "                    </tr>\n",
       "                    <tr>\n",
       "                        <td style=\"text-align: left;\">\n",
       "                            <strong>Dashboard: </strong> <a href=\"http://172.21.15.160:43475/status\" target=\"_blank\">http://172.21.15.160:43475/status</a>\n",
       "                        </td>\n",
       "                        <td style=\"text-align: left;\">\n",
       "                            <strong>Memory: </strong> 7.45 GiB\n",
       "                        </td>\n",
       "                    </tr>\n",
       "                    <tr>\n",
       "                        <td style=\"text-align: left;\">\n",
       "                            <strong>Nanny: </strong> tcp://172.21.15.160:44247\n",
       "                        </td>\n",
       "                        <td style=\"text-align: left;\"></td>\n",
       "                    </tr>\n",
       "                    <tr>\n",
       "                        <td colspan=\"2\" style=\"text-align: left;\">\n",
       "                            <strong>Local directory: </strong> /local/scratch/sean.kearney/16774697/dask-scratch-space/worker-6xeokbfj\n",
       "                        </td>\n",
       "                    </tr>\n",
       "\n",
       "                    \n",
       "\n",
       "                    \n",
       "                    <tr>\n",
       "                        <td style=\"text-align: left;\">\n",
       "                            <strong>Tasks executing: </strong> \n",
       "                        </td>\n",
       "                        <td style=\"text-align: left;\">\n",
       "                            <strong>Tasks in memory: </strong> \n",
       "                        </td>\n",
       "                    </tr>\n",
       "                    <tr>\n",
       "                        <td style=\"text-align: left;\">\n",
       "                            <strong>Tasks ready: </strong> \n",
       "                        </td>\n",
       "                        <td style=\"text-align: left;\">\n",
       "                            <strong>Tasks in flight: </strong>\n",
       "                        </td>\n",
       "                    </tr>\n",
       "                    <tr>\n",
       "                        <td style=\"text-align: left;\">\n",
       "                            <strong>CPU usage:</strong> 0.0%\n",
       "                        </td>\n",
       "                        <td style=\"text-align: left;\">\n",
       "                            <strong>Last seen: </strong> Just now\n",
       "                        </td>\n",
       "                    </tr>\n",
       "                    <tr>\n",
       "                        <td style=\"text-align: left;\">\n",
       "                            <strong>Memory usage: </strong> 67.32 MiB\n",
       "                        </td>\n",
       "                        <td style=\"text-align: left;\">\n",
       "                            <strong>Spilled bytes: </strong> 0 B\n",
       "                        </td>\n",
       "                    </tr>\n",
       "                    <tr>\n",
       "                        <td style=\"text-align: left;\">\n",
       "                            <strong>Read bytes: </strong> 0.0 B\n",
       "                        </td>\n",
       "                        <td style=\"text-align: left;\">\n",
       "                            <strong>Write bytes: </strong> 0.0 B\n",
       "                        </td>\n",
       "                    </tr>\n",
       "                    \n",
       "\n",
       "                </table>\n",
       "            </details>\n",
       "            </div>\n",
       "        </div>\n",
       "        \n",
       "        <div style=\"margin-bottom: 20px;\">\n",
       "            <div style=\"width: 24px; height: 24px; background-color: #DBF5FF; border: 3px solid #4CC9FF; border-radius: 5px; position: absolute;\"> </div>\n",
       "            <div style=\"margin-left: 48px;\">\n",
       "            <details>\n",
       "                <summary>\n",
       "                    <h4 style=\"margin-bottom: 0px; display: inline;\">Worker: SLURMCluster-19</h4>\n",
       "                </summary>\n",
       "                <table style=\"width: 100%; text-align: left;\">\n",
       "                    <tr>\n",
       "                        <td style=\"text-align: left;\">\n",
       "                            <strong>Comm: </strong> tcp://172.21.15.68:41493\n",
       "                        </td>\n",
       "                        <td style=\"text-align: left;\">\n",
       "                            <strong>Total threads: </strong> 2\n",
       "                        </td>\n",
       "                    </tr>\n",
       "                    <tr>\n",
       "                        <td style=\"text-align: left;\">\n",
       "                            <strong>Dashboard: </strong> <a href=\"http://172.21.15.68:43561/status\" target=\"_blank\">http://172.21.15.68:43561/status</a>\n",
       "                        </td>\n",
       "                        <td style=\"text-align: left;\">\n",
       "                            <strong>Memory: </strong> 7.45 GiB\n",
       "                        </td>\n",
       "                    </tr>\n",
       "                    <tr>\n",
       "                        <td style=\"text-align: left;\">\n",
       "                            <strong>Nanny: </strong> tcp://172.21.15.68:45679\n",
       "                        </td>\n",
       "                        <td style=\"text-align: left;\"></td>\n",
       "                    </tr>\n",
       "                    <tr>\n",
       "                        <td colspan=\"2\" style=\"text-align: left;\">\n",
       "                            <strong>Local directory: </strong> /local/scratch/sean.kearney/16774703/dask-scratch-space/worker-_mx6ohg6\n",
       "                        </td>\n",
       "                    </tr>\n",
       "\n",
       "                    \n",
       "\n",
       "                    \n",
       "                    <tr>\n",
       "                        <td style=\"text-align: left;\">\n",
       "                            <strong>Tasks executing: </strong> \n",
       "                        </td>\n",
       "                        <td style=\"text-align: left;\">\n",
       "                            <strong>Tasks in memory: </strong> \n",
       "                        </td>\n",
       "                    </tr>\n",
       "                    <tr>\n",
       "                        <td style=\"text-align: left;\">\n",
       "                            <strong>Tasks ready: </strong> \n",
       "                        </td>\n",
       "                        <td style=\"text-align: left;\">\n",
       "                            <strong>Tasks in flight: </strong>\n",
       "                        </td>\n",
       "                    </tr>\n",
       "                    <tr>\n",
       "                        <td style=\"text-align: left;\">\n",
       "                            <strong>CPU usage:</strong> 0.0%\n",
       "                        </td>\n",
       "                        <td style=\"text-align: left;\">\n",
       "                            <strong>Last seen: </strong> Just now\n",
       "                        </td>\n",
       "                    </tr>\n",
       "                    <tr>\n",
       "                        <td style=\"text-align: left;\">\n",
       "                            <strong>Memory usage: </strong> 67.29 MiB\n",
       "                        </td>\n",
       "                        <td style=\"text-align: left;\">\n",
       "                            <strong>Spilled bytes: </strong> 0 B\n",
       "                        </td>\n",
       "                    </tr>\n",
       "                    <tr>\n",
       "                        <td style=\"text-align: left;\">\n",
       "                            <strong>Read bytes: </strong> 0.0 B\n",
       "                        </td>\n",
       "                        <td style=\"text-align: left;\">\n",
       "                            <strong>Write bytes: </strong> 0.0 B\n",
       "                        </td>\n",
       "                    </tr>\n",
       "                    \n",
       "\n",
       "                </table>\n",
       "            </details>\n",
       "            </div>\n",
       "        </div>\n",
       "        \n",
       "        <div style=\"margin-bottom: 20px;\">\n",
       "            <div style=\"width: 24px; height: 24px; background-color: #DBF5FF; border: 3px solid #4CC9FF; border-radius: 5px; position: absolute;\"> </div>\n",
       "            <div style=\"margin-left: 48px;\">\n",
       "            <details>\n",
       "                <summary>\n",
       "                    <h4 style=\"margin-bottom: 0px; display: inline;\">Worker: SLURMCluster-2</h4>\n",
       "                </summary>\n",
       "                <table style=\"width: 100%; text-align: left;\">\n",
       "                    <tr>\n",
       "                        <td style=\"text-align: left;\">\n",
       "                            <strong>Comm: </strong> tcp://172.21.15.1:37243\n",
       "                        </td>\n",
       "                        <td style=\"text-align: left;\">\n",
       "                            <strong>Total threads: </strong> 2\n",
       "                        </td>\n",
       "                    </tr>\n",
       "                    <tr>\n",
       "                        <td style=\"text-align: left;\">\n",
       "                            <strong>Dashboard: </strong> <a href=\"http://172.21.15.1:33135/status\" target=\"_blank\">http://172.21.15.1:33135/status</a>\n",
       "                        </td>\n",
       "                        <td style=\"text-align: left;\">\n",
       "                            <strong>Memory: </strong> 7.45 GiB\n",
       "                        </td>\n",
       "                    </tr>\n",
       "                    <tr>\n",
       "                        <td style=\"text-align: left;\">\n",
       "                            <strong>Nanny: </strong> tcp://172.21.15.1:43133\n",
       "                        </td>\n",
       "                        <td style=\"text-align: left;\"></td>\n",
       "                    </tr>\n",
       "                    <tr>\n",
       "                        <td colspan=\"2\" style=\"text-align: left;\">\n",
       "                            <strong>Local directory: </strong> /local/scratch/sean.kearney/16774717/dask-scratch-space/worker-9wvhindo\n",
       "                        </td>\n",
       "                    </tr>\n",
       "\n",
       "                    \n",
       "\n",
       "                    \n",
       "\n",
       "                </table>\n",
       "            </details>\n",
       "            </div>\n",
       "        </div>\n",
       "        \n",
       "        <div style=\"margin-bottom: 20px;\">\n",
       "            <div style=\"width: 24px; height: 24px; background-color: #DBF5FF; border: 3px solid #4CC9FF; border-radius: 5px; position: absolute;\"> </div>\n",
       "            <div style=\"margin-left: 48px;\">\n",
       "            <details>\n",
       "                <summary>\n",
       "                    <h4 style=\"margin-bottom: 0px; display: inline;\">Worker: SLURMCluster-20</h4>\n",
       "                </summary>\n",
       "                <table style=\"width: 100%; text-align: left;\">\n",
       "                    <tr>\n",
       "                        <td style=\"text-align: left;\">\n",
       "                            <strong>Comm: </strong> tcp://172.21.15.7:34095\n",
       "                        </td>\n",
       "                        <td style=\"text-align: left;\">\n",
       "                            <strong>Total threads: </strong> 2\n",
       "                        </td>\n",
       "                    </tr>\n",
       "                    <tr>\n",
       "                        <td style=\"text-align: left;\">\n",
       "                            <strong>Dashboard: </strong> <a href=\"http://172.21.15.7:38657/status\" target=\"_blank\">http://172.21.15.7:38657/status</a>\n",
       "                        </td>\n",
       "                        <td style=\"text-align: left;\">\n",
       "                            <strong>Memory: </strong> 7.45 GiB\n",
       "                        </td>\n",
       "                    </tr>\n",
       "                    <tr>\n",
       "                        <td style=\"text-align: left;\">\n",
       "                            <strong>Nanny: </strong> tcp://172.21.15.7:32815\n",
       "                        </td>\n",
       "                        <td style=\"text-align: left;\"></td>\n",
       "                    </tr>\n",
       "                    <tr>\n",
       "                        <td colspan=\"2\" style=\"text-align: left;\">\n",
       "                            <strong>Local directory: </strong> /local/scratch/sean.kearney/16774692/dask-scratch-space/worker-2dv2xre9\n",
       "                        </td>\n",
       "                    </tr>\n",
       "\n",
       "                    \n",
       "\n",
       "                    \n",
       "                    <tr>\n",
       "                        <td style=\"text-align: left;\">\n",
       "                            <strong>Tasks executing: </strong> \n",
       "                        </td>\n",
       "                        <td style=\"text-align: left;\">\n",
       "                            <strong>Tasks in memory: </strong> \n",
       "                        </td>\n",
       "                    </tr>\n",
       "                    <tr>\n",
       "                        <td style=\"text-align: left;\">\n",
       "                            <strong>Tasks ready: </strong> \n",
       "                        </td>\n",
       "                        <td style=\"text-align: left;\">\n",
       "                            <strong>Tasks in flight: </strong>\n",
       "                        </td>\n",
       "                    </tr>\n",
       "                    <tr>\n",
       "                        <td style=\"text-align: left;\">\n",
       "                            <strong>CPU usage:</strong> 0.0%\n",
       "                        </td>\n",
       "                        <td style=\"text-align: left;\">\n",
       "                            <strong>Last seen: </strong> Just now\n",
       "                        </td>\n",
       "                    </tr>\n",
       "                    <tr>\n",
       "                        <td style=\"text-align: left;\">\n",
       "                            <strong>Memory usage: </strong> 67.45 MiB\n",
       "                        </td>\n",
       "                        <td style=\"text-align: left;\">\n",
       "                            <strong>Spilled bytes: </strong> 0 B\n",
       "                        </td>\n",
       "                    </tr>\n",
       "                    <tr>\n",
       "                        <td style=\"text-align: left;\">\n",
       "                            <strong>Read bytes: </strong> 0.0 B\n",
       "                        </td>\n",
       "                        <td style=\"text-align: left;\">\n",
       "                            <strong>Write bytes: </strong> 0.0 B\n",
       "                        </td>\n",
       "                    </tr>\n",
       "                    \n",
       "\n",
       "                </table>\n",
       "            </details>\n",
       "            </div>\n",
       "        </div>\n",
       "        \n",
       "        <div style=\"margin-bottom: 20px;\">\n",
       "            <div style=\"width: 24px; height: 24px; background-color: #DBF5FF; border: 3px solid #4CC9FF; border-radius: 5px; position: absolute;\"> </div>\n",
       "            <div style=\"margin-left: 48px;\">\n",
       "            <details>\n",
       "                <summary>\n",
       "                    <h4 style=\"margin-bottom: 0px; display: inline;\">Worker: SLURMCluster-21</h4>\n",
       "                </summary>\n",
       "                <table style=\"width: 100%; text-align: left;\">\n",
       "                    <tr>\n",
       "                        <td style=\"text-align: left;\">\n",
       "                            <strong>Comm: </strong> tcp://172.21.15.1:33197\n",
       "                        </td>\n",
       "                        <td style=\"text-align: left;\">\n",
       "                            <strong>Total threads: </strong> 2\n",
       "                        </td>\n",
       "                    </tr>\n",
       "                    <tr>\n",
       "                        <td style=\"text-align: left;\">\n",
       "                            <strong>Dashboard: </strong> <a href=\"http://172.21.15.1:40029/status\" target=\"_blank\">http://172.21.15.1:40029/status</a>\n",
       "                        </td>\n",
       "                        <td style=\"text-align: left;\">\n",
       "                            <strong>Memory: </strong> 7.45 GiB\n",
       "                        </td>\n",
       "                    </tr>\n",
       "                    <tr>\n",
       "                        <td style=\"text-align: left;\">\n",
       "                            <strong>Nanny: </strong> tcp://172.21.15.1:34825\n",
       "                        </td>\n",
       "                        <td style=\"text-align: left;\"></td>\n",
       "                    </tr>\n",
       "                    <tr>\n",
       "                        <td colspan=\"2\" style=\"text-align: left;\">\n",
       "                            <strong>Local directory: </strong> /local/scratch/sean.kearney/16774719/dask-scratch-space/worker-eeue6bye\n",
       "                        </td>\n",
       "                    </tr>\n",
       "\n",
       "                    \n",
       "\n",
       "                    \n",
       "\n",
       "                </table>\n",
       "            </details>\n",
       "            </div>\n",
       "        </div>\n",
       "        \n",
       "        <div style=\"margin-bottom: 20px;\">\n",
       "            <div style=\"width: 24px; height: 24px; background-color: #DBF5FF; border: 3px solid #4CC9FF; border-radius: 5px; position: absolute;\"> </div>\n",
       "            <div style=\"margin-left: 48px;\">\n",
       "            <details>\n",
       "                <summary>\n",
       "                    <h4 style=\"margin-bottom: 0px; display: inline;\">Worker: SLURMCluster-22</h4>\n",
       "                </summary>\n",
       "                <table style=\"width: 100%; text-align: left;\">\n",
       "                    <tr>\n",
       "                        <td style=\"text-align: left;\">\n",
       "                            <strong>Comm: </strong> tcp://172.21.15.157:37715\n",
       "                        </td>\n",
       "                        <td style=\"text-align: left;\">\n",
       "                            <strong>Total threads: </strong> 2\n",
       "                        </td>\n",
       "                    </tr>\n",
       "                    <tr>\n",
       "                        <td style=\"text-align: left;\">\n",
       "                            <strong>Dashboard: </strong> <a href=\"http://172.21.15.157:40303/status\" target=\"_blank\">http://172.21.15.157:40303/status</a>\n",
       "                        </td>\n",
       "                        <td style=\"text-align: left;\">\n",
       "                            <strong>Memory: </strong> 7.45 GiB\n",
       "                        </td>\n",
       "                    </tr>\n",
       "                    <tr>\n",
       "                        <td style=\"text-align: left;\">\n",
       "                            <strong>Nanny: </strong> tcp://172.21.15.157:37915\n",
       "                        </td>\n",
       "                        <td style=\"text-align: left;\"></td>\n",
       "                    </tr>\n",
       "                    <tr>\n",
       "                        <td colspan=\"2\" style=\"text-align: left;\">\n",
       "                            <strong>Local directory: </strong> /local/scratch/sean.kearney/16774711/dask-scratch-space/worker-x9vya3s8\n",
       "                        </td>\n",
       "                    </tr>\n",
       "\n",
       "                    \n",
       "\n",
       "                    \n",
       "                    <tr>\n",
       "                        <td style=\"text-align: left;\">\n",
       "                            <strong>Tasks executing: </strong> \n",
       "                        </td>\n",
       "                        <td style=\"text-align: left;\">\n",
       "                            <strong>Tasks in memory: </strong> \n",
       "                        </td>\n",
       "                    </tr>\n",
       "                    <tr>\n",
       "                        <td style=\"text-align: left;\">\n",
       "                            <strong>Tasks ready: </strong> \n",
       "                        </td>\n",
       "                        <td style=\"text-align: left;\">\n",
       "                            <strong>Tasks in flight: </strong>\n",
       "                        </td>\n",
       "                    </tr>\n",
       "                    <tr>\n",
       "                        <td style=\"text-align: left;\">\n",
       "                            <strong>CPU usage:</strong> 0.0%\n",
       "                        </td>\n",
       "                        <td style=\"text-align: left;\">\n",
       "                            <strong>Last seen: </strong> Just now\n",
       "                        </td>\n",
       "                    </tr>\n",
       "                    <tr>\n",
       "                        <td style=\"text-align: left;\">\n",
       "                            <strong>Memory usage: </strong> 67.41 MiB\n",
       "                        </td>\n",
       "                        <td style=\"text-align: left;\">\n",
       "                            <strong>Spilled bytes: </strong> 0 B\n",
       "                        </td>\n",
       "                    </tr>\n",
       "                    <tr>\n",
       "                        <td style=\"text-align: left;\">\n",
       "                            <strong>Read bytes: </strong> 0.0 B\n",
       "                        </td>\n",
       "                        <td style=\"text-align: left;\">\n",
       "                            <strong>Write bytes: </strong> 0.0 B\n",
       "                        </td>\n",
       "                    </tr>\n",
       "                    \n",
       "\n",
       "                </table>\n",
       "            </details>\n",
       "            </div>\n",
       "        </div>\n",
       "        \n",
       "        <div style=\"margin-bottom: 20px;\">\n",
       "            <div style=\"width: 24px; height: 24px; background-color: #DBF5FF; border: 3px solid #4CC9FF; border-radius: 5px; position: absolute;\"> </div>\n",
       "            <div style=\"margin-left: 48px;\">\n",
       "            <details>\n",
       "                <summary>\n",
       "                    <h4 style=\"margin-bottom: 0px; display: inline;\">Worker: SLURMCluster-23</h4>\n",
       "                </summary>\n",
       "                <table style=\"width: 100%; text-align: left;\">\n",
       "                    <tr>\n",
       "                        <td style=\"text-align: left;\">\n",
       "                            <strong>Comm: </strong> tcp://172.21.15.1:45625\n",
       "                        </td>\n",
       "                        <td style=\"text-align: left;\">\n",
       "                            <strong>Total threads: </strong> 2\n",
       "                        </td>\n",
       "                    </tr>\n",
       "                    <tr>\n",
       "                        <td style=\"text-align: left;\">\n",
       "                            <strong>Dashboard: </strong> <a href=\"http://172.21.15.1:37971/status\" target=\"_blank\">http://172.21.15.1:37971/status</a>\n",
       "                        </td>\n",
       "                        <td style=\"text-align: left;\">\n",
       "                            <strong>Memory: </strong> 7.45 GiB\n",
       "                        </td>\n",
       "                    </tr>\n",
       "                    <tr>\n",
       "                        <td style=\"text-align: left;\">\n",
       "                            <strong>Nanny: </strong> tcp://172.21.15.1:36481\n",
       "                        </td>\n",
       "                        <td style=\"text-align: left;\"></td>\n",
       "                    </tr>\n",
       "                    <tr>\n",
       "                        <td colspan=\"2\" style=\"text-align: left;\">\n",
       "                            <strong>Local directory: </strong> /local/scratch/sean.kearney/16774720/dask-scratch-space/worker-t3866v7q\n",
       "                        </td>\n",
       "                    </tr>\n",
       "\n",
       "                    \n",
       "\n",
       "                    \n",
       "\n",
       "                </table>\n",
       "            </details>\n",
       "            </div>\n",
       "        </div>\n",
       "        \n",
       "        <div style=\"margin-bottom: 20px;\">\n",
       "            <div style=\"width: 24px; height: 24px; background-color: #DBF5FF; border: 3px solid #4CC9FF; border-radius: 5px; position: absolute;\"> </div>\n",
       "            <div style=\"margin-left: 48px;\">\n",
       "            <details>\n",
       "                <summary>\n",
       "                    <h4 style=\"margin-bottom: 0px; display: inline;\">Worker: SLURMCluster-24</h4>\n",
       "                </summary>\n",
       "                <table style=\"width: 100%; text-align: left;\">\n",
       "                    <tr>\n",
       "                        <td style=\"text-align: left;\">\n",
       "                            <strong>Comm: </strong> tcp://172.21.15.160:41285\n",
       "                        </td>\n",
       "                        <td style=\"text-align: left;\">\n",
       "                            <strong>Total threads: </strong> 2\n",
       "                        </td>\n",
       "                    </tr>\n",
       "                    <tr>\n",
       "                        <td style=\"text-align: left;\">\n",
       "                            <strong>Dashboard: </strong> <a href=\"http://172.21.15.160:40597/status\" target=\"_blank\">http://172.21.15.160:40597/status</a>\n",
       "                        </td>\n",
       "                        <td style=\"text-align: left;\">\n",
       "                            <strong>Memory: </strong> 7.45 GiB\n",
       "                        </td>\n",
       "                    </tr>\n",
       "                    <tr>\n",
       "                        <td style=\"text-align: left;\">\n",
       "                            <strong>Nanny: </strong> tcp://172.21.15.160:42955\n",
       "                        </td>\n",
       "                        <td style=\"text-align: left;\"></td>\n",
       "                    </tr>\n",
       "                    <tr>\n",
       "                        <td colspan=\"2\" style=\"text-align: left;\">\n",
       "                            <strong>Local directory: </strong> /local/scratch/sean.kearney/16774695/dask-scratch-space/worker-c81taszk\n",
       "                        </td>\n",
       "                    </tr>\n",
       "\n",
       "                    \n",
       "\n",
       "                    \n",
       "                    <tr>\n",
       "                        <td style=\"text-align: left;\">\n",
       "                            <strong>Tasks executing: </strong> \n",
       "                        </td>\n",
       "                        <td style=\"text-align: left;\">\n",
       "                            <strong>Tasks in memory: </strong> \n",
       "                        </td>\n",
       "                    </tr>\n",
       "                    <tr>\n",
       "                        <td style=\"text-align: left;\">\n",
       "                            <strong>Tasks ready: </strong> \n",
       "                        </td>\n",
       "                        <td style=\"text-align: left;\">\n",
       "                            <strong>Tasks in flight: </strong>\n",
       "                        </td>\n",
       "                    </tr>\n",
       "                    <tr>\n",
       "                        <td style=\"text-align: left;\">\n",
       "                            <strong>CPU usage:</strong> 0.0%\n",
       "                        </td>\n",
       "                        <td style=\"text-align: left;\">\n",
       "                            <strong>Last seen: </strong> Just now\n",
       "                        </td>\n",
       "                    </tr>\n",
       "                    <tr>\n",
       "                        <td style=\"text-align: left;\">\n",
       "                            <strong>Memory usage: </strong> 67.38 MiB\n",
       "                        </td>\n",
       "                        <td style=\"text-align: left;\">\n",
       "                            <strong>Spilled bytes: </strong> 0 B\n",
       "                        </td>\n",
       "                    </tr>\n",
       "                    <tr>\n",
       "                        <td style=\"text-align: left;\">\n",
       "                            <strong>Read bytes: </strong> 0.0 B\n",
       "                        </td>\n",
       "                        <td style=\"text-align: left;\">\n",
       "                            <strong>Write bytes: </strong> 0.0 B\n",
       "                        </td>\n",
       "                    </tr>\n",
       "                    \n",
       "\n",
       "                </table>\n",
       "            </details>\n",
       "            </div>\n",
       "        </div>\n",
       "        \n",
       "        <div style=\"margin-bottom: 20px;\">\n",
       "            <div style=\"width: 24px; height: 24px; background-color: #DBF5FF; border: 3px solid #4CC9FF; border-radius: 5px; position: absolute;\"> </div>\n",
       "            <div style=\"margin-left: 48px;\">\n",
       "            <details>\n",
       "                <summary>\n",
       "                    <h4 style=\"margin-bottom: 0px; display: inline;\">Worker: SLURMCluster-25</h4>\n",
       "                </summary>\n",
       "                <table style=\"width: 100%; text-align: left;\">\n",
       "                    <tr>\n",
       "                        <td style=\"text-align: left;\">\n",
       "                            <strong>Comm: </strong> tcp://172.21.15.68:35283\n",
       "                        </td>\n",
       "                        <td style=\"text-align: left;\">\n",
       "                            <strong>Total threads: </strong> 2\n",
       "                        </td>\n",
       "                    </tr>\n",
       "                    <tr>\n",
       "                        <td style=\"text-align: left;\">\n",
       "                            <strong>Dashboard: </strong> <a href=\"http://172.21.15.68:45207/status\" target=\"_blank\">http://172.21.15.68:45207/status</a>\n",
       "                        </td>\n",
       "                        <td style=\"text-align: left;\">\n",
       "                            <strong>Memory: </strong> 7.45 GiB\n",
       "                        </td>\n",
       "                    </tr>\n",
       "                    <tr>\n",
       "                        <td style=\"text-align: left;\">\n",
       "                            <strong>Nanny: </strong> tcp://172.21.15.68:38769\n",
       "                        </td>\n",
       "                        <td style=\"text-align: left;\"></td>\n",
       "                    </tr>\n",
       "                    <tr>\n",
       "                        <td colspan=\"2\" style=\"text-align: left;\">\n",
       "                            <strong>Local directory: </strong> /local/scratch/sean.kearney/16774704/dask-scratch-space/worker-59wrkctj\n",
       "                        </td>\n",
       "                    </tr>\n",
       "\n",
       "                    \n",
       "\n",
       "                    \n",
       "                    <tr>\n",
       "                        <td style=\"text-align: left;\">\n",
       "                            <strong>Tasks executing: </strong> \n",
       "                        </td>\n",
       "                        <td style=\"text-align: left;\">\n",
       "                            <strong>Tasks in memory: </strong> \n",
       "                        </td>\n",
       "                    </tr>\n",
       "                    <tr>\n",
       "                        <td style=\"text-align: left;\">\n",
       "                            <strong>Tasks ready: </strong> \n",
       "                        </td>\n",
       "                        <td style=\"text-align: left;\">\n",
       "                            <strong>Tasks in flight: </strong>\n",
       "                        </td>\n",
       "                    </tr>\n",
       "                    <tr>\n",
       "                        <td style=\"text-align: left;\">\n",
       "                            <strong>CPU usage:</strong> 0.0%\n",
       "                        </td>\n",
       "                        <td style=\"text-align: left;\">\n",
       "                            <strong>Last seen: </strong> Just now\n",
       "                        </td>\n",
       "                    </tr>\n",
       "                    <tr>\n",
       "                        <td style=\"text-align: left;\">\n",
       "                            <strong>Memory usage: </strong> 67.40 MiB\n",
       "                        </td>\n",
       "                        <td style=\"text-align: left;\">\n",
       "                            <strong>Spilled bytes: </strong> 0 B\n",
       "                        </td>\n",
       "                    </tr>\n",
       "                    <tr>\n",
       "                        <td style=\"text-align: left;\">\n",
       "                            <strong>Read bytes: </strong> 0.0 B\n",
       "                        </td>\n",
       "                        <td style=\"text-align: left;\">\n",
       "                            <strong>Write bytes: </strong> 0.0 B\n",
       "                        </td>\n",
       "                    </tr>\n",
       "                    \n",
       "\n",
       "                </table>\n",
       "            </details>\n",
       "            </div>\n",
       "        </div>\n",
       "        \n",
       "        <div style=\"margin-bottom: 20px;\">\n",
       "            <div style=\"width: 24px; height: 24px; background-color: #DBF5FF; border: 3px solid #4CC9FF; border-radius: 5px; position: absolute;\"> </div>\n",
       "            <div style=\"margin-left: 48px;\">\n",
       "            <details>\n",
       "                <summary>\n",
       "                    <h4 style=\"margin-bottom: 0px; display: inline;\">Worker: SLURMCluster-26</h4>\n",
       "                </summary>\n",
       "                <table style=\"width: 100%; text-align: left;\">\n",
       "                    <tr>\n",
       "                        <td style=\"text-align: left;\">\n",
       "                            <strong>Comm: </strong> tcp://172.21.15.5:33665\n",
       "                        </td>\n",
       "                        <td style=\"text-align: left;\">\n",
       "                            <strong>Total threads: </strong> 2\n",
       "                        </td>\n",
       "                    </tr>\n",
       "                    <tr>\n",
       "                        <td style=\"text-align: left;\">\n",
       "                            <strong>Dashboard: </strong> <a href=\"http://172.21.15.5:44793/status\" target=\"_blank\">http://172.21.15.5:44793/status</a>\n",
       "                        </td>\n",
       "                        <td style=\"text-align: left;\">\n",
       "                            <strong>Memory: </strong> 7.45 GiB\n",
       "                        </td>\n",
       "                    </tr>\n",
       "                    <tr>\n",
       "                        <td style=\"text-align: left;\">\n",
       "                            <strong>Nanny: </strong> tcp://172.21.15.5:33813\n",
       "                        </td>\n",
       "                        <td style=\"text-align: left;\"></td>\n",
       "                    </tr>\n",
       "                    <tr>\n",
       "                        <td colspan=\"2\" style=\"text-align: left;\">\n",
       "                            <strong>Local directory: </strong> /local/scratch/sean.kearney/16774715/dask-scratch-space/worker-r2at4py8\n",
       "                        </td>\n",
       "                    </tr>\n",
       "\n",
       "                    \n",
       "\n",
       "                    \n",
       "\n",
       "                </table>\n",
       "            </details>\n",
       "            </div>\n",
       "        </div>\n",
       "        \n",
       "        <div style=\"margin-bottom: 20px;\">\n",
       "            <div style=\"width: 24px; height: 24px; background-color: #DBF5FF; border: 3px solid #4CC9FF; border-radius: 5px; position: absolute;\"> </div>\n",
       "            <div style=\"margin-left: 48px;\">\n",
       "            <details>\n",
       "                <summary>\n",
       "                    <h4 style=\"margin-bottom: 0px; display: inline;\">Worker: SLURMCluster-27</h4>\n",
       "                </summary>\n",
       "                <table style=\"width: 100%; text-align: left;\">\n",
       "                    <tr>\n",
       "                        <td style=\"text-align: left;\">\n",
       "                            <strong>Comm: </strong> tcp://172.21.15.7:35691\n",
       "                        </td>\n",
       "                        <td style=\"text-align: left;\">\n",
       "                            <strong>Total threads: </strong> 2\n",
       "                        </td>\n",
       "                    </tr>\n",
       "                    <tr>\n",
       "                        <td style=\"text-align: left;\">\n",
       "                            <strong>Dashboard: </strong> <a href=\"http://172.21.15.7:43089/status\" target=\"_blank\">http://172.21.15.7:43089/status</a>\n",
       "                        </td>\n",
       "                        <td style=\"text-align: left;\">\n",
       "                            <strong>Memory: </strong> 7.45 GiB\n",
       "                        </td>\n",
       "                    </tr>\n",
       "                    <tr>\n",
       "                        <td style=\"text-align: left;\">\n",
       "                            <strong>Nanny: </strong> tcp://172.21.15.7:39699\n",
       "                        </td>\n",
       "                        <td style=\"text-align: left;\"></td>\n",
       "                    </tr>\n",
       "                    <tr>\n",
       "                        <td colspan=\"2\" style=\"text-align: left;\">\n",
       "                            <strong>Local directory: </strong> /local/scratch/sean.kearney/16774691/dask-scratch-space/worker-_o1jp6j4\n",
       "                        </td>\n",
       "                    </tr>\n",
       "\n",
       "                    \n",
       "\n",
       "                    \n",
       "                    <tr>\n",
       "                        <td style=\"text-align: left;\">\n",
       "                            <strong>Tasks executing: </strong> \n",
       "                        </td>\n",
       "                        <td style=\"text-align: left;\">\n",
       "                            <strong>Tasks in memory: </strong> \n",
       "                        </td>\n",
       "                    </tr>\n",
       "                    <tr>\n",
       "                        <td style=\"text-align: left;\">\n",
       "                            <strong>Tasks ready: </strong> \n",
       "                        </td>\n",
       "                        <td style=\"text-align: left;\">\n",
       "                            <strong>Tasks in flight: </strong>\n",
       "                        </td>\n",
       "                    </tr>\n",
       "                    <tr>\n",
       "                        <td style=\"text-align: left;\">\n",
       "                            <strong>CPU usage:</strong> 0.0%\n",
       "                        </td>\n",
       "                        <td style=\"text-align: left;\">\n",
       "                            <strong>Last seen: </strong> Just now\n",
       "                        </td>\n",
       "                    </tr>\n",
       "                    <tr>\n",
       "                        <td style=\"text-align: left;\">\n",
       "                            <strong>Memory usage: </strong> 67.34 MiB\n",
       "                        </td>\n",
       "                        <td style=\"text-align: left;\">\n",
       "                            <strong>Spilled bytes: </strong> 0 B\n",
       "                        </td>\n",
       "                    </tr>\n",
       "                    <tr>\n",
       "                        <td style=\"text-align: left;\">\n",
       "                            <strong>Read bytes: </strong> 0.0 B\n",
       "                        </td>\n",
       "                        <td style=\"text-align: left;\">\n",
       "                            <strong>Write bytes: </strong> 0.0 B\n",
       "                        </td>\n",
       "                    </tr>\n",
       "                    \n",
       "\n",
       "                </table>\n",
       "            </details>\n",
       "            </div>\n",
       "        </div>\n",
       "        \n",
       "        <div style=\"margin-bottom: 20px;\">\n",
       "            <div style=\"width: 24px; height: 24px; background-color: #DBF5FF; border: 3px solid #4CC9FF; border-radius: 5px; position: absolute;\"> </div>\n",
       "            <div style=\"margin-left: 48px;\">\n",
       "            <details>\n",
       "                <summary>\n",
       "                    <h4 style=\"margin-bottom: 0px; display: inline;\">Worker: SLURMCluster-28</h4>\n",
       "                </summary>\n",
       "                <table style=\"width: 100%; text-align: left;\">\n",
       "                    <tr>\n",
       "                        <td style=\"text-align: left;\">\n",
       "                            <strong>Comm: </strong> tcp://172.21.15.157:36237\n",
       "                        </td>\n",
       "                        <td style=\"text-align: left;\">\n",
       "                            <strong>Total threads: </strong> 2\n",
       "                        </td>\n",
       "                    </tr>\n",
       "                    <tr>\n",
       "                        <td style=\"text-align: left;\">\n",
       "                            <strong>Dashboard: </strong> <a href=\"http://172.21.15.157:41229/status\" target=\"_blank\">http://172.21.15.157:41229/status</a>\n",
       "                        </td>\n",
       "                        <td style=\"text-align: left;\">\n",
       "                            <strong>Memory: </strong> 7.45 GiB\n",
       "                        </td>\n",
       "                    </tr>\n",
       "                    <tr>\n",
       "                        <td style=\"text-align: left;\">\n",
       "                            <strong>Nanny: </strong> tcp://172.21.15.157:42231\n",
       "                        </td>\n",
       "                        <td style=\"text-align: left;\"></td>\n",
       "                    </tr>\n",
       "                    <tr>\n",
       "                        <td colspan=\"2\" style=\"text-align: left;\">\n",
       "                            <strong>Local directory: </strong> /local/scratch/sean.kearney/16774712/dask-scratch-space/worker-o0bjyo33\n",
       "                        </td>\n",
       "                    </tr>\n",
       "\n",
       "                    \n",
       "\n",
       "                    \n",
       "                    <tr>\n",
       "                        <td style=\"text-align: left;\">\n",
       "                            <strong>Tasks executing: </strong> \n",
       "                        </td>\n",
       "                        <td style=\"text-align: left;\">\n",
       "                            <strong>Tasks in memory: </strong> \n",
       "                        </td>\n",
       "                    </tr>\n",
       "                    <tr>\n",
       "                        <td style=\"text-align: left;\">\n",
       "                            <strong>Tasks ready: </strong> \n",
       "                        </td>\n",
       "                        <td style=\"text-align: left;\">\n",
       "                            <strong>Tasks in flight: </strong>\n",
       "                        </td>\n",
       "                    </tr>\n",
       "                    <tr>\n",
       "                        <td style=\"text-align: left;\">\n",
       "                            <strong>CPU usage:</strong> 0.0%\n",
       "                        </td>\n",
       "                        <td style=\"text-align: left;\">\n",
       "                            <strong>Last seen: </strong> Just now\n",
       "                        </td>\n",
       "                    </tr>\n",
       "                    <tr>\n",
       "                        <td style=\"text-align: left;\">\n",
       "                            <strong>Memory usage: </strong> 67.37 MiB\n",
       "                        </td>\n",
       "                        <td style=\"text-align: left;\">\n",
       "                            <strong>Spilled bytes: </strong> 0 B\n",
       "                        </td>\n",
       "                    </tr>\n",
       "                    <tr>\n",
       "                        <td style=\"text-align: left;\">\n",
       "                            <strong>Read bytes: </strong> 0.0 B\n",
       "                        </td>\n",
       "                        <td style=\"text-align: left;\">\n",
       "                            <strong>Write bytes: </strong> 0.0 B\n",
       "                        </td>\n",
       "                    </tr>\n",
       "                    \n",
       "\n",
       "                </table>\n",
       "            </details>\n",
       "            </div>\n",
       "        </div>\n",
       "        \n",
       "        <div style=\"margin-bottom: 20px;\">\n",
       "            <div style=\"width: 24px; height: 24px; background-color: #DBF5FF; border: 3px solid #4CC9FF; border-radius: 5px; position: absolute;\"> </div>\n",
       "            <div style=\"margin-left: 48px;\">\n",
       "            <details>\n",
       "                <summary>\n",
       "                    <h4 style=\"margin-bottom: 0px; display: inline;\">Worker: SLURMCluster-29</h4>\n",
       "                </summary>\n",
       "                <table style=\"width: 100%; text-align: left;\">\n",
       "                    <tr>\n",
       "                        <td style=\"text-align: left;\">\n",
       "                            <strong>Comm: </strong> tcp://172.21.15.160:36295\n",
       "                        </td>\n",
       "                        <td style=\"text-align: left;\">\n",
       "                            <strong>Total threads: </strong> 2\n",
       "                        </td>\n",
       "                    </tr>\n",
       "                    <tr>\n",
       "                        <td style=\"text-align: left;\">\n",
       "                            <strong>Dashboard: </strong> <a href=\"http://172.21.15.160:43885/status\" target=\"_blank\">http://172.21.15.160:43885/status</a>\n",
       "                        </td>\n",
       "                        <td style=\"text-align: left;\">\n",
       "                            <strong>Memory: </strong> 7.45 GiB\n",
       "                        </td>\n",
       "                    </tr>\n",
       "                    <tr>\n",
       "                        <td style=\"text-align: left;\">\n",
       "                            <strong>Nanny: </strong> tcp://172.21.15.160:40339\n",
       "                        </td>\n",
       "                        <td style=\"text-align: left;\"></td>\n",
       "                    </tr>\n",
       "                    <tr>\n",
       "                        <td colspan=\"2\" style=\"text-align: left;\">\n",
       "                            <strong>Local directory: </strong> /local/scratch/sean.kearney/16774696/dask-scratch-space/worker-r5x43sz6\n",
       "                        </td>\n",
       "                    </tr>\n",
       "\n",
       "                    \n",
       "\n",
       "                    \n",
       "                    <tr>\n",
       "                        <td style=\"text-align: left;\">\n",
       "                            <strong>Tasks executing: </strong> \n",
       "                        </td>\n",
       "                        <td style=\"text-align: left;\">\n",
       "                            <strong>Tasks in memory: </strong> \n",
       "                        </td>\n",
       "                    </tr>\n",
       "                    <tr>\n",
       "                        <td style=\"text-align: left;\">\n",
       "                            <strong>Tasks ready: </strong> \n",
       "                        </td>\n",
       "                        <td style=\"text-align: left;\">\n",
       "                            <strong>Tasks in flight: </strong>\n",
       "                        </td>\n",
       "                    </tr>\n",
       "                    <tr>\n",
       "                        <td style=\"text-align: left;\">\n",
       "                            <strong>CPU usage:</strong> 0.0%\n",
       "                        </td>\n",
       "                        <td style=\"text-align: left;\">\n",
       "                            <strong>Last seen: </strong> Just now\n",
       "                        </td>\n",
       "                    </tr>\n",
       "                    <tr>\n",
       "                        <td style=\"text-align: left;\">\n",
       "                            <strong>Memory usage: </strong> 67.28 MiB\n",
       "                        </td>\n",
       "                        <td style=\"text-align: left;\">\n",
       "                            <strong>Spilled bytes: </strong> 0 B\n",
       "                        </td>\n",
       "                    </tr>\n",
       "                    <tr>\n",
       "                        <td style=\"text-align: left;\">\n",
       "                            <strong>Read bytes: </strong> 0.0 B\n",
       "                        </td>\n",
       "                        <td style=\"text-align: left;\">\n",
       "                            <strong>Write bytes: </strong> 0.0 B\n",
       "                        </td>\n",
       "                    </tr>\n",
       "                    \n",
       "\n",
       "                </table>\n",
       "            </details>\n",
       "            </div>\n",
       "        </div>\n",
       "        \n",
       "        <div style=\"margin-bottom: 20px;\">\n",
       "            <div style=\"width: 24px; height: 24px; background-color: #DBF5FF; border: 3px solid #4CC9FF; border-radius: 5px; position: absolute;\"> </div>\n",
       "            <div style=\"margin-left: 48px;\">\n",
       "            <details>\n",
       "                <summary>\n",
       "                    <h4 style=\"margin-bottom: 0px; display: inline;\">Worker: SLURMCluster-3</h4>\n",
       "                </summary>\n",
       "                <table style=\"width: 100%; text-align: left;\">\n",
       "                    <tr>\n",
       "                        <td style=\"text-align: left;\">\n",
       "                            <strong>Comm: </strong> tcp://172.21.15.160:37833\n",
       "                        </td>\n",
       "                        <td style=\"text-align: left;\">\n",
       "                            <strong>Total threads: </strong> 2\n",
       "                        </td>\n",
       "                    </tr>\n",
       "                    <tr>\n",
       "                        <td style=\"text-align: left;\">\n",
       "                            <strong>Dashboard: </strong> <a href=\"http://172.21.15.160:37671/status\" target=\"_blank\">http://172.21.15.160:37671/status</a>\n",
       "                        </td>\n",
       "                        <td style=\"text-align: left;\">\n",
       "                            <strong>Memory: </strong> 7.45 GiB\n",
       "                        </td>\n",
       "                    </tr>\n",
       "                    <tr>\n",
       "                        <td style=\"text-align: left;\">\n",
       "                            <strong>Nanny: </strong> tcp://172.21.15.160:36201\n",
       "                        </td>\n",
       "                        <td style=\"text-align: left;\"></td>\n",
       "                    </tr>\n",
       "                    <tr>\n",
       "                        <td colspan=\"2\" style=\"text-align: left;\">\n",
       "                            <strong>Local directory: </strong> /local/scratch/sean.kearney/16774694/dask-scratch-space/worker-i74byvsu\n",
       "                        </td>\n",
       "                    </tr>\n",
       "\n",
       "                    \n",
       "\n",
       "                    \n",
       "                    <tr>\n",
       "                        <td style=\"text-align: left;\">\n",
       "                            <strong>Tasks executing: </strong> \n",
       "                        </td>\n",
       "                        <td style=\"text-align: left;\">\n",
       "                            <strong>Tasks in memory: </strong> \n",
       "                        </td>\n",
       "                    </tr>\n",
       "                    <tr>\n",
       "                        <td style=\"text-align: left;\">\n",
       "                            <strong>Tasks ready: </strong> \n",
       "                        </td>\n",
       "                        <td style=\"text-align: left;\">\n",
       "                            <strong>Tasks in flight: </strong>\n",
       "                        </td>\n",
       "                    </tr>\n",
       "                    <tr>\n",
       "                        <td style=\"text-align: left;\">\n",
       "                            <strong>CPU usage:</strong> 0.0%\n",
       "                        </td>\n",
       "                        <td style=\"text-align: left;\">\n",
       "                            <strong>Last seen: </strong> Just now\n",
       "                        </td>\n",
       "                    </tr>\n",
       "                    <tr>\n",
       "                        <td style=\"text-align: left;\">\n",
       "                            <strong>Memory usage: </strong> 67.41 MiB\n",
       "                        </td>\n",
       "                        <td style=\"text-align: left;\">\n",
       "                            <strong>Spilled bytes: </strong> 0 B\n",
       "                        </td>\n",
       "                    </tr>\n",
       "                    <tr>\n",
       "                        <td style=\"text-align: left;\">\n",
       "                            <strong>Read bytes: </strong> 0.0 B\n",
       "                        </td>\n",
       "                        <td style=\"text-align: left;\">\n",
       "                            <strong>Write bytes: </strong> 0.0 B\n",
       "                        </td>\n",
       "                    </tr>\n",
       "                    \n",
       "\n",
       "                </table>\n",
       "            </details>\n",
       "            </div>\n",
       "        </div>\n",
       "        \n",
       "        <div style=\"margin-bottom: 20px;\">\n",
       "            <div style=\"width: 24px; height: 24px; background-color: #DBF5FF; border: 3px solid #4CC9FF; border-radius: 5px; position: absolute;\"> </div>\n",
       "            <div style=\"margin-left: 48px;\">\n",
       "            <details>\n",
       "                <summary>\n",
       "                    <h4 style=\"margin-bottom: 0px; display: inline;\">Worker: SLURMCluster-30</h4>\n",
       "                </summary>\n",
       "                <table style=\"width: 100%; text-align: left;\">\n",
       "                    <tr>\n",
       "                        <td style=\"text-align: left;\">\n",
       "                            <strong>Comm: </strong> tcp://172.21.15.68:41351\n",
       "                        </td>\n",
       "                        <td style=\"text-align: left;\">\n",
       "                            <strong>Total threads: </strong> 2\n",
       "                        </td>\n",
       "                    </tr>\n",
       "                    <tr>\n",
       "                        <td style=\"text-align: left;\">\n",
       "                            <strong>Dashboard: </strong> <a href=\"http://172.21.15.68:44497/status\" target=\"_blank\">http://172.21.15.68:44497/status</a>\n",
       "                        </td>\n",
       "                        <td style=\"text-align: left;\">\n",
       "                            <strong>Memory: </strong> 7.45 GiB\n",
       "                        </td>\n",
       "                    </tr>\n",
       "                    <tr>\n",
       "                        <td style=\"text-align: left;\">\n",
       "                            <strong>Nanny: </strong> tcp://172.21.15.68:45465\n",
       "                        </td>\n",
       "                        <td style=\"text-align: left;\"></td>\n",
       "                    </tr>\n",
       "                    <tr>\n",
       "                        <td colspan=\"2\" style=\"text-align: left;\">\n",
       "                            <strong>Local directory: </strong> /local/scratch/sean.kearney/16774702/dask-scratch-space/worker-x7vlaemw\n",
       "                        </td>\n",
       "                    </tr>\n",
       "\n",
       "                    \n",
       "\n",
       "                    \n",
       "                    <tr>\n",
       "                        <td style=\"text-align: left;\">\n",
       "                            <strong>Tasks executing: </strong> \n",
       "                        </td>\n",
       "                        <td style=\"text-align: left;\">\n",
       "                            <strong>Tasks in memory: </strong> \n",
       "                        </td>\n",
       "                    </tr>\n",
       "                    <tr>\n",
       "                        <td style=\"text-align: left;\">\n",
       "                            <strong>Tasks ready: </strong> \n",
       "                        </td>\n",
       "                        <td style=\"text-align: left;\">\n",
       "                            <strong>Tasks in flight: </strong>\n",
       "                        </td>\n",
       "                    </tr>\n",
       "                    <tr>\n",
       "                        <td style=\"text-align: left;\">\n",
       "                            <strong>CPU usage:</strong> 0.0%\n",
       "                        </td>\n",
       "                        <td style=\"text-align: left;\">\n",
       "                            <strong>Last seen: </strong> Just now\n",
       "                        </td>\n",
       "                    </tr>\n",
       "                    <tr>\n",
       "                        <td style=\"text-align: left;\">\n",
       "                            <strong>Memory usage: </strong> 67.30 MiB\n",
       "                        </td>\n",
       "                        <td style=\"text-align: left;\">\n",
       "                            <strong>Spilled bytes: </strong> 0 B\n",
       "                        </td>\n",
       "                    </tr>\n",
       "                    <tr>\n",
       "                        <td style=\"text-align: left;\">\n",
       "                            <strong>Read bytes: </strong> 0.0 B\n",
       "                        </td>\n",
       "                        <td style=\"text-align: left;\">\n",
       "                            <strong>Write bytes: </strong> 0.0 B\n",
       "                        </td>\n",
       "                    </tr>\n",
       "                    \n",
       "\n",
       "                </table>\n",
       "            </details>\n",
       "            </div>\n",
       "        </div>\n",
       "        \n",
       "        <div style=\"margin-bottom: 20px;\">\n",
       "            <div style=\"width: 24px; height: 24px; background-color: #DBF5FF; border: 3px solid #4CC9FF; border-radius: 5px; position: absolute;\"> </div>\n",
       "            <div style=\"margin-left: 48px;\">\n",
       "            <details>\n",
       "                <summary>\n",
       "                    <h4 style=\"margin-bottom: 0px; display: inline;\">Worker: SLURMCluster-31</h4>\n",
       "                </summary>\n",
       "                <table style=\"width: 100%; text-align: left;\">\n",
       "                    <tr>\n",
       "                        <td style=\"text-align: left;\">\n",
       "                            <strong>Comm: </strong> tcp://172.21.15.67:38321\n",
       "                        </td>\n",
       "                        <td style=\"text-align: left;\">\n",
       "                            <strong>Total threads: </strong> 2\n",
       "                        </td>\n",
       "                    </tr>\n",
       "                    <tr>\n",
       "                        <td style=\"text-align: left;\">\n",
       "                            <strong>Dashboard: </strong> <a href=\"http://172.21.15.67:39505/status\" target=\"_blank\">http://172.21.15.67:39505/status</a>\n",
       "                        </td>\n",
       "                        <td style=\"text-align: left;\">\n",
       "                            <strong>Memory: </strong> 7.45 GiB\n",
       "                        </td>\n",
       "                    </tr>\n",
       "                    <tr>\n",
       "                        <td style=\"text-align: left;\">\n",
       "                            <strong>Nanny: </strong> tcp://172.21.15.67:44103\n",
       "                        </td>\n",
       "                        <td style=\"text-align: left;\"></td>\n",
       "                    </tr>\n",
       "                    <tr>\n",
       "                        <td colspan=\"2\" style=\"text-align: left;\">\n",
       "                            <strong>Local directory: </strong> /local/scratch/sean.kearney/16774700/dask-scratch-space/worker-svky_lkk\n",
       "                        </td>\n",
       "                    </tr>\n",
       "\n",
       "                    \n",
       "\n",
       "                    \n",
       "                    <tr>\n",
       "                        <td style=\"text-align: left;\">\n",
       "                            <strong>Tasks executing: </strong> \n",
       "                        </td>\n",
       "                        <td style=\"text-align: left;\">\n",
       "                            <strong>Tasks in memory: </strong> \n",
       "                        </td>\n",
       "                    </tr>\n",
       "                    <tr>\n",
       "                        <td style=\"text-align: left;\">\n",
       "                            <strong>Tasks ready: </strong> \n",
       "                        </td>\n",
       "                        <td style=\"text-align: left;\">\n",
       "                            <strong>Tasks in flight: </strong>\n",
       "                        </td>\n",
       "                    </tr>\n",
       "                    <tr>\n",
       "                        <td style=\"text-align: left;\">\n",
       "                            <strong>CPU usage:</strong> 0.0%\n",
       "                        </td>\n",
       "                        <td style=\"text-align: left;\">\n",
       "                            <strong>Last seen: </strong> Just now\n",
       "                        </td>\n",
       "                    </tr>\n",
       "                    <tr>\n",
       "                        <td style=\"text-align: left;\">\n",
       "                            <strong>Memory usage: </strong> 67.39 MiB\n",
       "                        </td>\n",
       "                        <td style=\"text-align: left;\">\n",
       "                            <strong>Spilled bytes: </strong> 0 B\n",
       "                        </td>\n",
       "                    </tr>\n",
       "                    <tr>\n",
       "                        <td style=\"text-align: left;\">\n",
       "                            <strong>Read bytes: </strong> 0.0 B\n",
       "                        </td>\n",
       "                        <td style=\"text-align: left;\">\n",
       "                            <strong>Write bytes: </strong> 0.0 B\n",
       "                        </td>\n",
       "                    </tr>\n",
       "                    \n",
       "\n",
       "                </table>\n",
       "            </details>\n",
       "            </div>\n",
       "        </div>\n",
       "        \n",
       "        <div style=\"margin-bottom: 20px;\">\n",
       "            <div style=\"width: 24px; height: 24px; background-color: #DBF5FF; border: 3px solid #4CC9FF; border-radius: 5px; position: absolute;\"> </div>\n",
       "            <div style=\"margin-left: 48px;\">\n",
       "            <details>\n",
       "                <summary>\n",
       "                    <h4 style=\"margin-bottom: 0px; display: inline;\">Worker: SLURMCluster-4</h4>\n",
       "                </summary>\n",
       "                <table style=\"width: 100%; text-align: left;\">\n",
       "                    <tr>\n",
       "                        <td style=\"text-align: left;\">\n",
       "                            <strong>Comm: </strong> tcp://172.21.15.2:38917\n",
       "                        </td>\n",
       "                        <td style=\"text-align: left;\">\n",
       "                            <strong>Total threads: </strong> 2\n",
       "                        </td>\n",
       "                    </tr>\n",
       "                    <tr>\n",
       "                        <td style=\"text-align: left;\">\n",
       "                            <strong>Dashboard: </strong> <a href=\"http://172.21.15.2:39337/status\" target=\"_blank\">http://172.21.15.2:39337/status</a>\n",
       "                        </td>\n",
       "                        <td style=\"text-align: left;\">\n",
       "                            <strong>Memory: </strong> 7.45 GiB\n",
       "                        </td>\n",
       "                    </tr>\n",
       "                    <tr>\n",
       "                        <td style=\"text-align: left;\">\n",
       "                            <strong>Nanny: </strong> tcp://172.21.15.2:38799\n",
       "                        </td>\n",
       "                        <td style=\"text-align: left;\"></td>\n",
       "                    </tr>\n",
       "                    <tr>\n",
       "                        <td colspan=\"2\" style=\"text-align: left;\">\n",
       "                            <strong>Local directory: </strong> /local/scratch/sean.kearney/16774721/dask-scratch-space/worker-92meleah\n",
       "                        </td>\n",
       "                    </tr>\n",
       "\n",
       "                    \n",
       "\n",
       "                    \n",
       "\n",
       "                </table>\n",
       "            </details>\n",
       "            </div>\n",
       "        </div>\n",
       "        \n",
       "        <div style=\"margin-bottom: 20px;\">\n",
       "            <div style=\"width: 24px; height: 24px; background-color: #DBF5FF; border: 3px solid #4CC9FF; border-radius: 5px; position: absolute;\"> </div>\n",
       "            <div style=\"margin-left: 48px;\">\n",
       "            <details>\n",
       "                <summary>\n",
       "                    <h4 style=\"margin-bottom: 0px; display: inline;\">Worker: SLURMCluster-5</h4>\n",
       "                </summary>\n",
       "                <table style=\"width: 100%; text-align: left;\">\n",
       "                    <tr>\n",
       "                        <td style=\"text-align: left;\">\n",
       "                            <strong>Comm: </strong> tcp://172.21.15.157:39457\n",
       "                        </td>\n",
       "                        <td style=\"text-align: left;\">\n",
       "                            <strong>Total threads: </strong> 2\n",
       "                        </td>\n",
       "                    </tr>\n",
       "                    <tr>\n",
       "                        <td style=\"text-align: left;\">\n",
       "                            <strong>Dashboard: </strong> <a href=\"http://172.21.15.157:39993/status\" target=\"_blank\">http://172.21.15.157:39993/status</a>\n",
       "                        </td>\n",
       "                        <td style=\"text-align: left;\">\n",
       "                            <strong>Memory: </strong> 7.45 GiB\n",
       "                        </td>\n",
       "                    </tr>\n",
       "                    <tr>\n",
       "                        <td style=\"text-align: left;\">\n",
       "                            <strong>Nanny: </strong> tcp://172.21.15.157:46379\n",
       "                        </td>\n",
       "                        <td style=\"text-align: left;\"></td>\n",
       "                    </tr>\n",
       "                    <tr>\n",
       "                        <td colspan=\"2\" style=\"text-align: left;\">\n",
       "                            <strong>Local directory: </strong> /local/scratch/sean.kearney/16774710/dask-scratch-space/worker-rbtonmno\n",
       "                        </td>\n",
       "                    </tr>\n",
       "\n",
       "                    \n",
       "\n",
       "                    \n",
       "                    <tr>\n",
       "                        <td style=\"text-align: left;\">\n",
       "                            <strong>Tasks executing: </strong> \n",
       "                        </td>\n",
       "                        <td style=\"text-align: left;\">\n",
       "                            <strong>Tasks in memory: </strong> \n",
       "                        </td>\n",
       "                    </tr>\n",
       "                    <tr>\n",
       "                        <td style=\"text-align: left;\">\n",
       "                            <strong>Tasks ready: </strong> \n",
       "                        </td>\n",
       "                        <td style=\"text-align: left;\">\n",
       "                            <strong>Tasks in flight: </strong>\n",
       "                        </td>\n",
       "                    </tr>\n",
       "                    <tr>\n",
       "                        <td style=\"text-align: left;\">\n",
       "                            <strong>CPU usage:</strong> 0.0%\n",
       "                        </td>\n",
       "                        <td style=\"text-align: left;\">\n",
       "                            <strong>Last seen: </strong> Just now\n",
       "                        </td>\n",
       "                    </tr>\n",
       "                    <tr>\n",
       "                        <td style=\"text-align: left;\">\n",
       "                            <strong>Memory usage: </strong> 67.42 MiB\n",
       "                        </td>\n",
       "                        <td style=\"text-align: left;\">\n",
       "                            <strong>Spilled bytes: </strong> 0 B\n",
       "                        </td>\n",
       "                    </tr>\n",
       "                    <tr>\n",
       "                        <td style=\"text-align: left;\">\n",
       "                            <strong>Read bytes: </strong> 0.0 B\n",
       "                        </td>\n",
       "                        <td style=\"text-align: left;\">\n",
       "                            <strong>Write bytes: </strong> 0.0 B\n",
       "                        </td>\n",
       "                    </tr>\n",
       "                    \n",
       "\n",
       "                </table>\n",
       "            </details>\n",
       "            </div>\n",
       "        </div>\n",
       "        \n",
       "        <div style=\"margin-bottom: 20px;\">\n",
       "            <div style=\"width: 24px; height: 24px; background-color: #DBF5FF; border: 3px solid #4CC9FF; border-radius: 5px; position: absolute;\"> </div>\n",
       "            <div style=\"margin-left: 48px;\">\n",
       "            <details>\n",
       "                <summary>\n",
       "                    <h4 style=\"margin-bottom: 0px; display: inline;\">Worker: SLURMCluster-6</h4>\n",
       "                </summary>\n",
       "                <table style=\"width: 100%; text-align: left;\">\n",
       "                    <tr>\n",
       "                        <td style=\"text-align: left;\">\n",
       "                            <strong>Comm: </strong> tcp://172.21.15.1:44471\n",
       "                        </td>\n",
       "                        <td style=\"text-align: left;\">\n",
       "                            <strong>Total threads: </strong> 2\n",
       "                        </td>\n",
       "                    </tr>\n",
       "                    <tr>\n",
       "                        <td style=\"text-align: left;\">\n",
       "                            <strong>Dashboard: </strong> <a href=\"http://172.21.15.1:37887/status\" target=\"_blank\">http://172.21.15.1:37887/status</a>\n",
       "                        </td>\n",
       "                        <td style=\"text-align: left;\">\n",
       "                            <strong>Memory: </strong> 7.45 GiB\n",
       "                        </td>\n",
       "                    </tr>\n",
       "                    <tr>\n",
       "                        <td style=\"text-align: left;\">\n",
       "                            <strong>Nanny: </strong> tcp://172.21.15.1:38297\n",
       "                        </td>\n",
       "                        <td style=\"text-align: left;\"></td>\n",
       "                    </tr>\n",
       "                    <tr>\n",
       "                        <td colspan=\"2\" style=\"text-align: left;\">\n",
       "                            <strong>Local directory: </strong> /local/scratch/sean.kearney/16774718/dask-scratch-space/worker-_lg0px1d\n",
       "                        </td>\n",
       "                    </tr>\n",
       "\n",
       "                    \n",
       "\n",
       "                    \n",
       "\n",
       "                </table>\n",
       "            </details>\n",
       "            </div>\n",
       "        </div>\n",
       "        \n",
       "        <div style=\"margin-bottom: 20px;\">\n",
       "            <div style=\"width: 24px; height: 24px; background-color: #DBF5FF; border: 3px solid #4CC9FF; border-radius: 5px; position: absolute;\"> </div>\n",
       "            <div style=\"margin-left: 48px;\">\n",
       "            <details>\n",
       "                <summary>\n",
       "                    <h4 style=\"margin-bottom: 0px; display: inline;\">Worker: SLURMCluster-7</h4>\n",
       "                </summary>\n",
       "                <table style=\"width: 100%; text-align: left;\">\n",
       "                    <tr>\n",
       "                        <td style=\"text-align: left;\">\n",
       "                            <strong>Comm: </strong> tcp://172.21.15.68:33609\n",
       "                        </td>\n",
       "                        <td style=\"text-align: left;\">\n",
       "                            <strong>Total threads: </strong> 2\n",
       "                        </td>\n",
       "                    </tr>\n",
       "                    <tr>\n",
       "                        <td style=\"text-align: left;\">\n",
       "                            <strong>Dashboard: </strong> <a href=\"http://172.21.15.68:39801/status\" target=\"_blank\">http://172.21.15.68:39801/status</a>\n",
       "                        </td>\n",
       "                        <td style=\"text-align: left;\">\n",
       "                            <strong>Memory: </strong> 7.45 GiB\n",
       "                        </td>\n",
       "                    </tr>\n",
       "                    <tr>\n",
       "                        <td style=\"text-align: left;\">\n",
       "                            <strong>Nanny: </strong> tcp://172.21.15.68:38083\n",
       "                        </td>\n",
       "                        <td style=\"text-align: left;\"></td>\n",
       "                    </tr>\n",
       "                    <tr>\n",
       "                        <td colspan=\"2\" style=\"text-align: left;\">\n",
       "                            <strong>Local directory: </strong> /local/scratch/sean.kearney/16774705/dask-scratch-space/worker-wwj9lp5h\n",
       "                        </td>\n",
       "                    </tr>\n",
       "\n",
       "                    \n",
       "\n",
       "                    \n",
       "                    <tr>\n",
       "                        <td style=\"text-align: left;\">\n",
       "                            <strong>Tasks executing: </strong> \n",
       "                        </td>\n",
       "                        <td style=\"text-align: left;\">\n",
       "                            <strong>Tasks in memory: </strong> \n",
       "                        </td>\n",
       "                    </tr>\n",
       "                    <tr>\n",
       "                        <td style=\"text-align: left;\">\n",
       "                            <strong>Tasks ready: </strong> \n",
       "                        </td>\n",
       "                        <td style=\"text-align: left;\">\n",
       "                            <strong>Tasks in flight: </strong>\n",
       "                        </td>\n",
       "                    </tr>\n",
       "                    <tr>\n",
       "                        <td style=\"text-align: left;\">\n",
       "                            <strong>CPU usage:</strong> 0.0%\n",
       "                        </td>\n",
       "                        <td style=\"text-align: left;\">\n",
       "                            <strong>Last seen: </strong> Just now\n",
       "                        </td>\n",
       "                    </tr>\n",
       "                    <tr>\n",
       "                        <td style=\"text-align: left;\">\n",
       "                            <strong>Memory usage: </strong> 67.36 MiB\n",
       "                        </td>\n",
       "                        <td style=\"text-align: left;\">\n",
       "                            <strong>Spilled bytes: </strong> 0 B\n",
       "                        </td>\n",
       "                    </tr>\n",
       "                    <tr>\n",
       "                        <td style=\"text-align: left;\">\n",
       "                            <strong>Read bytes: </strong> 0.0 B\n",
       "                        </td>\n",
       "                        <td style=\"text-align: left;\">\n",
       "                            <strong>Write bytes: </strong> 0.0 B\n",
       "                        </td>\n",
       "                    </tr>\n",
       "                    \n",
       "\n",
       "                </table>\n",
       "            </details>\n",
       "            </div>\n",
       "        </div>\n",
       "        \n",
       "        <div style=\"margin-bottom: 20px;\">\n",
       "            <div style=\"width: 24px; height: 24px; background-color: #DBF5FF; border: 3px solid #4CC9FF; border-radius: 5px; position: absolute;\"> </div>\n",
       "            <div style=\"margin-left: 48px;\">\n",
       "            <details>\n",
       "                <summary>\n",
       "                    <h4 style=\"margin-bottom: 0px; display: inline;\">Worker: SLURMCluster-8</h4>\n",
       "                </summary>\n",
       "                <table style=\"width: 100%; text-align: left;\">\n",
       "                    <tr>\n",
       "                        <td style=\"text-align: left;\">\n",
       "                            <strong>Comm: </strong> tcp://172.21.15.67:44301\n",
       "                        </td>\n",
       "                        <td style=\"text-align: left;\">\n",
       "                            <strong>Total threads: </strong> 2\n",
       "                        </td>\n",
       "                    </tr>\n",
       "                    <tr>\n",
       "                        <td style=\"text-align: left;\">\n",
       "                            <strong>Dashboard: </strong> <a href=\"http://172.21.15.67:41393/status\" target=\"_blank\">http://172.21.15.67:41393/status</a>\n",
       "                        </td>\n",
       "                        <td style=\"text-align: left;\">\n",
       "                            <strong>Memory: </strong> 7.45 GiB\n",
       "                        </td>\n",
       "                    </tr>\n",
       "                    <tr>\n",
       "                        <td style=\"text-align: left;\">\n",
       "                            <strong>Nanny: </strong> tcp://172.21.15.67:46225\n",
       "                        </td>\n",
       "                        <td style=\"text-align: left;\"></td>\n",
       "                    </tr>\n",
       "                    <tr>\n",
       "                        <td colspan=\"2\" style=\"text-align: left;\">\n",
       "                            <strong>Local directory: </strong> /local/scratch/sean.kearney/16774701/dask-scratch-space/worker-r9d6ks76\n",
       "                        </td>\n",
       "                    </tr>\n",
       "\n",
       "                    \n",
       "\n",
       "                    \n",
       "                    <tr>\n",
       "                        <td style=\"text-align: left;\">\n",
       "                            <strong>Tasks executing: </strong> \n",
       "                        </td>\n",
       "                        <td style=\"text-align: left;\">\n",
       "                            <strong>Tasks in memory: </strong> \n",
       "                        </td>\n",
       "                    </tr>\n",
       "                    <tr>\n",
       "                        <td style=\"text-align: left;\">\n",
       "                            <strong>Tasks ready: </strong> \n",
       "                        </td>\n",
       "                        <td style=\"text-align: left;\">\n",
       "                            <strong>Tasks in flight: </strong>\n",
       "                        </td>\n",
       "                    </tr>\n",
       "                    <tr>\n",
       "                        <td style=\"text-align: left;\">\n",
       "                            <strong>CPU usage:</strong> 0.0%\n",
       "                        </td>\n",
       "                        <td style=\"text-align: left;\">\n",
       "                            <strong>Last seen: </strong> Just now\n",
       "                        </td>\n",
       "                    </tr>\n",
       "                    <tr>\n",
       "                        <td style=\"text-align: left;\">\n",
       "                            <strong>Memory usage: </strong> 67.31 MiB\n",
       "                        </td>\n",
       "                        <td style=\"text-align: left;\">\n",
       "                            <strong>Spilled bytes: </strong> 0 B\n",
       "                        </td>\n",
       "                    </tr>\n",
       "                    <tr>\n",
       "                        <td style=\"text-align: left;\">\n",
       "                            <strong>Read bytes: </strong> 0.0 B\n",
       "                        </td>\n",
       "                        <td style=\"text-align: left;\">\n",
       "                            <strong>Write bytes: </strong> 0.0 B\n",
       "                        </td>\n",
       "                    </tr>\n",
       "                    \n",
       "\n",
       "                </table>\n",
       "            </details>\n",
       "            </div>\n",
       "        </div>\n",
       "        \n",
       "        <div style=\"margin-bottom: 20px;\">\n",
       "            <div style=\"width: 24px; height: 24px; background-color: #DBF5FF; border: 3px solid #4CC9FF; border-radius: 5px; position: absolute;\"> </div>\n",
       "            <div style=\"margin-left: 48px;\">\n",
       "            <details>\n",
       "                <summary>\n",
       "                    <h4 style=\"margin-bottom: 0px; display: inline;\">Worker: SLURMCluster-9</h4>\n",
       "                </summary>\n",
       "                <table style=\"width: 100%; text-align: left;\">\n",
       "                    <tr>\n",
       "                        <td style=\"text-align: left;\">\n",
       "                            <strong>Comm: </strong> tcp://172.21.15.67:43261\n",
       "                        </td>\n",
       "                        <td style=\"text-align: left;\">\n",
       "                            <strong>Total threads: </strong> 2\n",
       "                        </td>\n",
       "                    </tr>\n",
       "                    <tr>\n",
       "                        <td style=\"text-align: left;\">\n",
       "                            <strong>Dashboard: </strong> <a href=\"http://172.21.15.67:41975/status\" target=\"_blank\">http://172.21.15.67:41975/status</a>\n",
       "                        </td>\n",
       "                        <td style=\"text-align: left;\">\n",
       "                            <strong>Memory: </strong> 7.45 GiB\n",
       "                        </td>\n",
       "                    </tr>\n",
       "                    <tr>\n",
       "                        <td style=\"text-align: left;\">\n",
       "                            <strong>Nanny: </strong> tcp://172.21.15.67:44823\n",
       "                        </td>\n",
       "                        <td style=\"text-align: left;\"></td>\n",
       "                    </tr>\n",
       "                    <tr>\n",
       "                        <td colspan=\"2\" style=\"text-align: left;\">\n",
       "                            <strong>Local directory: </strong> /local/scratch/sean.kearney/16774699/dask-scratch-space/worker-291dkdw4\n",
       "                        </td>\n",
       "                    </tr>\n",
       "\n",
       "                    \n",
       "\n",
       "                    \n",
       "                    <tr>\n",
       "                        <td style=\"text-align: left;\">\n",
       "                            <strong>Tasks executing: </strong> \n",
       "                        </td>\n",
       "                        <td style=\"text-align: left;\">\n",
       "                            <strong>Tasks in memory: </strong> \n",
       "                        </td>\n",
       "                    </tr>\n",
       "                    <tr>\n",
       "                        <td style=\"text-align: left;\">\n",
       "                            <strong>Tasks ready: </strong> \n",
       "                        </td>\n",
       "                        <td style=\"text-align: left;\">\n",
       "                            <strong>Tasks in flight: </strong>\n",
       "                        </td>\n",
       "                    </tr>\n",
       "                    <tr>\n",
       "                        <td style=\"text-align: left;\">\n",
       "                            <strong>CPU usage:</strong> 0.0%\n",
       "                        </td>\n",
       "                        <td style=\"text-align: left;\">\n",
       "                            <strong>Last seen: </strong> Just now\n",
       "                        </td>\n",
       "                    </tr>\n",
       "                    <tr>\n",
       "                        <td style=\"text-align: left;\">\n",
       "                            <strong>Memory usage: </strong> 67.33 MiB\n",
       "                        </td>\n",
       "                        <td style=\"text-align: left;\">\n",
       "                            <strong>Spilled bytes: </strong> 0 B\n",
       "                        </td>\n",
       "                    </tr>\n",
       "                    <tr>\n",
       "                        <td style=\"text-align: left;\">\n",
       "                            <strong>Read bytes: </strong> 0.0 B\n",
       "                        </td>\n",
       "                        <td style=\"text-align: left;\">\n",
       "                            <strong>Write bytes: </strong> 0.0 B\n",
       "                        </td>\n",
       "                    </tr>\n",
       "                    \n",
       "\n",
       "                </table>\n",
       "            </details>\n",
       "            </div>\n",
       "        </div>\n",
       "        \n",
       "\n",
       "    </details>\n",
       "</div>\n",
       "\n",
       "        </details>\n",
       "    </div>\n",
       "</div>\n",
       "            </details>\n",
       "        \n",
       "\n",
       "    </div>\n",
       "</div>"
      ],
      "text/plain": [
       "<Client: 'tcp://172.21.15.135:36923' processes=0 threads=0, memory=0 B>"
      ]
     },
     "metadata": {},
     "output_type": "display_data"
    }
   ],
   "source": [
    "if backend == 'dask':\n",
    "    from hpc_setup import launch_dask\n",
    "    import psutil\n",
    "    interface_prefs = [\n",
    "        'ibp175s0',\n",
    "        'ibp59s0',\n",
    "        'enp24s0f0',\n",
    "        'ens7f0',\n",
    "        'ibp24s0',\n",
    "        'ib0'\n",
    "    ]\n",
    "    interface = [x for x in interface_prefs if x in list(psutil.net_if_addrs().keys())][0]\n",
    "    if len(interface) == 0:\n",
    "        print('ERROR: Preferred interfaces not found on node!')\n",
    "    else:\n",
    "        print(interface)\n",
    "    num_jobs=32\n",
    "    client = launch_dask(cluster_loc=cluster_loc,\n",
    "                         num_jobs=num_jobs,\n",
    "                         mem_gb_per=4.0,\n",
    "                         partition='atlas', \n",
    "                         duration='04:00:00',\n",
    "                         slurm_opts={'interface': interface},\n",
    "                          extra_directives=[\"--account=cper_neon_aop\"],\n",
    "                        wait_timeout=300,\n",
    "                        debug=False)\n",
    "    display(client)\n",
    "    nthreads = len(client.nthreads())\n",
    "else:\n",
    "    nthreads = multiprocessing.cpu_count()"
   ]
  },
  {
   "cell_type": "code",
   "execution_count": 5,
   "id": "ceb382a7-0bcf-4385-9558-7cec8c3e02bf",
   "metadata": {},
   "outputs": [
    {
     "name": "stdout",
     "output_type": "stream",
     "text": [
      "cpu\n"
     ]
    }
   ],
   "source": [
    "import torch\n",
    "if torch.has_cuda and use_cuda:\n",
    "    device='cuda'\n",
    "    print(torch.cuda.device_count())\n",
    "else:\n",
    "    device='cpu'\n",
    "print(device)"
   ]
  },
  {
   "cell_type": "code",
   "execution_count": 6,
   "id": "813204e6-f24c-4e17-a945-b337732c24bc",
   "metadata": {},
   "outputs": [],
   "source": [
    "#reload(sys.modules[\"ml_setup\"])\n",
    "from ml_setup import make_model_dictionary\n",
    "from ml_setup import run_ml_models"
   ]
  },
  {
   "cell_type": "code",
   "execution_count": 7,
   "id": "71bad434-5a74-40c1-b5e7-7940bf5dba20",
   "metadata": {},
   "outputs": [],
   "source": [
    "import random\n",
    "import re"
   ]
  },
  {
   "cell_type": "code",
   "execution_count": 8,
   "id": "63f3e3f5-d42c-4ead-b74a-5c07959a192a",
   "metadata": {},
   "outputs": [],
   "source": [
    "dist_facts = [0, 99, 95, 85, 75, 50, 10]\n",
    "rand_seeds = list(np.arange(120, 127))"
   ]
  },
  {
   "cell_type": "code",
   "execution_count": 12,
   "id": "a0a599da-d7d0-41f2-9f1a-f0a7212d31a4",
   "metadata": {
    "scrolled": true
   },
   "outputs": [
    {
     "name": "stdout",
     "output_type": "stream",
     "text": [
      "Running using Kmeans clusters\n",
      "0\n",
      "....fitting CPER_2022 (time to fit: 0.2 secs)\n",
      "....fitting OLS_2022 (time to fit: 0.21 secs)\n",
      "....fitting OLS "
     ]
    },
    {
     "name": "stderr",
     "output_type": "stream",
     "text": [
      "/project/cper_neon_aop/hls_nrt/fit/ml_setup.py:585: FutureWarning: The behavior of DataFrame concatenation with empty or all-NA entries is deprecated. In a future version, this will no longer exclude empty or all-NA columns when determining the result dtypes. To retain the old behavior, exclude the relevant entries before the concat operation.\n",
      "  mod_dict[k]['formula_df'] = pd.concat([mod_dict[k]['formula_df'], pd.concat(df_results[0])])\n"
     ]
    },
    {
     "name": "stdout",
     "output_type": "stream",
     "text": [
      "(time to fit: 32.0 secs)\n",
      "....fitting LASSO "
     ]
    },
    {
     "name": "stderr",
     "output_type": "stream",
     "text": [
      "/project/cper_neon_aop/conda_envs/py_ml_env/lib/python3.9/site-packages/distributed/client.py:3157: UserWarning: Sending large graph of size 27.89 MiB.\n",
      "This may cause some slowdown.\n",
      "Consider scattering data ahead of time and using futures.\n",
      "  warnings.warn(\n",
      "/project/cper_neon_aop/conda_envs/py_ml_env/lib/python3.9/site-packages/distributed/client.py:3157: UserWarning: Sending large graph of size 27.25 MiB.\n",
      "This may cause some slowdown.\n",
      "Consider scattering data ahead of time and using futures.\n",
      "  warnings.warn(\n",
      "/project/cper_neon_aop/conda_envs/py_ml_env/lib/python3.9/site-packages/sklearn/linear_model/_coordinate_descent.py:678: ConvergenceWarning: Objective did not converge. You might want to increase the number of iterations, check the scale of the features or consider increasing regularisation. Duality gap: 8.675e+04, tolerance: 7.353e+01\n",
      "  model = cd_fast.enet_coordinate_descent(\n",
      "/project/cper_neon_aop/hls_nrt/fit/ml_setup.py:671: FutureWarning: The behavior of DataFrame concatenation with empty or all-NA entries is deprecated. In a future version, this will no longer exclude empty or all-NA columns when determining the result dtypes. To retain the old behavior, exclude the relevant entries before the concat operation.\n",
      "  mod_dict[k]['variable_df'] = pd.concat([mod_dict[k]['variable_df'],\n"
     ]
    },
    {
     "name": "stdout",
     "output_type": "stream",
     "text": [
      "(time to fit: 61.01 secs)\n",
      "....fitting PLS "
     ]
    },
    {
     "name": "stderr",
     "output_type": "stream",
     "text": [
      "/project/cper_neon_aop/hls_nrt/fit/ml_setup.py:692: FutureWarning: The behavior of DataFrame concatenation with empty or all-NA entries is deprecated. In a future version, this will no longer exclude empty or all-NA columns when determining the result dtypes. To retain the old behavior, exclude the relevant entries before the concat operation.\n",
      "  mod_dict[k]['variable_df'] = pd.concat([mod_dict[k]['variable_df'],\n"
     ]
    },
    {
     "name": "stdout",
     "output_type": "stream",
     "text": [
      "(time to fit: 0.72 secs)\n",
      "....fitting PCR "
     ]
    },
    {
     "name": "stderr",
     "output_type": "stream",
     "text": [
      "/project/cper_neon_aop/hls_nrt/fit/ml_setup.py:703: FutureWarning: The behavior of DataFrame concatenation with empty or all-NA entries is deprecated. In a future version, this will no longer exclude empty or all-NA columns when determining the result dtypes. To retain the old behavior, exclude the relevant entries before the concat operation.\n",
      "  mod_dict[k]['variable_df'] = pd.concat([mod_dict[k]['variable_df'],\n"
     ]
    },
    {
     "name": "stdout",
     "output_type": "stream",
     "text": [
      "(time to fit: 1.64 secs)\n",
      "....fitting SVR "
     ]
    },
    {
     "name": "stderr",
     "output_type": "stream",
     "text": [
      "/project/cper_neon_aop/conda_envs/py_ml_env/lib/python3.9/site-packages/sklearn/svm/_base.py:1237: ConvergenceWarning: Liblinear failed to converge, increase the number of iterations.\n",
      "  warnings.warn(\n",
      "/project/cper_neon_aop/hls_nrt/fit/ml_setup.py:708: FutureWarning: The behavior of DataFrame concatenation with empty or all-NA entries is deprecated. In a future version, this will no longer exclude empty or all-NA columns when determining the result dtypes. To retain the old behavior, exclude the relevant entries before the concat operation.\n",
      "  mod_dict[k]['variable_df'] = pd.concat([mod_dict[k]['variable_df'],\n"
     ]
    },
    {
     "name": "stdout",
     "output_type": "stream",
     "text": [
      "(time to fit: 3.65 secs)\n",
      "....fitting RF "
     ]
    },
    {
     "name": "stderr",
     "output_type": "stream",
     "text": [
      "/project/cper_neon_aop/hls_nrt/fit/ml_setup.py:714: FutureWarning: The behavior of DataFrame concatenation with empty or all-NA entries is deprecated. In a future version, this will no longer exclude empty or all-NA columns when determining the result dtypes. To retain the old behavior, exclude the relevant entries before the concat operation.\n",
      "  mod_dict[k]['variable_df'] = pd.concat([mod_dict[k]['variable_df'],\n"
     ]
    },
    {
     "name": "stdout",
     "output_type": "stream",
     "text": [
      "(time to fit: 52.51 secs)\n",
      "Skipping GBR, params not set to fit.\n",
      "....fitting HGBR (time to fit: 10.3 secs)\n",
      "Skipping MLP, params not set to fit.\n",
      "Skipping DNN, params not set to fit.\n",
      "1\n",
      "....fitting CPER_2022 (time to fit: 0.04 secs)\n",
      "....fitting OLS_2022 (time to fit: 0.03 secs)\n",
      "....fitting OLS (time to fit: 14.28 secs)\n",
      "....fitting LASSO "
     ]
    },
    {
     "name": "stderr",
     "output_type": "stream",
     "text": [
      "/project/cper_neon_aop/conda_envs/py_ml_env/lib/python3.9/site-packages/distributed/client.py:3157: UserWarning: Sending large graph of size 28.72 MiB.\n",
      "This may cause some slowdown.\n",
      "Consider scattering data ahead of time and using futures.\n",
      "  warnings.warn(\n",
      "/project/cper_neon_aop/conda_envs/py_ml_env/lib/python3.9/site-packages/distributed/client.py:3157: UserWarning: Sending large graph of size 28.05 MiB.\n",
      "This may cause some slowdown.\n",
      "Consider scattering data ahead of time and using futures.\n",
      "  warnings.warn(\n",
      "/project/cper_neon_aop/conda_envs/py_ml_env/lib/python3.9/site-packages/sklearn/linear_model/_coordinate_descent.py:678: ConvergenceWarning: Objective did not converge. You might want to increase the number of iterations, check the scale of the features or consider increasing regularisation. Duality gap: 9.264e+04, tolerance: 6.947e+01\n",
      "  model = cd_fast.enet_coordinate_descent(\n"
     ]
    },
    {
     "name": "stdout",
     "output_type": "stream",
     "text": [
      "(time to fit: 19.64 secs)\n",
      "....fitting PLS (time to fit: 0.6 secs)\n",
      "....fitting PCR (time to fit: 0.78 secs)\n",
      "....fitting SVR (time to fit: 2.82 secs)\n",
      "....fitting RF "
     ]
    },
    {
     "name": "stderr",
     "output_type": "stream",
     "text": [
      "/project/cper_neon_aop/conda_envs/py_ml_env/lib/python3.9/site-packages/distributed/client.py:3157: UserWarning: Sending large graph of size 14.49 MiB.\n",
      "This may cause some slowdown.\n",
      "Consider scattering data ahead of time and using futures.\n",
      "  warnings.warn(\n"
     ]
    },
    {
     "name": "stdout",
     "output_type": "stream",
     "text": [
      "(time to fit: 53.07 secs)\n",
      "Skipping GBR, params not set to fit.\n",
      "....fitting HGBR (time to fit: 8.28 secs)\n",
      "Skipping MLP, params not set to fit.\n",
      "Skipping DNN, params not set to fit.\n",
      "2\n",
      "....fitting CPER_2022 (time to fit: 0.02 secs)\n",
      "....fitting OLS_2022 (time to fit: 0.04 secs)\n",
      "....fitting OLS (time to fit: 14.3 secs)\n",
      "....fitting LASSO "
     ]
    },
    {
     "name": "stderr",
     "output_type": "stream",
     "text": [
      "/project/cper_neon_aop/conda_envs/py_ml_env/lib/python3.9/site-packages/distributed/client.py:3157: UserWarning: Sending large graph of size 27.70 MiB.\n",
      "This may cause some slowdown.\n",
      "Consider scattering data ahead of time and using futures.\n",
      "  warnings.warn(\n",
      "/project/cper_neon_aop/conda_envs/py_ml_env/lib/python3.9/site-packages/distributed/client.py:3157: UserWarning: Sending large graph of size 27.05 MiB.\n",
      "This may cause some slowdown.\n",
      "Consider scattering data ahead of time and using futures.\n",
      "  warnings.warn(\n"
     ]
    },
    {
     "name": "stdout",
     "output_type": "stream",
     "text": [
      "(time to fit: 13.54 secs)\n",
      "....fitting PLS (time to fit: 0.59 secs)\n",
      "....fitting PCR (time to fit: 0.84 secs)\n",
      "....fitting SVR (time to fit: 2.72 secs)\n",
      "....fitting RF (time to fit: 51.77 secs)\n",
      "Skipping GBR, params not set to fit.\n",
      "....fitting HGBR (time to fit: 7.78 secs)\n",
      "Skipping MLP, params not set to fit.\n",
      "Skipping DNN, params not set to fit.\n",
      "3\n",
      "....fitting CPER_2022 (time to fit: 0.02 secs)\n",
      "....fitting OLS_2022 (time to fit: 0.03 secs)\n",
      "....fitting OLS (time to fit: 13.9 secs)\n",
      "....fitting LASSO "
     ]
    },
    {
     "name": "stderr",
     "output_type": "stream",
     "text": [
      "/project/cper_neon_aop/conda_envs/py_ml_env/lib/python3.9/site-packages/distributed/client.py:3157: UserWarning: Sending large graph of size 26.98 MiB.\n",
      "This may cause some slowdown.\n",
      "Consider scattering data ahead of time and using futures.\n",
      "  warnings.warn(\n",
      "/project/cper_neon_aop/conda_envs/py_ml_env/lib/python3.9/site-packages/distributed/client.py:3157: UserWarning: Sending large graph of size 26.35 MiB.\n",
      "This may cause some slowdown.\n",
      "Consider scattering data ahead of time and using futures.\n",
      "  warnings.warn(\n",
      "/project/cper_neon_aop/conda_envs/py_ml_env/lib/python3.9/site-packages/sklearn/linear_model/_coordinate_descent.py:678: ConvergenceWarning: Objective did not converge. You might want to increase the number of iterations, check the scale of the features or consider increasing regularisation. Duality gap: 8.562e+04, tolerance: 7.442e+01\n",
      "  model = cd_fast.enet_coordinate_descent(\n"
     ]
    },
    {
     "name": "stdout",
     "output_type": "stream",
     "text": [
      "(time to fit: 19.16 secs)\n",
      "....fitting PLS (time to fit: 0.59 secs)\n",
      "....fitting PCR (time to fit: 0.74 secs)\n",
      "....fitting SVR "
     ]
    },
    {
     "name": "stderr",
     "output_type": "stream",
     "text": [
      "/project/cper_neon_aop/conda_envs/py_ml_env/lib/python3.9/site-packages/sklearn/svm/_base.py:1237: ConvergenceWarning: Liblinear failed to converge, increase the number of iterations.\n",
      "  warnings.warn(\n"
     ]
    },
    {
     "name": "stdout",
     "output_type": "stream",
     "text": [
      "(time to fit: 4.11 secs)\n",
      "....fitting RF (time to fit: 50.5 secs)\n",
      "Skipping GBR, params not set to fit.\n",
      "....fitting HGBR (time to fit: 8.14 secs)\n",
      "Skipping MLP, params not set to fit.\n",
      "Skipping DNN, params not set to fit.\n",
      "4\n",
      "....fitting CPER_2022 (time to fit: 0.02 secs)\n",
      "....fitting OLS_2022 (time to fit: 0.03 secs)\n",
      "....fitting OLS (time to fit: 14.15 secs)\n",
      "....fitting LASSO "
     ]
    },
    {
     "name": "stderr",
     "output_type": "stream",
     "text": [
      "/project/cper_neon_aop/conda_envs/py_ml_env/lib/python3.9/site-packages/distributed/client.py:3157: UserWarning: Sending large graph of size 28.29 MiB.\n",
      "This may cause some slowdown.\n",
      "Consider scattering data ahead of time and using futures.\n",
      "  warnings.warn(\n",
      "/project/cper_neon_aop/conda_envs/py_ml_env/lib/python3.9/site-packages/distributed/client.py:3157: UserWarning: Sending large graph of size 27.62 MiB.\n",
      "This may cause some slowdown.\n",
      "Consider scattering data ahead of time and using futures.\n",
      "  warnings.warn(\n",
      "/project/cper_neon_aop/conda_envs/py_ml_env/lib/python3.9/site-packages/sklearn/linear_model/_coordinate_descent.py:678: ConvergenceWarning: Objective did not converge. You might want to increase the number of iterations, check the scale of the features or consider increasing regularisation. Duality gap: 8.953e+04, tolerance: 7.518e+01\n",
      "  model = cd_fast.enet_coordinate_descent(\n"
     ]
    },
    {
     "name": "stdout",
     "output_type": "stream",
     "text": [
      "(time to fit: 19.36 secs)\n",
      "....fitting PLS (time to fit: 1.0 secs)\n",
      "....fitting PCR (time to fit: 0.81 secs)\n",
      "....fitting SVR "
     ]
    },
    {
     "name": "stderr",
     "output_type": "stream",
     "text": [
      "/project/cper_neon_aop/conda_envs/py_ml_env/lib/python3.9/site-packages/sklearn/svm/_base.py:1237: ConvergenceWarning: Liblinear failed to converge, increase the number of iterations.\n",
      "  warnings.warn(\n"
     ]
    },
    {
     "name": "stdout",
     "output_type": "stream",
     "text": [
      "(time to fit: 4.48 secs)\n",
      "....fitting RF (time to fit: 55.26 secs)\n",
      "Skipping GBR, params not set to fit.\n",
      "....fitting HGBR (time to fit: 7.89 secs)\n",
      "Skipping MLP, params not set to fit.\n",
      "Skipping DNN, params not set to fit.\n",
      "5\n",
      "....fitting CPER_2022 (time to fit: 0.02 secs)\n",
      "....fitting OLS_2022 (time to fit: 0.04 secs)\n",
      "....fitting OLS (time to fit: 14.12 secs)\n",
      "....fitting LASSO "
     ]
    },
    {
     "name": "stderr",
     "output_type": "stream",
     "text": [
      "/project/cper_neon_aop/conda_envs/py_ml_env/lib/python3.9/site-packages/distributed/client.py:3157: UserWarning: Sending large graph of size 28.06 MiB.\n",
      "This may cause some slowdown.\n",
      "Consider scattering data ahead of time and using futures.\n",
      "  warnings.warn(\n",
      "/project/cper_neon_aop/conda_envs/py_ml_env/lib/python3.9/site-packages/distributed/client.py:3157: UserWarning: Sending large graph of size 27.40 MiB.\n",
      "This may cause some slowdown.\n",
      "Consider scattering data ahead of time and using futures.\n",
      "  warnings.warn(\n",
      "/project/cper_neon_aop/conda_envs/py_ml_env/lib/python3.9/site-packages/sklearn/linear_model/_coordinate_descent.py:678: ConvergenceWarning: Objective did not converge. You might want to increase the number of iterations, check the scale of the features or consider increasing regularisation. Duality gap: 8.607e+04, tolerance: 5.984e+01\n",
      "  model = cd_fast.enet_coordinate_descent(\n"
     ]
    },
    {
     "name": "stdout",
     "output_type": "stream",
     "text": [
      "(time to fit: 19.44 secs)\n",
      "....fitting PLS (time to fit: 0.62 secs)\n",
      "....fitting PCR (time to fit: 1.19 secs)\n",
      "....fitting SVR "
     ]
    },
    {
     "name": "stderr",
     "output_type": "stream",
     "text": [
      "/project/cper_neon_aop/conda_envs/py_ml_env/lib/python3.9/site-packages/sklearn/svm/_base.py:1237: ConvergenceWarning: Liblinear failed to converge, increase the number of iterations.\n",
      "  warnings.warn(\n"
     ]
    },
    {
     "name": "stdout",
     "output_type": "stream",
     "text": [
      "(time to fit: 4.34 secs)\n",
      "....fitting RF "
     ]
    },
    {
     "name": "stderr",
     "output_type": "stream",
     "text": [
      "/project/cper_neon_aop/conda_envs/py_ml_env/lib/python3.9/site-packages/distributed/client.py:3157: UserWarning: Sending large graph of size 11.62 MiB.\n",
      "This may cause some slowdown.\n",
      "Consider scattering data ahead of time and using futures.\n",
      "  warnings.warn(\n"
     ]
    },
    {
     "name": "stdout",
     "output_type": "stream",
     "text": [
      "(time to fit: 55.2 secs)\n",
      "Skipping GBR, params not set to fit.\n",
      "....fitting HGBR (time to fit: 8.0 secs)\n",
      "Skipping MLP, params not set to fit.\n",
      "Skipping DNN, params not set to fit.\n",
      "6\n",
      "....fitting CPER_2022 (time to fit: 0.02 secs)\n",
      "....fitting OLS_2022 (time to fit: 0.04 secs)\n",
      "....fitting OLS (time to fit: 14.16 secs)\n",
      "....fitting LASSO "
     ]
    },
    {
     "name": "stderr",
     "output_type": "stream",
     "text": [
      "/project/cper_neon_aop/conda_envs/py_ml_env/lib/python3.9/site-packages/distributed/client.py:3157: UserWarning: Sending large graph of size 27.93 MiB.\n",
      "This may cause some slowdown.\n",
      "Consider scattering data ahead of time and using futures.\n",
      "  warnings.warn(\n",
      "/project/cper_neon_aop/conda_envs/py_ml_env/lib/python3.9/site-packages/distributed/client.py:3157: UserWarning: Sending large graph of size 27.27 MiB.\n",
      "This may cause some slowdown.\n",
      "Consider scattering data ahead of time and using futures.\n",
      "  warnings.warn(\n",
      "/project/cper_neon_aop/conda_envs/py_ml_env/lib/python3.9/site-packages/sklearn/linear_model/_coordinate_descent.py:678: ConvergenceWarning: Objective did not converge. You might want to increase the number of iterations, check the scale of the features or consider increasing regularisation. Duality gap: 8.160e+04, tolerance: 6.322e+01\n",
      "  model = cd_fast.enet_coordinate_descent(\n"
     ]
    },
    {
     "name": "stdout",
     "output_type": "stream",
     "text": [
      "(time to fit: 18.92 secs)\n",
      "....fitting PLS (time to fit: 0.6 secs)\n",
      "....fitting PCR (time to fit: 1.21 secs)\n",
      "....fitting SVR (time to fit: 2.82 secs)\n",
      "....fitting RF "
     ]
    },
    {
     "name": "stderr",
     "output_type": "stream",
     "text": [
      "/project/cper_neon_aop/conda_envs/py_ml_env/lib/python3.9/site-packages/distributed/client.py:3157: UserWarning: Sending large graph of size 14.18 MiB.\n",
      "This may cause some slowdown.\n",
      "Consider scattering data ahead of time and using futures.\n",
      "  warnings.warn(\n"
     ]
    },
    {
     "name": "stdout",
     "output_type": "stream",
     "text": [
      "(time to fit: 50.76 secs)\n",
      "Skipping GBR, params not set to fit.\n",
      "....fitting HGBR (time to fit: 7.9 secs)\n",
      "Skipping MLP, params not set to fit.\n",
      "Skipping DNN, params not set to fit.\n",
      "7\n",
      "....fitting CPER_2022 (time to fit: 0.02 secs)\n",
      "....fitting OLS_2022 (time to fit: 0.03 secs)\n",
      "....fitting OLS (time to fit: 14.04 secs)\n",
      "....fitting LASSO "
     ]
    },
    {
     "name": "stderr",
     "output_type": "stream",
     "text": [
      "/project/cper_neon_aop/conda_envs/py_ml_env/lib/python3.9/site-packages/distributed/client.py:3157: UserWarning: Sending large graph of size 25.76 MiB.\n",
      "This may cause some slowdown.\n",
      "Consider scattering data ahead of time and using futures.\n",
      "  warnings.warn(\n",
      "/project/cper_neon_aop/conda_envs/py_ml_env/lib/python3.9/site-packages/distributed/client.py:3157: UserWarning: Sending large graph of size 25.15 MiB.\n",
      "This may cause some slowdown.\n",
      "Consider scattering data ahead of time and using futures.\n",
      "  warnings.warn(\n"
     ]
    },
    {
     "name": "stdout",
     "output_type": "stream",
     "text": [
      "(time to fit: 12.06 secs)\n",
      "....fitting PLS (time to fit: 0.6 secs)\n",
      "....fitting PCR (time to fit: 0.73 secs)\n",
      "....fitting SVR (time to fit: 2.89 secs)\n",
      "....fitting RF (time to fit: 51.87 secs)\n",
      "Skipping GBR, params not set to fit.\n",
      "....fitting HGBR (time to fit: 7.77 secs)\n",
      "Skipping MLP, params not set to fit.\n",
      "Skipping DNN, params not set to fit.\n",
      "8\n",
      "....fitting CPER_2022 (time to fit: 0.02 secs)\n",
      "....fitting OLS_2022 (time to fit: 0.03 secs)\n",
      "....fitting OLS (time to fit: 14.17 secs)\n",
      "....fitting LASSO "
     ]
    },
    {
     "name": "stderr",
     "output_type": "stream",
     "text": [
      "/project/cper_neon_aop/conda_envs/py_ml_env/lib/python3.9/site-packages/distributed/client.py:3157: UserWarning: Sending large graph of size 29.28 MiB.\n",
      "This may cause some slowdown.\n",
      "Consider scattering data ahead of time and using futures.\n",
      "  warnings.warn(\n",
      "/project/cper_neon_aop/conda_envs/py_ml_env/lib/python3.9/site-packages/distributed/client.py:3157: UserWarning: Sending large graph of size 28.59 MiB.\n",
      "This may cause some slowdown.\n",
      "Consider scattering data ahead of time and using futures.\n",
      "  warnings.warn(\n"
     ]
    },
    {
     "name": "stdout",
     "output_type": "stream",
     "text": [
      "(time to fit: 14.44 secs)\n",
      "....fitting PLS (time to fit: 0.8 secs)\n",
      "....fitting PCR (time to fit: 0.73 secs)\n",
      "....fitting SVR "
     ]
    },
    {
     "name": "stderr",
     "output_type": "stream",
     "text": [
      "/project/cper_neon_aop/conda_envs/py_ml_env/lib/python3.9/site-packages/sklearn/svm/_base.py:1237: ConvergenceWarning: Liblinear failed to converge, increase the number of iterations.\n",
      "  warnings.warn(\n"
     ]
    },
    {
     "name": "stdout",
     "output_type": "stream",
     "text": [
      "(time to fit: 4.51 secs)\n",
      "....fitting RF "
     ]
    },
    {
     "name": "stderr",
     "output_type": "stream",
     "text": [
      "/project/cper_neon_aop/conda_envs/py_ml_env/lib/python3.9/site-packages/distributed/client.py:3157: UserWarning: Sending large graph of size 10.13 MiB.\n",
      "This may cause some slowdown.\n",
      "Consider scattering data ahead of time and using futures.\n",
      "  warnings.warn(\n"
     ]
    },
    {
     "name": "stdout",
     "output_type": "stream",
     "text": [
      "(time to fit: 56.27 secs)\n",
      "Skipping GBR, params not set to fit.\n",
      "....fitting HGBR (time to fit: 8.45 secs)\n",
      "Skipping MLP, params not set to fit.\n",
      "Skipping DNN, params not set to fit.\n",
      "9\n",
      "....fitting CPER_2022 (time to fit: 0.02 secs)\n",
      "....fitting OLS_2022 (time to fit: 0.04 secs)\n",
      "....fitting OLS (time to fit: 13.97 secs)\n",
      "....fitting LASSO "
     ]
    },
    {
     "name": "stderr",
     "output_type": "stream",
     "text": [
      "/project/cper_neon_aop/conda_envs/py_ml_env/lib/python3.9/site-packages/distributed/client.py:3157: UserWarning: Sending large graph of size 26.85 MiB.\n",
      "This may cause some slowdown.\n",
      "Consider scattering data ahead of time and using futures.\n",
      "  warnings.warn(\n",
      "/project/cper_neon_aop/conda_envs/py_ml_env/lib/python3.9/site-packages/distributed/client.py:3157: UserWarning: Sending large graph of size 26.21 MiB.\n",
      "This may cause some slowdown.\n",
      "Consider scattering data ahead of time and using futures.\n",
      "  warnings.warn(\n",
      "/project/cper_neon_aop/conda_envs/py_ml_env/lib/python3.9/site-packages/sklearn/linear_model/_coordinate_descent.py:678: ConvergenceWarning: Objective did not converge. You might want to increase the number of iterations, check the scale of the features or consider increasing regularisation. Duality gap: 8.353e+04, tolerance: 7.342e+01\n",
      "  model = cd_fast.enet_coordinate_descent(\n"
     ]
    },
    {
     "name": "stdout",
     "output_type": "stream",
     "text": [
      "(time to fit: 18.7 secs)\n",
      "....fitting PLS (time to fit: 0.54 secs)\n",
      "....fitting PCR (time to fit: 0.71 secs)\n",
      "....fitting SVR "
     ]
    },
    {
     "name": "stderr",
     "output_type": "stream",
     "text": [
      "/project/cper_neon_aop/conda_envs/py_ml_env/lib/python3.9/site-packages/sklearn/svm/_base.py:1237: ConvergenceWarning: Liblinear failed to converge, increase the number of iterations.\n",
      "  warnings.warn(\n"
     ]
    },
    {
     "name": "stdout",
     "output_type": "stream",
     "text": [
      "(time to fit: 4.02 secs)\n",
      "....fitting RF "
     ]
    },
    {
     "name": "stderr",
     "output_type": "stream",
     "text": [
      "/project/cper_neon_aop/conda_envs/py_ml_env/lib/python3.9/site-packages/distributed/client.py:3157: UserWarning: Sending large graph of size 13.73 MiB.\n",
      "This may cause some slowdown.\n",
      "Consider scattering data ahead of time and using futures.\n",
      "  warnings.warn(\n"
     ]
    },
    {
     "name": "stdout",
     "output_type": "stream",
     "text": [
      "(time to fit: 52.74 secs)\n",
      "Skipping GBR, params not set to fit.\n",
      "....fitting HGBR (time to fit: 8.02 secs)\n",
      "Skipping MLP, params not set to fit.\n",
      "Skipping DNN, params not set to fit.\n",
      "Running using Kmeans clusters resampled with random distance factor of 99\n",
      "0\n",
      "....fitting CPER_2022 (time to fit: 0.02 secs)\n",
      "....fitting OLS_2022 (time to fit: 0.03 secs)\n",
      "....fitting OLS "
     ]
    },
    {
     "name": "stderr",
     "output_type": "stream",
     "text": [
      "/project/cper_neon_aop/hls_nrt/fit/ml_setup.py:585: FutureWarning: The behavior of DataFrame concatenation with empty or all-NA entries is deprecated. In a future version, this will no longer exclude empty or all-NA columns when determining the result dtypes. To retain the old behavior, exclude the relevant entries before the concat operation.\n",
      "  mod_dict[k]['formula_df'] = pd.concat([mod_dict[k]['formula_df'], pd.concat(df_results[0])])\n"
     ]
    },
    {
     "name": "stdout",
     "output_type": "stream",
     "text": [
      "(time to fit: 13.58 secs)\n",
      "....fitting LASSO "
     ]
    },
    {
     "name": "stderr",
     "output_type": "stream",
     "text": [
      "/project/cper_neon_aop/conda_envs/py_ml_env/lib/python3.9/site-packages/distributed/client.py:3157: UserWarning: Sending large graph of size 27.74 MiB.\n",
      "This may cause some slowdown.\n",
      "Consider scattering data ahead of time and using futures.\n",
      "  warnings.warn(\n",
      "/project/cper_neon_aop/conda_envs/py_ml_env/lib/python3.9/site-packages/distributed/client.py:3157: UserWarning: Sending large graph of size 27.10 MiB.\n",
      "This may cause some slowdown.\n",
      "Consider scattering data ahead of time and using futures.\n",
      "  warnings.warn(\n",
      "/project/cper_neon_aop/conda_envs/py_ml_env/lib/python3.9/site-packages/sklearn/linear_model/_coordinate_descent.py:678: ConvergenceWarning: Objective did not converge. You might want to increase the number of iterations, check the scale of the features or consider increasing regularisation. Duality gap: 8.570e+04, tolerance: 7.285e+01\n",
      "  model = cd_fast.enet_coordinate_descent(\n",
      "/project/cper_neon_aop/hls_nrt/fit/ml_setup.py:671: FutureWarning: The behavior of DataFrame concatenation with empty or all-NA entries is deprecated. In a future version, this will no longer exclude empty or all-NA columns when determining the result dtypes. To retain the old behavior, exclude the relevant entries before the concat operation.\n",
      "  mod_dict[k]['variable_df'] = pd.concat([mod_dict[k]['variable_df'],\n"
     ]
    },
    {
     "name": "stdout",
     "output_type": "stream",
     "text": [
      "(time to fit: 19.34 secs)\n",
      "....fitting PLS "
     ]
    },
    {
     "name": "stderr",
     "output_type": "stream",
     "text": [
      "/project/cper_neon_aop/hls_nrt/fit/ml_setup.py:692: FutureWarning: The behavior of DataFrame concatenation with empty or all-NA entries is deprecated. In a future version, this will no longer exclude empty or all-NA columns when determining the result dtypes. To retain the old behavior, exclude the relevant entries before the concat operation.\n",
      "  mod_dict[k]['variable_df'] = pd.concat([mod_dict[k]['variable_df'],\n"
     ]
    },
    {
     "name": "stdout",
     "output_type": "stream",
     "text": [
      "(time to fit: 0.6 secs)\n",
      "....fitting PCR "
     ]
    },
    {
     "name": "stderr",
     "output_type": "stream",
     "text": [
      "/project/cper_neon_aop/hls_nrt/fit/ml_setup.py:703: FutureWarning: The behavior of DataFrame concatenation with empty or all-NA entries is deprecated. In a future version, this will no longer exclude empty or all-NA columns when determining the result dtypes. To retain the old behavior, exclude the relevant entries before the concat operation.\n",
      "  mod_dict[k]['variable_df'] = pd.concat([mod_dict[k]['variable_df'],\n"
     ]
    },
    {
     "name": "stdout",
     "output_type": "stream",
     "text": [
      "(time to fit: 0.73 secs)\n",
      "....fitting SVR "
     ]
    },
    {
     "name": "stderr",
     "output_type": "stream",
     "text": [
      "/project/cper_neon_aop/conda_envs/py_ml_env/lib/python3.9/site-packages/sklearn/svm/_base.py:1237: ConvergenceWarning: Liblinear failed to converge, increase the number of iterations.\n",
      "  warnings.warn(\n",
      "/project/cper_neon_aop/hls_nrt/fit/ml_setup.py:708: FutureWarning: The behavior of DataFrame concatenation with empty or all-NA entries is deprecated. In a future version, this will no longer exclude empty or all-NA columns when determining the result dtypes. To retain the old behavior, exclude the relevant entries before the concat operation.\n",
      "  mod_dict[k]['variable_df'] = pd.concat([mod_dict[k]['variable_df'],\n"
     ]
    },
    {
     "name": "stdout",
     "output_type": "stream",
     "text": [
      "(time to fit: 4.18 secs)\n",
      "....fitting RF "
     ]
    },
    {
     "name": "stderr",
     "output_type": "stream",
     "text": [
      "/project/cper_neon_aop/hls_nrt/fit/ml_setup.py:714: FutureWarning: The behavior of DataFrame concatenation with empty or all-NA entries is deprecated. In a future version, this will no longer exclude empty or all-NA columns when determining the result dtypes. To retain the old behavior, exclude the relevant entries before the concat operation.\n",
      "  mod_dict[k]['variable_df'] = pd.concat([mod_dict[k]['variable_df'],\n"
     ]
    },
    {
     "name": "stdout",
     "output_type": "stream",
     "text": [
      "(time to fit: 53.9 secs)\n",
      "Skipping GBR, params not set to fit.\n",
      "....fitting HGBR (time to fit: 8.47 secs)\n",
      "Skipping MLP, params not set to fit.\n",
      "Skipping DNN, params not set to fit.\n",
      "1\n",
      "....fitting CPER_2022 (time to fit: 0.02 secs)\n",
      "....fitting OLS_2022 (time to fit: 0.03 secs)\n",
      "....fitting OLS (time to fit: 14.25 secs)\n",
      "....fitting LASSO "
     ]
    },
    {
     "name": "stderr",
     "output_type": "stream",
     "text": [
      "/project/cper_neon_aop/conda_envs/py_ml_env/lib/python3.9/site-packages/distributed/client.py:3157: UserWarning: Sending large graph of size 27.73 MiB.\n",
      "This may cause some slowdown.\n",
      "Consider scattering data ahead of time and using futures.\n",
      "  warnings.warn(\n",
      "/project/cper_neon_aop/conda_envs/py_ml_env/lib/python3.9/site-packages/distributed/client.py:3157: UserWarning: Sending large graph of size 27.07 MiB.\n",
      "This may cause some slowdown.\n",
      "Consider scattering data ahead of time and using futures.\n",
      "  warnings.warn(\n",
      "/project/cper_neon_aop/conda_envs/py_ml_env/lib/python3.9/site-packages/sklearn/linear_model/_coordinate_descent.py:678: ConvergenceWarning: Objective did not converge. You might want to increase the number of iterations, check the scale of the features or consider increasing regularisation. Duality gap: 8.944e+04, tolerance: 6.927e+01\n",
      "  model = cd_fast.enet_coordinate_descent(\n"
     ]
    },
    {
     "name": "stdout",
     "output_type": "stream",
     "text": [
      "(time to fit: 18.79 secs)\n",
      "....fitting PLS (time to fit: 0.56 secs)\n",
      "....fitting PCR (time to fit: 1.28 secs)\n",
      "....fitting SVR (time to fit: 2.76 secs)\n",
      "....fitting RF "
     ]
    },
    {
     "name": "stderr",
     "output_type": "stream",
     "text": [
      "/project/cper_neon_aop/conda_envs/py_ml_env/lib/python3.9/site-packages/distributed/client.py:3157: UserWarning: Sending large graph of size 18.03 MiB.\n",
      "This may cause some slowdown.\n",
      "Consider scattering data ahead of time and using futures.\n",
      "  warnings.warn(\n"
     ]
    },
    {
     "name": "stdout",
     "output_type": "stream",
     "text": [
      "(time to fit: 56.17 secs)\n",
      "Skipping GBR, params not set to fit.\n",
      "....fitting HGBR (time to fit: 8.04 secs)\n",
      "Skipping MLP, params not set to fit.\n",
      "Skipping DNN, params not set to fit.\n",
      "2\n",
      "....fitting CPER_2022 (time to fit: 0.02 secs)\n",
      "....fitting OLS_2022 (time to fit: 0.04 secs)\n",
      "....fitting OLS (time to fit: 14.22 secs)\n",
      "....fitting LASSO "
     ]
    },
    {
     "name": "stderr",
     "output_type": "stream",
     "text": [
      "/project/cper_neon_aop/conda_envs/py_ml_env/lib/python3.9/site-packages/distributed/client.py:3157: UserWarning: Sending large graph of size 27.75 MiB.\n",
      "This may cause some slowdown.\n",
      "Consider scattering data ahead of time and using futures.\n",
      "  warnings.warn(\n",
      "/project/cper_neon_aop/conda_envs/py_ml_env/lib/python3.9/site-packages/distributed/client.py:3157: UserWarning: Sending large graph of size 27.10 MiB.\n",
      "This may cause some slowdown.\n",
      "Consider scattering data ahead of time and using futures.\n",
      "  warnings.warn(\n",
      "/project/cper_neon_aop/conda_envs/py_ml_env/lib/python3.9/site-packages/sklearn/linear_model/_coordinate_descent.py:678: ConvergenceWarning: Objective did not converge. You might want to increase the number of iterations, check the scale of the features or consider increasing regularisation. Duality gap: 8.762e+04, tolerance: 7.362e+01\n",
      "  model = cd_fast.enet_coordinate_descent(\n"
     ]
    },
    {
     "name": "stdout",
     "output_type": "stream",
     "text": [
      "(time to fit: 18.88 secs)\n",
      "....fitting PLS (time to fit: 0.64 secs)\n",
      "....fitting PCR (time to fit: 0.77 secs)\n",
      "....fitting SVR (time to fit: 2.57 secs)\n",
      "....fitting RF "
     ]
    },
    {
     "name": "stderr",
     "output_type": "stream",
     "text": [
      "/project/cper_neon_aop/conda_envs/py_ml_env/lib/python3.9/site-packages/distributed/client.py:3157: UserWarning: Sending large graph of size 19.94 MiB.\n",
      "This may cause some slowdown.\n",
      "Consider scattering data ahead of time and using futures.\n",
      "  warnings.warn(\n"
     ]
    },
    {
     "name": "stdout",
     "output_type": "stream",
     "text": [
      "(time to fit: 57.56 secs)\n",
      "Skipping GBR, params not set to fit.\n",
      "....fitting HGBR (time to fit: 8.46 secs)\n",
      "Skipping MLP, params not set to fit.\n",
      "Skipping DNN, params not set to fit.\n",
      "3\n",
      "....fitting CPER_2022 (time to fit: 0.02 secs)\n",
      "....fitting OLS_2022 (time to fit: 0.03 secs)\n",
      "....fitting OLS (time to fit: 14.15 secs)\n",
      "....fitting LASSO "
     ]
    },
    {
     "name": "stderr",
     "output_type": "stream",
     "text": [
      "/project/cper_neon_aop/conda_envs/py_ml_env/lib/python3.9/site-packages/distributed/client.py:3157: UserWarning: Sending large graph of size 27.75 MiB.\n",
      "This may cause some slowdown.\n",
      "Consider scattering data ahead of time and using futures.\n",
      "  warnings.warn(\n",
      "/project/cper_neon_aop/conda_envs/py_ml_env/lib/python3.9/site-packages/distributed/client.py:3157: UserWarning: Sending large graph of size 27.10 MiB.\n",
      "This may cause some slowdown.\n",
      "Consider scattering data ahead of time and using futures.\n",
      "  warnings.warn(\n",
      "/project/cper_neon_aop/conda_envs/py_ml_env/lib/python3.9/site-packages/sklearn/linear_model/_coordinate_descent.py:678: ConvergenceWarning: Objective did not converge. You might want to increase the number of iterations, check the scale of the features or consider increasing regularisation. Duality gap: 8.673e+04, tolerance: 7.439e+01\n",
      "  model = cd_fast.enet_coordinate_descent(\n"
     ]
    },
    {
     "name": "stdout",
     "output_type": "stream",
     "text": [
      "(time to fit: 18.91 secs)\n",
      "....fitting PLS (time to fit: 0.6 secs)\n",
      "....fitting PCR (time to fit: 0.82 secs)\n",
      "....fitting SVR "
     ]
    },
    {
     "name": "stderr",
     "output_type": "stream",
     "text": [
      "/project/cper_neon_aop/conda_envs/py_ml_env/lib/python3.9/site-packages/sklearn/svm/_base.py:1237: ConvergenceWarning: Liblinear failed to converge, increase the number of iterations.\n",
      "  warnings.warn(\n"
     ]
    },
    {
     "name": "stdout",
     "output_type": "stream",
     "text": [
      "(time to fit: 4.03 secs)\n",
      "....fitting RF "
     ]
    },
    {
     "name": "stderr",
     "output_type": "stream",
     "text": [
      "/project/cper_neon_aop/conda_envs/py_ml_env/lib/python3.9/site-packages/distributed/client.py:3157: UserWarning: Sending large graph of size 19.80 MiB.\n",
      "This may cause some slowdown.\n",
      "Consider scattering data ahead of time and using futures.\n",
      "  warnings.warn(\n"
     ]
    },
    {
     "name": "stdout",
     "output_type": "stream",
     "text": [
      "(time to fit: 56.55 secs)\n",
      "Skipping GBR, params not set to fit.\n",
      "....fitting HGBR (time to fit: 8.13 secs)\n",
      "Skipping MLP, params not set to fit.\n",
      "Skipping DNN, params not set to fit.\n",
      "4\n",
      "....fitting CPER_2022 (time to fit: 0.02 secs)\n",
      "....fitting OLS_2022 (time to fit: 0.04 secs)\n",
      "....fitting OLS (time to fit: 14.11 secs)\n",
      "....fitting LASSO "
     ]
    },
    {
     "name": "stderr",
     "output_type": "stream",
     "text": [
      "/project/cper_neon_aop/conda_envs/py_ml_env/lib/python3.9/site-packages/distributed/client.py:3157: UserWarning: Sending large graph of size 27.75 MiB.\n",
      "This may cause some slowdown.\n",
      "Consider scattering data ahead of time and using futures.\n",
      "  warnings.warn(\n",
      "/project/cper_neon_aop/conda_envs/py_ml_env/lib/python3.9/site-packages/distributed/client.py:3157: UserWarning: Sending large graph of size 27.10 MiB.\n",
      "This may cause some slowdown.\n",
      "Consider scattering data ahead of time and using futures.\n",
      "  warnings.warn(\n",
      "/project/cper_neon_aop/conda_envs/py_ml_env/lib/python3.9/site-packages/sklearn/linear_model/_coordinate_descent.py:678: ConvergenceWarning: Objective did not converge. You might want to increase the number of iterations, check the scale of the features or consider increasing regularisation. Duality gap: 5.896e+04, tolerance: 7.323e+01\n",
      "  model = cd_fast.enet_coordinate_descent(\n"
     ]
    },
    {
     "name": "stdout",
     "output_type": "stream",
     "text": [
      "(time to fit: 17.83 secs)\n",
      "....fitting PLS (time to fit: 1.08 secs)\n",
      "....fitting PCR (time to fit: 0.94 secs)\n",
      "....fitting SVR "
     ]
    },
    {
     "name": "stderr",
     "output_type": "stream",
     "text": [
      "/project/cper_neon_aop/conda_envs/py_ml_env/lib/python3.9/site-packages/sklearn/svm/_base.py:1237: ConvergenceWarning: Liblinear failed to converge, increase the number of iterations.\n",
      "  warnings.warn(\n"
     ]
    },
    {
     "name": "stdout",
     "output_type": "stream",
     "text": [
      "(time to fit: 4.1 secs)\n",
      "....fitting RF "
     ]
    },
    {
     "name": "stderr",
     "output_type": "stream",
     "text": [
      "/project/cper_neon_aop/conda_envs/py_ml_env/lib/python3.9/site-packages/distributed/client.py:3157: UserWarning: Sending large graph of size 17.88 MiB.\n",
      "This may cause some slowdown.\n",
      "Consider scattering data ahead of time and using futures.\n",
      "  warnings.warn(\n"
     ]
    },
    {
     "name": "stdout",
     "output_type": "stream",
     "text": [
      "(time to fit: 52.14 secs)\n",
      "Skipping GBR, params not set to fit.\n",
      "....fitting HGBR (time to fit: 8.21 secs)\n",
      "Skipping MLP, params not set to fit.\n",
      "Skipping DNN, params not set to fit.\n",
      "5\n",
      "....fitting CPER_2022 (time to fit: 0.02 secs)\n",
      "....fitting OLS_2022 (time to fit: 0.03 secs)\n",
      "....fitting OLS (time to fit: 14.09 secs)\n",
      "....fitting LASSO "
     ]
    },
    {
     "name": "stderr",
     "output_type": "stream",
     "text": [
      "/project/cper_neon_aop/conda_envs/py_ml_env/lib/python3.9/site-packages/distributed/client.py:3157: UserWarning: Sending large graph of size 27.75 MiB.\n",
      "This may cause some slowdown.\n",
      "Consider scattering data ahead of time and using futures.\n",
      "  warnings.warn(\n",
      "/project/cper_neon_aop/conda_envs/py_ml_env/lib/python3.9/site-packages/distributed/client.py:3157: UserWarning: Sending large graph of size 27.10 MiB.\n",
      "This may cause some slowdown.\n",
      "Consider scattering data ahead of time and using futures.\n",
      "  warnings.warn(\n",
      "/project/cper_neon_aop/conda_envs/py_ml_env/lib/python3.9/site-packages/sklearn/linear_model/_coordinate_descent.py:678: ConvergenceWarning: Objective did not converge. You might want to increase the number of iterations, check the scale of the features or consider increasing regularisation. Duality gap: 8.545e+04, tolerance: 6.112e+01\n",
      "  model = cd_fast.enet_coordinate_descent(\n"
     ]
    },
    {
     "name": "stdout",
     "output_type": "stream",
     "text": [
      "(time to fit: 19.46 secs)\n",
      "....fitting PLS (time to fit: 0.6 secs)\n",
      "....fitting PCR (time to fit: 0.72 secs)\n",
      "....fitting SVR "
     ]
    },
    {
     "name": "stderr",
     "output_type": "stream",
     "text": [
      "/project/cper_neon_aop/conda_envs/py_ml_env/lib/python3.9/site-packages/sklearn/svm/_base.py:1237: ConvergenceWarning: Liblinear failed to converge, increase the number of iterations.\n",
      "  warnings.warn(\n"
     ]
    },
    {
     "name": "stdout",
     "output_type": "stream",
     "text": [
      "(time to fit: 4.92 secs)\n",
      "....fitting RF "
     ]
    },
    {
     "name": "stderr",
     "output_type": "stream",
     "text": [
      "/project/cper_neon_aop/conda_envs/py_ml_env/lib/python3.9/site-packages/distributed/client.py:3157: UserWarning: Sending large graph of size 19.93 MiB.\n",
      "This may cause some slowdown.\n",
      "Consider scattering data ahead of time and using futures.\n",
      "  warnings.warn(\n"
     ]
    },
    {
     "name": "stdout",
     "output_type": "stream",
     "text": [
      "(time to fit: 55.48 secs)\n",
      "Skipping GBR, params not set to fit.\n",
      "....fitting HGBR (time to fit: 7.96 secs)\n",
      "Skipping MLP, params not set to fit.\n",
      "Skipping DNN, params not set to fit.\n",
      "6\n",
      "....fitting CPER_2022 (time to fit: 0.02 secs)\n",
      "....fitting OLS_2022 (time to fit: 0.03 secs)\n",
      "....fitting OLS (time to fit: 13.94 secs)\n",
      "....fitting LASSO "
     ]
    },
    {
     "name": "stderr",
     "output_type": "stream",
     "text": [
      "/project/cper_neon_aop/conda_envs/py_ml_env/lib/python3.9/site-packages/distributed/client.py:3157: UserWarning: Sending large graph of size 27.75 MiB.\n",
      "This may cause some slowdown.\n",
      "Consider scattering data ahead of time and using futures.\n",
      "  warnings.warn(\n",
      "/project/cper_neon_aop/conda_envs/py_ml_env/lib/python3.9/site-packages/distributed/client.py:3157: UserWarning: Sending large graph of size 27.10 MiB.\n",
      "This may cause some slowdown.\n",
      "Consider scattering data ahead of time and using futures.\n",
      "  warnings.warn(\n",
      "/project/cper_neon_aop/conda_envs/py_ml_env/lib/python3.9/site-packages/sklearn/linear_model/_coordinate_descent.py:678: ConvergenceWarning: Objective did not converge. You might want to increase the number of iterations, check the scale of the features or consider increasing regularisation. Duality gap: 8.310e+04, tolerance: 6.583e+01\n",
      "  model = cd_fast.enet_coordinate_descent(\n"
     ]
    },
    {
     "name": "stdout",
     "output_type": "stream",
     "text": [
      "(time to fit: 18.4 secs)\n",
      "....fitting PLS (time to fit: 0.72 secs)\n",
      "....fitting PCR (time to fit: 0.74 secs)\n",
      "....fitting SVR "
     ]
    },
    {
     "name": "stderr",
     "output_type": "stream",
     "text": [
      "/project/cper_neon_aop/conda_envs/py_ml_env/lib/python3.9/site-packages/sklearn/svm/_base.py:1237: ConvergenceWarning: Liblinear failed to converge, increase the number of iterations.\n",
      "  warnings.warn(\n"
     ]
    },
    {
     "name": "stdout",
     "output_type": "stream",
     "text": [
      "(time to fit: 4.2 secs)\n",
      "....fitting RF "
     ]
    },
    {
     "name": "stderr",
     "output_type": "stream",
     "text": [
      "/project/cper_neon_aop/conda_envs/py_ml_env/lib/python3.9/site-packages/distributed/client.py:3157: UserWarning: Sending large graph of size 19.91 MiB.\n",
      "This may cause some slowdown.\n",
      "Consider scattering data ahead of time and using futures.\n",
      "  warnings.warn(\n"
     ]
    },
    {
     "name": "stdout",
     "output_type": "stream",
     "text": [
      "(time to fit: 53.05 secs)\n",
      "Skipping GBR, params not set to fit.\n",
      "....fitting HGBR (time to fit: 8.14 secs)\n",
      "Skipping MLP, params not set to fit.\n",
      "Skipping DNN, params not set to fit.\n",
      "7\n",
      "....fitting CPER_2022 (time to fit: 0.02 secs)\n",
      "....fitting OLS_2022 (time to fit: 0.03 secs)\n",
      "....fitting OLS (time to fit: 14.14 secs)\n",
      "....fitting LASSO "
     ]
    },
    {
     "name": "stderr",
     "output_type": "stream",
     "text": [
      "/project/cper_neon_aop/conda_envs/py_ml_env/lib/python3.9/site-packages/distributed/client.py:3157: UserWarning: Sending large graph of size 27.75 MiB.\n",
      "This may cause some slowdown.\n",
      "Consider scattering data ahead of time and using futures.\n",
      "  warnings.warn(\n",
      "/project/cper_neon_aop/conda_envs/py_ml_env/lib/python3.9/site-packages/distributed/client.py:3157: UserWarning: Sending large graph of size 27.10 MiB.\n",
      "This may cause some slowdown.\n",
      "Consider scattering data ahead of time and using futures.\n",
      "  warnings.warn(\n",
      "/project/cper_neon_aop/conda_envs/py_ml_env/lib/python3.9/site-packages/sklearn/linear_model/_coordinate_descent.py:678: ConvergenceWarning: Objective did not converge. You might want to increase the number of iterations, check the scale of the features or consider increasing regularisation. Duality gap: 8.811e+04, tolerance: 6.965e+01\n",
      "  model = cd_fast.enet_coordinate_descent(\n"
     ]
    },
    {
     "name": "stdout",
     "output_type": "stream",
     "text": [
      "(time to fit: 18.27 secs)\n",
      "....fitting PLS (time to fit: 0.58 secs)\n",
      "....fitting PCR (time to fit: 0.79 secs)\n",
      "....fitting SVR "
     ]
    },
    {
     "name": "stderr",
     "output_type": "stream",
     "text": [
      "/project/cper_neon_aop/conda_envs/py_ml_env/lib/python3.9/site-packages/sklearn/svm/_base.py:1237: ConvergenceWarning: Liblinear failed to converge, increase the number of iterations.\n",
      "  warnings.warn(\n"
     ]
    },
    {
     "name": "stdout",
     "output_type": "stream",
     "text": [
      "(time to fit: 4.11 secs)\n",
      "....fitting RF "
     ]
    },
    {
     "name": "stderr",
     "output_type": "stream",
     "text": [
      "/project/cper_neon_aop/conda_envs/py_ml_env/lib/python3.9/site-packages/distributed/client.py:3157: UserWarning: Sending large graph of size 18.03 MiB.\n",
      "This may cause some slowdown.\n",
      "Consider scattering data ahead of time and using futures.\n",
      "  warnings.warn(\n"
     ]
    },
    {
     "name": "stdout",
     "output_type": "stream",
     "text": [
      "(time to fit: 58.56 secs)\n",
      "Skipping GBR, params not set to fit.\n",
      "....fitting HGBR (time to fit: 7.83 secs)\n",
      "Skipping MLP, params not set to fit.\n",
      "Skipping DNN, params not set to fit.\n",
      "8\n",
      "....fitting CPER_2022 (time to fit: 0.02 secs)\n",
      "....fitting OLS_2022 (time to fit: 0.03 secs)\n",
      "....fitting OLS (time to fit: 14.02 secs)\n",
      "....fitting LASSO "
     ]
    },
    {
     "name": "stderr",
     "output_type": "stream",
     "text": [
      "/project/cper_neon_aop/conda_envs/py_ml_env/lib/python3.9/site-packages/distributed/client.py:3157: UserWarning: Sending large graph of size 27.75 MiB.\n",
      "This may cause some slowdown.\n",
      "Consider scattering data ahead of time and using futures.\n",
      "  warnings.warn(\n",
      "/project/cper_neon_aop/conda_envs/py_ml_env/lib/python3.9/site-packages/distributed/client.py:3157: UserWarning: Sending large graph of size 27.10 MiB.\n",
      "This may cause some slowdown.\n",
      "Consider scattering data ahead of time and using futures.\n",
      "  warnings.warn(\n",
      "/project/cper_neon_aop/conda_envs/py_ml_env/lib/python3.9/site-packages/sklearn/linear_model/_coordinate_descent.py:678: ConvergenceWarning: Objective did not converge. You might want to increase the number of iterations, check the scale of the features or consider increasing regularisation. Duality gap: 6.195e+04, tolerance: 5.229e+01\n",
      "  model = cd_fast.enet_coordinate_descent(\n"
     ]
    },
    {
     "name": "stdout",
     "output_type": "stream",
     "text": [
      "(time to fit: 17.76 secs)\n",
      "....fitting PLS (time to fit: 1.14 secs)\n",
      "....fitting PCR (time to fit: 0.76 secs)\n",
      "....fitting SVR "
     ]
    },
    {
     "name": "stderr",
     "output_type": "stream",
     "text": [
      "/project/cper_neon_aop/conda_envs/py_ml_env/lib/python3.9/site-packages/sklearn/svm/_base.py:1237: ConvergenceWarning: Liblinear failed to converge, increase the number of iterations.\n",
      "  warnings.warn(\n"
     ]
    },
    {
     "name": "stdout",
     "output_type": "stream",
     "text": [
      "(time to fit: 3.38 secs)\n",
      "....fitting RF "
     ]
    },
    {
     "name": "stderr",
     "output_type": "stream",
     "text": [
      "/project/cper_neon_aop/conda_envs/py_ml_env/lib/python3.9/site-packages/distributed/client.py:3157: UserWarning: Sending large graph of size 17.91 MiB.\n",
      "This may cause some slowdown.\n",
      "Consider scattering data ahead of time and using futures.\n",
      "  warnings.warn(\n"
     ]
    },
    {
     "name": "stdout",
     "output_type": "stream",
     "text": [
      "(time to fit: 54.86 secs)\n",
      "Skipping GBR, params not set to fit.\n",
      "....fitting HGBR (time to fit: 8.41 secs)\n",
      "Skipping MLP, params not set to fit.\n",
      "Skipping DNN, params not set to fit.\n",
      "9\n",
      "....fitting CPER_2022 (time to fit: 0.02 secs)\n",
      "....fitting OLS_2022 (time to fit: 0.04 secs)\n",
      "....fitting OLS (time to fit: 14.03 secs)\n",
      "....fitting LASSO "
     ]
    },
    {
     "name": "stderr",
     "output_type": "stream",
     "text": [
      "/project/cper_neon_aop/conda_envs/py_ml_env/lib/python3.9/site-packages/distributed/client.py:3157: UserWarning: Sending large graph of size 27.75 MiB.\n",
      "This may cause some slowdown.\n",
      "Consider scattering data ahead of time and using futures.\n",
      "  warnings.warn(\n",
      "/project/cper_neon_aop/conda_envs/py_ml_env/lib/python3.9/site-packages/distributed/client.py:3157: UserWarning: Sending large graph of size 27.10 MiB.\n",
      "This may cause some slowdown.\n",
      "Consider scattering data ahead of time and using futures.\n",
      "  warnings.warn(\n",
      "/project/cper_neon_aop/conda_envs/py_ml_env/lib/python3.9/site-packages/sklearn/linear_model/_coordinate_descent.py:678: ConvergenceWarning: Objective did not converge. You might want to increase the number of iterations, check the scale of the features or consider increasing regularisation. Duality gap: 8.504e+04, tolerance: 7.411e+01\n",
      "  model = cd_fast.enet_coordinate_descent(\n"
     ]
    },
    {
     "name": "stdout",
     "output_type": "stream",
     "text": [
      "(time to fit: 19.4 secs)\n",
      "....fitting PLS (time to fit: 0.67 secs)\n",
      "....fitting PCR (time to fit: 0.81 secs)\n",
      "....fitting SVR "
     ]
    },
    {
     "name": "stderr",
     "output_type": "stream",
     "text": [
      "/project/cper_neon_aop/conda_envs/py_ml_env/lib/python3.9/site-packages/sklearn/svm/_base.py:1237: ConvergenceWarning: Liblinear failed to converge, increase the number of iterations.\n",
      "  warnings.warn(\n"
     ]
    },
    {
     "name": "stdout",
     "output_type": "stream",
     "text": [
      "(time to fit: 4.19 secs)\n",
      "....fitting RF "
     ]
    },
    {
     "name": "stderr",
     "output_type": "stream",
     "text": [
      "/project/cper_neon_aop/conda_envs/py_ml_env/lib/python3.9/site-packages/distributed/client.py:3157: UserWarning: Sending large graph of size 18.12 MiB.\n",
      "This may cause some slowdown.\n",
      "Consider scattering data ahead of time and using futures.\n",
      "  warnings.warn(\n"
     ]
    },
    {
     "name": "stdout",
     "output_type": "stream",
     "text": [
      "(time to fit: 55.4 secs)\n",
      "Skipping GBR, params not set to fit.\n",
      "....fitting HGBR (time to fit: 8.29 secs)\n",
      "Skipping MLP, params not set to fit.\n",
      "Skipping DNN, params not set to fit.\n",
      "Running using Kmeans clusters resampled with random distance factor of 95\n",
      "0\n",
      "....fitting CPER_2022 (time to fit: 0.02 secs)\n",
      "....fitting OLS_2022 (time to fit: 0.04 secs)\n",
      "....fitting OLS "
     ]
    },
    {
     "name": "stderr",
     "output_type": "stream",
     "text": [
      "/project/cper_neon_aop/hls_nrt/fit/ml_setup.py:585: FutureWarning: The behavior of DataFrame concatenation with empty or all-NA entries is deprecated. In a future version, this will no longer exclude empty or all-NA columns when determining the result dtypes. To retain the old behavior, exclude the relevant entries before the concat operation.\n",
      "  mod_dict[k]['formula_df'] = pd.concat([mod_dict[k]['formula_df'], pd.concat(df_results[0])])\n"
     ]
    },
    {
     "name": "stdout",
     "output_type": "stream",
     "text": [
      "(time to fit: 13.87 secs)\n",
      "....fitting LASSO "
     ]
    },
    {
     "name": "stderr",
     "output_type": "stream",
     "text": [
      "/project/cper_neon_aop/conda_envs/py_ml_env/lib/python3.9/site-packages/distributed/client.py:3157: UserWarning: Sending large graph of size 27.74 MiB.\n",
      "This may cause some slowdown.\n",
      "Consider scattering data ahead of time and using futures.\n",
      "  warnings.warn(\n",
      "/project/cper_neon_aop/conda_envs/py_ml_env/lib/python3.9/site-packages/distributed/client.py:3157: UserWarning: Sending large graph of size 27.10 MiB.\n",
      "This may cause some slowdown.\n",
      "Consider scattering data ahead of time and using futures.\n",
      "  warnings.warn(\n",
      "/project/cper_neon_aop/conda_envs/py_ml_env/lib/python3.9/site-packages/sklearn/linear_model/_coordinate_descent.py:678: ConvergenceWarning: Objective did not converge. You might want to increase the number of iterations, check the scale of the features or consider increasing regularisation. Duality gap: 8.458e+04, tolerance: 7.193e+01\n",
      "  model = cd_fast.enet_coordinate_descent(\n",
      "/project/cper_neon_aop/hls_nrt/fit/ml_setup.py:671: FutureWarning: The behavior of DataFrame concatenation with empty or all-NA entries is deprecated. In a future version, this will no longer exclude empty or all-NA columns when determining the result dtypes. To retain the old behavior, exclude the relevant entries before the concat operation.\n",
      "  mod_dict[k]['variable_df'] = pd.concat([mod_dict[k]['variable_df'],\n"
     ]
    },
    {
     "name": "stdout",
     "output_type": "stream",
     "text": [
      "(time to fit: 19.43 secs)\n",
      "....fitting PLS "
     ]
    },
    {
     "name": "stderr",
     "output_type": "stream",
     "text": [
      "/project/cper_neon_aop/hls_nrt/fit/ml_setup.py:692: FutureWarning: The behavior of DataFrame concatenation with empty or all-NA entries is deprecated. In a future version, this will no longer exclude empty or all-NA columns when determining the result dtypes. To retain the old behavior, exclude the relevant entries before the concat operation.\n",
      "  mod_dict[k]['variable_df'] = pd.concat([mod_dict[k]['variable_df'],\n"
     ]
    },
    {
     "name": "stdout",
     "output_type": "stream",
     "text": [
      "(time to fit: 0.56 secs)\n",
      "....fitting PCR "
     ]
    },
    {
     "name": "stderr",
     "output_type": "stream",
     "text": [
      "/project/cper_neon_aop/hls_nrt/fit/ml_setup.py:703: FutureWarning: The behavior of DataFrame concatenation with empty or all-NA entries is deprecated. In a future version, this will no longer exclude empty or all-NA columns when determining the result dtypes. To retain the old behavior, exclude the relevant entries before the concat operation.\n",
      "  mod_dict[k]['variable_df'] = pd.concat([mod_dict[k]['variable_df'],\n"
     ]
    },
    {
     "name": "stdout",
     "output_type": "stream",
     "text": [
      "(time to fit: 0.76 secs)\n",
      "....fitting SVR "
     ]
    },
    {
     "name": "stderr",
     "output_type": "stream",
     "text": [
      "/project/cper_neon_aop/conda_envs/py_ml_env/lib/python3.9/site-packages/sklearn/svm/_base.py:1237: ConvergenceWarning: Liblinear failed to converge, increase the number of iterations.\n",
      "  warnings.warn(\n",
      "/project/cper_neon_aop/hls_nrt/fit/ml_setup.py:708: FutureWarning: The behavior of DataFrame concatenation with empty or all-NA entries is deprecated. In a future version, this will no longer exclude empty or all-NA columns when determining the result dtypes. To retain the old behavior, exclude the relevant entries before the concat operation.\n",
      "  mod_dict[k]['variable_df'] = pd.concat([mod_dict[k]['variable_df'],\n"
     ]
    },
    {
     "name": "stdout",
     "output_type": "stream",
     "text": [
      "(time to fit: 4.11 secs)\n",
      "....fitting RF "
     ]
    },
    {
     "name": "stderr",
     "output_type": "stream",
     "text": [
      "/project/cper_neon_aop/hls_nrt/fit/ml_setup.py:714: FutureWarning: The behavior of DataFrame concatenation with empty or all-NA entries is deprecated. In a future version, this will no longer exclude empty or all-NA columns when determining the result dtypes. To retain the old behavior, exclude the relevant entries before the concat operation.\n",
      "  mod_dict[k]['variable_df'] = pd.concat([mod_dict[k]['variable_df'],\n"
     ]
    },
    {
     "name": "stdout",
     "output_type": "stream",
     "text": [
      "(time to fit: 52.2 secs)\n",
      "Skipping GBR, params not set to fit.\n",
      "....fitting HGBR (time to fit: 7.76 secs)\n",
      "Skipping MLP, params not set to fit.\n",
      "Skipping DNN, params not set to fit.\n",
      "1\n",
      "....fitting CPER_2022 (time to fit: 0.02 secs)\n",
      "....fitting OLS_2022 (time to fit: 0.04 secs)\n",
      "....fitting OLS (time to fit: 14.36 secs)\n",
      "....fitting LASSO "
     ]
    },
    {
     "name": "stderr",
     "output_type": "stream",
     "text": [
      "/project/cper_neon_aop/conda_envs/py_ml_env/lib/python3.9/site-packages/distributed/client.py:3157: UserWarning: Sending large graph of size 27.75 MiB.\n",
      "This may cause some slowdown.\n",
      "Consider scattering data ahead of time and using futures.\n",
      "  warnings.warn(\n",
      "/project/cper_neon_aop/conda_envs/py_ml_env/lib/python3.9/site-packages/distributed/client.py:3157: UserWarning: Sending large graph of size 27.10 MiB.\n",
      "This may cause some slowdown.\n",
      "Consider scattering data ahead of time and using futures.\n",
      "  warnings.warn(\n",
      "/project/cper_neon_aop/conda_envs/py_ml_env/lib/python3.9/site-packages/sklearn/linear_model/_coordinate_descent.py:678: ConvergenceWarning: Objective did not converge. You might want to increase the number of iterations, check the scale of the features or consider increasing regularisation. Duality gap: 9.036e+04, tolerance: 6.679e+01\n",
      "  model = cd_fast.enet_coordinate_descent(\n"
     ]
    },
    {
     "name": "stdout",
     "output_type": "stream",
     "text": [
      "(time to fit: 19.04 secs)\n",
      "....fitting PLS (time to fit: 0.8 secs)\n",
      "....fitting PCR (time to fit: 0.74 secs)\n",
      "....fitting SVR "
     ]
    },
    {
     "name": "stderr",
     "output_type": "stream",
     "text": [
      "/project/cper_neon_aop/conda_envs/py_ml_env/lib/python3.9/site-packages/sklearn/svm/_base.py:1237: ConvergenceWarning: Liblinear failed to converge, increase the number of iterations.\n",
      "  warnings.warn(\n"
     ]
    },
    {
     "name": "stdout",
     "output_type": "stream",
     "text": [
      "(time to fit: 4.19 secs)\n",
      "....fitting RF "
     ]
    },
    {
     "name": "stderr",
     "output_type": "stream",
     "text": [
      "/project/cper_neon_aop/conda_envs/py_ml_env/lib/python3.9/site-packages/distributed/client.py:3157: UserWarning: Sending large graph of size 19.93 MiB.\n",
      "This may cause some slowdown.\n",
      "Consider scattering data ahead of time and using futures.\n",
      "  warnings.warn(\n"
     ]
    },
    {
     "name": "stdout",
     "output_type": "stream",
     "text": [
      "(time to fit: 52.51 secs)\n",
      "Skipping GBR, params not set to fit.\n",
      "....fitting HGBR (time to fit: 7.97 secs)\n",
      "Skipping MLP, params not set to fit.\n",
      "Skipping DNN, params not set to fit.\n",
      "2\n",
      "....fitting CPER_2022 (time to fit: 0.02 secs)\n",
      "....fitting OLS_2022 (time to fit: 0.04 secs)\n",
      "....fitting OLS (time to fit: 14.05 secs)\n",
      "....fitting LASSO "
     ]
    },
    {
     "name": "stderr",
     "output_type": "stream",
     "text": [
      "/project/cper_neon_aop/conda_envs/py_ml_env/lib/python3.9/site-packages/distributed/client.py:3157: UserWarning: Sending large graph of size 27.75 MiB.\n",
      "This may cause some slowdown.\n",
      "Consider scattering data ahead of time and using futures.\n",
      "  warnings.warn(\n",
      "/project/cper_neon_aop/conda_envs/py_ml_env/lib/python3.9/site-packages/distributed/client.py:3157: UserWarning: Sending large graph of size 27.10 MiB.\n",
      "This may cause some slowdown.\n",
      "Consider scattering data ahead of time and using futures.\n",
      "  warnings.warn(\n",
      "/project/cper_neon_aop/conda_envs/py_ml_env/lib/python3.9/site-packages/sklearn/linear_model/_coordinate_descent.py:678: ConvergenceWarning: Objective did not converge. You might want to increase the number of iterations, check the scale of the features or consider increasing regularisation. Duality gap: 8.650e+04, tolerance: 7.269e+01\n",
      "  model = cd_fast.enet_coordinate_descent(\n"
     ]
    },
    {
     "name": "stdout",
     "output_type": "stream",
     "text": [
      "(time to fit: 19.13 secs)\n",
      "....fitting PLS (time to fit: 0.6 secs)\n",
      "....fitting PCR (time to fit: 1.38 secs)\n",
      "....fitting SVR "
     ]
    },
    {
     "name": "stderr",
     "output_type": "stream",
     "text": [
      "/project/cper_neon_aop/conda_envs/py_ml_env/lib/python3.9/site-packages/sklearn/svm/_base.py:1237: ConvergenceWarning: Liblinear failed to converge, increase the number of iterations.\n",
      "  warnings.warn(\n"
     ]
    },
    {
     "name": "stdout",
     "output_type": "stream",
     "text": [
      "(time to fit: 3.43 secs)\n",
      "....fitting RF "
     ]
    },
    {
     "name": "stderr",
     "output_type": "stream",
     "text": [
      "/project/cper_neon_aop/conda_envs/py_ml_env/lib/python3.9/site-packages/distributed/client.py:3157: UserWarning: Sending large graph of size 11.47 MiB.\n",
      "This may cause some slowdown.\n",
      "Consider scattering data ahead of time and using futures.\n",
      "  warnings.warn(\n"
     ]
    },
    {
     "name": "stdout",
     "output_type": "stream",
     "text": [
      "(time to fit: 61.21 secs)\n",
      "Skipping GBR, params not set to fit.\n",
      "....fitting HGBR (time to fit: 7.84 secs)\n",
      "Skipping MLP, params not set to fit.\n",
      "Skipping DNN, params not set to fit.\n",
      "3\n",
      "....fitting CPER_2022 (time to fit: 0.02 secs)\n",
      "....fitting OLS_2022 (time to fit: 0.03 secs)\n",
      "....fitting OLS (time to fit: 14.04 secs)\n",
      "....fitting LASSO "
     ]
    },
    {
     "name": "stderr",
     "output_type": "stream",
     "text": [
      "/project/cper_neon_aop/conda_envs/py_ml_env/lib/python3.9/site-packages/distributed/client.py:3157: UserWarning: Sending large graph of size 27.75 MiB.\n",
      "This may cause some slowdown.\n",
      "Consider scattering data ahead of time and using futures.\n",
      "  warnings.warn(\n",
      "/project/cper_neon_aop/conda_envs/py_ml_env/lib/python3.9/site-packages/distributed/client.py:3157: UserWarning: Sending large graph of size 27.10 MiB.\n",
      "This may cause some slowdown.\n",
      "Consider scattering data ahead of time and using futures.\n",
      "  warnings.warn(\n",
      "/project/cper_neon_aop/conda_envs/py_ml_env/lib/python3.9/site-packages/sklearn/linear_model/_coordinate_descent.py:678: ConvergenceWarning: Objective did not converge. You might want to increase the number of iterations, check the scale of the features or consider increasing regularisation. Duality gap: 8.585e+04, tolerance: 7.439e+01\n",
      "  model = cd_fast.enet_coordinate_descent(\n"
     ]
    },
    {
     "name": "stdout",
     "output_type": "stream",
     "text": [
      "(time to fit: 18.74 secs)\n",
      "....fitting PLS (time to fit: 0.55 secs)\n",
      "....fitting PCR (time to fit: 0.74 secs)\n",
      "....fitting SVR (time to fit: 2.57 secs)\n",
      "....fitting RF "
     ]
    },
    {
     "name": "stderr",
     "output_type": "stream",
     "text": [
      "/project/cper_neon_aop/conda_envs/py_ml_env/lib/python3.9/site-packages/distributed/client.py:3157: UserWarning: Sending large graph of size 17.82 MiB.\n",
      "This may cause some slowdown.\n",
      "Consider scattering data ahead of time and using futures.\n",
      "  warnings.warn(\n"
     ]
    },
    {
     "name": "stdout",
     "output_type": "stream",
     "text": [
      "(time to fit: 57.78 secs)\n",
      "Skipping GBR, params not set to fit.\n",
      "....fitting HGBR (time to fit: 8.71 secs)\n",
      "Skipping MLP, params not set to fit.\n",
      "Skipping DNN, params not set to fit.\n",
      "4\n",
      "....fitting CPER_2022 (time to fit: 0.02 secs)\n",
      "....fitting OLS_2022 (time to fit: 0.03 secs)\n",
      "....fitting OLS (time to fit: 14.1 secs)\n",
      "....fitting LASSO "
     ]
    },
    {
     "name": "stderr",
     "output_type": "stream",
     "text": [
      "/project/cper_neon_aop/conda_envs/py_ml_env/lib/python3.9/site-packages/distributed/client.py:3157: UserWarning: Sending large graph of size 27.75 MiB.\n",
      "This may cause some slowdown.\n",
      "Consider scattering data ahead of time and using futures.\n",
      "  warnings.warn(\n",
      "/project/cper_neon_aop/conda_envs/py_ml_env/lib/python3.9/site-packages/distributed/client.py:3157: UserWarning: Sending large graph of size 27.10 MiB.\n",
      "This may cause some slowdown.\n",
      "Consider scattering data ahead of time and using futures.\n",
      "  warnings.warn(\n",
      "/project/cper_neon_aop/conda_envs/py_ml_env/lib/python3.9/site-packages/sklearn/linear_model/_coordinate_descent.py:678: ConvergenceWarning: Objective did not converge. You might want to increase the number of iterations, check the scale of the features or consider increasing regularisation. Duality gap: 8.065e+04, tolerance: 6.831e+01\n",
      "  model = cd_fast.enet_coordinate_descent(\n"
     ]
    },
    {
     "name": "stdout",
     "output_type": "stream",
     "text": [
      "(time to fit: 18.77 secs)\n",
      "....fitting PLS (time to fit: 0.63 secs)\n",
      "....fitting PCR (time to fit: 0.81 secs)\n",
      "....fitting SVR "
     ]
    },
    {
     "name": "stderr",
     "output_type": "stream",
     "text": [
      "/project/cper_neon_aop/conda_envs/py_ml_env/lib/python3.9/site-packages/sklearn/svm/_base.py:1237: ConvergenceWarning: Liblinear failed to converge, increase the number of iterations.\n",
      "  warnings.warn(\n"
     ]
    },
    {
     "name": "stdout",
     "output_type": "stream",
     "text": [
      "(time to fit: 3.24 secs)\n",
      "....fitting RF "
     ]
    },
    {
     "name": "stderr",
     "output_type": "stream",
     "text": [
      "/project/cper_neon_aop/conda_envs/py_ml_env/lib/python3.9/site-packages/distributed/client.py:3157: UserWarning: Sending large graph of size 19.71 MiB.\n",
      "This may cause some slowdown.\n",
      "Consider scattering data ahead of time and using futures.\n",
      "  warnings.warn(\n"
     ]
    },
    {
     "name": "stdout",
     "output_type": "stream",
     "text": [
      "(time to fit: 62.84 secs)\n",
      "Skipping GBR, params not set to fit.\n",
      "....fitting HGBR (time to fit: 7.86 secs)\n",
      "Skipping MLP, params not set to fit.\n",
      "Skipping DNN, params not set to fit.\n",
      "5\n",
      "....fitting CPER_2022 (time to fit: 0.02 secs)\n",
      "....fitting OLS_2022 (time to fit: 0.03 secs)\n",
      "....fitting OLS (time to fit: 14.2 secs)\n",
      "....fitting LASSO "
     ]
    },
    {
     "name": "stderr",
     "output_type": "stream",
     "text": [
      "/project/cper_neon_aop/conda_envs/py_ml_env/lib/python3.9/site-packages/distributed/client.py:3157: UserWarning: Sending large graph of size 27.75 MiB.\n",
      "This may cause some slowdown.\n",
      "Consider scattering data ahead of time and using futures.\n",
      "  warnings.warn(\n",
      "/project/cper_neon_aop/conda_envs/py_ml_env/lib/python3.9/site-packages/distributed/client.py:3157: UserWarning: Sending large graph of size 27.10 MiB.\n",
      "This may cause some slowdown.\n",
      "Consider scattering data ahead of time and using futures.\n",
      "  warnings.warn(\n",
      "/project/cper_neon_aop/conda_envs/py_ml_env/lib/python3.9/site-packages/sklearn/linear_model/_coordinate_descent.py:678: ConvergenceWarning: Objective did not converge. You might want to increase the number of iterations, check the scale of the features or consider increasing regularisation. Duality gap: 7.988e+04, tolerance: 5.904e+01\n",
      "  model = cd_fast.enet_coordinate_descent(\n"
     ]
    },
    {
     "name": "stdout",
     "output_type": "stream",
     "text": [
      "(time to fit: 19.25 secs)\n",
      "....fitting PLS (time to fit: 0.61 secs)\n",
      "....fitting PCR (time to fit: 0.73 secs)\n",
      "....fitting SVR "
     ]
    },
    {
     "name": "stderr",
     "output_type": "stream",
     "text": [
      "/project/cper_neon_aop/conda_envs/py_ml_env/lib/python3.9/site-packages/sklearn/svm/_base.py:1237: ConvergenceWarning: Liblinear failed to converge, increase the number of iterations.\n",
      "  warnings.warn(\n"
     ]
    },
    {
     "name": "stdout",
     "output_type": "stream",
     "text": [
      "(time to fit: 4.35 secs)\n",
      "....fitting RF "
     ]
    },
    {
     "name": "stderr",
     "output_type": "stream",
     "text": [
      "/project/cper_neon_aop/conda_envs/py_ml_env/lib/python3.9/site-packages/distributed/client.py:3157: UserWarning: Sending large graph of size 19.80 MiB.\n",
      "This may cause some slowdown.\n",
      "Consider scattering data ahead of time and using futures.\n",
      "  warnings.warn(\n"
     ]
    },
    {
     "name": "stdout",
     "output_type": "stream",
     "text": [
      "(time to fit: 52.69 secs)\n",
      "Skipping GBR, params not set to fit.\n",
      "....fitting HGBR (time to fit: 8.01 secs)\n",
      "Skipping MLP, params not set to fit.\n",
      "Skipping DNN, params not set to fit.\n",
      "6\n",
      "....fitting CPER_2022 (time to fit: 0.02 secs)\n",
      "....fitting OLS_2022 (time to fit: 0.04 secs)\n",
      "....fitting OLS (time to fit: 14.09 secs)\n",
      "....fitting LASSO "
     ]
    },
    {
     "name": "stderr",
     "output_type": "stream",
     "text": [
      "/project/cper_neon_aop/conda_envs/py_ml_env/lib/python3.9/site-packages/distributed/client.py:3157: UserWarning: Sending large graph of size 27.75 MiB.\n",
      "This may cause some slowdown.\n",
      "Consider scattering data ahead of time and using futures.\n",
      "  warnings.warn(\n",
      "/project/cper_neon_aop/conda_envs/py_ml_env/lib/python3.9/site-packages/distributed/client.py:3157: UserWarning: Sending large graph of size 27.10 MiB.\n",
      "This may cause some slowdown.\n",
      "Consider scattering data ahead of time and using futures.\n",
      "  warnings.warn(\n",
      "/project/cper_neon_aop/conda_envs/py_ml_env/lib/python3.9/site-packages/sklearn/linear_model/_coordinate_descent.py:678: ConvergenceWarning: Objective did not converge. You might want to increase the number of iterations, check the scale of the features or consider increasing regularisation. Duality gap: 8.199e+04, tolerance: 6.347e+01\n",
      "  model = cd_fast.enet_coordinate_descent(\n"
     ]
    },
    {
     "name": "stdout",
     "output_type": "stream",
     "text": [
      "(time to fit: 18.74 secs)\n",
      "....fitting PLS (time to fit: 0.61 secs)\n",
      "....fitting PCR (time to fit: 0.73 secs)\n",
      "....fitting SVR "
     ]
    },
    {
     "name": "stderr",
     "output_type": "stream",
     "text": [
      "/project/cper_neon_aop/conda_envs/py_ml_env/lib/python3.9/site-packages/sklearn/svm/_base.py:1237: ConvergenceWarning: Liblinear failed to converge, increase the number of iterations.\n",
      "  warnings.warn(\n"
     ]
    },
    {
     "name": "stdout",
     "output_type": "stream",
     "text": [
      "(time to fit: 4.59 secs)\n",
      "....fitting RF "
     ]
    },
    {
     "name": "stderr",
     "output_type": "stream",
     "text": [
      "/project/cper_neon_aop/conda_envs/py_ml_env/lib/python3.9/site-packages/distributed/client.py:3157: UserWarning: Sending large graph of size 18.06 MiB.\n",
      "This may cause some slowdown.\n",
      "Consider scattering data ahead of time and using futures.\n",
      "  warnings.warn(\n"
     ]
    },
    {
     "name": "stdout",
     "output_type": "stream",
     "text": [
      "(time to fit: 52.43 secs)\n",
      "Skipping GBR, params not set to fit.\n",
      "....fitting HGBR (time to fit: 8.36 secs)\n",
      "Skipping MLP, params not set to fit.\n",
      "Skipping DNN, params not set to fit.\n",
      "7\n",
      "....fitting CPER_2022 (time to fit: 0.02 secs)\n",
      "....fitting OLS_2022 (time to fit: 0.03 secs)\n",
      "....fitting OLS (time to fit: 14.17 secs)\n",
      "....fitting LASSO "
     ]
    },
    {
     "name": "stderr",
     "output_type": "stream",
     "text": [
      "/project/cper_neon_aop/conda_envs/py_ml_env/lib/python3.9/site-packages/distributed/client.py:3157: UserWarning: Sending large graph of size 27.75 MiB.\n",
      "This may cause some slowdown.\n",
      "Consider scattering data ahead of time and using futures.\n",
      "  warnings.warn(\n",
      "/project/cper_neon_aop/conda_envs/py_ml_env/lib/python3.9/site-packages/distributed/client.py:3157: UserWarning: Sending large graph of size 27.10 MiB.\n",
      "This may cause some slowdown.\n",
      "Consider scattering data ahead of time and using futures.\n",
      "  warnings.warn(\n",
      "/project/cper_neon_aop/conda_envs/py_ml_env/lib/python3.9/site-packages/sklearn/linear_model/_coordinate_descent.py:678: ConvergenceWarning: Objective did not converge. You might want to increase the number of iterations, check the scale of the features or consider increasing regularisation. Duality gap: 8.591e+04, tolerance: 6.937e+01\n",
      "  model = cd_fast.enet_coordinate_descent(\n"
     ]
    },
    {
     "name": "stdout",
     "output_type": "stream",
     "text": [
      "(time to fit: 18.78 secs)\n",
      "....fitting PLS (time to fit: 0.62 secs)\n",
      "....fitting PCR (time to fit: 0.81 secs)\n",
      "....fitting SVR "
     ]
    },
    {
     "name": "stderr",
     "output_type": "stream",
     "text": [
      "/project/cper_neon_aop/conda_envs/py_ml_env/lib/python3.9/site-packages/sklearn/svm/_base.py:1237: ConvergenceWarning: Liblinear failed to converge, increase the number of iterations.\n",
      "  warnings.warn(\n"
     ]
    },
    {
     "name": "stdout",
     "output_type": "stream",
     "text": [
      "(time to fit: 4.17 secs)\n",
      "....fitting RF "
     ]
    },
    {
     "name": "stderr",
     "output_type": "stream",
     "text": [
      "/project/cper_neon_aop/conda_envs/py_ml_env/lib/python3.9/site-packages/distributed/client.py:3157: UserWarning: Sending large graph of size 18.07 MiB.\n",
      "This may cause some slowdown.\n",
      "Consider scattering data ahead of time and using futures.\n",
      "  warnings.warn(\n"
     ]
    },
    {
     "name": "stdout",
     "output_type": "stream",
     "text": [
      "(time to fit: 57.38 secs)\n",
      "Skipping GBR, params not set to fit.\n",
      "....fitting HGBR (time to fit: 8.01 secs)\n",
      "Skipping MLP, params not set to fit.\n",
      "Skipping DNN, params not set to fit.\n",
      "8\n",
      "....fitting CPER_2022 (time to fit: 0.02 secs)\n",
      "....fitting OLS_2022 (time to fit: 0.03 secs)\n",
      "....fitting OLS (time to fit: 13.95 secs)\n",
      "....fitting LASSO "
     ]
    },
    {
     "name": "stderr",
     "output_type": "stream",
     "text": [
      "/project/cper_neon_aop/conda_envs/py_ml_env/lib/python3.9/site-packages/distributed/client.py:3157: UserWarning: Sending large graph of size 27.73 MiB.\n",
      "This may cause some slowdown.\n",
      "Consider scattering data ahead of time and using futures.\n",
      "  warnings.warn(\n",
      "/project/cper_neon_aop/conda_envs/py_ml_env/lib/python3.9/site-packages/distributed/client.py:3157: UserWarning: Sending large graph of size 27.07 MiB.\n",
      "This may cause some slowdown.\n",
      "Consider scattering data ahead of time and using futures.\n",
      "  warnings.warn(\n",
      "/project/cper_neon_aop/conda_envs/py_ml_env/lib/python3.9/site-packages/sklearn/linear_model/_coordinate_descent.py:678: ConvergenceWarning: Objective did not converge. You might want to increase the number of iterations, check the scale of the features or consider increasing regularisation. Duality gap: 8.145e+04, tolerance: 6.732e+01\n",
      "  model = cd_fast.enet_coordinate_descent(\n"
     ]
    },
    {
     "name": "stdout",
     "output_type": "stream",
     "text": [
      "(time to fit: 18.65 secs)\n",
      "....fitting PLS (time to fit: 0.63 secs)\n",
      "....fitting PCR (time to fit: 0.79 secs)\n",
      "....fitting SVR "
     ]
    },
    {
     "name": "stderr",
     "output_type": "stream",
     "text": [
      "/project/cper_neon_aop/conda_envs/py_ml_env/lib/python3.9/site-packages/sklearn/svm/_base.py:1237: ConvergenceWarning: Liblinear failed to converge, increase the number of iterations.\n",
      "  warnings.warn(\n"
     ]
    },
    {
     "name": "stdout",
     "output_type": "stream",
     "text": [
      "(time to fit: 4.12 secs)\n",
      "....fitting RF "
     ]
    },
    {
     "name": "stderr",
     "output_type": "stream",
     "text": [
      "/project/cper_neon_aop/conda_envs/py_ml_env/lib/python3.9/site-packages/distributed/client.py:3157: UserWarning: Sending large graph of size 19.78 MiB.\n",
      "This may cause some slowdown.\n",
      "Consider scattering data ahead of time and using futures.\n",
      "  warnings.warn(\n"
     ]
    },
    {
     "name": "stdout",
     "output_type": "stream",
     "text": [
      "(time to fit: 55.93 secs)\n",
      "Skipping GBR, params not set to fit.\n",
      "....fitting HGBR (time to fit: 7.85 secs)\n",
      "Skipping MLP, params not set to fit.\n",
      "Skipping DNN, params not set to fit.\n",
      "9\n",
      "....fitting CPER_2022 (time to fit: 0.02 secs)\n",
      "....fitting OLS_2022 (time to fit: 0.03 secs)\n",
      "....fitting OLS (time to fit: 13.96 secs)\n",
      "....fitting LASSO "
     ]
    },
    {
     "name": "stderr",
     "output_type": "stream",
     "text": [
      "/project/cper_neon_aop/conda_envs/py_ml_env/lib/python3.9/site-packages/distributed/client.py:3157: UserWarning: Sending large graph of size 27.75 MiB.\n",
      "This may cause some slowdown.\n",
      "Consider scattering data ahead of time and using futures.\n",
      "  warnings.warn(\n",
      "/project/cper_neon_aop/conda_envs/py_ml_env/lib/python3.9/site-packages/distributed/client.py:3157: UserWarning: Sending large graph of size 27.10 MiB.\n",
      "This may cause some slowdown.\n",
      "Consider scattering data ahead of time and using futures.\n",
      "  warnings.warn(\n",
      "/project/cper_neon_aop/conda_envs/py_ml_env/lib/python3.9/site-packages/sklearn/linear_model/_coordinate_descent.py:678: ConvergenceWarning: Objective did not converge. You might want to increase the number of iterations, check the scale of the features or consider increasing regularisation. Duality gap: 8.404e+04, tolerance: 7.322e+01\n",
      "  model = cd_fast.enet_coordinate_descent(\n"
     ]
    },
    {
     "name": "stdout",
     "output_type": "stream",
     "text": [
      "(time to fit: 19.37 secs)\n",
      "....fitting PLS (time to fit: 1.26 secs)\n",
      "....fitting PCR (time to fit: 0.72 secs)\n",
      "....fitting SVR "
     ]
    },
    {
     "name": "stderr",
     "output_type": "stream",
     "text": [
      "/project/cper_neon_aop/conda_envs/py_ml_env/lib/python3.9/site-packages/sklearn/svm/_base.py:1237: ConvergenceWarning: Liblinear failed to converge, increase the number of iterations.\n",
      "  warnings.warn(\n"
     ]
    },
    {
     "name": "stdout",
     "output_type": "stream",
     "text": [
      "(time to fit: 3.19 secs)\n",
      "....fitting RF "
     ]
    },
    {
     "name": "stderr",
     "output_type": "stream",
     "text": [
      "/project/cper_neon_aop/conda_envs/py_ml_env/lib/python3.9/site-packages/distributed/client.py:3157: UserWarning: Sending large graph of size 19.88 MiB.\n",
      "This may cause some slowdown.\n",
      "Consider scattering data ahead of time and using futures.\n",
      "  warnings.warn(\n"
     ]
    },
    {
     "name": "stdout",
     "output_type": "stream",
     "text": [
      "(time to fit: 51.29 secs)\n",
      "Skipping GBR, params not set to fit.\n",
      "....fitting HGBR (time to fit: 7.92 secs)\n",
      "Skipping MLP, params not set to fit.\n",
      "Skipping DNN, params not set to fit.\n",
      "Running using Kmeans clusters resampled with random distance factor of 85\n",
      "0\n",
      "....fitting CPER_2022 (time to fit: 0.02 secs)\n",
      "....fitting OLS_2022 (time to fit: 0.03 secs)\n",
      "....fitting OLS "
     ]
    },
    {
     "name": "stderr",
     "output_type": "stream",
     "text": [
      "/project/cper_neon_aop/hls_nrt/fit/ml_setup.py:585: FutureWarning: The behavior of DataFrame concatenation with empty or all-NA entries is deprecated. In a future version, this will no longer exclude empty or all-NA columns when determining the result dtypes. To retain the old behavior, exclude the relevant entries before the concat operation.\n",
      "  mod_dict[k]['formula_df'] = pd.concat([mod_dict[k]['formula_df'], pd.concat(df_results[0])])\n"
     ]
    },
    {
     "name": "stdout",
     "output_type": "stream",
     "text": [
      "(time to fit: 13.94 secs)\n",
      "....fitting LASSO "
     ]
    },
    {
     "name": "stderr",
     "output_type": "stream",
     "text": [
      "/project/cper_neon_aop/conda_envs/py_ml_env/lib/python3.9/site-packages/distributed/client.py:3157: UserWarning: Sending large graph of size 27.71 MiB.\n",
      "This may cause some slowdown.\n",
      "Consider scattering data ahead of time and using futures.\n",
      "  warnings.warn(\n",
      "/project/cper_neon_aop/conda_envs/py_ml_env/lib/python3.9/site-packages/distributed/client.py:3157: UserWarning: Sending large graph of size 27.07 MiB.\n",
      "This may cause some slowdown.\n",
      "Consider scattering data ahead of time and using futures.\n",
      "  warnings.warn(\n",
      "/project/cper_neon_aop/conda_envs/py_ml_env/lib/python3.9/site-packages/sklearn/linear_model/_coordinate_descent.py:678: ConvergenceWarning: Objective did not converge. You might want to increase the number of iterations, check the scale of the features or consider increasing regularisation. Duality gap: 8.437e+04, tolerance: 7.299e+01\n",
      "  model = cd_fast.enet_coordinate_descent(\n",
      "/project/cper_neon_aop/hls_nrt/fit/ml_setup.py:671: FutureWarning: The behavior of DataFrame concatenation with empty or all-NA entries is deprecated. In a future version, this will no longer exclude empty or all-NA columns when determining the result dtypes. To retain the old behavior, exclude the relevant entries before the concat operation.\n",
      "  mod_dict[k]['variable_df'] = pd.concat([mod_dict[k]['variable_df'],\n"
     ]
    },
    {
     "name": "stdout",
     "output_type": "stream",
     "text": [
      "(time to fit: 19.27 secs)\n",
      "....fitting PLS "
     ]
    },
    {
     "name": "stderr",
     "output_type": "stream",
     "text": [
      "/project/cper_neon_aop/hls_nrt/fit/ml_setup.py:692: FutureWarning: The behavior of DataFrame concatenation with empty or all-NA entries is deprecated. In a future version, this will no longer exclude empty or all-NA columns when determining the result dtypes. To retain the old behavior, exclude the relevant entries before the concat operation.\n",
      "  mod_dict[k]['variable_df'] = pd.concat([mod_dict[k]['variable_df'],\n"
     ]
    },
    {
     "name": "stdout",
     "output_type": "stream",
     "text": [
      "(time to fit: 0.6 secs)\n",
      "....fitting PCR "
     ]
    },
    {
     "name": "stderr",
     "output_type": "stream",
     "text": [
      "/project/cper_neon_aop/hls_nrt/fit/ml_setup.py:703: FutureWarning: The behavior of DataFrame concatenation with empty or all-NA entries is deprecated. In a future version, this will no longer exclude empty or all-NA columns when determining the result dtypes. To retain the old behavior, exclude the relevant entries before the concat operation.\n",
      "  mod_dict[k]['variable_df'] = pd.concat([mod_dict[k]['variable_df'],\n"
     ]
    },
    {
     "name": "stdout",
     "output_type": "stream",
     "text": [
      "(time to fit: 1.35 secs)\n",
      "....fitting SVR "
     ]
    },
    {
     "name": "stderr",
     "output_type": "stream",
     "text": [
      "/project/cper_neon_aop/conda_envs/py_ml_env/lib/python3.9/site-packages/sklearn/svm/_base.py:1237: ConvergenceWarning: Liblinear failed to converge, increase the number of iterations.\n",
      "  warnings.warn(\n",
      "/project/cper_neon_aop/hls_nrt/fit/ml_setup.py:708: FutureWarning: The behavior of DataFrame concatenation with empty or all-NA entries is deprecated. In a future version, this will no longer exclude empty or all-NA columns when determining the result dtypes. To retain the old behavior, exclude the relevant entries before the concat operation.\n",
      "  mod_dict[k]['variable_df'] = pd.concat([mod_dict[k]['variable_df'],\n"
     ]
    },
    {
     "name": "stdout",
     "output_type": "stream",
     "text": [
      "(time to fit: 3.2 secs)\n",
      "....fitting RF "
     ]
    },
    {
     "name": "stderr",
     "output_type": "stream",
     "text": [
      "/project/cper_neon_aop/hls_nrt/fit/ml_setup.py:714: FutureWarning: The behavior of DataFrame concatenation with empty or all-NA entries is deprecated. In a future version, this will no longer exclude empty or all-NA columns when determining the result dtypes. To retain the old behavior, exclude the relevant entries before the concat operation.\n",
      "  mod_dict[k]['variable_df'] = pd.concat([mod_dict[k]['variable_df'],\n"
     ]
    },
    {
     "name": "stdout",
     "output_type": "stream",
     "text": [
      "(time to fit: 58.48 secs)\n",
      "Skipping GBR, params not set to fit.\n",
      "....fitting HGBR (time to fit: 8.52 secs)\n",
      "Skipping MLP, params not set to fit.\n",
      "Skipping DNN, params not set to fit.\n",
      "1\n",
      "....fitting CPER_2022 (time to fit: 0.02 secs)\n",
      "....fitting OLS_2022 (time to fit: 0.03 secs)\n",
      "....fitting OLS (time to fit: 13.95 secs)\n",
      "....fitting LASSO "
     ]
    },
    {
     "name": "stderr",
     "output_type": "stream",
     "text": [
      "/project/cper_neon_aop/conda_envs/py_ml_env/lib/python3.9/site-packages/distributed/client.py:3157: UserWarning: Sending large graph of size 27.75 MiB.\n",
      "This may cause some slowdown.\n",
      "Consider scattering data ahead of time and using futures.\n",
      "  warnings.warn(\n",
      "/project/cper_neon_aop/conda_envs/py_ml_env/lib/python3.9/site-packages/distributed/client.py:3157: UserWarning: Sending large graph of size 27.10 MiB.\n",
      "This may cause some slowdown.\n",
      "Consider scattering data ahead of time and using futures.\n",
      "  warnings.warn(\n",
      "/project/cper_neon_aop/conda_envs/py_ml_env/lib/python3.9/site-packages/sklearn/linear_model/_coordinate_descent.py:678: ConvergenceWarning: Objective did not converge. You might want to increase the number of iterations, check the scale of the features or consider increasing regularisation. Duality gap: 8.902e+04, tolerance: 6.939e+01\n",
      "  model = cd_fast.enet_coordinate_descent(\n"
     ]
    },
    {
     "name": "stdout",
     "output_type": "stream",
     "text": [
      "(time to fit: 18.82 secs)\n",
      "....fitting PLS (time to fit: 0.55 secs)\n",
      "....fitting PCR (time to fit: 0.67 secs)\n",
      "....fitting SVR "
     ]
    },
    {
     "name": "stderr",
     "output_type": "stream",
     "text": [
      "/project/cper_neon_aop/conda_envs/py_ml_env/lib/python3.9/site-packages/sklearn/svm/_base.py:1237: ConvergenceWarning: Liblinear failed to converge, increase the number of iterations.\n",
      "  warnings.warn(\n"
     ]
    },
    {
     "name": "stdout",
     "output_type": "stream",
     "text": [
      "(time to fit: 4.03 secs)\n",
      "....fitting RF "
     ]
    },
    {
     "name": "stderr",
     "output_type": "stream",
     "text": [
      "/project/cper_neon_aop/conda_envs/py_ml_env/lib/python3.9/site-packages/distributed/client.py:3157: UserWarning: Sending large graph of size 19.65 MiB.\n",
      "This may cause some slowdown.\n",
      "Consider scattering data ahead of time and using futures.\n",
      "  warnings.warn(\n"
     ]
    },
    {
     "name": "stdout",
     "output_type": "stream",
     "text": [
      "(time to fit: 53.48 secs)\n",
      "Skipping GBR, params not set to fit.\n",
      "....fitting HGBR (time to fit: 8.0 secs)\n",
      "Skipping MLP, params not set to fit.\n",
      "Skipping DNN, params not set to fit.\n",
      "2\n",
      "....fitting CPER_2022 (time to fit: 0.02 secs)\n",
      "....fitting OLS_2022 (time to fit: 0.03 secs)\n",
      "....fitting OLS (time to fit: 13.91 secs)\n",
      "....fitting LASSO "
     ]
    },
    {
     "name": "stderr",
     "output_type": "stream",
     "text": [
      "/project/cper_neon_aop/conda_envs/py_ml_env/lib/python3.9/site-packages/distributed/client.py:3157: UserWarning: Sending large graph of size 27.75 MiB.\n",
      "This may cause some slowdown.\n",
      "Consider scattering data ahead of time and using futures.\n",
      "  warnings.warn(\n",
      "/project/cper_neon_aop/conda_envs/py_ml_env/lib/python3.9/site-packages/distributed/client.py:3157: UserWarning: Sending large graph of size 27.10 MiB.\n",
      "This may cause some slowdown.\n",
      "Consider scattering data ahead of time and using futures.\n",
      "  warnings.warn(\n",
      "/project/cper_neon_aop/conda_envs/py_ml_env/lib/python3.9/site-packages/sklearn/linear_model/_coordinate_descent.py:678: ConvergenceWarning: Objective did not converge. You might want to increase the number of iterations, check the scale of the features or consider increasing regularisation. Duality gap: 8.692e+04, tolerance: 7.315e+01\n",
      "  model = cd_fast.enet_coordinate_descent(\n"
     ]
    },
    {
     "name": "stdout",
     "output_type": "stream",
     "text": [
      "(time to fit: 19.67 secs)\n",
      "....fitting PLS (time to fit: 0.76 secs)\n",
      "....fitting PCR (time to fit: 0.81 secs)\n",
      "....fitting SVR "
     ]
    },
    {
     "name": "stderr",
     "output_type": "stream",
     "text": [
      "/project/cper_neon_aop/conda_envs/py_ml_env/lib/python3.9/site-packages/sklearn/svm/_base.py:1237: ConvergenceWarning: Liblinear failed to converge, increase the number of iterations.\n",
      "  warnings.warn(\n"
     ]
    },
    {
     "name": "stdout",
     "output_type": "stream",
     "text": [
      "(time to fit: 4.02 secs)\n",
      "....fitting RF "
     ]
    },
    {
     "name": "stderr",
     "output_type": "stream",
     "text": [
      "/project/cper_neon_aop/conda_envs/py_ml_env/lib/python3.9/site-packages/distributed/client.py:3157: UserWarning: Sending large graph of size 18.05 MiB.\n",
      "This may cause some slowdown.\n",
      "Consider scattering data ahead of time and using futures.\n",
      "  warnings.warn(\n"
     ]
    },
    {
     "name": "stdout",
     "output_type": "stream",
     "text": [
      "(time to fit: 56.52 secs)\n",
      "Skipping GBR, params not set to fit.\n",
      "....fitting HGBR (time to fit: 8.14 secs)\n",
      "Skipping MLP, params not set to fit.\n",
      "Skipping DNN, params not set to fit.\n",
      "3\n",
      "....fitting CPER_2022 (time to fit: 0.02 secs)\n",
      "....fitting OLS_2022 (time to fit: 0.03 secs)\n",
      "....fitting OLS (time to fit: 13.9 secs)\n",
      "....fitting LASSO "
     ]
    },
    {
     "name": "stderr",
     "output_type": "stream",
     "text": [
      "/project/cper_neon_aop/conda_envs/py_ml_env/lib/python3.9/site-packages/distributed/client.py:3157: UserWarning: Sending large graph of size 27.75 MiB.\n",
      "This may cause some slowdown.\n",
      "Consider scattering data ahead of time and using futures.\n",
      "  warnings.warn(\n",
      "/project/cper_neon_aop/conda_envs/py_ml_env/lib/python3.9/site-packages/distributed/client.py:3157: UserWarning: Sending large graph of size 27.10 MiB.\n",
      "This may cause some slowdown.\n",
      "Consider scattering data ahead of time and using futures.\n",
      "  warnings.warn(\n",
      "/project/cper_neon_aop/conda_envs/py_ml_env/lib/python3.9/site-packages/sklearn/linear_model/_coordinate_descent.py:678: ConvergenceWarning: Objective did not converge. You might want to increase the number of iterations, check the scale of the features or consider increasing regularisation. Duality gap: 8.748e+04, tolerance: 7.414e+01\n",
      "  model = cd_fast.enet_coordinate_descent(\n"
     ]
    },
    {
     "name": "stdout",
     "output_type": "stream",
     "text": [
      "(time to fit: 19.04 secs)\n",
      "....fitting PLS (time to fit: 1.04 secs)\n",
      "....fitting PCR (time to fit: 0.76 secs)\n",
      "....fitting SVR "
     ]
    },
    {
     "name": "stderr",
     "output_type": "stream",
     "text": [
      "/project/cper_neon_aop/conda_envs/py_ml_env/lib/python3.9/site-packages/sklearn/svm/_base.py:1237: ConvergenceWarning: Liblinear failed to converge, increase the number of iterations.\n",
      "  warnings.warn(\n"
     ]
    },
    {
     "name": "stdout",
     "output_type": "stream",
     "text": [
      "(time to fit: 3.22 secs)\n",
      "....fitting RF "
     ]
    },
    {
     "name": "stderr",
     "output_type": "stream",
     "text": [
      "/project/cper_neon_aop/conda_envs/py_ml_env/lib/python3.9/site-packages/distributed/client.py:3157: UserWarning: Sending large graph of size 17.94 MiB.\n",
      "This may cause some slowdown.\n",
      "Consider scattering data ahead of time and using futures.\n",
      "  warnings.warn(\n"
     ]
    },
    {
     "name": "stdout",
     "output_type": "stream",
     "text": [
      "(time to fit: 56.08 secs)\n",
      "Skipping GBR, params not set to fit.\n",
      "....fitting HGBR (time to fit: 8.05 secs)\n",
      "Skipping MLP, params not set to fit.\n",
      "Skipping DNN, params not set to fit.\n",
      "4\n",
      "....fitting CPER_2022 (time to fit: 0.02 secs)\n",
      "....fitting OLS_2022 (time to fit: 0.03 secs)\n",
      "....fitting OLS (time to fit: 13.86 secs)\n",
      "....fitting LASSO "
     ]
    },
    {
     "name": "stderr",
     "output_type": "stream",
     "text": [
      "/project/cper_neon_aop/conda_envs/py_ml_env/lib/python3.9/site-packages/distributed/client.py:3157: UserWarning: Sending large graph of size 27.75 MiB.\n",
      "This may cause some slowdown.\n",
      "Consider scattering data ahead of time and using futures.\n",
      "  warnings.warn(\n",
      "/project/cper_neon_aop/conda_envs/py_ml_env/lib/python3.9/site-packages/distributed/client.py:3157: UserWarning: Sending large graph of size 27.10 MiB.\n",
      "This may cause some slowdown.\n",
      "Consider scattering data ahead of time and using futures.\n",
      "  warnings.warn(\n",
      "/project/cper_neon_aop/conda_envs/py_ml_env/lib/python3.9/site-packages/sklearn/linear_model/_coordinate_descent.py:678: ConvergenceWarning: Objective did not converge. You might want to increase the number of iterations, check the scale of the features or consider increasing regularisation. Duality gap: 8.478e+04, tolerance: 7.339e+01\n",
      "  model = cd_fast.enet_coordinate_descent(\n"
     ]
    },
    {
     "name": "stdout",
     "output_type": "stream",
     "text": [
      "(time to fit: 18.75 secs)\n",
      "....fitting PLS (time to fit: 0.58 secs)\n",
      "....fitting PCR (time to fit: 0.81 secs)\n",
      "....fitting SVR "
     ]
    },
    {
     "name": "stderr",
     "output_type": "stream",
     "text": [
      "/project/cper_neon_aop/conda_envs/py_ml_env/lib/python3.9/site-packages/sklearn/svm/_base.py:1237: ConvergenceWarning: Liblinear failed to converge, increase the number of iterations.\n",
      "  warnings.warn(\n"
     ]
    },
    {
     "name": "stdout",
     "output_type": "stream",
     "text": [
      "(time to fit: 3.19 secs)\n",
      "....fitting RF "
     ]
    },
    {
     "name": "stderr",
     "output_type": "stream",
     "text": [
      "/project/cper_neon_aop/conda_envs/py_ml_env/lib/python3.9/site-packages/distributed/client.py:3157: UserWarning: Sending large graph of size 19.89 MiB.\n",
      "This may cause some slowdown.\n",
      "Consider scattering data ahead of time and using futures.\n",
      "  warnings.warn(\n"
     ]
    },
    {
     "name": "stdout",
     "output_type": "stream",
     "text": [
      "(time to fit: 55.97 secs)\n",
      "Skipping GBR, params not set to fit.\n",
      "....fitting HGBR (time to fit: 9.12 secs)\n",
      "Skipping MLP, params not set to fit.\n",
      "Skipping DNN, params not set to fit.\n",
      "5\n",
      "....fitting CPER_2022 (time to fit: 0.02 secs)\n",
      "....fitting OLS_2022 (time to fit: 0.03 secs)\n",
      "....fitting OLS (time to fit: 14.03 secs)\n",
      "....fitting LASSO "
     ]
    },
    {
     "name": "stderr",
     "output_type": "stream",
     "text": [
      "/project/cper_neon_aop/conda_envs/py_ml_env/lib/python3.9/site-packages/distributed/client.py:3157: UserWarning: Sending large graph of size 27.75 MiB.\n",
      "This may cause some slowdown.\n",
      "Consider scattering data ahead of time and using futures.\n",
      "  warnings.warn(\n",
      "/project/cper_neon_aop/conda_envs/py_ml_env/lib/python3.9/site-packages/distributed/client.py:3157: UserWarning: Sending large graph of size 27.10 MiB.\n",
      "This may cause some slowdown.\n",
      "Consider scattering data ahead of time and using futures.\n",
      "  warnings.warn(\n",
      "/project/cper_neon_aop/conda_envs/py_ml_env/lib/python3.9/site-packages/sklearn/linear_model/_coordinate_descent.py:678: ConvergenceWarning: Objective did not converge. You might want to increase the number of iterations, check the scale of the features or consider increasing regularisation. Duality gap: 8.412e+04, tolerance: 6.153e+01\n",
      "  model = cd_fast.enet_coordinate_descent(\n"
     ]
    },
    {
     "name": "stdout",
     "output_type": "stream",
     "text": [
      "(time to fit: 19.93 secs)\n",
      "....fitting PLS (time to fit: 0.69 secs)\n",
      "....fitting PCR (time to fit: 0.71 secs)\n",
      "....fitting SVR "
     ]
    },
    {
     "name": "stderr",
     "output_type": "stream",
     "text": [
      "/project/cper_neon_aop/conda_envs/py_ml_env/lib/python3.9/site-packages/sklearn/svm/_base.py:1237: ConvergenceWarning: Liblinear failed to converge, increase the number of iterations.\n",
      "  warnings.warn(\n"
     ]
    },
    {
     "name": "stdout",
     "output_type": "stream",
     "text": [
      "(time to fit: 3.19 secs)\n",
      "....fitting RF "
     ]
    },
    {
     "name": "stderr",
     "output_type": "stream",
     "text": [
      "/project/cper_neon_aop/conda_envs/py_ml_env/lib/python3.9/site-packages/distributed/client.py:3157: UserWarning: Sending large graph of size 19.78 MiB.\n",
      "This may cause some slowdown.\n",
      "Consider scattering data ahead of time and using futures.\n",
      "  warnings.warn(\n"
     ]
    },
    {
     "name": "stdout",
     "output_type": "stream",
     "text": [
      "(time to fit: 56.45 secs)\n",
      "Skipping GBR, params not set to fit.\n",
      "....fitting HGBR (time to fit: 7.99 secs)\n",
      "Skipping MLP, params not set to fit.\n",
      "Skipping DNN, params not set to fit.\n",
      "6\n",
      "....fitting CPER_2022 (time to fit: 0.02 secs)\n",
      "....fitting OLS_2022 (time to fit: 0.03 secs)\n",
      "....fitting OLS (time to fit: 13.95 secs)\n",
      "....fitting LASSO "
     ]
    },
    {
     "name": "stderr",
     "output_type": "stream",
     "text": [
      "/project/cper_neon_aop/conda_envs/py_ml_env/lib/python3.9/site-packages/distributed/client.py:3157: UserWarning: Sending large graph of size 27.75 MiB.\n",
      "This may cause some slowdown.\n",
      "Consider scattering data ahead of time and using futures.\n",
      "  warnings.warn(\n",
      "/project/cper_neon_aop/conda_envs/py_ml_env/lib/python3.9/site-packages/distributed/client.py:3157: UserWarning: Sending large graph of size 27.10 MiB.\n",
      "This may cause some slowdown.\n",
      "Consider scattering data ahead of time and using futures.\n",
      "  warnings.warn(\n",
      "/project/cper_neon_aop/conda_envs/py_ml_env/lib/python3.9/site-packages/sklearn/linear_model/_coordinate_descent.py:678: ConvergenceWarning: Objective did not converge. You might want to increase the number of iterations, check the scale of the features or consider increasing regularisation. Duality gap: 8.427e+04, tolerance: 6.513e+01\n",
      "  model = cd_fast.enet_coordinate_descent(\n"
     ]
    },
    {
     "name": "stdout",
     "output_type": "stream",
     "text": [
      "(time to fit: 19.12 secs)\n",
      "....fitting PLS (time to fit: 1.71 secs)\n",
      "....fitting PCR (time to fit: 1.01 secs)\n",
      "....fitting SVR "
     ]
    },
    {
     "name": "stderr",
     "output_type": "stream",
     "text": [
      "/project/cper_neon_aop/conda_envs/py_ml_env/lib/python3.9/site-packages/sklearn/svm/_base.py:1237: ConvergenceWarning: Liblinear failed to converge, increase the number of iterations.\n",
      "  warnings.warn(\n"
     ]
    },
    {
     "name": "stdout",
     "output_type": "stream",
     "text": [
      "(time to fit: 4.2 secs)\n",
      "....fitting RF "
     ]
    },
    {
     "name": "stderr",
     "output_type": "stream",
     "text": [
      "/project/cper_neon_aop/conda_envs/py_ml_env/lib/python3.9/site-packages/distributed/client.py:3157: UserWarning: Sending large graph of size 19.71 MiB.\n",
      "This may cause some slowdown.\n",
      "Consider scattering data ahead of time and using futures.\n",
      "  warnings.warn(\n"
     ]
    },
    {
     "name": "stdout",
     "output_type": "stream",
     "text": [
      "(time to fit: 50.76 secs)\n",
      "Skipping GBR, params not set to fit.\n",
      "....fitting HGBR (time to fit: 8.04 secs)\n",
      "Skipping MLP, params not set to fit.\n",
      "Skipping DNN, params not set to fit.\n",
      "7\n",
      "....fitting CPER_2022 (time to fit: 0.07 secs)\n",
      "....fitting OLS_2022 (time to fit: 0.1 secs)\n",
      "....fitting OLS (time to fit: 13.88 secs)\n",
      "....fitting LASSO "
     ]
    },
    {
     "name": "stderr",
     "output_type": "stream",
     "text": [
      "/project/cper_neon_aop/conda_envs/py_ml_env/lib/python3.9/site-packages/distributed/client.py:3157: UserWarning: Sending large graph of size 27.75 MiB.\n",
      "This may cause some slowdown.\n",
      "Consider scattering data ahead of time and using futures.\n",
      "  warnings.warn(\n",
      "/project/cper_neon_aop/conda_envs/py_ml_env/lib/python3.9/site-packages/distributed/client.py:3157: UserWarning: Sending large graph of size 27.10 MiB.\n",
      "This may cause some slowdown.\n",
      "Consider scattering data ahead of time and using futures.\n",
      "  warnings.warn(\n",
      "/project/cper_neon_aop/conda_envs/py_ml_env/lib/python3.9/site-packages/sklearn/linear_model/_coordinate_descent.py:678: ConvergenceWarning: Objective did not converge. You might want to increase the number of iterations, check the scale of the features or consider increasing regularisation. Duality gap: 8.610e+04, tolerance: 6.925e+01\n",
      "  model = cd_fast.enet_coordinate_descent(\n"
     ]
    },
    {
     "name": "stdout",
     "output_type": "stream",
     "text": [
      "(time to fit: 18.7 secs)\n",
      "....fitting PLS (time to fit: 0.63 secs)\n",
      "....fitting PCR (time to fit: 3.7 secs)\n",
      "....fitting SVR "
     ]
    },
    {
     "name": "stderr",
     "output_type": "stream",
     "text": [
      "/project/cper_neon_aop/conda_envs/py_ml_env/lib/python3.9/site-packages/sklearn/svm/_base.py:1237: ConvergenceWarning: Liblinear failed to converge, increase the number of iterations.\n",
      "  warnings.warn(\n"
     ]
    },
    {
     "name": "stdout",
     "output_type": "stream",
     "text": [
      "(time to fit: 3.36 secs)\n",
      "....fitting RF "
     ]
    },
    {
     "name": "stderr",
     "output_type": "stream",
     "text": [
      "/project/cper_neon_aop/conda_envs/py_ml_env/lib/python3.9/site-packages/distributed/client.py:3157: UserWarning: Sending large graph of size 10.44 MiB.\n",
      "This may cause some slowdown.\n",
      "Consider scattering data ahead of time and using futures.\n",
      "  warnings.warn(\n"
     ]
    },
    {
     "name": "stdout",
     "output_type": "stream",
     "text": [
      "(time to fit: 59.17 secs)\n",
      "Skipping GBR, params not set to fit.\n",
      "....fitting HGBR (time to fit: 8.58 secs)\n",
      "Skipping MLP, params not set to fit.\n",
      "Skipping DNN, params not set to fit.\n",
      "8\n",
      "....fitting CPER_2022 (time to fit: 0.03 secs)\n",
      "....fitting OLS_2022 (time to fit: 0.11 secs)\n",
      "....fitting OLS (time to fit: 14.0 secs)\n",
      "....fitting LASSO "
     ]
    },
    {
     "name": "stderr",
     "output_type": "stream",
     "text": [
      "/project/cper_neon_aop/conda_envs/py_ml_env/lib/python3.9/site-packages/distributed/client.py:3157: UserWarning: Sending large graph of size 27.75 MiB.\n",
      "This may cause some slowdown.\n",
      "Consider scattering data ahead of time and using futures.\n",
      "  warnings.warn(\n",
      "/project/cper_neon_aop/conda_envs/py_ml_env/lib/python3.9/site-packages/distributed/client.py:3157: UserWarning: Sending large graph of size 27.10 MiB.\n",
      "This may cause some slowdown.\n",
      "Consider scattering data ahead of time and using futures.\n",
      "  warnings.warn(\n",
      "/project/cper_neon_aop/conda_envs/py_ml_env/lib/python3.9/site-packages/sklearn/linear_model/_coordinate_descent.py:678: ConvergenceWarning: Objective did not converge. You might want to increase the number of iterations, check the scale of the features or consider increasing regularisation. Duality gap: 6.606e+04, tolerance: 5.373e+01\n",
      "  model = cd_fast.enet_coordinate_descent(\n"
     ]
    },
    {
     "name": "stdout",
     "output_type": "stream",
     "text": [
      "(time to fit: 18.69 secs)\n",
      "....fitting PLS (time to fit: 0.58 secs)\n",
      "....fitting PCR (time to fit: 0.76 secs)\n",
      "....fitting SVR "
     ]
    },
    {
     "name": "stderr",
     "output_type": "stream",
     "text": [
      "/project/cper_neon_aop/conda_envs/py_ml_env/lib/python3.9/site-packages/sklearn/svm/_base.py:1237: ConvergenceWarning: Liblinear failed to converge, increase the number of iterations.\n",
      "  warnings.warn(\n"
     ]
    },
    {
     "name": "stdout",
     "output_type": "stream",
     "text": [
      "(time to fit: 4.04 secs)\n",
      "....fitting RF "
     ]
    },
    {
     "name": "stderr",
     "output_type": "stream",
     "text": [
      "/project/cper_neon_aop/conda_envs/py_ml_env/lib/python3.9/site-packages/distributed/client.py:3157: UserWarning: Sending large graph of size 17.84 MiB.\n",
      "This may cause some slowdown.\n",
      "Consider scattering data ahead of time and using futures.\n",
      "  warnings.warn(\n"
     ]
    },
    {
     "name": "stdout",
     "output_type": "stream",
     "text": [
      "(time to fit: 57.97 secs)\n",
      "Skipping GBR, params not set to fit.\n",
      "....fitting HGBR (time to fit: 8.79 secs)\n",
      "Skipping MLP, params not set to fit.\n",
      "Skipping DNN, params not set to fit.\n",
      "9\n",
      "....fitting CPER_2022 (time to fit: 0.02 secs)\n",
      "....fitting OLS_2022 (time to fit: 0.03 secs)\n",
      "....fitting OLS (time to fit: 13.87 secs)\n",
      "....fitting LASSO "
     ]
    },
    {
     "name": "stderr",
     "output_type": "stream",
     "text": [
      "/project/cper_neon_aop/conda_envs/py_ml_env/lib/python3.9/site-packages/distributed/client.py:3157: UserWarning: Sending large graph of size 27.75 MiB.\n",
      "This may cause some slowdown.\n",
      "Consider scattering data ahead of time and using futures.\n",
      "  warnings.warn(\n",
      "/project/cper_neon_aop/conda_envs/py_ml_env/lib/python3.9/site-packages/distributed/client.py:3157: UserWarning: Sending large graph of size 27.10 MiB.\n",
      "This may cause some slowdown.\n",
      "Consider scattering data ahead of time and using futures.\n",
      "  warnings.warn(\n",
      "/project/cper_neon_aop/conda_envs/py_ml_env/lib/python3.9/site-packages/sklearn/linear_model/_coordinate_descent.py:678: ConvergenceWarning: Objective did not converge. You might want to increase the number of iterations, check the scale of the features or consider increasing regularisation. Duality gap: 8.564e+04, tolerance: 7.376e+01\n",
      "  model = cd_fast.enet_coordinate_descent(\n"
     ]
    },
    {
     "name": "stdout",
     "output_type": "stream",
     "text": [
      "(time to fit: 18.82 secs)\n",
      "....fitting PLS (time to fit: 0.61 secs)\n",
      "....fitting PCR (time to fit: 0.71 secs)\n",
      "....fitting SVR "
     ]
    },
    {
     "name": "stderr",
     "output_type": "stream",
     "text": [
      "/project/cper_neon_aop/conda_envs/py_ml_env/lib/python3.9/site-packages/sklearn/svm/_base.py:1237: ConvergenceWarning: Liblinear failed to converge, increase the number of iterations.\n",
      "  warnings.warn(\n"
     ]
    },
    {
     "name": "stdout",
     "output_type": "stream",
     "text": [
      "(time to fit: 3.96 secs)\n",
      "....fitting RF "
     ]
    },
    {
     "name": "stderr",
     "output_type": "stream",
     "text": [
      "/project/cper_neon_aop/conda_envs/py_ml_env/lib/python3.9/site-packages/distributed/client.py:3157: UserWarning: Sending large graph of size 19.95 MiB.\n",
      "This may cause some slowdown.\n",
      "Consider scattering data ahead of time and using futures.\n",
      "  warnings.warn(\n"
     ]
    },
    {
     "name": "stdout",
     "output_type": "stream",
     "text": [
      "(time to fit: 52.4 secs)\n",
      "Skipping GBR, params not set to fit.\n",
      "....fitting HGBR (time to fit: 8.35 secs)\n",
      "Skipping MLP, params not set to fit.\n",
      "Skipping DNN, params not set to fit.\n",
      "Running using Kmeans clusters resampled with random distance factor of 75\n",
      "0\n",
      "....fitting CPER_2022 (time to fit: 0.02 secs)\n",
      "....fitting OLS_2022 (time to fit: 0.03 secs)\n",
      "....fitting OLS "
     ]
    },
    {
     "name": "stderr",
     "output_type": "stream",
     "text": [
      "/project/cper_neon_aop/hls_nrt/fit/ml_setup.py:585: FutureWarning: The behavior of DataFrame concatenation with empty or all-NA entries is deprecated. In a future version, this will no longer exclude empty or all-NA columns when determining the result dtypes. To retain the old behavior, exclude the relevant entries before the concat operation.\n",
      "  mod_dict[k]['formula_df'] = pd.concat([mod_dict[k]['formula_df'], pd.concat(df_results[0])])\n"
     ]
    },
    {
     "name": "stdout",
     "output_type": "stream",
     "text": [
      "(time to fit: 14.23 secs)\n",
      "....fitting LASSO "
     ]
    },
    {
     "name": "stderr",
     "output_type": "stream",
     "text": [
      "/project/cper_neon_aop/conda_envs/py_ml_env/lib/python3.9/site-packages/distributed/client.py:3157: UserWarning: Sending large graph of size 27.74 MiB.\n",
      "This may cause some slowdown.\n",
      "Consider scattering data ahead of time and using futures.\n",
      "  warnings.warn(\n",
      "/project/cper_neon_aop/conda_envs/py_ml_env/lib/python3.9/site-packages/distributed/client.py:3157: UserWarning: Sending large graph of size 27.10 MiB.\n",
      "This may cause some slowdown.\n",
      "Consider scattering data ahead of time and using futures.\n",
      "  warnings.warn(\n",
      "/project/cper_neon_aop/conda_envs/py_ml_env/lib/python3.9/site-packages/sklearn/linear_model/_coordinate_descent.py:678: ConvergenceWarning: Objective did not converge. You might want to increase the number of iterations, check the scale of the features or consider increasing regularisation. Duality gap: 8.320e+04, tolerance: 7.028e+01\n",
      "  model = cd_fast.enet_coordinate_descent(\n",
      "/project/cper_neon_aop/hls_nrt/fit/ml_setup.py:671: FutureWarning: The behavior of DataFrame concatenation with empty or all-NA entries is deprecated. In a future version, this will no longer exclude empty or all-NA columns when determining the result dtypes. To retain the old behavior, exclude the relevant entries before the concat operation.\n",
      "  mod_dict[k]['variable_df'] = pd.concat([mod_dict[k]['variable_df'],\n"
     ]
    },
    {
     "name": "stdout",
     "output_type": "stream",
     "text": [
      "(time to fit: 18.91 secs)\n",
      "....fitting PLS "
     ]
    },
    {
     "name": "stderr",
     "output_type": "stream",
     "text": [
      "/project/cper_neon_aop/hls_nrt/fit/ml_setup.py:692: FutureWarning: The behavior of DataFrame concatenation with empty or all-NA entries is deprecated. In a future version, this will no longer exclude empty or all-NA columns when determining the result dtypes. To retain the old behavior, exclude the relevant entries before the concat operation.\n",
      "  mod_dict[k]['variable_df'] = pd.concat([mod_dict[k]['variable_df'],\n"
     ]
    },
    {
     "name": "stdout",
     "output_type": "stream",
     "text": [
      "(time to fit: 0.59 secs)\n",
      "....fitting PCR "
     ]
    },
    {
     "name": "stderr",
     "output_type": "stream",
     "text": [
      "/project/cper_neon_aop/hls_nrt/fit/ml_setup.py:703: FutureWarning: The behavior of DataFrame concatenation with empty or all-NA entries is deprecated. In a future version, this will no longer exclude empty or all-NA columns when determining the result dtypes. To retain the old behavior, exclude the relevant entries before the concat operation.\n",
      "  mod_dict[k]['variable_df'] = pd.concat([mod_dict[k]['variable_df'],\n"
     ]
    },
    {
     "name": "stdout",
     "output_type": "stream",
     "text": [
      "(time to fit: 0.73 secs)\n",
      "....fitting SVR "
     ]
    },
    {
     "name": "stderr",
     "output_type": "stream",
     "text": [
      "/project/cper_neon_aop/conda_envs/py_ml_env/lib/python3.9/site-packages/sklearn/svm/_base.py:1237: ConvergenceWarning: Liblinear failed to converge, increase the number of iterations.\n",
      "  warnings.warn(\n",
      "/project/cper_neon_aop/hls_nrt/fit/ml_setup.py:708: FutureWarning: The behavior of DataFrame concatenation with empty or all-NA entries is deprecated. In a future version, this will no longer exclude empty or all-NA columns when determining the result dtypes. To retain the old behavior, exclude the relevant entries before the concat operation.\n",
      "  mod_dict[k]['variable_df'] = pd.concat([mod_dict[k]['variable_df'],\n"
     ]
    },
    {
     "name": "stdout",
     "output_type": "stream",
     "text": [
      "(time to fit: 3.28 secs)\n",
      "....fitting RF "
     ]
    },
    {
     "name": "stderr",
     "output_type": "stream",
     "text": [
      "/project/cper_neon_aop/hls_nrt/fit/ml_setup.py:714: FutureWarning: The behavior of DataFrame concatenation with empty or all-NA entries is deprecated. In a future version, this will no longer exclude empty or all-NA columns when determining the result dtypes. To retain the old behavior, exclude the relevant entries before the concat operation.\n",
      "  mod_dict[k]['variable_df'] = pd.concat([mod_dict[k]['variable_df'],\n"
     ]
    },
    {
     "name": "stdout",
     "output_type": "stream",
     "text": [
      "(time to fit: 53.91 secs)\n",
      "Skipping GBR, params not set to fit.\n",
      "....fitting HGBR (time to fit: 7.9 secs)\n",
      "Skipping MLP, params not set to fit.\n",
      "Skipping DNN, params not set to fit.\n",
      "1\n",
      "....fitting CPER_2022 (time to fit: 0.02 secs)\n",
      "....fitting OLS_2022 (time to fit: 0.03 secs)\n",
      "....fitting OLS (time to fit: 13.92 secs)\n",
      "....fitting LASSO "
     ]
    },
    {
     "name": "stderr",
     "output_type": "stream",
     "text": [
      "/project/cper_neon_aop/conda_envs/py_ml_env/lib/python3.9/site-packages/distributed/client.py:3157: UserWarning: Sending large graph of size 27.75 MiB.\n",
      "This may cause some slowdown.\n",
      "Consider scattering data ahead of time and using futures.\n",
      "  warnings.warn(\n",
      "/project/cper_neon_aop/conda_envs/py_ml_env/lib/python3.9/site-packages/distributed/client.py:3157: UserWarning: Sending large graph of size 27.10 MiB.\n",
      "This may cause some slowdown.\n",
      "Consider scattering data ahead of time and using futures.\n",
      "  warnings.warn(\n",
      "/project/cper_neon_aop/conda_envs/py_ml_env/lib/python3.9/site-packages/sklearn/linear_model/_coordinate_descent.py:678: ConvergenceWarning: Objective did not converge. You might want to increase the number of iterations, check the scale of the features or consider increasing regularisation. Duality gap: 8.903e+04, tolerance: 6.824e+01\n",
      "  model = cd_fast.enet_coordinate_descent(\n"
     ]
    },
    {
     "name": "stdout",
     "output_type": "stream",
     "text": [
      "(time to fit: 19.11 secs)\n",
      "....fitting PLS (time to fit: 0.57 secs)\n",
      "....fitting PCR (time to fit: 1.15 secs)\n",
      "....fitting SVR "
     ]
    },
    {
     "name": "stderr",
     "output_type": "stream",
     "text": [
      "/project/cper_neon_aop/conda_envs/py_ml_env/lib/python3.9/site-packages/sklearn/svm/_base.py:1237: ConvergenceWarning: Liblinear failed to converge, increase the number of iterations.\n",
      "  warnings.warn(\n"
     ]
    },
    {
     "name": "stdout",
     "output_type": "stream",
     "text": [
      "(time to fit: 3.2 secs)\n",
      "....fitting RF "
     ]
    },
    {
     "name": "stderr",
     "output_type": "stream",
     "text": [
      "/project/cper_neon_aop/conda_envs/py_ml_env/lib/python3.9/site-packages/distributed/client.py:3157: UserWarning: Sending large graph of size 19.92 MiB.\n",
      "This may cause some slowdown.\n",
      "Consider scattering data ahead of time and using futures.\n",
      "  warnings.warn(\n"
     ]
    },
    {
     "name": "stdout",
     "output_type": "stream",
     "text": [
      "(time to fit: 55.93 secs)\n",
      "Skipping GBR, params not set to fit.\n",
      "....fitting HGBR (time to fit: 8.31 secs)\n",
      "Skipping MLP, params not set to fit.\n",
      "Skipping DNN, params not set to fit.\n",
      "2\n",
      "....fitting CPER_2022 (time to fit: 0.02 secs)\n",
      "....fitting OLS_2022 (time to fit: 0.03 secs)\n",
      "....fitting OLS (time to fit: 14.04 secs)\n",
      "....fitting LASSO "
     ]
    },
    {
     "name": "stderr",
     "output_type": "stream",
     "text": [
      "/project/cper_neon_aop/conda_envs/py_ml_env/lib/python3.9/site-packages/distributed/client.py:3157: UserWarning: Sending large graph of size 27.75 MiB.\n",
      "This may cause some slowdown.\n",
      "Consider scattering data ahead of time and using futures.\n",
      "  warnings.warn(\n",
      "/project/cper_neon_aop/conda_envs/py_ml_env/lib/python3.9/site-packages/distributed/client.py:3157: UserWarning: Sending large graph of size 27.10 MiB.\n",
      "This may cause some slowdown.\n",
      "Consider scattering data ahead of time and using futures.\n",
      "  warnings.warn(\n",
      "/project/cper_neon_aop/conda_envs/py_ml_env/lib/python3.9/site-packages/sklearn/linear_model/_coordinate_descent.py:678: ConvergenceWarning: Objective did not converge. You might want to increase the number of iterations, check the scale of the features or consider increasing regularisation. Duality gap: 8.540e+04, tolerance: 7.071e+01\n",
      "  model = cd_fast.enet_coordinate_descent(\n"
     ]
    },
    {
     "name": "stdout",
     "output_type": "stream",
     "text": [
      "(time to fit: 19.11 secs)\n",
      "....fitting PLS (time to fit: 0.87 secs)\n",
      "....fitting PCR (time to fit: 1.01 secs)\n",
      "....fitting SVR "
     ]
    },
    {
     "name": "stderr",
     "output_type": "stream",
     "text": [
      "/project/cper_neon_aop/conda_envs/py_ml_env/lib/python3.9/site-packages/sklearn/svm/_base.py:1237: ConvergenceWarning: Liblinear failed to converge, increase the number of iterations.\n",
      "  warnings.warn(\n"
     ]
    },
    {
     "name": "stdout",
     "output_type": "stream",
     "text": [
      "(time to fit: 3.99 secs)\n",
      "....fitting RF "
     ]
    },
    {
     "name": "stderr",
     "output_type": "stream",
     "text": [
      "/project/cper_neon_aop/conda_envs/py_ml_env/lib/python3.9/site-packages/distributed/client.py:3157: UserWarning: Sending large graph of size 19.82 MiB.\n",
      "This may cause some slowdown.\n",
      "Consider scattering data ahead of time and using futures.\n",
      "  warnings.warn(\n"
     ]
    },
    {
     "name": "stdout",
     "output_type": "stream",
     "text": [
      "(time to fit: 56.78 secs)\n",
      "Skipping GBR, params not set to fit.\n",
      "....fitting HGBR (time to fit: 8.07 secs)\n",
      "Skipping MLP, params not set to fit.\n",
      "Skipping DNN, params not set to fit.\n",
      "3\n",
      "....fitting CPER_2022 (time to fit: 0.02 secs)\n",
      "....fitting OLS_2022 (time to fit: 0.09 secs)\n",
      "....fitting OLS (time to fit: 13.4 secs)\n",
      "....fitting LASSO "
     ]
    },
    {
     "name": "stderr",
     "output_type": "stream",
     "text": [
      "/project/cper_neon_aop/conda_envs/py_ml_env/lib/python3.9/site-packages/distributed/client.py:3157: UserWarning: Sending large graph of size 27.75 MiB.\n",
      "This may cause some slowdown.\n",
      "Consider scattering data ahead of time and using futures.\n",
      "  warnings.warn(\n",
      "/project/cper_neon_aop/conda_envs/py_ml_env/lib/python3.9/site-packages/distributed/client.py:3157: UserWarning: Sending large graph of size 27.10 MiB.\n",
      "This may cause some slowdown.\n",
      "Consider scattering data ahead of time and using futures.\n",
      "  warnings.warn(\n",
      "/project/cper_neon_aop/conda_envs/py_ml_env/lib/python3.9/site-packages/sklearn/linear_model/_coordinate_descent.py:678: ConvergenceWarning: Objective did not converge. You might want to increase the number of iterations, check the scale of the features or consider increasing regularisation. Duality gap: 8.566e+04, tolerance: 7.208e+01\n",
      "  model = cd_fast.enet_coordinate_descent(\n"
     ]
    },
    {
     "name": "stdout",
     "output_type": "stream",
     "text": [
      "(time to fit: 19.09 secs)\n",
      "....fitting PLS (time to fit: 0.58 secs)\n",
      "....fitting PCR (time to fit: 0.76 secs)\n",
      "....fitting SVR "
     ]
    },
    {
     "name": "stderr",
     "output_type": "stream",
     "text": [
      "/project/cper_neon_aop/conda_envs/py_ml_env/lib/python3.9/site-packages/sklearn/svm/_base.py:1237: ConvergenceWarning: Liblinear failed to converge, increase the number of iterations.\n",
      "  warnings.warn(\n"
     ]
    },
    {
     "name": "stdout",
     "output_type": "stream",
     "text": [
      "(time to fit: 3.24 secs)\n",
      "....fitting RF "
     ]
    },
    {
     "name": "stderr",
     "output_type": "stream",
     "text": [
      "/project/cper_neon_aop/conda_envs/py_ml_env/lib/python3.9/site-packages/distributed/client.py:3157: UserWarning: Sending large graph of size 17.94 MiB.\n",
      "This may cause some slowdown.\n",
      "Consider scattering data ahead of time and using futures.\n",
      "  warnings.warn(\n"
     ]
    },
    {
     "name": "stdout",
     "output_type": "stream",
     "text": [
      "(time to fit: 54.29 secs)\n",
      "Skipping GBR, params not set to fit.\n",
      "....fitting HGBR (time to fit: 7.95 secs)\n",
      "Skipping MLP, params not set to fit.\n",
      "Skipping DNN, params not set to fit.\n",
      "4\n",
      "....fitting CPER_2022 (time to fit: 0.02 secs)\n",
      "....fitting OLS_2022 (time to fit: 0.04 secs)\n",
      "....fitting OLS (time to fit: 13.91 secs)\n",
      "....fitting LASSO "
     ]
    },
    {
     "name": "stderr",
     "output_type": "stream",
     "text": [
      "/project/cper_neon_aop/conda_envs/py_ml_env/lib/python3.9/site-packages/distributed/client.py:3157: UserWarning: Sending large graph of size 27.73 MiB.\n",
      "This may cause some slowdown.\n",
      "Consider scattering data ahead of time and using futures.\n",
      "  warnings.warn(\n",
      "/project/cper_neon_aop/conda_envs/py_ml_env/lib/python3.9/site-packages/distributed/client.py:3157: UserWarning: Sending large graph of size 27.07 MiB.\n",
      "This may cause some slowdown.\n",
      "Consider scattering data ahead of time and using futures.\n",
      "  warnings.warn(\n",
      "/project/cper_neon_aop/conda_envs/py_ml_env/lib/python3.9/site-packages/sklearn/linear_model/_coordinate_descent.py:678: ConvergenceWarning: Objective did not converge. You might want to increase the number of iterations, check the scale of the features or consider increasing regularisation. Duality gap: 8.786e+04, tolerance: 7.267e+01\n",
      "  model = cd_fast.enet_coordinate_descent(\n"
     ]
    },
    {
     "name": "stdout",
     "output_type": "stream",
     "text": [
      "(time to fit: 18.97 secs)\n",
      "....fitting PLS (time to fit: 1.06 secs)\n",
      "....fitting PCR (time to fit: 0.72 secs)\n",
      "....fitting SVR "
     ]
    },
    {
     "name": "stderr",
     "output_type": "stream",
     "text": [
      "/project/cper_neon_aop/conda_envs/py_ml_env/lib/python3.9/site-packages/sklearn/svm/_base.py:1237: ConvergenceWarning: Liblinear failed to converge, increase the number of iterations.\n",
      "  warnings.warn(\n"
     ]
    },
    {
     "name": "stdout",
     "output_type": "stream",
     "text": [
      "(time to fit: 3.13 secs)\n",
      "....fitting RF "
     ]
    },
    {
     "name": "stderr",
     "output_type": "stream",
     "text": [
      "/project/cper_neon_aop/conda_envs/py_ml_env/lib/python3.9/site-packages/distributed/client.py:3157: UserWarning: Sending large graph of size 19.95 MiB.\n",
      "This may cause some slowdown.\n",
      "Consider scattering data ahead of time and using futures.\n",
      "  warnings.warn(\n"
     ]
    },
    {
     "name": "stdout",
     "output_type": "stream",
     "text": [
      "(time to fit: 53.64 secs)\n",
      "Skipping GBR, params not set to fit.\n",
      "....fitting HGBR (time to fit: 8.2 secs)\n",
      "Skipping MLP, params not set to fit.\n",
      "Skipping DNN, params not set to fit.\n",
      "5\n",
      "....fitting CPER_2022 (time to fit: 0.02 secs)\n",
      "....fitting OLS_2022 (time to fit: 0.03 secs)\n",
      "....fitting OLS (time to fit: 14.01 secs)\n",
      "....fitting LASSO "
     ]
    },
    {
     "name": "stderr",
     "output_type": "stream",
     "text": [
      "/project/cper_neon_aop/conda_envs/py_ml_env/lib/python3.9/site-packages/distributed/client.py:3157: UserWarning: Sending large graph of size 27.75 MiB.\n",
      "This may cause some slowdown.\n",
      "Consider scattering data ahead of time and using futures.\n",
      "  warnings.warn(\n",
      "/project/cper_neon_aop/conda_envs/py_ml_env/lib/python3.9/site-packages/distributed/client.py:3157: UserWarning: Sending large graph of size 27.10 MiB.\n",
      "This may cause some slowdown.\n",
      "Consider scattering data ahead of time and using futures.\n",
      "  warnings.warn(\n",
      "/project/cper_neon_aop/conda_envs/py_ml_env/lib/python3.9/site-packages/sklearn/linear_model/_coordinate_descent.py:678: ConvergenceWarning: Objective did not converge. You might want to increase the number of iterations, check the scale of the features or consider increasing regularisation. Duality gap: 8.208e+04, tolerance: 6.038e+01\n",
      "  model = cd_fast.enet_coordinate_descent(\n"
     ]
    },
    {
     "name": "stdout",
     "output_type": "stream",
     "text": [
      "(time to fit: 19.06 secs)\n",
      "....fitting PLS (time to fit: 0.61 secs)\n",
      "....fitting PCR (time to fit: 0.75 secs)\n",
      "....fitting SVR "
     ]
    },
    {
     "name": "stderr",
     "output_type": "stream",
     "text": [
      "/project/cper_neon_aop/conda_envs/py_ml_env/lib/python3.9/site-packages/sklearn/svm/_base.py:1237: ConvergenceWarning: Liblinear failed to converge, increase the number of iterations.\n",
      "  warnings.warn(\n"
     ]
    },
    {
     "name": "stdout",
     "output_type": "stream",
     "text": [
      "(time to fit: 3.24 secs)\n",
      "....fitting RF "
     ]
    },
    {
     "name": "stderr",
     "output_type": "stream",
     "text": [
      "/project/cper_neon_aop/conda_envs/py_ml_env/lib/python3.9/site-packages/distributed/client.py:3157: UserWarning: Sending large graph of size 19.93 MiB.\n",
      "This may cause some slowdown.\n",
      "Consider scattering data ahead of time and using futures.\n",
      "  warnings.warn(\n"
     ]
    },
    {
     "name": "stdout",
     "output_type": "stream",
     "text": [
      "(time to fit: 52.79 secs)\n",
      "Skipping GBR, params not set to fit.\n",
      "....fitting HGBR (time to fit: 8.63 secs)\n",
      "Skipping MLP, params not set to fit.\n",
      "Skipping DNN, params not set to fit.\n",
      "6\n",
      "....fitting CPER_2022 (time to fit: 0.02 secs)\n",
      "....fitting OLS_2022 (time to fit: 0.03 secs)\n",
      "....fitting OLS (time to fit: 14.05 secs)\n",
      "....fitting LASSO "
     ]
    },
    {
     "name": "stderr",
     "output_type": "stream",
     "text": [
      "/project/cper_neon_aop/conda_envs/py_ml_env/lib/python3.9/site-packages/distributed/client.py:3157: UserWarning: Sending large graph of size 27.75 MiB.\n",
      "This may cause some slowdown.\n",
      "Consider scattering data ahead of time and using futures.\n",
      "  warnings.warn(\n",
      "/project/cper_neon_aop/conda_envs/py_ml_env/lib/python3.9/site-packages/distributed/client.py:3157: UserWarning: Sending large graph of size 27.10 MiB.\n",
      "This may cause some slowdown.\n",
      "Consider scattering data ahead of time and using futures.\n",
      "  warnings.warn(\n",
      "/project/cper_neon_aop/conda_envs/py_ml_env/lib/python3.9/site-packages/sklearn/linear_model/_coordinate_descent.py:678: ConvergenceWarning: Objective did not converge. You might want to increase the number of iterations, check the scale of the features or consider increasing regularisation. Duality gap: 8.226e+04, tolerance: 6.519e+01\n",
      "  model = cd_fast.enet_coordinate_descent(\n"
     ]
    },
    {
     "name": "stdout",
     "output_type": "stream",
     "text": [
      "(time to fit: 19.13 secs)\n",
      "....fitting PLS (time to fit: 0.69 secs)\n",
      "....fitting PCR (time to fit: 0.74 secs)\n",
      "....fitting SVR "
     ]
    },
    {
     "name": "stderr",
     "output_type": "stream",
     "text": [
      "/project/cper_neon_aop/conda_envs/py_ml_env/lib/python3.9/site-packages/sklearn/svm/_base.py:1237: ConvergenceWarning: Liblinear failed to converge, increase the number of iterations.\n",
      "  warnings.warn(\n"
     ]
    },
    {
     "name": "stdout",
     "output_type": "stream",
     "text": [
      "(time to fit: 4.09 secs)\n",
      "....fitting RF "
     ]
    },
    {
     "name": "stderr",
     "output_type": "stream",
     "text": [
      "/project/cper_neon_aop/conda_envs/py_ml_env/lib/python3.9/site-packages/distributed/client.py:3157: UserWarning: Sending large graph of size 20.00 MiB.\n",
      "This may cause some slowdown.\n",
      "Consider scattering data ahead of time and using futures.\n",
      "  warnings.warn(\n"
     ]
    },
    {
     "name": "stdout",
     "output_type": "stream",
     "text": [
      "(time to fit: 54.1 secs)\n",
      "Skipping GBR, params not set to fit.\n",
      "....fitting HGBR (time to fit: 8.1 secs)\n",
      "Skipping MLP, params not set to fit.\n",
      "Skipping DNN, params not set to fit.\n",
      "7\n",
      "....fitting CPER_2022 (time to fit: 0.02 secs)\n",
      "....fitting OLS_2022 (time to fit: 0.03 secs)\n",
      "....fitting OLS (time to fit: 13.43 secs)\n",
      "....fitting LASSO "
     ]
    },
    {
     "name": "stderr",
     "output_type": "stream",
     "text": [
      "/project/cper_neon_aop/conda_envs/py_ml_env/lib/python3.9/site-packages/distributed/client.py:3157: UserWarning: Sending large graph of size 27.75 MiB.\n",
      "This may cause some slowdown.\n",
      "Consider scattering data ahead of time and using futures.\n",
      "  warnings.warn(\n",
      "/project/cper_neon_aop/conda_envs/py_ml_env/lib/python3.9/site-packages/distributed/client.py:3157: UserWarning: Sending large graph of size 27.10 MiB.\n",
      "This may cause some slowdown.\n",
      "Consider scattering data ahead of time and using futures.\n",
      "  warnings.warn(\n",
      "/project/cper_neon_aop/conda_envs/py_ml_env/lib/python3.9/site-packages/sklearn/linear_model/_coordinate_descent.py:678: ConvergenceWarning: Objective did not converge. You might want to increase the number of iterations, check the scale of the features or consider increasing regularisation. Duality gap: 8.383e+04, tolerance: 6.876e+01\n",
      "  model = cd_fast.enet_coordinate_descent(\n"
     ]
    },
    {
     "name": "stdout",
     "output_type": "stream",
     "text": [
      "(time to fit: 19.22 secs)\n",
      "....fitting PLS (time to fit: 0.57 secs)\n",
      "....fitting PCR (time to fit: 0.74 secs)\n",
      "....fitting SVR "
     ]
    },
    {
     "name": "stderr",
     "output_type": "stream",
     "text": [
      "/project/cper_neon_aop/conda_envs/py_ml_env/lib/python3.9/site-packages/sklearn/svm/_base.py:1237: ConvergenceWarning: Liblinear failed to converge, increase the number of iterations.\n",
      "  warnings.warn(\n"
     ]
    },
    {
     "name": "stdout",
     "output_type": "stream",
     "text": [
      "(time to fit: 4.04 secs)\n",
      "....fitting RF "
     ]
    },
    {
     "name": "stderr",
     "output_type": "stream",
     "text": [
      "/project/cper_neon_aop/conda_envs/py_ml_env/lib/python3.9/site-packages/distributed/client.py:3157: UserWarning: Sending large graph of size 18.04 MiB.\n",
      "This may cause some slowdown.\n",
      "Consider scattering data ahead of time and using futures.\n",
      "  warnings.warn(\n"
     ]
    },
    {
     "name": "stdout",
     "output_type": "stream",
     "text": [
      "(time to fit: 57.75 secs)\n",
      "Skipping GBR, params not set to fit.\n",
      "....fitting HGBR (time to fit: 8.67 secs)\n",
      "Skipping MLP, params not set to fit.\n",
      "Skipping DNN, params not set to fit.\n",
      "8\n",
      "....fitting CPER_2022 (time to fit: 0.02 secs)\n",
      "....fitting OLS_2022 (time to fit: 0.03 secs)\n",
      "....fitting OLS (time to fit: 14.14 secs)\n",
      "....fitting LASSO "
     ]
    },
    {
     "name": "stderr",
     "output_type": "stream",
     "text": [
      "/project/cper_neon_aop/conda_envs/py_ml_env/lib/python3.9/site-packages/distributed/client.py:3157: UserWarning: Sending large graph of size 27.75 MiB.\n",
      "This may cause some slowdown.\n",
      "Consider scattering data ahead of time and using futures.\n",
      "  warnings.warn(\n",
      "/project/cper_neon_aop/conda_envs/py_ml_env/lib/python3.9/site-packages/distributed/client.py:3157: UserWarning: Sending large graph of size 27.10 MiB.\n",
      "This may cause some slowdown.\n",
      "Consider scattering data ahead of time and using futures.\n",
      "  warnings.warn(\n",
      "/project/cper_neon_aop/conda_envs/py_ml_env/lib/python3.9/site-packages/sklearn/linear_model/_coordinate_descent.py:678: ConvergenceWarning: Objective did not converge. You might want to increase the number of iterations, check the scale of the features or consider increasing regularisation. Duality gap: 8.381e+04, tolerance: 6.785e+01\n",
      "  model = cd_fast.enet_coordinate_descent(\n"
     ]
    },
    {
     "name": "stdout",
     "output_type": "stream",
     "text": [
      "(time to fit: 18.47 secs)\n",
      "....fitting PLS (time to fit: 0.62 secs)\n",
      "....fitting PCR (time to fit: 0.75 secs)\n",
      "....fitting SVR "
     ]
    },
    {
     "name": "stderr",
     "output_type": "stream",
     "text": [
      "/project/cper_neon_aop/conda_envs/py_ml_env/lib/python3.9/site-packages/sklearn/svm/_base.py:1237: ConvergenceWarning: Liblinear failed to converge, increase the number of iterations.\n",
      "  warnings.warn(\n"
     ]
    },
    {
     "name": "stdout",
     "output_type": "stream",
     "text": [
      "(time to fit: 3.17 secs)\n",
      "....fitting RF "
     ]
    },
    {
     "name": "stderr",
     "output_type": "stream",
     "text": [
      "/project/cper_neon_aop/conda_envs/py_ml_env/lib/python3.9/site-packages/distributed/client.py:3157: UserWarning: Sending large graph of size 19.75 MiB.\n",
      "This may cause some slowdown.\n",
      "Consider scattering data ahead of time and using futures.\n",
      "  warnings.warn(\n"
     ]
    },
    {
     "name": "stdout",
     "output_type": "stream",
     "text": [
      "(time to fit: 59.8 secs)\n",
      "Skipping GBR, params not set to fit.\n",
      "....fitting HGBR (time to fit: 8.16 secs)\n",
      "Skipping MLP, params not set to fit.\n",
      "Skipping DNN, params not set to fit.\n",
      "9\n",
      "....fitting CPER_2022 (time to fit: 0.02 secs)\n",
      "....fitting OLS_2022 (time to fit: 0.03 secs)\n",
      "....fitting OLS (time to fit: 13.99 secs)\n",
      "....fitting LASSO "
     ]
    },
    {
     "name": "stderr",
     "output_type": "stream",
     "text": [
      "/project/cper_neon_aop/conda_envs/py_ml_env/lib/python3.9/site-packages/distributed/client.py:3157: UserWarning: Sending large graph of size 27.75 MiB.\n",
      "This may cause some slowdown.\n",
      "Consider scattering data ahead of time and using futures.\n",
      "  warnings.warn(\n",
      "/project/cper_neon_aop/conda_envs/py_ml_env/lib/python3.9/site-packages/distributed/client.py:3157: UserWarning: Sending large graph of size 27.10 MiB.\n",
      "This may cause some slowdown.\n",
      "Consider scattering data ahead of time and using futures.\n",
      "  warnings.warn(\n",
      "/project/cper_neon_aop/conda_envs/py_ml_env/lib/python3.9/site-packages/sklearn/linear_model/_coordinate_descent.py:678: ConvergenceWarning: Objective did not converge. You might want to increase the number of iterations, check the scale of the features or consider increasing regularisation. Duality gap: 8.410e+04, tolerance: 7.122e+01\n",
      "  model = cd_fast.enet_coordinate_descent(\n"
     ]
    },
    {
     "name": "stdout",
     "output_type": "stream",
     "text": [
      "(time to fit: 19.58 secs)\n",
      "....fitting PLS (time to fit: 0.75 secs)\n",
      "....fitting PCR (time to fit: 0.74 secs)\n",
      "....fitting SVR "
     ]
    },
    {
     "name": "stderr",
     "output_type": "stream",
     "text": [
      "/project/cper_neon_aop/conda_envs/py_ml_env/lib/python3.9/site-packages/sklearn/svm/_base.py:1237: ConvergenceWarning: Liblinear failed to converge, increase the number of iterations.\n",
      "  warnings.warn(\n"
     ]
    },
    {
     "name": "stdout",
     "output_type": "stream",
     "text": [
      "(time to fit: 3.31 secs)\n",
      "....fitting RF "
     ]
    },
    {
     "name": "stderr",
     "output_type": "stream",
     "text": [
      "/project/cper_neon_aop/conda_envs/py_ml_env/lib/python3.9/site-packages/distributed/client.py:3157: UserWarning: Sending large graph of size 19.79 MiB.\n",
      "This may cause some slowdown.\n",
      "Consider scattering data ahead of time and using futures.\n",
      "  warnings.warn(\n"
     ]
    },
    {
     "name": "stdout",
     "output_type": "stream",
     "text": [
      "(time to fit: 56.4 secs)\n",
      "Skipping GBR, params not set to fit.\n",
      "....fitting HGBR (time to fit: 8.71 secs)\n",
      "Skipping MLP, params not set to fit.\n",
      "Skipping DNN, params not set to fit.\n",
      "Running using Kmeans clusters resampled with random distance factor of 50\n",
      "0\n",
      "....fitting CPER_2022 (time to fit: 0.02 secs)\n",
      "....fitting OLS_2022 (time to fit: 0.04 secs)\n",
      "....fitting OLS "
     ]
    },
    {
     "name": "stderr",
     "output_type": "stream",
     "text": [
      "/project/cper_neon_aop/hls_nrt/fit/ml_setup.py:585: FutureWarning: The behavior of DataFrame concatenation with empty or all-NA entries is deprecated. In a future version, this will no longer exclude empty or all-NA columns when determining the result dtypes. To retain the old behavior, exclude the relevant entries before the concat operation.\n",
      "  mod_dict[k]['formula_df'] = pd.concat([mod_dict[k]['formula_df'], pd.concat(df_results[0])])\n"
     ]
    },
    {
     "name": "stdout",
     "output_type": "stream",
     "text": [
      "(time to fit: 13.96 secs)\n",
      "....fitting LASSO "
     ]
    },
    {
     "name": "stderr",
     "output_type": "stream",
     "text": [
      "/project/cper_neon_aop/conda_envs/py_ml_env/lib/python3.9/site-packages/distributed/client.py:3157: UserWarning: Sending large graph of size 27.74 MiB.\n",
      "This may cause some slowdown.\n",
      "Consider scattering data ahead of time and using futures.\n",
      "  warnings.warn(\n",
      "/project/cper_neon_aop/conda_envs/py_ml_env/lib/python3.9/site-packages/distributed/client.py:3157: UserWarning: Sending large graph of size 27.10 MiB.\n",
      "This may cause some slowdown.\n",
      "Consider scattering data ahead of time and using futures.\n",
      "  warnings.warn(\n",
      "/project/cper_neon_aop/conda_envs/py_ml_env/lib/python3.9/site-packages/sklearn/linear_model/_coordinate_descent.py:678: ConvergenceWarning: Objective did not converge. You might want to increase the number of iterations, check the scale of the features or consider increasing regularisation. Duality gap: 8.284e+04, tolerance: 6.938e+01\n",
      "  model = cd_fast.enet_coordinate_descent(\n",
      "/project/cper_neon_aop/hls_nrt/fit/ml_setup.py:671: FutureWarning: The behavior of DataFrame concatenation with empty or all-NA entries is deprecated. In a future version, this will no longer exclude empty or all-NA columns when determining the result dtypes. To retain the old behavior, exclude the relevant entries before the concat operation.\n",
      "  mod_dict[k]['variable_df'] = pd.concat([mod_dict[k]['variable_df'],\n"
     ]
    },
    {
     "name": "stdout",
     "output_type": "stream",
     "text": [
      "(time to fit: 18.56 secs)\n",
      "....fitting PLS "
     ]
    },
    {
     "name": "stderr",
     "output_type": "stream",
     "text": [
      "/project/cper_neon_aop/hls_nrt/fit/ml_setup.py:692: FutureWarning: The behavior of DataFrame concatenation with empty or all-NA entries is deprecated. In a future version, this will no longer exclude empty or all-NA columns when determining the result dtypes. To retain the old behavior, exclude the relevant entries before the concat operation.\n",
      "  mod_dict[k]['variable_df'] = pd.concat([mod_dict[k]['variable_df'],\n"
     ]
    },
    {
     "name": "stdout",
     "output_type": "stream",
     "text": [
      "(time to fit: 0.57 secs)\n",
      "....fitting PCR "
     ]
    },
    {
     "name": "stderr",
     "output_type": "stream",
     "text": [
      "/project/cper_neon_aop/hls_nrt/fit/ml_setup.py:703: FutureWarning: The behavior of DataFrame concatenation with empty or all-NA entries is deprecated. In a future version, this will no longer exclude empty or all-NA columns when determining the result dtypes. To retain the old behavior, exclude the relevant entries before the concat operation.\n",
      "  mod_dict[k]['variable_df'] = pd.concat([mod_dict[k]['variable_df'],\n"
     ]
    },
    {
     "name": "stdout",
     "output_type": "stream",
     "text": [
      "(time to fit: 0.77 secs)\n",
      "....fitting SVR "
     ]
    },
    {
     "name": "stderr",
     "output_type": "stream",
     "text": [
      "/project/cper_neon_aop/conda_envs/py_ml_env/lib/python3.9/site-packages/sklearn/svm/_base.py:1237: ConvergenceWarning: Liblinear failed to converge, increase the number of iterations.\n",
      "  warnings.warn(\n",
      "/project/cper_neon_aop/hls_nrt/fit/ml_setup.py:708: FutureWarning: The behavior of DataFrame concatenation with empty or all-NA entries is deprecated. In a future version, this will no longer exclude empty or all-NA columns when determining the result dtypes. To retain the old behavior, exclude the relevant entries before the concat operation.\n",
      "  mod_dict[k]['variable_df'] = pd.concat([mod_dict[k]['variable_df'],\n"
     ]
    },
    {
     "name": "stdout",
     "output_type": "stream",
     "text": [
      "(time to fit: 3.4 secs)\n",
      "....fitting RF "
     ]
    },
    {
     "name": "stderr",
     "output_type": "stream",
     "text": [
      "/project/cper_neon_aop/hls_nrt/fit/ml_setup.py:714: FutureWarning: The behavior of DataFrame concatenation with empty or all-NA entries is deprecated. In a future version, this will no longer exclude empty or all-NA columns when determining the result dtypes. To retain the old behavior, exclude the relevant entries before the concat operation.\n",
      "  mod_dict[k]['variable_df'] = pd.concat([mod_dict[k]['variable_df'],\n"
     ]
    },
    {
     "name": "stdout",
     "output_type": "stream",
     "text": [
      "(time to fit: 51.02 secs)\n",
      "Skipping GBR, params not set to fit.\n",
      "....fitting HGBR (time to fit: 8.1 secs)\n",
      "Skipping MLP, params not set to fit.\n",
      "Skipping DNN, params not set to fit.\n",
      "1\n",
      "....fitting CPER_2022 (time to fit: 0.02 secs)\n",
      "....fitting OLS_2022 (time to fit: 0.03 secs)\n",
      "....fitting OLS (time to fit: 13.93 secs)\n",
      "....fitting LASSO "
     ]
    },
    {
     "name": "stderr",
     "output_type": "stream",
     "text": [
      "/project/cper_neon_aop/conda_envs/py_ml_env/lib/python3.9/site-packages/distributed/client.py:3157: UserWarning: Sending large graph of size 27.75 MiB.\n",
      "This may cause some slowdown.\n",
      "Consider scattering data ahead of time and using futures.\n",
      "  warnings.warn(\n",
      "/project/cper_neon_aop/conda_envs/py_ml_env/lib/python3.9/site-packages/distributed/client.py:3157: UserWarning: Sending large graph of size 27.10 MiB.\n",
      "This may cause some slowdown.\n",
      "Consider scattering data ahead of time and using futures.\n",
      "  warnings.warn(\n",
      "/project/cper_neon_aop/conda_envs/py_ml_env/lib/python3.9/site-packages/sklearn/linear_model/_coordinate_descent.py:678: ConvergenceWarning: Objective did not converge. You might want to increase the number of iterations, check the scale of the features or consider increasing regularisation. Duality gap: 8.849e+04, tolerance: 6.847e+01\n",
      "  model = cd_fast.enet_coordinate_descent(\n"
     ]
    },
    {
     "name": "stdout",
     "output_type": "stream",
     "text": [
      "(time to fit: 19.1 secs)\n",
      "....fitting PLS (time to fit: 0.73 secs)\n",
      "....fitting PCR (time to fit: 0.68 secs)\n",
      "....fitting SVR "
     ]
    },
    {
     "name": "stderr",
     "output_type": "stream",
     "text": [
      "/project/cper_neon_aop/conda_envs/py_ml_env/lib/python3.9/site-packages/sklearn/svm/_base.py:1237: ConvergenceWarning: Liblinear failed to converge, increase the number of iterations.\n",
      "  warnings.warn(\n"
     ]
    },
    {
     "name": "stdout",
     "output_type": "stream",
     "text": [
      "(time to fit: 4.22 secs)\n",
      "....fitting RF "
     ]
    },
    {
     "name": "stderr",
     "output_type": "stream",
     "text": [
      "/project/cper_neon_aop/conda_envs/py_ml_env/lib/python3.9/site-packages/distributed/client.py:3157: UserWarning: Sending large graph of size 19.90 MiB.\n",
      "This may cause some slowdown.\n",
      "Consider scattering data ahead of time and using futures.\n",
      "  warnings.warn(\n"
     ]
    },
    {
     "name": "stdout",
     "output_type": "stream",
     "text": [
      "(time to fit: 54.73 secs)\n",
      "Skipping GBR, params not set to fit.\n",
      "....fitting HGBR (time to fit: 8.19 secs)\n",
      "Skipping MLP, params not set to fit.\n",
      "Skipping DNN, params not set to fit.\n",
      "2\n",
      "....fitting CPER_2022 (time to fit: 0.02 secs)\n",
      "....fitting OLS_2022 (time to fit: 0.03 secs)\n",
      "....fitting OLS (time to fit: 13.97 secs)\n",
      "....fitting LASSO "
     ]
    },
    {
     "name": "stderr",
     "output_type": "stream",
     "text": [
      "/project/cper_neon_aop/conda_envs/py_ml_env/lib/python3.9/site-packages/distributed/client.py:3157: UserWarning: Sending large graph of size 27.75 MiB.\n",
      "This may cause some slowdown.\n",
      "Consider scattering data ahead of time and using futures.\n",
      "  warnings.warn(\n",
      "/project/cper_neon_aop/conda_envs/py_ml_env/lib/python3.9/site-packages/distributed/client.py:3157: UserWarning: Sending large graph of size 27.10 MiB.\n",
      "This may cause some slowdown.\n",
      "Consider scattering data ahead of time and using futures.\n",
      "  warnings.warn(\n",
      "/project/cper_neon_aop/conda_envs/py_ml_env/lib/python3.9/site-packages/sklearn/linear_model/_coordinate_descent.py:678: ConvergenceWarning: Objective did not converge. You might want to increase the number of iterations, check the scale of the features or consider increasing regularisation. Duality gap: 8.537e+04, tolerance: 6.951e+01\n",
      "  model = cd_fast.enet_coordinate_descent(\n"
     ]
    },
    {
     "name": "stdout",
     "output_type": "stream",
     "text": [
      "(time to fit: 19.41 secs)\n",
      "....fitting PLS (time to fit: 1.22 secs)\n",
      "....fitting PCR (time to fit: 1.23 secs)\n",
      "....fitting SVR "
     ]
    },
    {
     "name": "stderr",
     "output_type": "stream",
     "text": [
      "/project/cper_neon_aop/conda_envs/py_ml_env/lib/python3.9/site-packages/sklearn/svm/_base.py:1237: ConvergenceWarning: Liblinear failed to converge, increase the number of iterations.\n",
      "  warnings.warn(\n"
     ]
    },
    {
     "name": "stdout",
     "output_type": "stream",
     "text": [
      "(time to fit: 3.5 secs)\n",
      "....fitting RF "
     ]
    },
    {
     "name": "stderr",
     "output_type": "stream",
     "text": [
      "/project/cper_neon_aop/conda_envs/py_ml_env/lib/python3.9/site-packages/distributed/client.py:3157: UserWarning: Sending large graph of size 19.95 MiB.\n",
      "This may cause some slowdown.\n",
      "Consider scattering data ahead of time and using futures.\n",
      "  warnings.warn(\n"
     ]
    },
    {
     "name": "stdout",
     "output_type": "stream",
     "text": [
      "(time to fit: 51.78 secs)\n",
      "Skipping GBR, params not set to fit.\n",
      "....fitting HGBR (time to fit: 8.42 secs)\n",
      "Skipping MLP, params not set to fit.\n",
      "Skipping DNN, params not set to fit.\n",
      "3\n",
      "....fitting CPER_2022 (time to fit: 0.02 secs)\n",
      "....fitting OLS_2022 (time to fit: 0.04 secs)\n",
      "....fitting OLS (time to fit: 14.03 secs)\n",
      "....fitting LASSO "
     ]
    },
    {
     "name": "stderr",
     "output_type": "stream",
     "text": [
      "/project/cper_neon_aop/conda_envs/py_ml_env/lib/python3.9/site-packages/distributed/client.py:3157: UserWarning: Sending large graph of size 27.73 MiB.\n",
      "This may cause some slowdown.\n",
      "Consider scattering data ahead of time and using futures.\n",
      "  warnings.warn(\n",
      "/project/cper_neon_aop/conda_envs/py_ml_env/lib/python3.9/site-packages/distributed/client.py:3157: UserWarning: Sending large graph of size 27.07 MiB.\n",
      "This may cause some slowdown.\n",
      "Consider scattering data ahead of time and using futures.\n",
      "  warnings.warn(\n",
      "/project/cper_neon_aop/conda_envs/py_ml_env/lib/python3.9/site-packages/sklearn/linear_model/_coordinate_descent.py:678: ConvergenceWarning: Objective did not converge. You might want to increase the number of iterations, check the scale of the features or consider increasing regularisation. Duality gap: 8.994e+04, tolerance: 7.313e+01\n",
      "  model = cd_fast.enet_coordinate_descent(\n"
     ]
    },
    {
     "name": "stdout",
     "output_type": "stream",
     "text": [
      "(time to fit: 19.21 secs)\n",
      "....fitting PLS (time to fit: 0.6 secs)\n",
      "....fitting PCR (time to fit: 0.76 secs)\n",
      "....fitting SVR "
     ]
    },
    {
     "name": "stderr",
     "output_type": "stream",
     "text": [
      "/project/cper_neon_aop/conda_envs/py_ml_env/lib/python3.9/site-packages/sklearn/svm/_base.py:1237: ConvergenceWarning: Liblinear failed to converge, increase the number of iterations.\n",
      "  warnings.warn(\n"
     ]
    },
    {
     "name": "stdout",
     "output_type": "stream",
     "text": [
      "(time to fit: 3.12 secs)\n",
      "....fitting RF "
     ]
    },
    {
     "name": "stderr",
     "output_type": "stream",
     "text": [
      "/project/cper_neon_aop/conda_envs/py_ml_env/lib/python3.9/site-packages/distributed/client.py:3157: UserWarning: Sending large graph of size 18.06 MiB.\n",
      "This may cause some slowdown.\n",
      "Consider scattering data ahead of time and using futures.\n",
      "  warnings.warn(\n"
     ]
    },
    {
     "name": "stdout",
     "output_type": "stream",
     "text": [
      "(time to fit: 55.18 secs)\n",
      "Skipping GBR, params not set to fit.\n",
      "....fitting HGBR (time to fit: 8.32 secs)\n",
      "Skipping MLP, params not set to fit.\n",
      "Skipping DNN, params not set to fit.\n",
      "4\n",
      "....fitting CPER_2022 (time to fit: 0.02 secs)\n",
      "....fitting OLS_2022 (time to fit: 0.03 secs)\n",
      "....fitting OLS (time to fit: 14.15 secs)\n",
      "....fitting LASSO "
     ]
    },
    {
     "name": "stderr",
     "output_type": "stream",
     "text": [
      "/project/cper_neon_aop/conda_envs/py_ml_env/lib/python3.9/site-packages/distributed/client.py:3157: UserWarning: Sending large graph of size 27.75 MiB.\n",
      "This may cause some slowdown.\n",
      "Consider scattering data ahead of time and using futures.\n",
      "  warnings.warn(\n",
      "/project/cper_neon_aop/conda_envs/py_ml_env/lib/python3.9/site-packages/distributed/client.py:3157: UserWarning: Sending large graph of size 27.10 MiB.\n",
      "This may cause some slowdown.\n",
      "Consider scattering data ahead of time and using futures.\n",
      "  warnings.warn(\n",
      "/project/cper_neon_aop/conda_envs/py_ml_env/lib/python3.9/site-packages/sklearn/linear_model/_coordinate_descent.py:678: ConvergenceWarning: Objective did not converge. You might want to increase the number of iterations, check the scale of the features or consider increasing regularisation. Duality gap: 8.436e+04, tolerance: 7.187e+01\n",
      "  model = cd_fast.enet_coordinate_descent(\n"
     ]
    },
    {
     "name": "stdout",
     "output_type": "stream",
     "text": [
      "(time to fit: 18.84 secs)\n",
      "....fitting PLS (time to fit: 0.62 secs)\n",
      "....fitting PCR (time to fit: 0.77 secs)\n",
      "....fitting SVR "
     ]
    },
    {
     "name": "stderr",
     "output_type": "stream",
     "text": [
      "/project/cper_neon_aop/conda_envs/py_ml_env/lib/python3.9/site-packages/sklearn/svm/_base.py:1237: ConvergenceWarning: Liblinear failed to converge, increase the number of iterations.\n",
      "  warnings.warn(\n"
     ]
    },
    {
     "name": "stdout",
     "output_type": "stream",
     "text": [
      "(time to fit: 4.11 secs)\n",
      "....fitting RF "
     ]
    },
    {
     "name": "stderr",
     "output_type": "stream",
     "text": [
      "/project/cper_neon_aop/conda_envs/py_ml_env/lib/python3.9/site-packages/distributed/client.py:3157: UserWarning: Sending large graph of size 19.74 MiB.\n",
      "This may cause some slowdown.\n",
      "Consider scattering data ahead of time and using futures.\n",
      "  warnings.warn(\n"
     ]
    },
    {
     "name": "stdout",
     "output_type": "stream",
     "text": [
      "(time to fit: 56.0 secs)\n",
      "Skipping GBR, params not set to fit.\n",
      "....fitting HGBR (time to fit: 8.55 secs)\n",
      "Skipping MLP, params not set to fit.\n",
      "Skipping DNN, params not set to fit.\n",
      "5\n",
      "....fitting CPER_2022 (time to fit: 0.02 secs)\n",
      "....fitting OLS_2022 (time to fit: 0.03 secs)\n",
      "....fitting OLS (time to fit: 14.05 secs)\n",
      "....fitting LASSO "
     ]
    },
    {
     "name": "stderr",
     "output_type": "stream",
     "text": [
      "/project/cper_neon_aop/conda_envs/py_ml_env/lib/python3.9/site-packages/distributed/client.py:3157: UserWarning: Sending large graph of size 27.75 MiB.\n",
      "This may cause some slowdown.\n",
      "Consider scattering data ahead of time and using futures.\n",
      "  warnings.warn(\n",
      "/project/cper_neon_aop/conda_envs/py_ml_env/lib/python3.9/site-packages/distributed/client.py:3157: UserWarning: Sending large graph of size 27.10 MiB.\n",
      "This may cause some slowdown.\n",
      "Consider scattering data ahead of time and using futures.\n",
      "  warnings.warn(\n",
      "/project/cper_neon_aop/conda_envs/py_ml_env/lib/python3.9/site-packages/sklearn/linear_model/_coordinate_descent.py:678: ConvergenceWarning: Objective did not converge. You might want to increase the number of iterations, check the scale of the features or consider increasing regularisation. Duality gap: 8.385e+04, tolerance: 6.597e+01\n",
      "  model = cd_fast.enet_coordinate_descent(\n"
     ]
    },
    {
     "name": "stdout",
     "output_type": "stream",
     "text": [
      "(time to fit: 18.92 secs)\n",
      "....fitting PLS (time to fit: 1.11 secs)\n",
      "....fitting PCR (time to fit: 0.74 secs)\n",
      "....fitting SVR "
     ]
    },
    {
     "name": "stderr",
     "output_type": "stream",
     "text": [
      "/project/cper_neon_aop/conda_envs/py_ml_env/lib/python3.9/site-packages/sklearn/svm/_base.py:1237: ConvergenceWarning: Liblinear failed to converge, increase the number of iterations.\n",
      "  warnings.warn(\n"
     ]
    },
    {
     "name": "stdout",
     "output_type": "stream",
     "text": [
      "(time to fit: 3.55 secs)\n",
      "....fitting RF "
     ]
    },
    {
     "name": "stderr",
     "output_type": "stream",
     "text": [
      "/project/cper_neon_aop/conda_envs/py_ml_env/lib/python3.9/site-packages/distributed/client.py:3157: UserWarning: Sending large graph of size 19.74 MiB.\n",
      "This may cause some slowdown.\n",
      "Consider scattering data ahead of time and using futures.\n",
      "  warnings.warn(\n"
     ]
    },
    {
     "name": "stdout",
     "output_type": "stream",
     "text": [
      "(time to fit: 53.93 secs)\n",
      "Skipping GBR, params not set to fit.\n",
      "....fitting HGBR (time to fit: 8.48 secs)\n",
      "Skipping MLP, params not set to fit.\n",
      "Skipping DNN, params not set to fit.\n",
      "6\n",
      "....fitting CPER_2022 (time to fit: 0.02 secs)\n",
      "....fitting OLS_2022 (time to fit: 0.03 secs)\n",
      "....fitting OLS (time to fit: 14.01 secs)\n",
      "....fitting LASSO "
     ]
    },
    {
     "name": "stderr",
     "output_type": "stream",
     "text": [
      "/project/cper_neon_aop/conda_envs/py_ml_env/lib/python3.9/site-packages/distributed/client.py:3157: UserWarning: Sending large graph of size 27.75 MiB.\n",
      "This may cause some slowdown.\n",
      "Consider scattering data ahead of time and using futures.\n",
      "  warnings.warn(\n",
      "/project/cper_neon_aop/conda_envs/py_ml_env/lib/python3.9/site-packages/distributed/client.py:3157: UserWarning: Sending large graph of size 27.10 MiB.\n",
      "This may cause some slowdown.\n",
      "Consider scattering data ahead of time and using futures.\n",
      "  warnings.warn(\n",
      "/project/cper_neon_aop/conda_envs/py_ml_env/lib/python3.9/site-packages/sklearn/linear_model/_coordinate_descent.py:678: ConvergenceWarning: Objective did not converge. You might want to increase the number of iterations, check the scale of the features or consider increasing regularisation. Duality gap: 8.525e+04, tolerance: 6.637e+01\n",
      "  model = cd_fast.enet_coordinate_descent(\n"
     ]
    },
    {
     "name": "stdout",
     "output_type": "stream",
     "text": [
      "(time to fit: 18.94 secs)\n",
      "....fitting PLS (time to fit: 0.6 secs)\n",
      "....fitting PCR (time to fit: 0.93 secs)\n",
      "....fitting SVR "
     ]
    },
    {
     "name": "stderr",
     "output_type": "stream",
     "text": [
      "/project/cper_neon_aop/conda_envs/py_ml_env/lib/python3.9/site-packages/sklearn/svm/_base.py:1237: ConvergenceWarning: Liblinear failed to converge, increase the number of iterations.\n",
      "  warnings.warn(\n"
     ]
    },
    {
     "name": "stdout",
     "output_type": "stream",
     "text": [
      "(time to fit: 3.3 secs)\n",
      "....fitting RF "
     ]
    },
    {
     "name": "stderr",
     "output_type": "stream",
     "text": [
      "/project/cper_neon_aop/conda_envs/py_ml_env/lib/python3.9/site-packages/distributed/client.py:3157: UserWarning: Sending large graph of size 19.96 MiB.\n",
      "This may cause some slowdown.\n",
      "Consider scattering data ahead of time and using futures.\n",
      "  warnings.warn(\n"
     ]
    },
    {
     "name": "stdout",
     "output_type": "stream",
     "text": [
      "(time to fit: 52.81 secs)\n",
      "Skipping GBR, params not set to fit.\n",
      "....fitting HGBR (time to fit: 9.02 secs)\n",
      "Skipping MLP, params not set to fit.\n",
      "Skipping DNN, params not set to fit.\n",
      "7\n",
      "....fitting CPER_2022 (time to fit: 0.02 secs)\n",
      "....fitting OLS_2022 (time to fit: 0.03 secs)\n",
      "....fitting OLS (time to fit: 14.25 secs)\n",
      "....fitting LASSO "
     ]
    },
    {
     "name": "stderr",
     "output_type": "stream",
     "text": [
      "/project/cper_neon_aop/conda_envs/py_ml_env/lib/python3.9/site-packages/distributed/client.py:3157: UserWarning: Sending large graph of size 27.75 MiB.\n",
      "This may cause some slowdown.\n",
      "Consider scattering data ahead of time and using futures.\n",
      "  warnings.warn(\n",
      "/project/cper_neon_aop/conda_envs/py_ml_env/lib/python3.9/site-packages/distributed/client.py:3157: UserWarning: Sending large graph of size 27.10 MiB.\n",
      "This may cause some slowdown.\n",
      "Consider scattering data ahead of time and using futures.\n",
      "  warnings.warn(\n",
      "/project/cper_neon_aop/conda_envs/py_ml_env/lib/python3.9/site-packages/sklearn/linear_model/_coordinate_descent.py:678: ConvergenceWarning: Objective did not converge. You might want to increase the number of iterations, check the scale of the features or consider increasing regularisation. Duality gap: 8.598e+04, tolerance: 6.963e+01\n",
      "  model = cd_fast.enet_coordinate_descent(\n"
     ]
    },
    {
     "name": "stdout",
     "output_type": "stream",
     "text": [
      "(time to fit: 18.64 secs)\n",
      "....fitting PLS (time to fit: 0.65 secs)\n",
      "....fitting PCR (time to fit: 0.75 secs)\n",
      "....fitting SVR "
     ]
    },
    {
     "name": "stderr",
     "output_type": "stream",
     "text": [
      "/project/cper_neon_aop/conda_envs/py_ml_env/lib/python3.9/site-packages/sklearn/svm/_base.py:1237: ConvergenceWarning: Liblinear failed to converge, increase the number of iterations.\n",
      "  warnings.warn(\n"
     ]
    },
    {
     "name": "stdout",
     "output_type": "stream",
     "text": [
      "(time to fit: 3.24 secs)\n",
      "....fitting RF "
     ]
    },
    {
     "name": "stderr",
     "output_type": "stream",
     "text": [
      "/project/cper_neon_aop/conda_envs/py_ml_env/lib/python3.9/site-packages/distributed/client.py:3157: UserWarning: Sending large graph of size 19.92 MiB.\n",
      "This may cause some slowdown.\n",
      "Consider scattering data ahead of time and using futures.\n",
      "  warnings.warn(\n"
     ]
    },
    {
     "name": "stdout",
     "output_type": "stream",
     "text": [
      "(time to fit: 54.06 secs)\n",
      "Skipping GBR, params not set to fit.\n",
      "....fitting HGBR (time to fit: 8.88 secs)\n",
      "Skipping MLP, params not set to fit.\n",
      "Skipping DNN, params not set to fit.\n",
      "8\n",
      "....fitting CPER_2022 (time to fit: 0.02 secs)\n",
      "....fitting OLS_2022 (time to fit: 0.03 secs)\n",
      "....fitting OLS (time to fit: 14.28 secs)\n",
      "....fitting LASSO "
     ]
    },
    {
     "name": "stderr",
     "output_type": "stream",
     "text": [
      "/project/cper_neon_aop/conda_envs/py_ml_env/lib/python3.9/site-packages/distributed/client.py:3157: UserWarning: Sending large graph of size 27.75 MiB.\n",
      "This may cause some slowdown.\n",
      "Consider scattering data ahead of time and using futures.\n",
      "  warnings.warn(\n",
      "/project/cper_neon_aop/conda_envs/py_ml_env/lib/python3.9/site-packages/distributed/client.py:3157: UserWarning: Sending large graph of size 27.10 MiB.\n",
      "This may cause some slowdown.\n",
      "Consider scattering data ahead of time and using futures.\n",
      "  warnings.warn(\n",
      "/project/cper_neon_aop/conda_envs/py_ml_env/lib/python3.9/site-packages/sklearn/linear_model/_coordinate_descent.py:678: ConvergenceWarning: Objective did not converge. You might want to increase the number of iterations, check the scale of the features or consider increasing regularisation. Duality gap: 7.153e+04, tolerance: 6.088e+01\n",
      "  model = cd_fast.enet_coordinate_descent(\n"
     ]
    },
    {
     "name": "stdout",
     "output_type": "stream",
     "text": [
      "(time to fit: 18.46 secs)\n",
      "....fitting PLS (time to fit: 0.62 secs)\n",
      "....fitting PCR (time to fit: 0.83 secs)\n",
      "....fitting SVR "
     ]
    },
    {
     "name": "stderr",
     "output_type": "stream",
     "text": [
      "/project/cper_neon_aop/conda_envs/py_ml_env/lib/python3.9/site-packages/sklearn/svm/_base.py:1237: ConvergenceWarning: Liblinear failed to converge, increase the number of iterations.\n",
      "  warnings.warn(\n"
     ]
    },
    {
     "name": "stdout",
     "output_type": "stream",
     "text": [
      "(time to fit: 3.29 secs)\n",
      "....fitting RF "
     ]
    },
    {
     "name": "stderr",
     "output_type": "stream",
     "text": [
      "/project/cper_neon_aop/conda_envs/py_ml_env/lib/python3.9/site-packages/distributed/client.py:3157: UserWarning: Sending large graph of size 19.93 MiB.\n",
      "This may cause some slowdown.\n",
      "Consider scattering data ahead of time and using futures.\n",
      "  warnings.warn(\n"
     ]
    },
    {
     "name": "stdout",
     "output_type": "stream",
     "text": [
      "(time to fit: 56.64 secs)\n",
      "Skipping GBR, params not set to fit.\n",
      "....fitting HGBR (time to fit: 8.69 secs)\n",
      "Skipping MLP, params not set to fit.\n",
      "Skipping DNN, params not set to fit.\n",
      "9\n",
      "....fitting CPER_2022 (time to fit: 0.02 secs)\n",
      "....fitting OLS_2022 (time to fit: 0.03 secs)\n",
      "....fitting OLS (time to fit: 14.07 secs)\n",
      "....fitting LASSO "
     ]
    },
    {
     "name": "stderr",
     "output_type": "stream",
     "text": [
      "/project/cper_neon_aop/conda_envs/py_ml_env/lib/python3.9/site-packages/distributed/client.py:3157: UserWarning: Sending large graph of size 27.75 MiB.\n",
      "This may cause some slowdown.\n",
      "Consider scattering data ahead of time and using futures.\n",
      "  warnings.warn(\n",
      "/project/cper_neon_aop/conda_envs/py_ml_env/lib/python3.9/site-packages/distributed/client.py:3157: UserWarning: Sending large graph of size 27.10 MiB.\n",
      "This may cause some slowdown.\n",
      "Consider scattering data ahead of time and using futures.\n",
      "  warnings.warn(\n",
      "/project/cper_neon_aop/conda_envs/py_ml_env/lib/python3.9/site-packages/sklearn/linear_model/_coordinate_descent.py:678: ConvergenceWarning: Objective did not converge. You might want to increase the number of iterations, check the scale of the features or consider increasing regularisation. Duality gap: 8.773e+04, tolerance: 7.328e+01\n",
      "  model = cd_fast.enet_coordinate_descent(\n"
     ]
    },
    {
     "name": "stdout",
     "output_type": "stream",
     "text": [
      "(time to fit: 19.48 secs)\n",
      "....fitting PLS (time to fit: 0.61 secs)\n",
      "....fitting PCR (time to fit: 1.28 secs)\n",
      "....fitting SVR "
     ]
    },
    {
     "name": "stderr",
     "output_type": "stream",
     "text": [
      "/project/cper_neon_aop/conda_envs/py_ml_env/lib/python3.9/site-packages/sklearn/svm/_base.py:1237: ConvergenceWarning: Liblinear failed to converge, increase the number of iterations.\n",
      "  warnings.warn(\n"
     ]
    },
    {
     "name": "stdout",
     "output_type": "stream",
     "text": [
      "(time to fit: 4.03 secs)\n",
      "....fitting RF "
     ]
    },
    {
     "name": "stderr",
     "output_type": "stream",
     "text": [
      "/project/cper_neon_aop/conda_envs/py_ml_env/lib/python3.9/site-packages/distributed/client.py:3157: UserWarning: Sending large graph of size 19.76 MiB.\n",
      "This may cause some slowdown.\n",
      "Consider scattering data ahead of time and using futures.\n",
      "  warnings.warn(\n"
     ]
    },
    {
     "name": "stdout",
     "output_type": "stream",
     "text": [
      "(time to fit: 53.31 secs)\n",
      "Skipping GBR, params not set to fit.\n",
      "....fitting HGBR (time to fit: 8.46 secs)\n",
      "Skipping MLP, params not set to fit.\n",
      "Skipping DNN, params not set to fit.\n",
      "Running using Kmeans clusters resampled with random distance factor of 10\n",
      "0\n",
      "....fitting CPER_2022 (time to fit: 0.02 secs)\n",
      "....fitting OLS_2022 (time to fit: 0.03 secs)\n",
      "....fitting OLS "
     ]
    },
    {
     "name": "stderr",
     "output_type": "stream",
     "text": [
      "/project/cper_neon_aop/hls_nrt/fit/ml_setup.py:585: FutureWarning: The behavior of DataFrame concatenation with empty or all-NA entries is deprecated. In a future version, this will no longer exclude empty or all-NA columns when determining the result dtypes. To retain the old behavior, exclude the relevant entries before the concat operation.\n",
      "  mod_dict[k]['formula_df'] = pd.concat([mod_dict[k]['formula_df'], pd.concat(df_results[0])])\n"
     ]
    },
    {
     "name": "stdout",
     "output_type": "stream",
     "text": [
      "(time to fit: 14.86 secs)\n",
      "....fitting LASSO "
     ]
    },
    {
     "name": "stderr",
     "output_type": "stream",
     "text": [
      "/project/cper_neon_aop/conda_envs/py_ml_env/lib/python3.9/site-packages/distributed/client.py:3157: UserWarning: Sending large graph of size 27.74 MiB.\n",
      "This may cause some slowdown.\n",
      "Consider scattering data ahead of time and using futures.\n",
      "  warnings.warn(\n",
      "/project/cper_neon_aop/conda_envs/py_ml_env/lib/python3.9/site-packages/distributed/client.py:3157: UserWarning: Sending large graph of size 27.10 MiB.\n",
      "This may cause some slowdown.\n",
      "Consider scattering data ahead of time and using futures.\n",
      "  warnings.warn(\n",
      "/project/cper_neon_aop/conda_envs/py_ml_env/lib/python3.9/site-packages/sklearn/linear_model/_coordinate_descent.py:678: ConvergenceWarning: Objective did not converge. You might want to increase the number of iterations, check the scale of the features or consider increasing regularisation. Duality gap: 8.739e+04, tolerance: 7.228e+01\n",
      "  model = cd_fast.enet_coordinate_descent(\n",
      "/project/cper_neon_aop/hls_nrt/fit/ml_setup.py:671: FutureWarning: The behavior of DataFrame concatenation with empty or all-NA entries is deprecated. In a future version, this will no longer exclude empty or all-NA columns when determining the result dtypes. To retain the old behavior, exclude the relevant entries before the concat operation.\n",
      "  mod_dict[k]['variable_df'] = pd.concat([mod_dict[k]['variable_df'],\n"
     ]
    },
    {
     "name": "stdout",
     "output_type": "stream",
     "text": [
      "(time to fit: 19.03 secs)\n",
      "....fitting PLS "
     ]
    },
    {
     "name": "stderr",
     "output_type": "stream",
     "text": [
      "/project/cper_neon_aop/hls_nrt/fit/ml_setup.py:692: FutureWarning: The behavior of DataFrame concatenation with empty or all-NA entries is deprecated. In a future version, this will no longer exclude empty or all-NA columns when determining the result dtypes. To retain the old behavior, exclude the relevant entries before the concat operation.\n",
      "  mod_dict[k]['variable_df'] = pd.concat([mod_dict[k]['variable_df'],\n"
     ]
    },
    {
     "name": "stdout",
     "output_type": "stream",
     "text": [
      "(time to fit: 0.59 secs)\n",
      "....fitting PCR "
     ]
    },
    {
     "name": "stderr",
     "output_type": "stream",
     "text": [
      "/project/cper_neon_aop/hls_nrt/fit/ml_setup.py:703: FutureWarning: The behavior of DataFrame concatenation with empty or all-NA entries is deprecated. In a future version, this will no longer exclude empty or all-NA columns when determining the result dtypes. To retain the old behavior, exclude the relevant entries before the concat operation.\n",
      "  mod_dict[k]['variable_df'] = pd.concat([mod_dict[k]['variable_df'],\n"
     ]
    },
    {
     "name": "stdout",
     "output_type": "stream",
     "text": [
      "(time to fit: 0.96 secs)\n",
      "....fitting SVR "
     ]
    },
    {
     "name": "stderr",
     "output_type": "stream",
     "text": [
      "/project/cper_neon_aop/conda_envs/py_ml_env/lib/python3.9/site-packages/sklearn/svm/_base.py:1237: ConvergenceWarning: Liblinear failed to converge, increase the number of iterations.\n",
      "  warnings.warn(\n",
      "/project/cper_neon_aop/hls_nrt/fit/ml_setup.py:708: FutureWarning: The behavior of DataFrame concatenation with empty or all-NA entries is deprecated. In a future version, this will no longer exclude empty or all-NA columns when determining the result dtypes. To retain the old behavior, exclude the relevant entries before the concat operation.\n",
      "  mod_dict[k]['variable_df'] = pd.concat([mod_dict[k]['variable_df'],\n"
     ]
    },
    {
     "name": "stdout",
     "output_type": "stream",
     "text": [
      "(time to fit: 5.2 secs)\n",
      "....fitting RF "
     ]
    },
    {
     "name": "stderr",
     "output_type": "stream",
     "text": [
      "/project/cper_neon_aop/hls_nrt/fit/ml_setup.py:714: FutureWarning: The behavior of DataFrame concatenation with empty or all-NA entries is deprecated. In a future version, this will no longer exclude empty or all-NA columns when determining the result dtypes. To retain the old behavior, exclude the relevant entries before the concat operation.\n",
      "  mod_dict[k]['variable_df'] = pd.concat([mod_dict[k]['variable_df'],\n"
     ]
    },
    {
     "name": "stdout",
     "output_type": "stream",
     "text": [
      "(time to fit: 51.17 secs)\n",
      "Skipping GBR, params not set to fit.\n",
      "....fitting HGBR (time to fit: 9.44 secs)\n",
      "Skipping MLP, params not set to fit.\n",
      "Skipping DNN, params not set to fit.\n",
      "1\n",
      "....fitting CPER_2022 (time to fit: 0.03 secs)\n",
      "....fitting OLS_2022 (time to fit: 0.08 secs)\n",
      "....fitting OLS (time to fit: 14.24 secs)\n",
      "....fitting LASSO "
     ]
    },
    {
     "name": "stderr",
     "output_type": "stream",
     "text": [
      "/project/cper_neon_aop/conda_envs/py_ml_env/lib/python3.9/site-packages/distributed/client.py:3157: UserWarning: Sending large graph of size 27.75 MiB.\n",
      "This may cause some slowdown.\n",
      "Consider scattering data ahead of time and using futures.\n",
      "  warnings.warn(\n",
      "/project/cper_neon_aop/conda_envs/py_ml_env/lib/python3.9/site-packages/distributed/client.py:3157: UserWarning: Sending large graph of size 27.10 MiB.\n",
      "This may cause some slowdown.\n",
      "Consider scattering data ahead of time and using futures.\n",
      "  warnings.warn(\n",
      "/project/cper_neon_aop/conda_envs/py_ml_env/lib/python3.9/site-packages/sklearn/linear_model/_coordinate_descent.py:678: ConvergenceWarning: Objective did not converge. You might want to increase the number of iterations, check the scale of the features or consider increasing regularisation. Duality gap: 8.799e+04, tolerance: 7.066e+01\n",
      "  model = cd_fast.enet_coordinate_descent(\n"
     ]
    },
    {
     "name": "stdout",
     "output_type": "stream",
     "text": [
      "(time to fit: 19.81 secs)\n",
      "....fitting PLS (time to fit: 0.62 secs)\n",
      "....fitting PCR (time to fit: 0.87 secs)\n",
      "....fitting SVR "
     ]
    },
    {
     "name": "stderr",
     "output_type": "stream",
     "text": [
      "/project/cper_neon_aop/conda_envs/py_ml_env/lib/python3.9/site-packages/sklearn/svm/_base.py:1237: ConvergenceWarning: Liblinear failed to converge, increase the number of iterations.\n",
      "  warnings.warn(\n"
     ]
    },
    {
     "name": "stdout",
     "output_type": "stream",
     "text": [
      "(time to fit: 4.09 secs)\n",
      "....fitting RF "
     ]
    },
    {
     "name": "stderr",
     "output_type": "stream",
     "text": [
      "/project/cper_neon_aop/conda_envs/py_ml_env/lib/python3.9/site-packages/distributed/client.py:3157: UserWarning: Sending large graph of size 18.03 MiB.\n",
      "This may cause some slowdown.\n",
      "Consider scattering data ahead of time and using futures.\n",
      "  warnings.warn(\n"
     ]
    },
    {
     "name": "stdout",
     "output_type": "stream",
     "text": [
      "(time to fit: 55.43 secs)\n",
      "Skipping GBR, params not set to fit.\n",
      "....fitting HGBR (time to fit: 8.44 secs)\n",
      "Skipping MLP, params not set to fit.\n",
      "Skipping DNN, params not set to fit.\n",
      "2\n",
      "....fitting CPER_2022 (time to fit: 0.02 secs)\n",
      "....fitting OLS_2022 (time to fit: 0.03 secs)\n",
      "....fitting OLS (time to fit: 14.35 secs)\n",
      "....fitting LASSO "
     ]
    },
    {
     "name": "stderr",
     "output_type": "stream",
     "text": [
      "/project/cper_neon_aop/conda_envs/py_ml_env/lib/python3.9/site-packages/distributed/client.py:3157: UserWarning: Sending large graph of size 27.75 MiB.\n",
      "This may cause some slowdown.\n",
      "Consider scattering data ahead of time and using futures.\n",
      "  warnings.warn(\n",
      "/project/cper_neon_aop/conda_envs/py_ml_env/lib/python3.9/site-packages/distributed/client.py:3157: UserWarning: Sending large graph of size 27.10 MiB.\n",
      "This may cause some slowdown.\n",
      "Consider scattering data ahead of time and using futures.\n",
      "  warnings.warn(\n",
      "/project/cper_neon_aop/conda_envs/py_ml_env/lib/python3.9/site-packages/sklearn/linear_model/_coordinate_descent.py:678: ConvergenceWarning: Objective did not converge. You might want to increase the number of iterations, check the scale of the features or consider increasing regularisation. Duality gap: 7.825e+04, tolerance: 6.145e+01\n",
      "  model = cd_fast.enet_coordinate_descent(\n"
     ]
    },
    {
     "name": "stdout",
     "output_type": "stream",
     "text": [
      "(time to fit: 18.73 secs)\n",
      "....fitting PLS (time to fit: 1.11 secs)\n",
      "....fitting PCR (time to fit: 0.77 secs)\n",
      "....fitting SVR "
     ]
    },
    {
     "name": "stderr",
     "output_type": "stream",
     "text": [
      "/project/cper_neon_aop/conda_envs/py_ml_env/lib/python3.9/site-packages/sklearn/svm/_base.py:1237: ConvergenceWarning: Liblinear failed to converge, increase the number of iterations.\n",
      "  warnings.warn(\n"
     ]
    },
    {
     "name": "stdout",
     "output_type": "stream",
     "text": [
      "(time to fit: 3.51 secs)\n",
      "....fitting RF "
     ]
    },
    {
     "name": "stderr",
     "output_type": "stream",
     "text": [
      "/project/cper_neon_aop/conda_envs/py_ml_env/lib/python3.9/site-packages/distributed/client.py:3157: UserWarning: Sending large graph of size 19.74 MiB.\n",
      "This may cause some slowdown.\n",
      "Consider scattering data ahead of time and using futures.\n",
      "  warnings.warn(\n"
     ]
    },
    {
     "name": "stdout",
     "output_type": "stream",
     "text": [
      "(time to fit: 61.99 secs)\n",
      "Skipping GBR, params not set to fit.\n",
      "....fitting HGBR (time to fit: 9.6 secs)\n",
      "Skipping MLP, params not set to fit.\n",
      "Skipping DNN, params not set to fit.\n",
      "3\n",
      "....fitting CPER_2022 (time to fit: 0.02 secs)\n",
      "....fitting OLS_2022 (time to fit: 0.03 secs)\n",
      "....fitting OLS (time to fit: 14.14 secs)\n",
      "....fitting LASSO "
     ]
    },
    {
     "name": "stderr",
     "output_type": "stream",
     "text": [
      "/project/cper_neon_aop/conda_envs/py_ml_env/lib/python3.9/site-packages/distributed/client.py:3157: UserWarning: Sending large graph of size 27.75 MiB.\n",
      "This may cause some slowdown.\n",
      "Consider scattering data ahead of time and using futures.\n",
      "  warnings.warn(\n",
      "/project/cper_neon_aop/conda_envs/py_ml_env/lib/python3.9/site-packages/distributed/client.py:3157: UserWarning: Sending large graph of size 27.10 MiB.\n",
      "This may cause some slowdown.\n",
      "Consider scattering data ahead of time and using futures.\n",
      "  warnings.warn(\n",
      "/project/cper_neon_aop/conda_envs/py_ml_env/lib/python3.9/site-packages/sklearn/linear_model/_coordinate_descent.py:678: ConvergenceWarning: Objective did not converge. You might want to increase the number of iterations, check the scale of the features or consider increasing regularisation. Duality gap: 8.271e+04, tolerance: 6.740e+01\n",
      "  model = cd_fast.enet_coordinate_descent(\n"
     ]
    },
    {
     "name": "stdout",
     "output_type": "stream",
     "text": [
      "(time to fit: 19.11 secs)\n",
      "....fitting PLS (time to fit: 0.79 secs)\n",
      "....fitting PCR (time to fit: 0.95 secs)\n",
      "....fitting SVR "
     ]
    },
    {
     "name": "stderr",
     "output_type": "stream",
     "text": [
      "/project/cper_neon_aop/conda_envs/py_ml_env/lib/python3.9/site-packages/sklearn/svm/_base.py:1237: ConvergenceWarning: Liblinear failed to converge, increase the number of iterations.\n",
      "  warnings.warn(\n"
     ]
    },
    {
     "name": "stdout",
     "output_type": "stream",
     "text": [
      "(time to fit: 3.23 secs)\n",
      "....fitting RF "
     ]
    },
    {
     "name": "stderr",
     "output_type": "stream",
     "text": [
      "/project/cper_neon_aop/conda_envs/py_ml_env/lib/python3.9/site-packages/distributed/client.py:3157: UserWarning: Sending large graph of size 17.89 MiB.\n",
      "This may cause some slowdown.\n",
      "Consider scattering data ahead of time and using futures.\n",
      "  warnings.warn(\n"
     ]
    },
    {
     "name": "stdout",
     "output_type": "stream",
     "text": [
      "(time to fit: 53.81 secs)\n",
      "Skipping GBR, params not set to fit.\n",
      "....fitting HGBR (time to fit: 9.09 secs)\n",
      "Skipping MLP, params not set to fit.\n",
      "Skipping DNN, params not set to fit.\n",
      "4\n",
      "....fitting CPER_2022 (time to fit: 0.02 secs)\n",
      "....fitting OLS_2022 (time to fit: 0.04 secs)\n",
      "....fitting OLS (time to fit: 14.14 secs)\n",
      "....fitting LASSO "
     ]
    },
    {
     "name": "stderr",
     "output_type": "stream",
     "text": [
      "/project/cper_neon_aop/conda_envs/py_ml_env/lib/python3.9/site-packages/distributed/client.py:3157: UserWarning: Sending large graph of size 27.75 MiB.\n",
      "This may cause some slowdown.\n",
      "Consider scattering data ahead of time and using futures.\n",
      "  warnings.warn(\n",
      "/project/cper_neon_aop/conda_envs/py_ml_env/lib/python3.9/site-packages/distributed/client.py:3157: UserWarning: Sending large graph of size 27.10 MiB.\n",
      "This may cause some slowdown.\n",
      "Consider scattering data ahead of time and using futures.\n",
      "  warnings.warn(\n",
      "/project/cper_neon_aop/conda_envs/py_ml_env/lib/python3.9/site-packages/sklearn/linear_model/_coordinate_descent.py:678: ConvergenceWarning: Objective did not converge. You might want to increase the number of iterations, check the scale of the features or consider increasing regularisation. Duality gap: 8.159e+04, tolerance: 6.446e+01\n",
      "  model = cd_fast.enet_coordinate_descent(\n"
     ]
    },
    {
     "name": "stdout",
     "output_type": "stream",
     "text": [
      "(time to fit: 18.32 secs)\n",
      "....fitting PLS (time to fit: 0.83 secs)\n",
      "....fitting PCR (time to fit: 0.83 secs)\n",
      "....fitting SVR "
     ]
    },
    {
     "name": "stderr",
     "output_type": "stream",
     "text": [
      "/project/cper_neon_aop/conda_envs/py_ml_env/lib/python3.9/site-packages/sklearn/svm/_base.py:1237: ConvergenceWarning: Liblinear failed to converge, increase the number of iterations.\n",
      "  warnings.warn(\n"
     ]
    },
    {
     "name": "stdout",
     "output_type": "stream",
     "text": [
      "(time to fit: 3.18 secs)\n",
      "....fitting RF "
     ]
    },
    {
     "name": "stderr",
     "output_type": "stream",
     "text": [
      "/project/cper_neon_aop/conda_envs/py_ml_env/lib/python3.9/site-packages/distributed/client.py:3157: UserWarning: Sending large graph of size 19.95 MiB.\n",
      "This may cause some slowdown.\n",
      "Consider scattering data ahead of time and using futures.\n",
      "  warnings.warn(\n"
     ]
    },
    {
     "name": "stdout",
     "output_type": "stream",
     "text": [
      "(time to fit: 53.24 secs)\n",
      "Skipping GBR, params not set to fit.\n",
      "....fitting HGBR (time to fit: 8.83 secs)\n",
      "Skipping MLP, params not set to fit.\n",
      "Skipping DNN, params not set to fit.\n",
      "5\n",
      "....fitting CPER_2022 (time to fit: 0.03 secs)\n",
      "....fitting OLS_2022 (time to fit: 0.03 secs)\n",
      "....fitting OLS (time to fit: 14.49 secs)\n",
      "....fitting LASSO "
     ]
    },
    {
     "name": "stderr",
     "output_type": "stream",
     "text": [
      "/project/cper_neon_aop/conda_envs/py_ml_env/lib/python3.9/site-packages/distributed/client.py:3157: UserWarning: Sending large graph of size 27.75 MiB.\n",
      "This may cause some slowdown.\n",
      "Consider scattering data ahead of time and using futures.\n",
      "  warnings.warn(\n",
      "/project/cper_neon_aop/conda_envs/py_ml_env/lib/python3.9/site-packages/distributed/client.py:3157: UserWarning: Sending large graph of size 27.10 MiB.\n",
      "This may cause some slowdown.\n",
      "Consider scattering data ahead of time and using futures.\n",
      "  warnings.warn(\n",
      "/project/cper_neon_aop/conda_envs/py_ml_env/lib/python3.9/site-packages/sklearn/linear_model/_coordinate_descent.py:678: ConvergenceWarning: Objective did not converge. You might want to increase the number of iterations, check the scale of the features or consider increasing regularisation. Duality gap: 8.479e+04, tolerance: 6.913e+01\n",
      "  model = cd_fast.enet_coordinate_descent(\n"
     ]
    },
    {
     "name": "stdout",
     "output_type": "stream",
     "text": [
      "(time to fit: 19.1 secs)\n",
      "....fitting PLS (time to fit: 0.65 secs)\n",
      "....fitting PCR (time to fit: 0.8 secs)\n",
      "....fitting SVR "
     ]
    },
    {
     "name": "stderr",
     "output_type": "stream",
     "text": [
      "/project/cper_neon_aop/conda_envs/py_ml_env/lib/python3.9/site-packages/sklearn/svm/_base.py:1237: ConvergenceWarning: Liblinear failed to converge, increase the number of iterations.\n",
      "  warnings.warn(\n"
     ]
    },
    {
     "name": "stdout",
     "output_type": "stream",
     "text": [
      "(time to fit: 3.49 secs)\n",
      "....fitting RF "
     ]
    },
    {
     "name": "stderr",
     "output_type": "stream",
     "text": [
      "/project/cper_neon_aop/conda_envs/py_ml_env/lib/python3.9/site-packages/distributed/client.py:3157: UserWarning: Sending large graph of size 18.05 MiB.\n",
      "This may cause some slowdown.\n",
      "Consider scattering data ahead of time and using futures.\n",
      "  warnings.warn(\n"
     ]
    },
    {
     "name": "stdout",
     "output_type": "stream",
     "text": [
      "(time to fit: 56.34 secs)\n",
      "Skipping GBR, params not set to fit.\n",
      "....fitting HGBR (time to fit: 8.69 secs)\n",
      "Skipping MLP, params not set to fit.\n",
      "Skipping DNN, params not set to fit.\n",
      "6\n",
      "....fitting CPER_2022 (time to fit: 0.02 secs)\n",
      "....fitting OLS_2022 (time to fit: 0.03 secs)\n",
      "....fitting OLS (time to fit: 14.18 secs)\n",
      "....fitting LASSO "
     ]
    },
    {
     "name": "stderr",
     "output_type": "stream",
     "text": [
      "/project/cper_neon_aop/conda_envs/py_ml_env/lib/python3.9/site-packages/distributed/client.py:3157: UserWarning: Sending large graph of size 27.75 MiB.\n",
      "This may cause some slowdown.\n",
      "Consider scattering data ahead of time and using futures.\n",
      "  warnings.warn(\n",
      "/project/cper_neon_aop/conda_envs/py_ml_env/lib/python3.9/site-packages/distributed/client.py:3157: UserWarning: Sending large graph of size 27.10 MiB.\n",
      "This may cause some slowdown.\n",
      "Consider scattering data ahead of time and using futures.\n",
      "  warnings.warn(\n",
      "/project/cper_neon_aop/conda_envs/py_ml_env/lib/python3.9/site-packages/sklearn/linear_model/_coordinate_descent.py:678: ConvergenceWarning: Objective did not converge. You might want to increase the number of iterations, check the scale of the features or consider increasing regularisation. Duality gap: 8.567e+04, tolerance: 6.938e+01\n",
      "  model = cd_fast.enet_coordinate_descent(\n"
     ]
    },
    {
     "name": "stdout",
     "output_type": "stream",
     "text": [
      "(time to fit: 18.77 secs)\n",
      "....fitting PLS (time to fit: 0.64 secs)\n",
      "....fitting PCR (time to fit: 0.72 secs)\n",
      "....fitting SVR "
     ]
    },
    {
     "name": "stderr",
     "output_type": "stream",
     "text": [
      "/project/cper_neon_aop/conda_envs/py_ml_env/lib/python3.9/site-packages/sklearn/svm/_base.py:1237: ConvergenceWarning: Liblinear failed to converge, increase the number of iterations.\n",
      "  warnings.warn(\n"
     ]
    },
    {
     "name": "stdout",
     "output_type": "stream",
     "text": [
      "(time to fit: 3.64 secs)\n",
      "....fitting RF "
     ]
    },
    {
     "name": "stderr",
     "output_type": "stream",
     "text": [
      "/project/cper_neon_aop/conda_envs/py_ml_env/lib/python3.9/site-packages/distributed/client.py:3157: UserWarning: Sending large graph of size 19.78 MiB.\n",
      "This may cause some slowdown.\n",
      "Consider scattering data ahead of time and using futures.\n",
      "  warnings.warn(\n"
     ]
    },
    {
     "name": "stdout",
     "output_type": "stream",
     "text": [
      "(time to fit: 53.89 secs)\n",
      "Skipping GBR, params not set to fit.\n",
      "....fitting HGBR (time to fit: 8.95 secs)\n",
      "Skipping MLP, params not set to fit.\n",
      "Skipping DNN, params not set to fit.\n",
      "7\n",
      "....fitting CPER_2022 (time to fit: 0.02 secs)\n",
      "....fitting OLS_2022 (time to fit: 0.03 secs)\n",
      "....fitting OLS (time to fit: 14.25 secs)\n",
      "....fitting LASSO "
     ]
    },
    {
     "name": "stderr",
     "output_type": "stream",
     "text": [
      "/project/cper_neon_aop/conda_envs/py_ml_env/lib/python3.9/site-packages/distributed/client.py:3157: UserWarning: Sending large graph of size 27.75 MiB.\n",
      "This may cause some slowdown.\n",
      "Consider scattering data ahead of time and using futures.\n",
      "  warnings.warn(\n",
      "/project/cper_neon_aop/conda_envs/py_ml_env/lib/python3.9/site-packages/distributed/client.py:3157: UserWarning: Sending large graph of size 27.10 MiB.\n",
      "This may cause some slowdown.\n",
      "Consider scattering data ahead of time and using futures.\n",
      "  warnings.warn(\n",
      "/project/cper_neon_aop/conda_envs/py_ml_env/lib/python3.9/site-packages/sklearn/linear_model/_coordinate_descent.py:678: ConvergenceWarning: Objective did not converge. You might want to increase the number of iterations, check the scale of the features or consider increasing regularisation. Duality gap: 8.425e+04, tolerance: 7.070e+01\n",
      "  model = cd_fast.enet_coordinate_descent(\n"
     ]
    },
    {
     "name": "stdout",
     "output_type": "stream",
     "text": [
      "(time to fit: 19.29 secs)\n",
      "....fitting PLS (time to fit: 1.12 secs)\n",
      "....fitting PCR (time to fit: 0.83 secs)\n",
      "....fitting SVR "
     ]
    },
    {
     "name": "stderr",
     "output_type": "stream",
     "text": [
      "/project/cper_neon_aop/conda_envs/py_ml_env/lib/python3.9/site-packages/sklearn/svm/_base.py:1237: ConvergenceWarning: Liblinear failed to converge, increase the number of iterations.\n",
      "  warnings.warn(\n"
     ]
    },
    {
     "name": "stdout",
     "output_type": "stream",
     "text": [
      "(time to fit: 3.27 secs)\n",
      "....fitting RF "
     ]
    },
    {
     "name": "stderr",
     "output_type": "stream",
     "text": [
      "/project/cper_neon_aop/conda_envs/py_ml_env/lib/python3.9/site-packages/distributed/client.py:3157: UserWarning: Sending large graph of size 19.94 MiB.\n",
      "This may cause some slowdown.\n",
      "Consider scattering data ahead of time and using futures.\n",
      "  warnings.warn(\n"
     ]
    },
    {
     "name": "stdout",
     "output_type": "stream",
     "text": [
      "(time to fit: 55.2 secs)\n",
      "Skipping GBR, params not set to fit.\n",
      "....fitting HGBR (time to fit: 8.84 secs)\n",
      "Skipping MLP, params not set to fit.\n",
      "Skipping DNN, params not set to fit.\n",
      "9\n",
      "....fitting CPER_2022 (time to fit: 0.02 secs)\n",
      "....fitting OLS_2022 (time to fit: 0.03 secs)\n",
      "....fitting OLS (time to fit: 14.15 secs)\n",
      "....fitting LASSO "
     ]
    },
    {
     "name": "stderr",
     "output_type": "stream",
     "text": [
      "/project/cper_neon_aop/conda_envs/py_ml_env/lib/python3.9/site-packages/distributed/client.py:3157: UserWarning: Sending large graph of size 27.73 MiB.\n",
      "This may cause some slowdown.\n",
      "Consider scattering data ahead of time and using futures.\n",
      "  warnings.warn(\n",
      "/project/cper_neon_aop/conda_envs/py_ml_env/lib/python3.9/site-packages/distributed/client.py:3157: UserWarning: Sending large graph of size 27.07 MiB.\n",
      "This may cause some slowdown.\n",
      "Consider scattering data ahead of time and using futures.\n",
      "  warnings.warn(\n",
      "/project/cper_neon_aop/conda_envs/py_ml_env/lib/python3.9/site-packages/sklearn/linear_model/_coordinate_descent.py:678: ConvergenceWarning: Objective did not converge. You might want to increase the number of iterations, check the scale of the features or consider increasing regularisation. Duality gap: 8.683e+04, tolerance: 7.366e+01\n",
      "  model = cd_fast.enet_coordinate_descent(\n"
     ]
    },
    {
     "name": "stdout",
     "output_type": "stream",
     "text": [
      "(time to fit: 18.87 secs)\n",
      "....fitting PLS (time to fit: 2.02 secs)\n",
      "....fitting PCR (time to fit: 0.84 secs)\n",
      "....fitting SVR "
     ]
    },
    {
     "name": "stderr",
     "output_type": "stream",
     "text": [
      "/project/cper_neon_aop/conda_envs/py_ml_env/lib/python3.9/site-packages/sklearn/svm/_base.py:1237: ConvergenceWarning: Liblinear failed to converge, increase the number of iterations.\n",
      "  warnings.warn(\n"
     ]
    },
    {
     "name": "stdout",
     "output_type": "stream",
     "text": [
      "(time to fit: 3.23 secs)\n",
      "....fitting RF "
     ]
    },
    {
     "name": "stderr",
     "output_type": "stream",
     "text": [
      "/project/cper_neon_aop/conda_envs/py_ml_env/lib/python3.9/site-packages/distributed/client.py:3157: UserWarning: Sending large graph of size 19.95 MiB.\n",
      "This may cause some slowdown.\n",
      "Consider scattering data ahead of time and using futures.\n",
      "  warnings.warn(\n"
     ]
    },
    {
     "name": "stdout",
     "output_type": "stream",
     "text": [
      "(time to fit: 54.16 secs)\n",
      "Skipping GBR, params not set to fit.\n",
      "....fitting HGBR (time to fit: 9.02 secs)\n",
      "Skipping MLP, params not set to fit.\n",
      "Skipping DNN, params not set to fit.\n"
     ]
    }
   ],
   "source": [
    "for idx_d, dist_fact in enumerate(dist_facts):\n",
    "    reload(sys.modules[\"cper_bm_params_fit_kmeans_transect\"])\n",
    "    from cper_bm_params_fit_kmeans_transect import *\n",
    "    mod_dict = make_model_dictionary(var_names, y_col, device)\n",
    "    df, centroid, scores, label = load_df(inPATH, ['Date', 'Date_mean'])\n",
    "    df = df.reset_index(drop=True)\n",
    "    if dist_fact != 0:\n",
    "        print('Running using Kmeans clusters resampled with random distance factor of ' + str(dist_fact))\n",
    "        kfold_group = kfold_group + '_r' + str(dist_fact)\n",
    "        tuneby_group = tuneby_group + '_r' + str(dist_fact)\n",
    "\n",
    "        outFILE_tmp = os.path.join(outDIR, 'tmp', re.sub('hls_idxs.csv', 'cv_' + kfold_group + '_tuneby_' + tuneby_group + '_tmp.csv', inFILE))\n",
    "        \n",
    "        centroid_idxs = list(range(centroid.shape[0]))\n",
    "        \n",
    "        rand_idxs = []\n",
    "        rand_labels = []\n",
    "        \n",
    "        df['kfold_rand'] = ''\n",
    "        random.seed(rand_seeds[idx_d].item())\n",
    "        random.shuffle(centroid_idxs)\n",
    "        for idx, i in enumerate(centroid_idxs):\n",
    "            if idx < (centroid.shape[0] - 1):\n",
    "                centroid_dists = np.sum((centroid - centroid[i])**2, axis=1)\n",
    "                centroid_dists_avail = centroid_dists[np.arange(len(centroid_dists))!=i]\n",
    "                centroid_dists_wtd = list(centroid_dists_avail/sum(centroid_dists_avail) * (100-dist_fact))\n",
    "                centroid_dists_wtd.insert(i, dist_fact)\n",
    "                centroid_dists_wtd = np.array(centroid_dists_wtd)\n",
    "                \n",
    "                #point = centroid[i].astype(float)\n",
    "                #other_points = df.loc[[x for x in df.index if x not in rand_idxs]][var_names].values.astype(float)\n",
    "                #other_points = df_plot_scores.loc[[x for x in df_plot_scores.index if x not in rand_idxs], \n",
    "                #[x for x in df_plot_scores.columns if 'PC' in x]]\n",
    "                #ec_wdistances = np.sum((other_points - point) ** dist_fact, axis=1)\n",
    "                avail_idxs = [x for x in df.index if x not in rand_idxs]\n",
    "                #rand_idxs_i = np.random.choice(avail_idxs, size=len(df_plot_scores)//10, replace=False, p=ec_wdistances/sum(ec_wdistances))\n",
    "                probs = [centroid_dists_wtd[label_i] for label_i in label[avail_idxs]]\n",
    "                rand_idxs_i = np.random.choice(avail_idxs, size=len(df)//10, replace=False, \n",
    "                                               p=probs/sum(probs))\n",
    "                rand_idxs.extend(rand_idxs_i)\n",
    "                df.loc[rand_idxs_i, 'kfold_rand'] = str(i)\n",
    "            else:\n",
    "                df.loc[df['kfold_rand'] == '', 'kfold_rand'] = str(i)\n",
    "\n",
    "        #df = pd.merge(df, df_plot_scores[['Plot', 'Date_mean', 'kfold_rand']], how='left', on=['Plot', 'Date_mean'])\n",
    "        \n",
    "        df[kfold_group] = df['kfold_rand']\n",
    "        \n",
    "        df['Kmeans_distfact'] = dist_fact\n",
    "        \n",
    "        df = df.drop(columns='kfold_rand')\n",
    "    else:\n",
    "        print('Running using Kmeans clusters')\n",
    "    \n",
    "    mod_dict['DNN']['fit'] = False\n",
    "    if prefix == 'transect':\n",
    "        mod_dict['DNN']['param_grid']['batch_size'] =  [256]\n",
    "    \n",
    "    if 'BAI_236' not in var_names or 'NDII7' not in var_names or 'NIR1' not in var_names:\n",
    "        mod_dict['CPER_2022']['fit'] = False\n",
    "        mod_dict['OLS_2022']['fit'] = False\n",
    "    \n",
    "    #for k in mod_dict.keys():\n",
    "    #    if k not in ['SVR', 'HGBR']:\n",
    "    #        mod_dict[k]['fit'] = False\n",
    "    \n",
    "    mod_dict['GBR']['fit'] = False\n",
    "    mod_dict['HGBR']['variable_importance'] = True\n",
    "    \n",
    "    run_ml_models(nickname,\n",
    "                 mod_dict,\n",
    "                 df, \n",
    "                 y_col,\n",
    "                 date_col,\n",
    "                 var_names,\n",
    "                 kfold_group,\n",
    "                 tuneby_group, \n",
    "                 kfold_type,\n",
    "                 tune_kfold_type,\n",
    "                 outFILE_tmp, \n",
    "                 outDIR,\n",
    "                 backend,\n",
    "                 nthreads,\n",
    "                 cper_mod_xfrm,\n",
    "                 cper_mod_xfrm_func,\n",
    "                 client)"
   ]
  },
  {
   "cell_type": "code",
   "execution_count": 9,
   "id": "415a776c-966a-44b5-8246-0276b96717d4",
   "metadata": {},
   "outputs": [],
   "source": [
    "reload(sys.modules[\"cper_bm_params_fit_kmeans_transect\"])\n",
    "from cper_bm_params_fit_kmeans_transect import *"
   ]
  },
  {
   "cell_type": "code",
   "execution_count": 11,
   "id": "4ff76d6f-9a98-4732-a3d8-f1948eca5cd1",
   "metadata": {},
   "outputs": [],
   "source": [
    "from scipy.stats import hmean"
   ]
  },
  {
   "cell_type": "code",
   "execution_count": 22,
   "id": "a6594761-5a81-4c72-9a92-2d8625b341f4",
   "metadata": {},
   "outputs": [
    {
     "name": "stdout",
     "output_type": "stream",
     "text": [
      "Running using Kmeans clusters resampled with random distance factor of 99\n"
     ]
    }
   ],
   "source": [
    "dist_fact = 99\n",
    "idx_d = 1\n",
    "reload(sys.modules[\"cper_bm_params_fit_kmeans_transect\"])\n",
    "from cper_bm_params_fit_kmeans_transect import *\n",
    "mod_dict = make_model_dictionary(var_names, y_col, device)\n",
    "df, centroid, scores, label = load_df(inPATH, ['Date', 'Date_mean'])\n",
    "df = df.reset_index(drop=True)\n",
    "if dist_fact != 0:\n",
    "    print('Running using Kmeans clusters resampled with random distance factor of ' + str(dist_fact))\n",
    "    kfold_group = kfold_group + '_r' + str(dist_fact)\n",
    "    tuneby_group = tuneby_group + '_r' + str(dist_fact)\n",
    "\n",
    "    outFILE_tmp = os.path.join(outDIR, 'tmp', re.sub('hls_idxs.csv', 'cv_' + kfold_group + '_tuneby_' + tuneby_group + '_tmp.csv', inFILE))\n",
    "    \n",
    "    centroid_idxs = list(range(centroid.shape[0]))\n",
    "    \n",
    "    rand_idxs = []\n",
    "    rand_labels = []\n",
    "\n",
    "    for i in range(scores.shape[1]):\n",
    "        df['PC' + str(i)] = scores[:,i]\n",
    "    \n",
    "    df['kfold_rand'] = ''\n",
    "    random.seed(rand_seeds[idx_d].item())\n",
    "    random.shuffle(centroid_idxs)\n",
    "    for idx, i in enumerate(centroid_idxs):\n",
    "        if idx < (centroid.shape[0] - 1):\n",
    "            #centroid_dists = np.sum((centroid - centroid[i])**2, axis=1)\n",
    "            #centroid_dists_avail = centroid_dists[np.arange(len(centroid_dists))!=i]\n",
    "            #centroid_dists_wtd = list(centroid_dists_avail/sum(centroid_dists_avail) * (100-dist_fact))\n",
    "            #centroid_dists_wtd.insert(i, dist_fact)\n",
    "            #centroid_dists_wtd = np.array(centroid_dists_wtd)\n",
    "\n",
    "            centroid_avail = centroid[np.arange(len(centroid))!=i]\n",
    "            dists = []\n",
    "            for point in centroid_avail:\n",
    "                #point = centroid[i].astype(float)\n",
    "                other_points = df.loc[[x for x in df.index if x not in rand_idxs]][[x for x in df.columns if 'PC' in x]].values.astype(float)\n",
    "                #other_points = df_plot_scores.loc[[x for x in df_plot_scores.index if x not in rand_idxs], \n",
    "                #[x for x in df_plot_scores.columns if 'PC' in x]]\n",
    "                ec_wdistances_p = hmean((other_points - point) ** 2, axis=1)\n",
    "                dists.append(ec_wdistances_p)\n",
    "            ec_wdistances = hmean(np.array(dists), axis=0)\n",
    "            avail_idxs = [x for x in df.index if x not in rand_idxs]\n",
    "            rand_idxs_i = np.random.choice(avail_idxs, size=len(df)//10, replace=False, p=ec_wdistances/sum(ec_wdistances))\n",
    "            #probs = [centroid_dists_wtd[label_i] for label_i in label[avail_idxs]]\n",
    "            #rand_idxs_i = np.random.choice(avail_idxs, size=len(df)//10, replace=False, \n",
    "            #                               p=probs/sum(probs))\n",
    "            rand_idxs.extend(rand_idxs_i)\n",
    "            df.loc[rand_idxs_i, 'kfold_rand'] = str(i)\n",
    "        else:\n",
    "            df.loc[df['kfold_rand'] == '', 'kfold_rand'] = str(i)\n",
    "\n",
    "    #df = pd.merge(df, df_plot_scores[['Plot', 'Date_mean', 'kfold_rand']], how='left', on=['Plot', 'Date_mean'])\n",
    "    \n",
    "    df[kfold_group] = df['kfold_rand']\n",
    "    \n",
    "    df['Kmeans_distfact'] = dist_fact\n",
    "    \n",
    "    df = df.drop(columns='kfold_rand')\n",
    "else:\n",
    "    print('Running using Kmeans clusters')\n",
    "\n",
    "mod_dict['DNN']['fit'] = False\n",
    "if prefix == 'transect':\n",
    "    mod_dict['DNN']['param_grid']['batch_size'] =  [256]\n",
    "\n",
    "if 'BAI_236' not in var_names or 'NDII7' not in var_names or 'NIR1' not in var_names:\n",
    "    mod_dict['CPER_2022']['fit'] = False\n",
    "    mod_dict['OLS_2022']['fit'] = False\n",
    "\n",
    "#for k in mod_dict.keys():\n",
    "#    if k not in ['SVR', 'HGBR']:\n",
    "#        mod_dict[k]['fit'] = False\n",
    "\n",
    "mod_dict['GBR']['fit'] = False\n",
    "mod_dict['HGBR']['variable_importance'] = True"
   ]
  },
  {
   "cell_type": "code",
   "execution_count": null,
   "id": "ffd06e8d-ea03-4b19-a53d-f640690b8c11",
   "metadata": {},
   "outputs": [],
   "source": [
    "dist_fact = 99\n",
    "idx_d = 1\n",
    "reload(sys.modules[\"cper_bm_params_fit_kmeans_transect\"])\n",
    "from cper_bm_params_fit_kmeans_transect import *\n",
    "mod_dict = make_model_dictionary(var_names, y_col, device)\n",
    "df, centroid, scores, label = load_df(inPATH, ['Date', 'Date_mean'])\n",
    "df = df.reset_index(drop=True)\n",
    "if dist_fact != 0:\n",
    "    print('Running using Kmeans clusters resampled with random distance factor of ' + str(dist_fact))\n",
    "    kfold_group = kfold_group + '_r' + str(dist_fact)\n",
    "    tuneby_group = tuneby_group + '_r' + str(dist_fact)\n",
    "\n",
    "    outFILE_tmp = os.path.join(outDIR, 'tmp', re.sub('hls_idxs.csv', 'cv_' + kfold_group + '_tuneby_' + tuneby_group + '_tmp.csv', inFILE))\n",
    "    \n",
    "    centroid_idxs = list(range(centroid.shape[0]))\n",
    "    \n",
    "    rand_idxs = []\n",
    "    rand_labels = []\n",
    "\n",
    "    for i in range(scores.shape[1]):\n",
    "        df['PC' + str(i)] = scores[:,i]\n",
    "    \n",
    "    df['kfold_rand'] = ''\n",
    "    random.seed(rand_seeds[idx_d].item())\n",
    "    random.shuffle(centroid_idxs)\n",
    "    for idx, i in enumerate(centroid_idxs):\n",
    "        if idx < (centroid.shape[0] - 1):\n",
    "            #centroid_dists = np.sum((centroid - centroid[i])**2, axis=1)\n",
    "            #centroid_dists_avail = centroid_dists[np.arange(len(centroid_dists))!=i]\n",
    "            #centroid_dists_wtd = list(centroid_dists_avail/sum(centroid_dists_avail) * (100-dist_fact))\n",
    "            #centroid_dists_wtd.insert(i, dist_fact)\n",
    "            #centroid_dists_wtd = np.array(centroid_dists_wtd)\n",
    "\n",
    "            centroid_avail = centroid[np.arange(len(centroid))!=i]\n",
    "            dists = []\n",
    "            for point in centroid_avail:\n",
    "                #point = centroid[i].astype(float)\n",
    "                other_points = df.loc[[x for x in df.index if x not in rand_idxs]][[x for x in df.columns if 'PC' in x]].values.astype(float)\n",
    "                #other_points = df_plot_scores.loc[[x for x in df_plot_scores.index if x not in rand_idxs], \n",
    "                #[x for x in df_plot_scores.columns if 'PC' in x]]\n",
    "                ec_wdistances_p = hmean((other_points - point) ** 2, axis=1)\n",
    "                dists.append(ec_wdistances_p)\n",
    "            ec_wdistances = hmean(np.array(dists), axis=0)\n",
    "            avail_idxs = [x for x in df.index if x not in rand_idxs]\n",
    "            rand_idxs_i = np.random.choice(avail_idxs, size=len(df)//10, replace=False, p=ec_wdistances/sum(ec_wdistances))\n",
    "            #probs = [centroid_dists_wtd[label_i] for label_i in label[avail_idxs]]\n",
    "            #rand_idxs_i = np.random.choice(avail_idxs, size=len(df)//10, replace=False, \n",
    "            #                               p=probs/sum(probs))\n",
    "            rand_idxs.extend(rand_idxs_i)\n",
    "            df.loc[rand_idxs_i, 'kfold_rand'] = str(i)\n",
    "        else:\n",
    "            df.loc[df['kfold_rand'] == '', 'kfold_rand'] = str(i)\n",
    "\n",
    "    #df = pd.merge(df, df_plot_scores[['Plot', 'Date_mean', 'kfold_rand']], how='left', on=['Plot', 'Date_mean'])\n",
    "    \n",
    "    df[kfold_group] = df['kfold_rand']\n",
    "    \n",
    "    df['Kmeans_distfact'] = dist_fact\n",
    "    \n",
    "    df = df.drop(columns='kfold_rand')\n",
    "else:\n",
    "    print('Running using Kmeans clusters')"
   ]
  },
  {
   "cell_type": "code",
   "execution_count": 70,
   "id": "c41ba9b0-f50f-4b2d-969b-0e73b15a72df",
   "metadata": {},
   "outputs": [],
   "source": [
    "df['Kmeans_r99'] = ''"
   ]
  },
  {
   "cell_type": "code",
   "execution_count": 71,
   "id": "d8aa3a97-350d-4b40-95dc-be1f7f21afa8",
   "metadata": {},
   "outputs": [],
   "source": [
    "test = df.groupby(['Plot', 'Date_mean']).first().reset_index().groupby('Kmeans_r99').sample(frac=0.01)\n",
    "samp = df[df['Plot'].str.cat(df['Date_mean'].astype(str), sep='_').isin(\n",
    "    test['Plot'].str.cat(test['Date_mean'].astype(str), sep='_'))]['Kmeans_r99']"
   ]
  },
  {
   "cell_type": "code",
   "execution_count": 72,
   "id": "5fb1a318-d545-43d0-92fe-cf59410f7e27",
   "metadata": {},
   "outputs": [],
   "source": [
    "df.loc[samp.index, 'Kmeans_r99'] = np.random.randint(0, 10, len(samp)).astype(str)\n",
    "df.loc[[x for x in df.index if x not in samp.index], 'Kmeans_r99'] = df.loc[[x for x in df.index if x not in samp.index], 'Kmeans']"
   ]
  },
  {
   "cell_type": "code",
   "execution_count": 73,
   "id": "2ab468a1-fbcb-430a-85c9-e6a47df3a3cd",
   "metadata": {},
   "outputs": [],
   "source": [
    "import pandas as pd\n",
    "import numpy as np\n",
    "import os\n",
    "import matplotlib.pyplot as plt\n",
    "import seaborn as sns"
   ]
  },
  {
   "cell_type": "code",
   "execution_count": 74,
   "id": "61159656-8325-4ba3-9183-b0221ff8147f",
   "metadata": {},
   "outputs": [],
   "source": [
    "from sklearn.cross_decomposition import PLSRegression\n",
    "from sklearn.metrics import r2_score\n",
    "from matplotlib.lines import Line2D\n",
    "import re"
   ]
  },
  {
   "cell_type": "code",
   "execution_count": 75,
   "id": "87cbb875-62a3-4e15-b45b-35e7e45c3c42",
   "metadata": {},
   "outputs": [],
   "source": [
    "#https://stackoverflow.com/questions/39216897/plot-pca-loadings-and-loading-in-biplot-in-sklearn-like-rs-autoplot\n",
    "from sklearn.preprocessing import StandardScaler\n",
    "from sklearn.decomposition import PCA\n",
    "from matplotlib.patches import Ellipse\n",
    "import matplotlib.transforms as transforms\n",
    "import matplotlib as mpl"
   ]
  },
  {
   "cell_type": "code",
   "execution_count": 76,
   "id": "3d2aa679-26ed-4245-a329-4b2899bcb21e",
   "metadata": {},
   "outputs": [],
   "source": [
    "def confidence_ellipse(x, y, ax, n_std=2.0, facecolor='none', **kwargs):\n",
    "    \"\"\"\n",
    "    Create a plot of the covariance confidence ellipse of *x* and *y*.\n",
    "\n",
    "    Parameters\n",
    "    ----------\n",
    "    x, y : array-like, shape (n, )\n",
    "        Input data.\n",
    "\n",
    "    ax : matplotlib.axes.Axes\n",
    "        The axes object to draw the ellipse into.\n",
    "\n",
    "    n_std : float\n",
    "        The number of standard deviations to determine the ellipse's radiuses.\n",
    "\n",
    "    **kwargs\n",
    "        Forwarded to `~matplotlib.patches.Ellipse`\n",
    "\n",
    "    Returns\n",
    "    -------\n",
    "    matplotlib.patches.Ellipse\n",
    "    \"\"\"\n",
    "    if x.size != y.size:\n",
    "        raise ValueError(\"x and y must be the same size\")\n",
    "\n",
    "    cov = np.cov(x, y)\n",
    "    pearson = cov[0, 1]/np.sqrt(cov[0, 0] * cov[1, 1])\n",
    "    # Using a special case to obtain the eigenvalues of this\n",
    "    # two-dimensional dataset.\n",
    "    ell_radius_x = np.sqrt(1 + pearson)\n",
    "    ell_radius_y = np.sqrt(1 - pearson)\n",
    "    ellipse = Ellipse((0, 0), width=ell_radius_x * 2, height=ell_radius_y * 2,\n",
    "                      facecolor=facecolor, **kwargs)\n",
    "\n",
    "    # Calculating the standard deviation of x from\n",
    "    # the squareroot of the variance and multiplying\n",
    "    # with the given number of standard deviations.\n",
    "    scale_x = np.sqrt(cov[0, 0]) * n_std\n",
    "    mean_x = np.mean(x)\n",
    "\n",
    "    # calculating the standard deviation of y ...\n",
    "    scale_y = np.sqrt(cov[1, 1]) * n_std\n",
    "    mean_y = np.mean(y)\n",
    "\n",
    "    transf = transforms.Affine2D() \\\n",
    "        .rotate_deg(45) \\\n",
    "        .scale(scale_x, scale_y) \\\n",
    "        .translate(mean_x, mean_y)\n",
    "\n",
    "    ellipse.set_transform(transf + ax.transData)\n",
    "    return ax.add_patch(ellipse)"
   ]
  },
  {
   "cell_type": "code",
   "execution_count": 77,
   "id": "8883b3c6-3a23-4a1f-bcc3-11b63948d6ae",
   "metadata": {},
   "outputs": [],
   "source": [
    "def plot_pcs(df, ax, var_names, pc_type, var_reduce_type, k, vars_of_interest, title=None, n_comps=None, n_std=2.0, pcs=[1,2], topk=2):    \n",
    "    # load data\n",
    "    X = df[var_names]\n",
    "    y = df['sqrt_Biomass_kg_ha']\n",
    "    features = var_names\n",
    "    X_scaled = StandardScaler().fit_transform(X)\n",
    "    if n_comps is None:\n",
    "        n_comps = len(var_names)\n",
    "    pcs_idx = [i-1 for i in pcs]\n",
    "    if pc_type == 'pca':\n",
    "        features +=  ['sqrt_Biomass_kg_ha']\n",
    "        # analysis\n",
    "        pca = PCA(n_components=10).fit(np.concatenate([X_scaled, np.expand_dims(y, 1)], axis=1))\n",
    "        X_reduced = pca.transform(np.concatenate([X_scaled, np.expand_dims(y, 1)], axis=1))\n",
    "        # results\n",
    "        scores = X_reduced[:, pcs_idx]\n",
    "        loadings = pca.components_[pcs_idx].T\n",
    "        pvars = pca.explained_variance_ratio_[pcs_idx] * 100\n",
    "    elif pc_type == 'pls':\n",
    "        pls2 = PLSRegression(n_components=n_comps)\n",
    "        pls2.fit(X_scaled, y)\n",
    "        loadings = pls2.x_loadings_[:,pcs_idx]\n",
    "        scores = pls2.x_scores_[:, pcs_idx]\n",
    "        naY = y\n",
    "        r2_scores = []\n",
    "        for i in range(0,n_comps):\n",
    "            Y_pred=np.dot(pls2.x_scores_[:,i].reshape(-1,1),pls2.y_loadings_[:,i].reshape(-1,1).T)*naY.std(axis=0, ddof=1)+naY.mean(axis=0)\n",
    "            r2_scores.append(round(r2_score(y,Y_pred),3))\n",
    "        pvars = np.array(r2_scores)[pcs_idx]*100\n",
    "    \n",
    "    if var_reduce_type == 'top_k':\n",
    "        tops = (loadings ** 2).sum(axis=1).argsort()[-topk:]\n",
    "    elif var_reduce_type == 'manual':\n",
    "        tops = [i for i, value in enumerate(features) if value in vars_of_interest]\n",
    "    \n",
    "    if pc_type == 'pca':\n",
    "        tops = [x for x in tops if (x+1) != len(features)]\n",
    "    arrows = loadings[tops]\n",
    "    arrows /= np.sqrt((arrows ** 2).sum(axis=0))\n",
    "    arrows *= np.abs(scores).max(axis=0)\n",
    "    \n",
    "    if pc_type == 'pca':\n",
    "        bm_arrow = loadings[-1]\n",
    "        bm_arrow /= np.sqrt((bm_arrow ** 2).sum(axis=0))\n",
    "        bm_arrow *= np.abs(scores).max(axis=0)\n",
    "    elif pc_type == 'pls':\n",
    "        bm_arrow = pls2.y_loadings_[:,pcs_idx].squeeze()\n",
    "        bm_arrow /= np.sqrt((bm_arrow ** 2).sum(axis=0))\n",
    "        bm_arrow *= np.abs(scores).max(axis=0)\n",
    "        #bm_arrow *= np.abs(pls2.y_scores_).max(axis=0)\n",
    "    \n",
    "    for idx, i in enumerate(pcs):\n",
    "        df['PC'+str(i)] = scores[:,idx]\n",
    "    \n",
    "    #plt.scatter(scores[:, 0], scores[:,1], s=8, alpha=0.5)\n",
    "    sns.scatterplot(x='PC'+str(pcs[0]), y='PC'+str(pcs[1]), data=df, hue='Season',\n",
    "                    edgecolor='none', alpha=0.3, s=6, palette='Greys', ax=ax)\n",
    "    #ax.legend(title=None, loc='lower center', ncols=5)\n",
    "    width = -0.005 * np.min([np.subtract(*ax.get_xlim()), np.subtract(*ax.get_ylim())])\n",
    "    for i, arrow in zip(tops, arrows):\n",
    "        ax.arrow(0, 0, *arrow, color='k', alpha=0.75, width=width, ec='none',\n",
    "                  length_includes_head=True)\n",
    "        ax.text(*(arrow * 1.3), features[i], ha='center', va='center', color='k')\n",
    "    ax.arrow(0, 0, *bm_arrow, color='grey', alpha=0.75, width=width, ec='none',\n",
    "                  length_includes_head=True)\n",
    "    ax.text(*(bm_arrow * 1.2), 'Biomass', ha='center', va='center', color='grey')\n",
    "\n",
    "    ax.set_xlim((ax.get_xlim()[0]*1.15, ax.get_xlim()[1]*1.2))\n",
    "    ax.set_ylim((ax.get_xlim()[0]*1.15, ax.get_xlim()[1]*1.2))\n",
    "    \n",
    "    for idx, axis in enumerate('xy'):\n",
    "        #getattr(plt, f'{axis}ticks')([])\n",
    "        getattr(ax, f'set_{axis}label')(f'PC{pcs[idx]} ({pvars[idx]:.2f}%)')\n",
    "    custom_lines = []\n",
    "    kfold_labels = []\n",
    "    for i, k in enumerate(df['kfold'].sort_values().unique()):\n",
    "        custom_lines.append(Line2D([0], [0], \n",
    "                                   color=mpl.colormaps['tab10'].colors[i],\n",
    "                                   lw=3))\n",
    "        confidence_ellipse(df['PC'+str(pcs[0])][df['kfold'] == k], \n",
    "                           df['PC'+str(pcs[1])][df['kfold'] == k], \n",
    "                           ax,\n",
    "                           edgecolor=mpl.colormaps['tab10'].colors[i],\n",
    "                           n_std=n_std)\n",
    "        if type(k) == np.float_:\n",
    "            kfold_labels.append(str(int(k)))\n",
    "        elif 'kfold' in k:\n",
    "            kfold_labels.append(re.sub('kfold', '', k))\n",
    "        else:\n",
    "            kfold_labels.append(str(k))\n",
    "    ax.legend(custom_lines, kfold_labels, frameon=False)\n",
    "    ax.set_title(title, y=1.0)\n",
    "    return ax"
   ]
  },
  {
   "cell_type": "code",
   "execution_count": 78,
   "id": "77700de2-c2ea-4942-9c17-bf06dc7a52dc",
   "metadata": {},
   "outputs": [],
   "source": [
    "df['kfold'] = df['Kmeans_r99']"
   ]
  },
  {
   "cell_type": "code",
   "execution_count": 79,
   "id": "bd230e4d-38db-4865-afd9-20c85d2d111c",
   "metadata": {},
   "outputs": [
    {
     "data": {
      "text/plain": [
       "(-13.0, 13.0)"
      ]
     },
     "execution_count": 79,
     "metadata": {},
     "output_type": "execute_result"
    },
    {
     "data": {
      "image/png": "[encoded data removed]",
      "text/plain": [
       "<Figure size 640x480 with 1 Axes>"
      ]
     },
     "metadata": {},
     "output_type": "display_data"
    }
   ],
   "source": [
    "fig, ax = plt.subplots()\n",
    "plot_pcs(df=df,\n",
    "         ax=ax,\n",
    "         var_names=var_names,\n",
    "         pc_type = 'pls',\n",
    "         var_reduce_type = 'manual',\n",
    "         k=None,\n",
    "         vars_of_interest = ['NDVI', 'DFI', 'NDTI', 'SWIR1', 'PSRI'],\n",
    "         #vars_of_interest = ['SWIR2', 'NDTI', 'TCWI', 'SWIR1', 'BLUE', 'TCBI', 'GREEN', 'DFI', 'RED'],\n",
    "         title='KNN',\n",
    "         n_std=1.0,\n",
    "         pcs=[1,2])\n",
    "ax.set_xlim((-18, 18))\n",
    "ax.set_ylim((-13, 13))"
   ]
  },
  {
   "cell_type": "code",
   "execution_count": null,
   "id": "bc313f0d-4626-4660-a37e-d024fbd01b34",
   "metadata": {},
   "outputs": [],
   "source": []
  }
 ],
 "metadata": {
  "kernelspec": {
   "display_name": "py_ml_env",
   "language": "python",
   "name": "py_ml_env"
  },
  "language_info": {
   "codemirror_mode": {
    "name": "ipython",
    "version": 3
   },
   "file_extension": ".py",
   "mimetype": "text/x-python",
   "name": "python",
   "nbconvert_exporter": "python",
   "pygments_lexer": "ipython3",
   "version": "3.9.19"
  }
 },
 "nbformat": 4,
 "nbformat_minor": 5
}
