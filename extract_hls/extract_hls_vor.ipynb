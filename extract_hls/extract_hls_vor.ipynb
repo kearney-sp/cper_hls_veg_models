{
 "cells": [
  {
   "cell_type": "markdown",
   "id": "00cea40d-ef95-4bfc-8970-bf7f8aeb8030",
   "metadata": {},
   "source": [
    "### Extract satellite data at VOR plots for standing biomass modelling"
   ]
  },
  {
   "cell_type": "markdown",
   "id": "6cde5bd9-299a-45b5-8084-133fc4647641",
   "metadata": {},
   "source": [
    "#### Package inputs"
   ]
  },
  {
   "cell_type": "code",
   "execution_count": 1,
   "id": "b5ccc6ec-ead9-4e3f-a79a-a50c6d4f2654",
   "metadata": {},
   "outputs": [],
   "source": [
    "import xarray as xr\n",
    "import rioxarray as riox\n",
    "import numpy as np\n",
    "import os\n",
    "import re\n",
    "import pandas as pd\n",
    "import geopandas as gpd\n",
    "from datetime import datetime, timedelta\n",
    "from tqdm import tqdm\n",
    "tqdm.pandas()\n",
    "import time\n",
    "import json\n",
    "from shapely import wkt\n",
    "from itertools import chain\n",
    "from hlsstack.hls_funcs import fetch\n",
    "from hlsstack.hls_funcs.masks import mask_hls, shp2mask, bolton_mask_xr, bolton_mask_np, atsa_mask\n",
    "from hlsstack.hls_funcs import indices\n",
    "from hlsstack.hls_funcs.smooth import despike_ts, double_savgol\n",
    "import gc\n",
    "from glob import glob"
   ]
  },
  {
   "cell_type": "markdown",
   "id": "610a332c-96cf-40ad-8297-e5081198a05a",
   "metadata": {},
   "source": [
    "#### Specify parameters"
   ]
  },
  {
   "cell_type": "markdown",
   "id": "ee8e8877-cfa5-4a77-8e22-578b2d0feed4",
   "metadata": {},
   "source": [
    "##### Specify input/output paths"
   ]
  },
  {
   "cell_type": "code",
   "execution_count": 2,
   "id": "16f76159-4c5e-4c07-a48d-104479c45417",
   "metadata": {},
   "outputs": [],
   "source": [
    "# input directory\n",
    "inDIR = '../data/ground_cln/'\n",
    "\n",
    "# prefix for plot vs. transect\n",
    "prefix = 'transect'\n",
    "\n",
    "# input file for VOR data\n",
    "inFILE = 'vor_2014_2023_cln_2024_04_04_' + prefix + '.csv'\n",
    "# create full input path\n",
    "inPATH = os.path.join(inDIR, inFILE)\n",
    "# output directory\n",
    "outDIR = '../data/training/'\n",
    "# create full output path from input file name\n",
    "outPATH = os.path.join(outDIR, re.sub('.csv', '_hls_idxs.csv', inFILE))\n",
    "\n",
    "# make the output directory if it doesn't already exist\n",
    "if not os.path.exists(outDIR):\n",
    "    os.mkdir(outDIR)\n",
    "# directory for landsat-modis fusion (LMF) data\n",
    "lmfDIR = '/mnt/e/LMF_STARFM_netcdf/'\n",
    "#lmfDIR = '/mnt/t/3-GIS/CPER/Layers/CPER_Landsat-Modis-Fusion_V3'\n",
    "\n",
    "# path to save raw time series data\n",
    "outPATH_raw = '../data/raw_tmp/ts_raw_vor_' + prefix + '.csv'"
   ]
  },
  {
   "cell_type": "markdown",
   "id": "9b1c47b2-3882-4f10-b7e7-624e4b281732",
   "metadata": {},
   "source": [
    "##### Specifiy other parameters"
   ]
  },
  {
   "cell_type": "code",
   "execution_count": 3,
   "id": "255ada0f-cf54-44b7-8320-0b53fc8de2f2",
   "metadata": {},
   "outputs": [],
   "source": [
    "# dask cluster location\n",
    "cluster_loc = 'hpc'\n",
    "\n",
    "# whether use Landsat-MODIS (LMF) fusion data when available\n",
    "use_lmf = False\n",
    "# last year for LMF data\n",
    "lmf_yr_max = 2016\n",
    "# whether to try applying the ATSA cloud/shadow mask\n",
    "try_atsa = True\n",
    "# whether to apply the Bolton et al. masking approach\n",
    "mask_bolton_by_pixel = False\n",
    "mask_bolton_by_id = True\n",
    "\n",
    "# whether to save the raw time series data\n",
    "save_raw = True\n",
    "\n",
    "# dictionary specifying functions for each vegetation index to calculate and extract\n",
    "veg_dict = {\n",
    "    'NDVI': indices.ndvi_func,\n",
    "    'DFI': indices.dfi_func,\n",
    "    'NDTI': indices.ndti_func,\n",
    "    'SATVI': indices.satvi_func,\n",
    "    'NDII7': indices.ndii7_func,\n",
    "    'SAVI': indices.savi_func,\n",
    "    'RDVI': indices.rdvi_func,\n",
    "    'MTVI1': indices.mtvi1_func,\n",
    "    'NCI': indices.nci_func,\n",
    "    'NDCI': indices.ndci_func,\n",
    "    'PSRI': indices.psri_func,\n",
    "    'NDWI': indices.ndwi_func,\n",
    "    'EVI': indices.evi_func,\n",
    "    'TCBI': indices.tcbi_func,\n",
    "    'TCGI': indices.tcgi_func,\n",
    "    'TCWI': indices.tcwi_func,\n",
    "    'BAI_126': indices.bai_126_func,\n",
    "    'BAI_136': indices.bai_136_func,\n",
    "    'BAI_146': indices.bai_146_func,\n",
    "    'BAI_236': indices.bai_236_func,\n",
    "    'BAI_246': indices.bai_246_func,\n",
    "    'BAI_346': indices.bai_346_func\n",
    "}\n",
    "\n",
    "# dictionary specifying individual bands to extract\n",
    "band_list = ['BLUE', 'GREEN', 'RED', 'NIR1', 'SWIR1', 'SWIR2']"
   ]
  },
  {
   "cell_type": "markdown",
   "id": "0d7ff5f5-3ac5-4021-a77f-0cc2da6db183",
   "metadata": {},
   "source": [
    "##### Create helper functions"
   ]
  },
  {
   "cell_type": "code",
   "execution_count": 4,
   "id": "f1d08865-3539-4241-afa2-5edcb21f70a3",
   "metadata": {},
   "outputs": [],
   "source": [
    "def adapt_smooth(ts, dates, despike=True, dat_thresh=None):\n",
    "    ct_valid = sum(~np.isnan(ts[(dates.dt.month >= 3) & (dates.dt.month <= 10)]))\n",
    "    if ct_valid > 0:\n",
    "        if 180 / ct_valid > 15:\n",
    "            despike = False\n",
    "        if despike:\n",
    "            if dat_thresh is None:\n",
    "                _dat_thresh = np.ptp(ts.values) * 0.10\n",
    "            else:\n",
    "                _dat_thresh = dat_thresh\n",
    "            ts_ds = despike_ts(ts.values, dat_thresh=_dat_thresh, days_thresh=45)\n",
    "        else:\n",
    "            ts_ds = ts.values\n",
    "        if 180 / ct_valid > 10:\n",
    "            ts_smooth = double_savgol(ts_ds, double=True, window1_max=7, window2=31, limit=91)\n",
    "        elif 180 / ct_valid > 7:\n",
    "             ts_smooth = double_savgol(ts_ds, double=True, window1_max=5, window2=41, limit=91)\n",
    "        elif 180 / ct_valid > 5:\n",
    "             ts_smooth = double_savgol(ts_ds, double=True, window1_max=5, window2=51, limit=91)\n",
    "        else:\n",
    "            ts_smooth = double_savgol(ts_ds, double=False, window2=51, limit=91)\n",
    "    else:\n",
    "        ts_smooth = ts\n",
    "    return pd.Series(ts_smooth, ts.index.get_level_values(-1))\n"
   ]
  },
  {
   "cell_type": "markdown",
   "id": "50492b23-43db-4942-9103-fdc43eef20c8",
   "metadata": {},
   "source": [
    "##### Set up dask cluster"
   ]
  },
  {
   "cell_type": "code",
   "execution_count": 5,
   "id": "8718d14f-deeb-4bd3-82d0-b7ebe2d78573",
   "metadata": {},
   "outputs": [],
   "source": [
    "#clust.close()\n",
    "#client.close()\n",
    "#!scontrol show nodes"
   ]
  },
  {
   "cell_type": "code",
   "execution_count": 6,
   "id": "9ab7dc73-d8c5-40e0-b295-76635edaa07e",
   "metadata": {},
   "outputs": [
    {
     "name": "stdout",
     "output_type": "stream",
     "text": [
      "   setting up cluster on HPC...\n",
      "ens7f0\n",
      "64 workers not available. Continuing with available workers.\n"
     ]
    },
    {
     "data": {
      "text/html": [
       "<div>\n",
       "    <div style=\"width: 24px; height: 24px; background-color: #e1e1e1; border: 3px solid #9D9D9D; border-radius: 5px; position: absolute;\"> </div>\n",
       "    <div style=\"margin-left: 48px;\">\n",
       "        <h3 style=\"margin-bottom: 0px;\">Client</h3>\n",
       "        <p style=\"color: #9D9D9D; margin-bottom: 0px;\">Client-d043e3f1-f5e1-11ee-952d-3cecef1ddc1c</p>\n",
       "        <table style=\"width: 100%; text-align: left;\">\n",
       "\n",
       "        <tr>\n",
       "        \n",
       "            <td style=\"text-align: left;\"><strong>Connection method:</strong> Cluster object</td>\n",
       "            <td style=\"text-align: left;\"><strong>Cluster type:</strong> dask_jobqueue.SLURMCluster</td>\n",
       "        \n",
       "        </tr>\n",
       "\n",
       "        \n",
       "            <tr>\n",
       "                <td style=\"text-align: left;\">\n",
       "                    <strong>Dashboard: </strong> <a href=\"/node/ceres20-compute-14-eth.scinet.local/3602/proxy/8787/status\" target=\"_blank\">/node/ceres20-compute-14-eth.scinet.local/3602/proxy/8787/status</a>\n",
       "                </td>\n",
       "                <td style=\"text-align: left;\"></td>\n",
       "            </tr>\n",
       "        \n",
       "\n",
       "        </table>\n",
       "\n",
       "        \n",
       "            <button style=\"margin-bottom: 12px;\" data-commandlinker-command=\"dask:populate-and-launch-layout\" data-commandlinker-args='{\"url\": \"/node/ceres20-compute-14-eth.scinet.local/3602/proxy/8787/status\" }'>\n",
       "                Launch dashboard in JupyterLab\n",
       "            </button>\n",
       "        \n",
       "\n",
       "        \n",
       "            <details>\n",
       "            <summary style=\"margin-bottom: 20px;\"><h3 style=\"display: inline;\">Cluster Info</h3></summary>\n",
       "            <div class=\"jp-RenderedHTMLCommon jp-RenderedHTML jp-mod-trusted jp-OutputArea-output\">\n",
       "    <div style=\"width: 24px; height: 24px; background-color: #e1e1e1; border: 3px solid #9D9D9D; border-radius: 5px; position: absolute;\">\n",
       "    </div>\n",
       "    <div style=\"margin-left: 48px;\">\n",
       "        <h3 style=\"margin-bottom: 0px; margin-top: 0px;\">SLURMCluster</h3>\n",
       "        <p style=\"color: #9D9D9D; margin-bottom: 0px;\">84a0d2ff</p>\n",
       "        <table style=\"width: 100%; text-align: left;\">\n",
       "            <tr>\n",
       "                <td style=\"text-align: left;\">\n",
       "                    <strong>Dashboard:</strong> <a href=\"/node/ceres20-compute-14-eth.scinet.local/3602/proxy/8787/status\" target=\"_blank\">/node/ceres20-compute-14-eth.scinet.local/3602/proxy/8787/status</a>\n",
       "                </td>\n",
       "                <td style=\"text-align: left;\">\n",
       "                    <strong>Workers:</strong> 0\n",
       "                </td>\n",
       "            </tr>\n",
       "            <tr>\n",
       "                <td style=\"text-align: left;\">\n",
       "                    <strong>Total threads:</strong> 0\n",
       "                </td>\n",
       "                <td style=\"text-align: left;\">\n",
       "                    <strong>Total memory:</strong> 0 B\n",
       "                </td>\n",
       "            </tr>\n",
       "            \n",
       "        </table>\n",
       "\n",
       "        <details>\n",
       "            <summary style=\"margin-bottom: 20px;\">\n",
       "                <h3 style=\"display: inline;\">Scheduler Info</h3>\n",
       "            </summary>\n",
       "\n",
       "            <div style=\"\">\n",
       "    <div>\n",
       "        <div style=\"width: 24px; height: 24px; background-color: #FFF7E5; border: 3px solid #FF6132; border-radius: 5px; position: absolute;\"> </div>\n",
       "        <div style=\"margin-left: 48px;\">\n",
       "            <h3 style=\"margin-bottom: 0px;\">Scheduler</h3>\n",
       "            <p style=\"color: #9D9D9D; margin-bottom: 0px;\">Scheduler-22377ede-f7f8-4124-b581-a6c9560b29cf</p>\n",
       "            <table style=\"width: 100%; text-align: left;\">\n",
       "                <tr>\n",
       "                    <td style=\"text-align: left;\">\n",
       "                        <strong>Comm:</strong> tcp://10.1.5.197:46835\n",
       "                    </td>\n",
       "                    <td style=\"text-align: left;\">\n",
       "                        <strong>Workers:</strong> 0\n",
       "                    </td>\n",
       "                </tr>\n",
       "                <tr>\n",
       "                    <td style=\"text-align: left;\">\n",
       "                        <strong>Dashboard:</strong> <a href=\"/node/ceres20-compute-14-eth.scinet.local/3602/proxy/8787/status\" target=\"_blank\">/node/ceres20-compute-14-eth.scinet.local/3602/proxy/8787/status</a>\n",
       "                    </td>\n",
       "                    <td style=\"text-align: left;\">\n",
       "                        <strong>Total threads:</strong> 0\n",
       "                    </td>\n",
       "                </tr>\n",
       "                <tr>\n",
       "                    <td style=\"text-align: left;\">\n",
       "                        <strong>Started:</strong> 1 minute ago\n",
       "                    </td>\n",
       "                    <td style=\"text-align: left;\">\n",
       "                        <strong>Total memory:</strong> 0 B\n",
       "                    </td>\n",
       "                </tr>\n",
       "            </table>\n",
       "        </div>\n",
       "    </div>\n",
       "\n",
       "    <details style=\"margin-left: 48px;\">\n",
       "        <summary style=\"margin-bottom: 20px;\">\n",
       "            <h3 style=\"display: inline;\">Workers</h3>\n",
       "        </summary>\n",
       "\n",
       "        \n",
       "\n",
       "    </details>\n",
       "</div>\n",
       "\n",
       "        </details>\n",
       "    </div>\n",
       "</div>\n",
       "            </details>\n",
       "        \n",
       "\n",
       "    </div>\n",
       "</div>"
      ],
      "text/plain": [
       "<Client: 'tcp://10.1.5.197:46835' processes=0 threads=0, memory=0 B>"
      ]
     },
     "metadata": {},
     "output_type": "display_data"
    }
   ],
   "source": [
    "if cluster_loc == 'local':\n",
    "    print('   setting up Local cluster...')\n",
    "    from dask.distributed import LocalCluster, Client\n",
    "    import dask\n",
    "    from jupyter_server import serverapp\n",
    "    aws=False\n",
    "    # don't process on local resources - can't handle ATSA mask\n",
    "    process_hls=True\n",
    "    fetch.setup_env(aws=aws)\n",
    "    try:\n",
    "        jupServer = [x for x in serverapp.list_running_servers()][0]\n",
    "    except IndexError:\n",
    "        # manually copy/paste the server address\n",
    "        jupServer = {'base_url': '/node/ceres19-compute-98-eth.scinet.local/17710/'}\n",
    "    dask.config.set({'distributed.dashboard.link': jupServer['base_url'] + 'proxy/{port}/status'})\n",
    "    cluster = LocalCluster()\n",
    "    client = Client(cluster)\n",
    "    display(client)\n",
    "elif cluster_loc == 'hpc':\n",
    "    from dask.distributed import LocalCluster, Client\n",
    "    import dask_jobqueue as jq\n",
    "    import dask\n",
    "    from jupyter_server import serverapp\n",
    "    import psutil\n",
    "    import distributed\n",
    "    dask.config.set({\"distributed.worker.use-file-locking\": False})\n",
    "    # get the server address for porting\n",
    "    try:\n",
    "        jupServer = [x for x in serverapp.list_running_servers()][0]\n",
    "    except IndexError:\n",
    "        # manually copy/paste the server address\n",
    "        jupServer = {'base_url': '/node/ceres19-compute-98-eth.scinet.local/17710/'}\n",
    "    print('   setting up cluster on HPC...')\n",
    "    aws=False\n",
    "    process_hls = True\n",
    "    fetch.setup_env(aws=aws)\n",
    "    dask.config.set({'distributed.dashboard.link': jupServer['base_url'] + 'proxy/{port}/status'})\n",
    "    interface_prefs = [\n",
    "        #'lo', \n",
    "        #'ibp175s0', \n",
    "        'enp24s0f0', \n",
    "        'ens7f0'\n",
    "    ]\n",
    "    interface = [x for x in interface_prefs if x in list(psutil.net_if_addrs().keys())][0]\n",
    "    if len(interface) == 0:\n",
    "        print('ERROR: Preferred interfaces not found on node!')\n",
    "    else:\n",
    "        print(interface)\n",
    "    debug=False\n",
    "    if debug:\n",
    "        import logging\n",
    "        logging.basicConfig(format='%(levelname)s:%(message)s', level=logging.DEBUG)\n",
    "        if not os.path.exists('debug/'):\n",
    "            os.mkdir('debug/')\n",
    "        output_cmd = [\"--output=debug/slurm-%j.out\",\n",
    "                      \"--error=debug/slurm-%j.err\"]\n",
    "    else:\n",
    "        output_cmd = [\"--output=/dev/null\",\n",
    "                      \"--error=/dev/null\"]\n",
    "    partition='brief-low',#'short','debug', 'mem', 'mem-low',\n",
    "    num_processes = 4\n",
    "    num_threads_per_processes = 2\n",
    "    mem = 2.5*num_processes*num_threads_per_processes\n",
    "    n_cores_per_job = num_processes*num_threads_per_processes\n",
    "    clust = jq.SLURMCluster(queue=partition,\n",
    "                            processes=num_processes,\n",
    "                            cores=n_cores_per_job,\n",
    "                            memory=str(mem) + 'GB',\n",
    "                            interface=interface,\n",
    "                            local_directory='$TMPDIR',\n",
    "                            death_timeout=600.0,\n",
    "                            walltime='02:00:00',\n",
    "                            job_extra_directives=[\"--nodes=1\",\n",
    "                                       #\"--nodelist=ceres20-compute-[0-48]\",\n",
    "                                       #\"--exclusive\",\n",
    "                                       ] + output_cmd)\n",
    "    client=Client(clust)\n",
    "    #Scale Cluster \n",
    "    num_jobs=32\n",
    "    clust.scale(num_jobs)\n",
    "    try:\n",
    "        client.wait_for_workers(n_workers=num_jobs*2, timeout=60)\n",
    "    except dask.distributed.TimeoutError as e:\n",
    "        print(str(num_jobs*2) + ' workers not available. Continuing with available workers.')\n",
    "        #print(e)\n",
    "        pass\n",
    "    display(client)"
   ]
  },
  {
   "cell_type": "code",
   "execution_count": 7,
   "id": "48761bbc-ccdb-487c-9441-f53c1bb72d17",
   "metadata": {},
   "outputs": [
    {
     "data": {
      "text/html": [
       "<div>\n",
       "    <div style=\"width: 24px; height: 24px; background-color: #e1e1e1; border: 3px solid #9D9D9D; border-radius: 5px; position: absolute;\"> </div>\n",
       "    <div style=\"margin-left: 48px;\">\n",
       "        <h3 style=\"margin-bottom: 0px;\">Client</h3>\n",
       "        <p style=\"color: #9D9D9D; margin-bottom: 0px;\">Client-d043e3f1-f5e1-11ee-952d-3cecef1ddc1c</p>\n",
       "        <table style=\"width: 100%; text-align: left;\">\n",
       "\n",
       "        <tr>\n",
       "        \n",
       "            <td style=\"text-align: left;\"><strong>Connection method:</strong> Cluster object</td>\n",
       "            <td style=\"text-align: left;\"><strong>Cluster type:</strong> dask_jobqueue.SLURMCluster</td>\n",
       "        \n",
       "        </tr>\n",
       "\n",
       "        \n",
       "            <tr>\n",
       "                <td style=\"text-align: left;\">\n",
       "                    <strong>Dashboard: </strong> <a href=\"/node/ceres20-compute-14-eth.scinet.local/3602/proxy/8787/status\" target=\"_blank\">/node/ceres20-compute-14-eth.scinet.local/3602/proxy/8787/status</a>\n",
       "                </td>\n",
       "                <td style=\"text-align: left;\"></td>\n",
       "            </tr>\n",
       "        \n",
       "\n",
       "        </table>\n",
       "\n",
       "        \n",
       "            <button style=\"margin-bottom: 12px;\" data-commandlinker-command=\"dask:populate-and-launch-layout\" data-commandlinker-args='{\"url\": \"/node/ceres20-compute-14-eth.scinet.local/3602/proxy/8787/status\" }'>\n",
       "                Launch dashboard in JupyterLab\n",
       "            </button>\n",
       "        \n",
       "\n",
       "        \n",
       "            <details>\n",
       "            <summary style=\"margin-bottom: 20px;\"><h3 style=\"display: inline;\">Cluster Info</h3></summary>\n",
       "            <div class=\"jp-RenderedHTMLCommon jp-RenderedHTML jp-mod-trusted jp-OutputArea-output\">\n",
       "    <div style=\"width: 24px; height: 24px; background-color: #e1e1e1; border: 3px solid #9D9D9D; border-radius: 5px; position: absolute;\">\n",
       "    </div>\n",
       "    <div style=\"margin-left: 48px;\">\n",
       "        <h3 style=\"margin-bottom: 0px; margin-top: 0px;\">SLURMCluster</h3>\n",
       "        <p style=\"color: #9D9D9D; margin-bottom: 0px;\">84a0d2ff</p>\n",
       "        <table style=\"width: 100%; text-align: left;\">\n",
       "            <tr>\n",
       "                <td style=\"text-align: left;\">\n",
       "                    <strong>Dashboard:</strong> <a href=\"/node/ceres20-compute-14-eth.scinet.local/3602/proxy/8787/status\" target=\"_blank\">/node/ceres20-compute-14-eth.scinet.local/3602/proxy/8787/status</a>\n",
       "                </td>\n",
       "                <td style=\"text-align: left;\">\n",
       "                    <strong>Workers:</strong> 0\n",
       "                </td>\n",
       "            </tr>\n",
       "            <tr>\n",
       "                <td style=\"text-align: left;\">\n",
       "                    <strong>Total threads:</strong> 0\n",
       "                </td>\n",
       "                <td style=\"text-align: left;\">\n",
       "                    <strong>Total memory:</strong> 0 B\n",
       "                </td>\n",
       "            </tr>\n",
       "            \n",
       "        </table>\n",
       "\n",
       "        <details>\n",
       "            <summary style=\"margin-bottom: 20px;\">\n",
       "                <h3 style=\"display: inline;\">Scheduler Info</h3>\n",
       "            </summary>\n",
       "\n",
       "            <div style=\"\">\n",
       "    <div>\n",
       "        <div style=\"width: 24px; height: 24px; background-color: #FFF7E5; border: 3px solid #FF6132; border-radius: 5px; position: absolute;\"> </div>\n",
       "        <div style=\"margin-left: 48px;\">\n",
       "            <h3 style=\"margin-bottom: 0px;\">Scheduler</h3>\n",
       "            <p style=\"color: #9D9D9D; margin-bottom: 0px;\">Scheduler-22377ede-f7f8-4124-b581-a6c9560b29cf</p>\n",
       "            <table style=\"width: 100%; text-align: left;\">\n",
       "                <tr>\n",
       "                    <td style=\"text-align: left;\">\n",
       "                        <strong>Comm:</strong> tcp://10.1.5.197:46835\n",
       "                    </td>\n",
       "                    <td style=\"text-align: left;\">\n",
       "                        <strong>Workers:</strong> 0\n",
       "                    </td>\n",
       "                </tr>\n",
       "                <tr>\n",
       "                    <td style=\"text-align: left;\">\n",
       "                        <strong>Dashboard:</strong> <a href=\"/node/ceres20-compute-14-eth.scinet.local/3602/proxy/8787/status\" target=\"_blank\">/node/ceres20-compute-14-eth.scinet.local/3602/proxy/8787/status</a>\n",
       "                    </td>\n",
       "                    <td style=\"text-align: left;\">\n",
       "                        <strong>Total threads:</strong> 0\n",
       "                    </td>\n",
       "                </tr>\n",
       "                <tr>\n",
       "                    <td style=\"text-align: left;\">\n",
       "                        <strong>Started:</strong> 1 minute ago\n",
       "                    </td>\n",
       "                    <td style=\"text-align: left;\">\n",
       "                        <strong>Total memory:</strong> 0 B\n",
       "                    </td>\n",
       "                </tr>\n",
       "            </table>\n",
       "        </div>\n",
       "    </div>\n",
       "\n",
       "    <details style=\"margin-left: 48px;\">\n",
       "        <summary style=\"margin-bottom: 20px;\">\n",
       "            <h3 style=\"display: inline;\">Workers</h3>\n",
       "        </summary>\n",
       "\n",
       "        \n",
       "\n",
       "    </details>\n",
       "</div>\n",
       "\n",
       "        </details>\n",
       "    </div>\n",
       "</div>\n",
       "            </details>\n",
       "        \n",
       "\n",
       "    </div>\n",
       "</div>"
      ],
      "text/plain": [
       "<Client: 'tcp://10.1.5.197:46835' processes=0 threads=0, memory=0 B>"
      ]
     },
     "metadata": {},
     "output_type": "display_data"
    }
   ],
   "source": [
    "display(client)"
   ]
  },
  {
   "cell_type": "markdown",
   "id": "3154fc17-0772-44ee-ac3f-dc94360473a5",
   "metadata": {},
   "source": [
    "#### Load and prepare datasets"
   ]
  },
  {
   "cell_type": "code",
   "execution_count": 8,
   "id": "b3393993-913b-4273-9b8e-0e9879c642e6",
   "metadata": {},
   "outputs": [],
   "source": [
    "### load csv of ground data as GeoDataFrame\n",
    "# load data and parse dates\n",
    "df_vor = pd.read_csv(inPATH, parse_dates=[2, 3])\n",
    "# rename ID column\n",
    "df_vor = df_vor.rename(columns={'Id_' + prefix: 'Id'})\n",
    "# remove any data without geometry\n",
    "df_vor = df_vor[df_vor['geometry'].notnull()].copy()\n",
    "# convert string geometry to geometry\n",
    "df_vor['geometry'] = df_vor['geometry'].astype('str').apply(wkt.loads)\n",
    "# convert to GeoDataFrame\n",
    "gdf_vor = gpd.GeoDataFrame(df_vor, geometry='geometry', crs=32613)\n",
    "# sort by date\n",
    "gdf_vor = gdf_vor.sort_values('Date')"
   ]
  },
  {
   "cell_type": "code",
   "execution_count": 9,
   "id": "7a66c973-843a-4791-9cf5-4aad95ffed9b",
   "metadata": {},
   "outputs": [],
   "source": [
    "# load any existing output data\n",
    "if os.path.exists(outPATH):\n",
    "    df_out = pd.read_csv(outPATH, parse_dates=[2, 3])\n",
    "else:\n",
    "    df_out = None\n",
    "# load any existing output data\n",
    "if os.path.exists(outPATH_raw):\n",
    "    df_out_raw = pd.read_csv(outPATH_raw, parse_dates=[1])\n",
    "else:\n",
    "    df_out_raw = None"
   ]
  },
  {
   "cell_type": "code",
   "execution_count": 10,
   "id": "74f3c356-54da-420c-ae65-ccee30f5575e",
   "metadata": {},
   "outputs": [],
   "source": [
    "from json.decoder import JSONDecodeError\n",
    "from rasterio.errors import RasterioIOError"
   ]
  },
  {
   "cell_type": "code",
   "execution_count": 11,
   "id": "932b379f-f1bc-4ed0-afdc-3c7b5fb8b25f",
   "metadata": {},
   "outputs": [
    {
     "data": {
      "text/html": [
       "<div>\n",
       "<style scoped>\n",
       "    .dataframe tbody tr th:only-of-type {\n",
       "        vertical-align: middle;\n",
       "    }\n",
       "\n",
       "    .dataframe tbody tr th {\n",
       "        vertical-align: top;\n",
       "    }\n",
       "\n",
       "    .dataframe thead th {\n",
       "        text-align: right;\n",
       "    }\n",
       "</style>\n",
       "<table border=\"1\" class=\"dataframe\">\n",
       "  <thead>\n",
       "    <tr style=\"text-align: right;\">\n",
       "      <th></th>\n",
       "      <th>Id</th>\n",
       "      <th>Pasture</th>\n",
       "      <th>Date</th>\n",
       "      <th>Date_mean</th>\n",
       "      <th>Year</th>\n",
       "      <th>Season</th>\n",
       "      <th>Low</th>\n",
       "      <th>High</th>\n",
       "      <th>Biomass_kg_ha</th>\n",
       "      <th>geometry</th>\n",
       "    </tr>\n",
       "  </thead>\n",
       "  <tbody>\n",
       "    <tr>\n",
       "      <th>0</th>\n",
       "      <td>10S_P1_1</td>\n",
       "      <td>10S</td>\n",
       "      <td>2014-06-12</td>\n",
       "      <td>2014-06-12</td>\n",
       "      <td>2014</td>\n",
       "      <td>June</td>\n",
       "      <td>6.00</td>\n",
       "      <td>18.81</td>\n",
       "      <td>1280.282775</td>\n",
       "      <td>POLYGON ((519570.037 4521246.115, 519569.964 4...</td>\n",
       "    </tr>\n",
       "    <tr>\n",
       "      <th>1</th>\n",
       "      <td>10S_P1_2</td>\n",
       "      <td>10S</td>\n",
       "      <td>2014-06-12</td>\n",
       "      <td>2014-06-12</td>\n",
       "      <td>2014</td>\n",
       "      <td>June</td>\n",
       "      <td>9.12</td>\n",
       "      <td>19.75</td>\n",
       "      <td>1765.829861</td>\n",
       "      <td>POLYGON ((519676.087 4521246.115, 519676.015 4...</td>\n",
       "    </tr>\n",
       "    <tr>\n",
       "      <th>2</th>\n",
       "      <td>10S_P1_3</td>\n",
       "      <td>10S</td>\n",
       "      <td>2014-06-12</td>\n",
       "      <td>2014-06-12</td>\n",
       "      <td>2014</td>\n",
       "      <td>June</td>\n",
       "      <td>9.75</td>\n",
       "      <td>20.06</td>\n",
       "      <td>1864.181468</td>\n",
       "      <td>POLYGON ((519570.037 4521350.115, 519569.964 4...</td>\n",
       "    </tr>\n",
       "    <tr>\n",
       "      <th>3</th>\n",
       "      <td>10S_P1_4</td>\n",
       "      <td>10S</td>\n",
       "      <td>2014-06-12</td>\n",
       "      <td>2014-06-12</td>\n",
       "      <td>2014</td>\n",
       "      <td>June</td>\n",
       "      <td>8.19</td>\n",
       "      <td>35.69</td>\n",
       "      <td>1896.110089</td>\n",
       "      <td>POLYGON ((519676.087 4521350.115, 519676.015 4...</td>\n",
       "    </tr>\n",
       "    <tr>\n",
       "      <th>4</th>\n",
       "      <td>10S_P2_1</td>\n",
       "      <td>10S</td>\n",
       "      <td>2014-06-12</td>\n",
       "      <td>2014-06-12</td>\n",
       "      <td>2014</td>\n",
       "      <td>June</td>\n",
       "      <td>4.88</td>\n",
       "      <td>12.75</td>\n",
       "      <td>1001.525767</td>\n",
       "      <td>POLYGON ((519559.297 4520994.580, 519559.224 4...</td>\n",
       "    </tr>\n",
       "    <tr>\n",
       "      <th>...</th>\n",
       "      <td>...</td>\n",
       "      <td>...</td>\n",
       "      <td>...</td>\n",
       "      <td>...</td>\n",
       "      <td>...</td>\n",
       "      <td>...</td>\n",
       "      <td>...</td>\n",
       "      <td>...</td>\n",
       "      <td>...</td>\n",
       "      <td>...</td>\n",
       "    </tr>\n",
       "    <tr>\n",
       "      <th>9646</th>\n",
       "      <td>CN_P3_4</td>\n",
       "      <td>CN</td>\n",
       "      <td>2023-10-19</td>\n",
       "      <td>2023-10-19</td>\n",
       "      <td>2023</td>\n",
       "      <td>October</td>\n",
       "      <td>3.38</td>\n",
       "      <td>14.81</td>\n",
       "      <td>801.827428</td>\n",
       "      <td>POLYGON ((519466.222 4517110.944, 519466.149 4...</td>\n",
       "    </tr>\n",
       "    <tr>\n",
       "      <th>9647</th>\n",
       "      <td>CN_P4_1</td>\n",
       "      <td>CN</td>\n",
       "      <td>2023-10-19</td>\n",
       "      <td>2023-10-19</td>\n",
       "      <td>2023</td>\n",
       "      <td>October</td>\n",
       "      <td>0.56</td>\n",
       "      <td>5.12</td>\n",
       "      <td>182.528259</td>\n",
       "      <td>POLYGON ((519352.308 4517261.669, 519352.235 4...</td>\n",
       "    </tr>\n",
       "    <tr>\n",
       "      <th>9648</th>\n",
       "      <td>CN_P4_2</td>\n",
       "      <td>CN</td>\n",
       "      <td>2023-10-19</td>\n",
       "      <td>2023-10-19</td>\n",
       "      <td>2023</td>\n",
       "      <td>October</td>\n",
       "      <td>0.56</td>\n",
       "      <td>5.56</td>\n",
       "      <td>187.933109</td>\n",
       "      <td>POLYGON ((519458.358 4517261.669, 519458.285 4...</td>\n",
       "    </tr>\n",
       "    <tr>\n",
       "      <th>9649</th>\n",
       "      <td>CN_P4_3</td>\n",
       "      <td>CN</td>\n",
       "      <td>2023-10-19</td>\n",
       "      <td>2023-10-19</td>\n",
       "      <td>2023</td>\n",
       "      <td>October</td>\n",
       "      <td>3.25</td>\n",
       "      <td>12.88</td>\n",
       "      <td>750.694430</td>\n",
       "      <td>POLYGON ((519352.308 4517365.669, 519352.235 4...</td>\n",
       "    </tr>\n",
       "    <tr>\n",
       "      <th>9650</th>\n",
       "      <td>CN_P4_4</td>\n",
       "      <td>CN</td>\n",
       "      <td>2023-10-19</td>\n",
       "      <td>2023-10-19</td>\n",
       "      <td>2023</td>\n",
       "      <td>October</td>\n",
       "      <td>1.81</td>\n",
       "      <td>12.31</td>\n",
       "      <td>502.036020</td>\n",
       "      <td>POLYGON ((519458.358 4517365.669, 519458.285 4...</td>\n",
       "    </tr>\n",
       "  </tbody>\n",
       "</table>\n",
       "<p>9651 rows × 10 columns</p>\n",
       "</div>"
      ],
      "text/plain": [
       "            Id Pasture       Date  Date_mean  Year   Season   Low   High  \\\n",
       "0     10S_P1_1     10S 2014-06-12 2014-06-12  2014     June  6.00  18.81   \n",
       "1     10S_P1_2     10S 2014-06-12 2014-06-12  2014     June  9.12  19.75   \n",
       "2     10S_P1_3     10S 2014-06-12 2014-06-12  2014     June  9.75  20.06   \n",
       "3     10S_P1_4     10S 2014-06-12 2014-06-12  2014     June  8.19  35.69   \n",
       "4     10S_P2_1     10S 2014-06-12 2014-06-12  2014     June  4.88  12.75   \n",
       "...        ...     ...        ...        ...   ...      ...   ...    ...   \n",
       "9646   CN_P3_4      CN 2023-10-19 2023-10-19  2023  October  3.38  14.81   \n",
       "9647   CN_P4_1      CN 2023-10-19 2023-10-19  2023  October  0.56   5.12   \n",
       "9648   CN_P4_2      CN 2023-10-19 2023-10-19  2023  October  0.56   5.56   \n",
       "9649   CN_P4_3      CN 2023-10-19 2023-10-19  2023  October  3.25  12.88   \n",
       "9650   CN_P4_4      CN 2023-10-19 2023-10-19  2023  October  1.81  12.31   \n",
       "\n",
       "      Biomass_kg_ha                                           geometry  \n",
       "0       1280.282775  POLYGON ((519570.037 4521246.115, 519569.964 4...  \n",
       "1       1765.829861  POLYGON ((519676.087 4521246.115, 519676.015 4...  \n",
       "2       1864.181468  POLYGON ((519570.037 4521350.115, 519569.964 4...  \n",
       "3       1896.110089  POLYGON ((519676.087 4521350.115, 519676.015 4...  \n",
       "4       1001.525767  POLYGON ((519559.297 4520994.580, 519559.224 4...  \n",
       "...             ...                                                ...  \n",
       "9646     801.827428  POLYGON ((519466.222 4517110.944, 519466.149 4...  \n",
       "9647     182.528259  POLYGON ((519352.308 4517261.669, 519352.235 4...  \n",
       "9648     187.933109  POLYGON ((519458.358 4517261.669, 519458.285 4...  \n",
       "9649     750.694430  POLYGON ((519352.308 4517365.669, 519352.235 4...  \n",
       "9650     502.036020  POLYGON ((519458.358 4517365.669, 519458.285 4...  \n",
       "\n",
       "[9651 rows x 10 columns]"
      ]
     },
     "execution_count": 11,
     "metadata": {},
     "output_type": "execute_result"
    }
   ],
   "source": [
    "df_vor"
   ]
  },
  {
   "cell_type": "markdown",
   "id": "10699fa1-f911-45d1-be0c-4143b634829c",
   "metadata": {},
   "source": [
    "#### Run extraction for each year"
   ]
  },
  {
   "cell_type": "code",
   "execution_count": 13,
   "id": "409c0d74-d912-49c2-8d78-7537ae51902f",
   "metadata": {
    "scrolled": true
   },
   "outputs": [
    {
     "name": "stderr",
     "output_type": "stream",
     "text": [
      "  0%|          | 0/10 [00:00<?, ?it/s]"
     ]
    },
    {
     "name": "stdout",
     "output_type": "stream",
     "text": [
      "2014\n",
      "Skipping year - already in output dataset.\n",
      "2015\n",
      "Skipping year - already in output dataset.\n",
      "2016\n",
      "Skipping year - already in output dataset.\n",
      "2017\n",
      "Skipping year - already in output dataset.\n",
      "2018\n",
      "Skipping year - already in output dataset.\n",
      "2019\n",
      "Skipping year - already in output dataset.\n",
      "2020\n",
      "Skipping year - already in output dataset.\n",
      "2021\n",
      "Skipping year - already in output dataset.\n",
      "2022\n",
      "Skipping year - already in output dataset.\n",
      "2023\n",
      "masking out clouds and shadows detected by ATSA\n"
     ]
    },
    {
     "name": "stderr",
     "output_type": "stream",
     "text": [
      "/project/cper_neon_aop/conda_envs/hls_nrt_env/lib/python3.9/site-packages/numpy/lib/nanfunctions.py:1664: RuntimeWarning: Degrees of freedom <= 0 for slice.\n",
      "  var = nanvar(a, axis=axis, dtype=dtype, out=out, ddof=ddof,\n"
     ]
    },
    {
     "name": "stdout",
     "output_type": "stream",
     "text": [
      "HOT centers of clear, thin and thick cloudy pixels on land : [ 295.55603422 1603.90349628 2947.14073585]\n"
     ]
    },
    {
     "name": "stderr",
     "output_type": "stream",
     "text": [
      "/project/cper_neon_aop/conda_envs/hls_nrt_env/lib/python3.9/site-packages/numpy/lib/nanfunctions.py:1664: RuntimeWarning: Degrees of freedom <= 0 for slice.\n",
      "  var = nanvar(a, axis=axis, dtype=dtype, out=out, ddof=ddof,\n",
      "/project/cper_neon_aop/conda_envs/hls_nrt_env/lib/python3.9/site-packages/numpy/lib/nanfunctions.py:1664: RuntimeWarning: Degrees of freedom <= 0 for slice.\n",
      "  var = nanvar(a, axis=axis, dtype=dtype, out=out, ddof=ddof,\n"
     ]
    },
    {
     "name": "stdout",
     "output_type": "stream",
     "text": [
      "Shadow index centers of shadow, nonshadow dark and nonshadow bright on land : [ 562.60979333 1695.55492148 4135.97720519]\n"
     ]
    },
    {
     "name": "stderr",
     "output_type": "stream",
     "text": [
      "\n",
      "  0%|          | 0/528 [00:00<?, ?it/s]\u001b[A\n",
      "  3%|▎         | 14/528 [00:00<00:03, 132.50it/s]\u001b[A\n",
      "  6%|▌         | 32/528 [00:00<00:03, 155.20it/s]\u001b[A\n",
      "  9%|▉         | 50/528 [00:00<00:02, 162.63it/s]\u001b[A\n",
      " 13%|█▎        | 68/528 [00:00<00:02, 166.70it/s]\u001b[A\n",
      " 16%|█▋        | 86/528 [00:00<00:02, 169.36it/s]\u001b[A\n",
      " 20%|█▉        | 104/528 [00:00<00:02, 172.16it/s]\u001b[A\n",
      " 23%|██▎       | 122/528 [00:00<00:02, 173.40it/s]\u001b[A\n",
      " 27%|██▋       | 140/528 [00:00<00:02, 172.60it/s]\u001b[A\n",
      " 30%|██▉       | 158/528 [00:00<00:02, 172.89it/s]\u001b[A\n",
      " 33%|███▎      | 176/528 [00:01<00:02, 172.31it/s]\u001b[A\n",
      " 37%|███▋      | 194/528 [00:01<00:01, 172.52it/s]\u001b[A\n",
      " 40%|████      | 212/528 [00:01<00:01, 171.96it/s]\u001b[A\n",
      " 44%|████▎     | 230/528 [00:01<00:01, 173.08it/s]\u001b[A\n",
      " 47%|████▋     | 248/528 [00:01<00:01, 172.35it/s]\u001b[A\n",
      " 50%|█████     | 266/528 [00:01<00:01, 171.74it/s]\u001b[A\n",
      " 54%|█████▍    | 284/528 [00:01<00:01, 169.32it/s]\u001b[A\n",
      " 57%|█████▋    | 302/528 [00:01<00:01, 170.75it/s]\u001b[A\n",
      " 61%|██████    | 320/528 [00:01<00:01, 168.43it/s]\u001b[A\n",
      " 64%|██████▍   | 338/528 [00:01<00:01, 169.19it/s]\u001b[A\n",
      " 67%|██████▋   | 356/528 [00:02<00:01, 169.56it/s]\u001b[A\n",
      " 71%|███████   | 374/528 [00:02<00:00, 170.21it/s]\u001b[A\n",
      " 74%|███████▍  | 392/528 [00:02<00:00, 168.78it/s]\u001b[A\n",
      " 77%|███████▋  | 409/528 [00:02<00:00, 167.50it/s]\u001b[A\n",
      " 81%|████████  | 426/528 [00:02<00:00, 167.51it/s]\u001b[A\n",
      " 84%|████████▍ | 445/528 [00:02<00:00, 171.64it/s]\u001b[A\n",
      " 88%|████████▊ | 463/528 [00:02<00:00, 170.89it/s]\u001b[A\n",
      " 91%|█████████ | 481/528 [00:02<00:00, 170.55it/s]\u001b[A\n",
      " 95%|█████████▍| 499/528 [00:02<00:00, 170.42it/s]\u001b[A\n",
      "100%|██████████| 528/528 [00:03<00:00, 164.59it/s]\u001b[A\n",
      "100%|██████████| 10/10 [30:00<00:00, 180.04s/it]\n"
     ]
    }
   ],
   "source": [
    "for yr in tqdm(gdf_vor['Year'].unique()):\n",
    "    print(yr)\n",
    "    # skip if year already in output data\n",
    "    if df_out is not None and yr in df_out['Year'].unique():\n",
    "        print('Skipping year - already in output dataset.')\n",
    "        continue\n",
    "    # skip HLS if on local cluster and can't handle ATSA mask\n",
    "    elif not process_hls and (yr > lmf_yr_max):\n",
    "        print('Skipping year - not set to process HLS')\n",
    "        continue\n",
    "    else:\n",
    "        # get subset of vor data for year\n",
    "        gdf_yr = gdf_vor[gdf_vor['Year'] == yr]\n",
    "        # set the bounding box for fetching data\n",
    "        bbox_yr = np.array(gdf_yr.total_bounds) # the entire subset dataset \n",
    "        \n",
    "        if use_lmf and yr <= lmf_yr_max:\n",
    "            # get the LMF netcdf dataset for the year\n",
    "            lmfPATH_yr = glob(os.path.join(lmfDIR, 'CPER_' + str(yr) + '*.nc'))\n",
    "            # load the dataset to memory after masking\n",
    "            lmf_ds = riox.open_rasterio(lmfPATH_yr[0], \n",
    "                          nodata=-9999, mask=True).sel(x=slice(bbox_yr[0], bbox_yr[2]),\n",
    "                                                       y=slice(bbox_yr[3], bbox_yr[1])).load()\n",
    "            # chunk the dataset for efficient processing\n",
    "            lmf_ds = lmf_ds.chunk({'DOY': -1, 'y': 50, 'x': 50})\n",
    "        \n",
    "            # create an xarray mask from the ground data\n",
    "            mask_info = gdf_vor.drop_duplicates(\n",
    "                subset=['Id', 'Date'])[['Id', 'geometry']].reset_index(drop=True).reset_index().rename(\n",
    "                columns={'index': 'id'})\n",
    "            mask_shp = [(row.geometry, row.id+1) for _, row in mask_info.iterrows()]\n",
    "            plot_mask = shp2mask(shp=mask_shp, \n",
    "                                 transform=lmf_ds.rio.transform(), \n",
    "                                 outshape=lmf_ds['BLUE'].shape[1:], \n",
    "                                 xr_object=lmf_ds['BLUE'])\n",
    "            mask_dict = {row.id+1: row.Id for _, row in mask_info.iterrows()}\n",
    "            mask_dict[0] = 'UNK'\n",
    "            plot_mask = np.array([mask_dict[i] for i in plot_mask.values.flatten()]).reshape(plot_mask.shape)\n",
    "            \n",
    "            # assign the plot id's to the xarray dataset\n",
    "            lmf_ds = lmf_ds.assign(Plot=(['y', 'x'], plot_mask)).chunk({'y': 50, 'x': 50})\n",
    "            lmf_ds = lmf_ds.set_coords('Plot')\n",
    "\n",
    "            # mask out areas outside ground plots\n",
    "            lmf_ds = lmf_ds.where(lmf_ds['Plot'] != 'UNK')\n",
    "\n",
    "            # lazy compute all vegetation indices\n",
    "            for vegidx in veg_dict:\n",
    "                lmf_ds[vegidx] = veg_dict[vegidx](lmf_ds)\n",
    "\n",
    "            # convert to dataframe at plot scale\n",
    "            df_yr = lmf_ds[list(veg_dict.keys()) + band_list].groupby('Plot').mean('stacked_y_x').to_dataframe().reset_index()\n",
    "            \n",
    "            # convert day of year (DOY) to datetime\n",
    "            df_yr['time'] = df_yr['DOY'].apply(lambda x: datetime(yr, 1, 1) + timedelta(days=x))\n",
    "            df_yr = df_yr.drop(columns=['DOY'])\n",
    "            \n",
    "            # get the start and end date of the dataset\n",
    "            start_date = df_yr['time'].min()\n",
    "            end_date = df_yr['time'].max()\n",
    "        else:\n",
    "            # get the date range for the fetch as a dictionary\n",
    "            #start_date = gdf_yr['Date'].min().date() - timedelta(days=30)\n",
    "            #end_date = gdf_yr['Date'].max().date() + timedelta(days=30)\n",
    "            start_date = str(yr - 1) + \"-11-01\"\n",
    "            end_date = str(yr + 1) + \"-03-01\"\n",
    "            data_dict = {'date_range': [str(start_date), \n",
    "                                        str(end_date)]}\n",
    "\n",
    "            # fetch the data for the entire year's dataset\n",
    "            idx_try = 0\n",
    "            while idx_try < 5:\n",
    "                idx_try += 1\n",
    "                try:\n",
    "                    hls_ds = fetch.get_hls(hls_data=data_dict,\n",
    "                                           bbox=bbox_yr, \n",
    "                                           debug=False,\n",
    "                                           stack_chunks=(400, 400),\n",
    "                                           proj_epsg=gdf_yr.crs.to_epsg(),\n",
    "                                           lim=1000).load()\n",
    "                    idx_try = 5\n",
    "                except JSONDecodeError:\n",
    "                    print('json decode error, retrying ' + str(idx_try) + 'of 5')\n",
    "                    time.sleep(5)\n",
    "                    pass\n",
    "                except RasterioIOError or RuntimeError or KeyError:\n",
    "                    print('read error, retrying ' + str(idx_try) + 'of 5')\n",
    "                    time.sleep(5)\n",
    "                    pass\n",
    "\n",
    "            # create a tile ID coordinate\n",
    "            hls_ds = hls_ds.assign_coords(tile_id = ('time', [x.split('.')[2] for x in hls_ds['id'].values]))\n",
    "\n",
    "            # drop pixels with negative values for blue band\n",
    "            hls_ds = hls_ds.where(hls_ds['BLUE'] > 0)\n",
    "            \n",
    "            # pick best image for any dates with duplicate images for the same tile\n",
    "            if len(hls_ds['time'].groupby('tile_id').apply(lambda x: x.drop_duplicates('time', False))) < len(hls_ds['time']):\n",
    "                hls_mask = mask_hls(hls_ds['FMASK'], mask_types=['all'])\n",
    "                hls_ds['maskcov_pct'] = ((hls_mask != 0).sum(['y', 'x']) / hls_ds['FMASK'].isel(time=0).size * 100)#\n",
    "                hls_ds = hls_ds.groupby('tile_id').apply(lambda x: x.sortby('maskcov_pct').drop_duplicates('time', keep='first')).sortby('time').compute()\n",
    "\n",
    "            # compute ATSA mask if possible\n",
    "            if try_atsa:\n",
    "                print('masking out clouds and shadows detected by ATSA')\n",
    "                if len(np.unique(hls_ds.tile_id)) > 1:\n",
    "                    hls_atsa = hls_ds.groupby('tile_id').apply(lambda x: atsa_mask(x.where(\n",
    "                        x['BLUE'].notnull(), drop=True))).compute()\n",
    "                    hls_atsa = hls_atsa.transpose('time', 'y', 'x')\n",
    "                else:\n",
    "                    hls_ds = hls_ds.reset_coords(drop=True)\n",
    "                    try:\n",
    "                        hls_atsa = atsa_mask(hls_ds).compute()\n",
    "                        mask_atsa = True\n",
    "                    except ValueError or IndexError:\n",
    "                        print('WARNING: Could not compute ATSA cloud/shadow mask')\n",
    "                        mask_atsa = False\n",
    "                        pass\n",
    "            else:\n",
    "                mask_atsa = False\n",
    "\n",
    "            if mask_bolton_by_pixel:\n",
    "                # compute the bolton mask\n",
    "                hls_bolton_mask = bolton_mask(hls_ds).compute()\n",
    "                hls_ds = xr.merge([hls_ds, hls_atsa], join='inner')\n",
    "                hls_ds.where(hls_ds['BOLTON'] == 0, drop=True)\n",
    "\n",
    "            # compute native HLS mask, including all aerosol flags\n",
    "            hls_mask = mask_hls(hls_ds['FMASK'], mask_types=['cirrus',\n",
    "                                                             'cloud',\n",
    "                                                             'cloud_adj',\n",
    "                                                             'shadow', \n",
    "                                                             'snow',\n",
    "                                                             'water',\n",
    "                                                             'high_aerosol'])\n",
    "            # mask using native HLS mask\n",
    "            hls_ds = hls_ds.where(hls_mask == 0)\n",
    "            # mask using ATSA mask, if available\n",
    "            if mask_atsa:\n",
    "                # merge ATSA mask with HLS data\n",
    "                hls_ds = xr.merge([hls_ds, hls_atsa], join='inner')\n",
    "                hls_ds = hls_ds.where(hls_ds['ATSA'] == 1)\n",
    "\n",
    "            # in case multiple tile_id's still exist, take the mean by pixel\n",
    "            if 'tile_id' in hls_ds.coords and len(np.unique(hls_ds.tile_id.values)) > 1:\n",
    "                hls_ds = hls_ds.groupby('time').mean()\n",
    "\n",
    "            # create an xarray mask from the ground data\n",
    "            mask_info = gdf_vor.drop_duplicates(subset=['Id', 'Date'])[['Id', 'geometry']].reset_index(drop=True).reset_index().rename(columns={'index': 'id'})\n",
    "            mask_shp = [(row.geometry, row.id+1) for _, row in mask_info.iterrows()]\n",
    "            plot_mask = shp2mask(shp=mask_shp, \n",
    "                                 transform=hls_ds.rio.transform(), \n",
    "                                 outshape=hls_ds['BLUE'].shape[1:], \n",
    "                                 xr_object=hls_ds['BLUE'])\n",
    "            mask_dict = {row.id+1: row.Id for _, row in mask_info.iterrows()}\n",
    "            mask_dict[0] = 'UNK'\n",
    "            plot_mask = np.array([mask_dict[i] for i in plot_mask.values.flatten()]).reshape(plot_mask.shape)\n",
    "\n",
    "            # assign the plot id's to the xarray dataset\n",
    "            hls_ds = hls_ds.assign(Plot=(['y', 'x'], plot_mask)).chunk({'y': 50, 'x': 50})\n",
    "            hls_ds = hls_ds.set_coords('Plot')\n",
    "\n",
    "            # mask out areas outside ground plots\n",
    "            hls_ds = hls_ds.where(hls_ds['Plot'] != 'UNK')\n",
    "\n",
    "            # create variable to get percentage of pixels that are NA for a given date\n",
    "            hls_ds['NA_pct'] = hls_ds['BLUE'].isnull().astype('int') * 1.0\n",
    "\n",
    "            # lazy compute all vegetation indices\n",
    "            for vegidx in veg_dict:\n",
    "                hls_ds[vegidx] = veg_dict[vegidx](hls_ds)\n",
    "\n",
    "            # convert to dataframe at plot scale, if any pixels are NA, result is NA with skipna=False\n",
    "            df_yr = hls_ds[list(veg_dict.keys()) + band_list + ['NA_pct']].groupby('Plot').mean('stacked_y_x', skipna=True).to_dataframe().reset_index()\n",
    "\n",
    "        # remove all non-plot data\n",
    "        df_yr = df_yr[df_yr['Plot'] != 'UNK']\n",
    "\n",
    "        # remove any dates where bands are negative\n",
    "        df_yr = df_yr[~((df_yr[band_list] < 0).any(axis=1))]\n",
    "        \n",
    "        # rename columns to match VOR data\n",
    "        df_yr = df_yr.rename(columns={'time': 'Date',\n",
    "                                        'Plot': 'Id'})\n",
    "        # convert date to datetime\n",
    "        df_yr['Date'] = pd.to_datetime(df_yr['Date'])\n",
    "        \n",
    "        # get missing dates for gap-filling\n",
    "        dates_missing = [x for x in pd.date_range(start_date, end_date).date if x not in df_yr['Date'].dt.date.unique()]\n",
    "\n",
    "        # convert missing dates to a dataframe for combining with veg index data\n",
    "        df_missing = pd.DataFrame({\n",
    "            'Id': list(chain.from_iterable([list(np.repeat(x, len(dates_missing))) for x in df_yr['Id'].unique()])),\n",
    "            'Date': list(chain.from_iterable(dates_missing for x in df_yr['Id'].unique()))})\n",
    "\n",
    "        # combine into one dataframe for gapfilling\n",
    "        df_yr_ts = pd.concat([df_yr, df_missing]).sort_values(['Id', 'Date'])\n",
    "\n",
    "        # apply Bolton mask to extracted values\n",
    "        if mask_bolton_by_id:\n",
    "            ps_bolton = df_yr_ts.groupby('Id').progress_apply(lambda x: bolton_mask_np(x['BLUE'], x['SWIR2']))\n",
    "            df_yr_ts.loc[df_yr_ts[ps_bolton.droplevel(0) == 1.0].index, list(veg_dict.keys()) + band_list] = np.nan\n",
    "        \n",
    "        # smooth all vegetation indices to gapfill\n",
    "        for vegidx in veg_dict:\n",
    "            #df_yr_ts[vegidx + '_smooth'] = df_yr_ts.groupby('Id')[vegidx].transform(lambda x: double_savgol(x.values))\n",
    "            vals_smooth_yr = df_yr_ts.groupby('Id').apply(lambda x: adapt_smooth(x[vegidx], pd.to_datetime(x['Date'])))\n",
    "            df_yr_ts[vegidx + '_smooth'] = vals_smooth_yr.droplevel(list(np.arange(vals_smooth_yr.index.nlevels-1)))\n",
    "        for band in band_list:\n",
    "            #df_yr_ts[band + '_smooth'] = df_yr_ts.groupby('Id')[band].transform(lambda x: double_savgol(x.values))\n",
    "            vals_smooth_yr = df_yr_ts.groupby('Id').apply(lambda x: adapt_smooth(x[band], pd.to_datetime(x['Date'])))\n",
    "            df_yr_ts[band + '_smooth'] = vals_smooth_yr.droplevel(list(np.arange(vals_smooth_yr.index.nlevels-1)))\n",
    "\n",
    "        # convert date to datetime\n",
    "        df_yr_ts['Date'] = pd.to_datetime(df_yr_ts['Date'])\n",
    "\n",
    "        if save_raw:\n",
    "            if df_out_raw is not None:\n",
    "                # merge with existing output dataset\n",
    "                df_out_raw = pd.concat([df_out_raw, df_yr_ts])\n",
    "            else:\n",
    "                df_out_raw = df_yr_ts.copy()\n",
    "            df_out_raw.to_csv(outPATH_raw, index=False)\n",
    "        \n",
    "        # rename smoothed columns and drop originals\n",
    "        df_yr_ts = df_yr_ts.drop(columns=list(veg_dict.keys()) + band_list)\n",
    "        col_rename_dict = {c: re.sub('_smooth', '', c) for c in df_yr_ts.columns if '_smooth' in c}\n",
    "        df_yr_ts = df_yr_ts.rename(columns=col_rename_dict)\n",
    "        \n",
    "        df_out_yr = pd.merge(gdf_yr, \n",
    "                             df_yr_ts[['Id', 'Date'] + list(veg_dict.keys()) + band_list], \n",
    "                             on=['Id', 'Date'],\n",
    "                             how='left')\n",
    "\n",
    "        if df_out is not None:\n",
    "            # merge with existing ouptput dataset\n",
    "            df_out = pd.concat([df_out, df_out_yr])\n",
    "        else:\n",
    "            # create output dataset\n",
    "            df_out = df_out_yr.copy()\n",
    "        df_out.to_csv(outPATH, index=False)\n",
    "        time.sleep(2)\n",
    "        del df_yr, df_yr_ts, df_out_yr, gdf_yr\n",
    "        if (use_lmf and yr > lmf_yr_max) or not use_lmf:\n",
    "            del hls_ds, hls_mask\n",
    "            if mask_atsa:\n",
    "                del hls_atsa\n",
    "            if mask_bolton_by_pixel:\n",
    "                del hls_bolton_mask\n",
    "            if mask_bolton_by_id:\n",
    "                del ps_bolton\n",
    "        gc.collect()\n",
    "        client.restart(timeout=300)\n",
    "        time.sleep(5)"
   ]
  },
  {
   "cell_type": "code",
   "execution_count": 19,
   "id": "19b01b19-8e22-4760-93fd-79dd6e805699",
   "metadata": {},
   "outputs": [
    {
     "data": {
      "text/plain": [
       "<AxesSubplot:xlabel='Date', ylabel='NIR1'>"
      ]
     },
     "execution_count": 19,
     "metadata": {},
     "output_type": "execute_result"
    },
    {
     "data": {
      "image/png": "[encoded data removed]",
      "text/plain": [
       "<Figure size 640x480 with 1 Axes>"
      ]
     },
     "metadata": {},
     "output_type": "display_data"
    }
   ],
   "source": [
    "ID = '15E_P1'\n",
    "var = 'NIR1'\n",
    "ax1 = df_out_raw[(df_out_raw['Id'] == ID)].plot(x='Date', y=var, c='black')\n",
    "df_out[(df_out['Id'] == ID)].plot.scatter(x='Date', y=var, c='orange', ax=ax1)\n",
    "df_out[(df_out['Id'] == ID)].plot.scatter(x='Date', y=var, c='red', ax=ax1)"
   ]
  },
  {
   "cell_type": "markdown",
   "id": "56566492-052d-4542-94df-3339d2022577",
   "metadata": {},
   "source": [
    "#### Manually merge HLS and LMF datasets"
   ]
  },
  {
   "cell_type": "code",
   "execution_count": 9,
   "id": "743d8b81-eeb4-493b-bf5c-d705711509db",
   "metadata": {},
   "outputs": [],
   "source": [
    "df_out_old = pd.read_csv(re.sub('.csv', '_old.csv', outPATH), parse_dates=['Date'])"
   ]
  },
  {
   "cell_type": "code",
   "execution_count": 14,
   "id": "358bf362-4eaa-4ca9-a124-e1864adccc37",
   "metadata": {},
   "outputs": [],
   "source": [
    "df_out_manual = pd.concat([df_out[df_out['Year'] < lmf_yr_max], \n",
    "                           df_out_old[df_out_old['Year'] >= lmf_yr_max]])\n"
   ]
  },
  {
   "cell_type": "code",
   "execution_count": 15,
   "id": "490e722a-f33e-4dbf-9333-df044d15f3ad",
   "metadata": {},
   "outputs": [
    {
     "data": {
      "text/plain": [
       "array([2013, 2014, 2015, 2016, 2017, 2018, 2019, 2020, 2021, 2022])"
      ]
     },
     "execution_count": 15,
     "metadata": {},
     "output_type": "execute_result"
    }
   ],
   "source": [
    "df_out_manual['Year'].unique()"
   ]
  },
  {
   "cell_type": "code",
   "execution_count": 16,
   "id": "609fcd81-4b6a-4d97-918e-d6623aeda1c3",
   "metadata": {},
   "outputs": [],
   "source": [
    "df_out_manual.to_csv(re.sub('.csv', '_manual_combine.csv', outPATH), index=False)"
   ]
  },
  {
   "cell_type": "markdown",
   "id": "6feed3a1-2d95-497d-adaa-e6e9b87cb630",
   "metadata": {},
   "source": [
    "### OTHER TESTING (TEMP)"
   ]
  },
  {
   "cell_type": "code",
   "execution_count": 17,
   "id": "a08dcfdc-3c27-4fd2-b8c5-c69b8767eb95",
   "metadata": {},
   "outputs": [],
   "source": [
    "yr = 2015\n",
    "# get subset of vor data for year\n",
    "gdf_yr = gdf_vor[gdf_vor['Year'] == yr]\n",
    "# set the bounding box for fetching data\n",
    "bbox_yr = np.array(gdf_yr.total_bounds) # the entire subset dataset \n",
    "lmfPATH_yr = glob(os.path.join(lmfDIR, 'CPER_' + str(yr) + '*.nc'))\n",
    "lmf_ds = riox.open_rasterio(lmfPATH_yr[0], \n",
    "              nodata=-9999, mask=True).sel(x=slice(bbox_yr[0], bbox_yr[2]),\n",
    "                                           y=slice(bbox_yr[3], bbox_yr[1])).load()\n",
    "lmf_ds = lmf_ds.chunk({'DOY': -1, 'y': 50, 'x': 50})\n",
    "\n",
    "# create an xarray mask from the ground data\n",
    "mask_info = gdf_vor.drop_duplicates(\n",
    "    subset=['Id', 'Date'])[['Id', 'geometry']].reset_index(drop=True).reset_index().rename(\n",
    "    columns={'index': 'id'})\n",
    "mask_shp = [(row.geometry, row.id+1) for _, row in mask_info.iterrows()]\n",
    "plot_mask = shp2mask(shp=mask_shp, \n",
    "                     transform=lmf_ds.rio.transform(), \n",
    "                     outshape=lmf_ds['BLUE'].shape[1:], \n",
    "                     xr_object=lmf_ds['BLUE'])\n",
    "mask_dict = {row.id+1: row.Id for _, row in mask_info.iterrows()}\n",
    "mask_dict[0] = 'UNK'\n",
    "plot_mask = np.array([mask_dict[i] for i in plot_mask.values.flatten()]).reshape(plot_mask.shape)\n",
    "\n",
    "# assign the plot id's to the xarray dataset\n",
    "lmf_ds = lmf_ds.assign(Plot=(['y', 'x'], plot_mask)).chunk({'y': 50, 'x': 50})\n",
    "lmf_ds = lmf_ds.set_coords('Plot')\n",
    "\n",
    "# mask out areas outside ground plots\n",
    "lmf_ds = lmf_ds.where(lmf_ds['Plot'] != 'UNK')\n",
    "\n",
    "# lazy compute all vegetation indices\n",
    "for vegidx in veg_dict:\n",
    "    lmf_ds[vegidx] = veg_dict[vegidx](lmf_ds)\n",
    "\n",
    "# convert to dataframe at plot scale\n",
    "df_yr = lmf_ds[list(veg_dict.keys()) + band_list].groupby('Plot').mean('stacked_y_x').to_dataframe().reset_index()\n",
    "\n",
    "df_yr['time'] = df_yr['DOY'].apply(lambda x: datetime(yr, 1, 1) + timedelta(days=x))\n",
    "df_yr = df_yr.drop(columns=['DOY'])\n",
    "\n",
    "start_date = df_yr['time'].min()\n",
    "end_date = df_yr['time'].max()"
   ]
  },
  {
   "cell_type": "code",
   "execution_count": 18,
   "id": "ee5b9b86-ce08-47fe-8a3f-650b23d0166c",
   "metadata": {},
   "outputs": [
    {
     "data": {
      "image/png": "[encoded data removed]",
      "text/plain": [
       "<Figure size 432x288 with 1 Axes>"
      ]
     },
     "metadata": {
      "needs_background": "light"
     },
     "output_type": "display_data"
    },
    {
     "data": {
      "text/plain": [
       "<AxesSubplot:>"
      ]
     },
     "execution_count": 18,
     "metadata": {},
     "output_type": "execute_result"
    }
   ],
   "source": [
    "from rasterio.plot import show\n",
    "#(lmf_ds['SWIR1'].isel(DOY=278)/1000).values\n",
    "show((lmf_ds['SWIR1'].isel(DOY=278)/1000).values)"
   ]
  },
  {
   "cell_type": "code",
   "execution_count": 41,
   "id": "33b1a4bd-02e1-4794-94a3-b970e600a467",
   "metadata": {},
   "outputs": [
    {
     "data": {
      "text/html": [
       "<div>\n",
       "<style scoped>\n",
       "    .dataframe tbody tr th:only-of-type {\n",
       "        vertical-align: middle;\n",
       "    }\n",
       "\n",
       "    .dataframe tbody tr th {\n",
       "        vertical-align: top;\n",
       "    }\n",
       "\n",
       "    .dataframe thead th {\n",
       "        text-align: right;\n",
       "    }\n",
       "</style>\n",
       "<table border=\"1\" class=\"dataframe\">\n",
       "  <thead>\n",
       "    <tr style=\"text-align: right;\">\n",
       "      <th></th>\n",
       "      <th>Plot</th>\n",
       "      <th>NDVI</th>\n",
       "      <th>DFI</th>\n",
       "      <th>NDTI</th>\n",
       "      <th>SATVI</th>\n",
       "      <th>NDII7</th>\n",
       "      <th>BAI_126</th>\n",
       "      <th>BAI_136</th>\n",
       "      <th>BAI_146</th>\n",
       "      <th>BAI_236</th>\n",
       "      <th>BAI_246</th>\n",
       "      <th>BAI_346</th>\n",
       "      <th>NIR1</th>\n",
       "      <th>SWIR1</th>\n",
       "      <th>SWIR2</th>\n",
       "      <th>spatial_ref</th>\n",
       "      <th>time</th>\n",
       "    </tr>\n",
       "  </thead>\n",
       "  <tbody>\n",
       "    <tr>\n",
       "      <th>24367</th>\n",
       "      <td>25NW_P1</td>\n",
       "      <td>0.347822</td>\n",
       "      <td>11.6628</td>\n",
       "      <td>0.137122</td>\n",
       "      <td>0.218866</td>\n",
       "      <td>-0.030899</td>\n",
       "      <td>150.035533</td>\n",
       "      <td>159.821334</td>\n",
       "      <td>134.111776</td>\n",
       "      <td>170.917063</td>\n",
       "      <td>133.072568</td>\n",
       "      <td>125.956071</td>\n",
       "      <td>2387.172414</td>\n",
       "      <td>3347.344828</td>\n",
       "      <td>2540.793103</td>\n",
       "      <td>0</td>\n",
       "      <td>2013-10-06</td>\n",
       "    </tr>\n",
       "  </tbody>\n",
       "</table>\n",
       "</div>"
      ],
      "text/plain": [
       "          Plot      NDVI      DFI      NDTI     SATVI     NDII7     BAI_126  \\\n",
       "24367  25NW_P1  0.347822  11.6628  0.137122  0.218866 -0.030899  150.035533   \n",
       "\n",
       "          BAI_136     BAI_146     BAI_236     BAI_246     BAI_346  \\\n",
       "24367  159.821334  134.111776  170.917063  133.072568  125.956071   \n",
       "\n",
       "              NIR1        SWIR1        SWIR2  spatial_ref       time  \n",
       "24367  2387.172414  3347.344828  2540.793103            0 2013-10-06  "
      ]
     },
     "execution_count": 41,
     "metadata": {},
     "output_type": "execute_result"
    }
   ],
   "source": [
    "df_yr[(df_yr['Plot'] == '25NW_P1') & (df_yr['time'] == '2013-10-06')]"
   ]
  },
  {
   "cell_type": "code",
   "execution_count": 19,
   "id": "6b642428-1231-43f9-8aac-45caac81550f",
   "metadata": {},
   "outputs": [
    {
     "data": {
      "text/html": [
       "<div>\n",
       "<style scoped>\n",
       "    .dataframe tbody tr th:only-of-type {\n",
       "        vertical-align: middle;\n",
       "    }\n",
       "\n",
       "    .dataframe tbody tr th {\n",
       "        vertical-align: top;\n",
       "    }\n",
       "\n",
       "    .dataframe thead th {\n",
       "        text-align: right;\n",
       "    }\n",
       "</style>\n",
       "<table border=\"1\" class=\"dataframe\">\n",
       "  <thead>\n",
       "    <tr style=\"text-align: right;\">\n",
       "      <th></th>\n",
       "      <th>Plot</th>\n",
       "      <th>DOY</th>\n",
       "      <th>spatial_ref</th>\n",
       "      <th>SWIR1</th>\n",
       "    </tr>\n",
       "  </thead>\n",
       "  <tbody>\n",
       "    <tr>\n",
       "      <th>66</th>\n",
       "      <td>25NW_P1</td>\n",
       "      <td>278.0</td>\n",
       "      <td>0</td>\n",
       "      <td>3515.000000</td>\n",
       "    </tr>\n",
       "    <tr>\n",
       "      <th>67</th>\n",
       "      <td>25NW_P2</td>\n",
       "      <td>278.0</td>\n",
       "      <td>0</td>\n",
       "      <td>3471.689655</td>\n",
       "    </tr>\n",
       "    <tr>\n",
       "      <th>68</th>\n",
       "      <td>25NW_P3</td>\n",
       "      <td>278.0</td>\n",
       "      <td>0</td>\n",
       "      <td>3443.482759</td>\n",
       "    </tr>\n",
       "    <tr>\n",
       "      <th>69</th>\n",
       "      <td>25NW_P4</td>\n",
       "      <td>278.0</td>\n",
       "      <td>0</td>\n",
       "      <td>3328.379310</td>\n",
       "    </tr>\n",
       "  </tbody>\n",
       "</table>\n",
       "</div>"
      ],
      "text/plain": [
       "       Plot    DOY  spatial_ref        SWIR1\n",
       "66  25NW_P1  278.0            0  3515.000000\n",
       "67  25NW_P2  278.0            0  3471.689655\n",
       "68  25NW_P3  278.0            0  3443.482759\n",
       "69  25NW_P4  278.0            0  3328.379310"
      ]
     },
     "execution_count": 19,
     "metadata": {},
     "output_type": "execute_result"
    }
   ],
   "source": [
    "test = lmf_ds['SWIR1'].sel(DOY=278).groupby('Plot').mean('stacked_y_x').to_dataframe().reset_index()\n",
    "test[['25NW' in x for x in test['Plot']]]"
   ]
  },
  {
   "cell_type": "code",
   "execution_count": 51,
   "id": "9ce6c097-e0db-41bf-8b28-bbd61c59c4a0",
   "metadata": {},
   "outputs": [],
   "source": [
    "# remove any dates where bands are nodata (-9999)\n",
    "df_yr = df_yr[~(df_yr[band_list] < 0).any(axis=1)]"
   ]
  },
  {
   "cell_type": "code",
   "execution_count": 52,
   "id": "47bb9533-18c3-4b29-a2a4-3f651f48e09a",
   "metadata": {},
   "outputs": [
    {
     "data": {
      "text/plain": [
       "1007.56"
      ]
     },
     "execution_count": 52,
     "metadata": {},
     "output_type": "execute_result"
    }
   ],
   "source": [
    "df_yr[(df_yr['Plot'] == ID)][var].min()"
   ]
  },
  {
   "cell_type": "code",
   "execution_count": 53,
   "id": "4582cc28-ddb6-45c6-80da-d12712ce869e",
   "metadata": {},
   "outputs": [
    {
     "data": {
      "text/plain": [
       "<AxesSubplot:xlabel='Date', ylabel='NIR1'>"
      ]
     },
     "execution_count": 53,
     "metadata": {},
     "output_type": "execute_result"
    },
    {
     "data": {
      "image/png": "[encoded data removed]",
      "text/plain": [
       "<Figure size 432x288 with 1 Axes>"
      ]
     },
     "metadata": {
      "needs_background": "light"
     },
     "output_type": "display_data"
    }
   ],
   "source": [
    "ID = '15E_P1'\n",
    "var = 'NIR1'\n",
    "ax1 = df_yr[(df_yr['Plot'] == ID)].plot(x='time', y=var)\n",
    "df_out_old[(df_out_old['Id'] == ID) & \n",
    "           (df_out_old['Year'] == 2015)].plot.scatter(x='Date', y=var, c='orange', ax=ax1)\n",
    "df_out[(df_out['Id'] == ID) & \n",
    "           (df_out['Year'] == 2015)].plot.scatter(x='Date', y=var, c='red', ax=ax1)"
   ]
  },
  {
   "cell_type": "code",
   "execution_count": 54,
   "id": "9edd145f-c9e7-47b9-86ca-0ee5eb9c7cb9",
   "metadata": {},
   "outputs": [],
   "source": [
    "# remove all non-plot data\n",
    "df_yr = df_yr[df_yr['Plot'] != 'UNK']\n",
    "\n",
    "# rename columns to match VOR data\n",
    "df_yr = df_yr.rename(columns={'time': 'Date',\n",
    "                                'Plot': 'Id'})"
   ]
  },
  {
   "cell_type": "code",
   "execution_count": 55,
   "id": "732c712e-455f-4a13-a36d-9f21479f4b38",
   "metadata": {},
   "outputs": [
    {
     "name": "stderr",
     "output_type": "stream",
     "text": [
      "/home/spkearney/miniconda3/envs/hls_nrt_env/lib/python3.10/site-packages/pandas/core/indexes/base.py:2237: FutureWarning: Comparison of Timestamp with datetime.date is deprecated in order to match the standard library behavior. In a future version these will be considered non-comparable. Use 'ts == pd.Timestamp(date)' or 'ts.date() == date' instead.\n",
      "  return self._engine.is_unique\n",
      "/home/spkearney/miniconda3/envs/hls_nrt_env/lib/python3.10/site-packages/pandas/core/indexes/base.py:3809: FutureWarning: Comparison of Timestamp with datetime.date is deprecated in order to match the standard library behavior. In a future version these will be considered non-comparable. Use 'ts == pd.Timestamp(date)' or 'ts.date() == date' instead.\n",
      "  indexer = self._engine.get_indexer(tgt_values)\n"
     ]
    }
   ],
   "source": [
    "# remove any dates where bands are nodata (-9999)\n",
    "df_yr = df_yr[~(df_yr[band_list] < 0).any(axis=1)]\n",
    "\n",
    "# get missing dates for gap-filling\n",
    "dates_missing = [x for x in pd.date_range(start_date, end_date).date if x not in df_yr['Date'].dt.date.unique()]\n",
    "\n",
    "# convert missing dates to a dataframe for combining with veg index data\n",
    "df_missing = pd.DataFrame({\n",
    "    'Id': list(chain.from_iterable([list(np.repeat(x, len(dates_missing))) for x in df_yr['Id'].unique()])),\n",
    "    'Date': list(chain.from_iterable(dates_missing for x in df_yr['Id'].unique()))})\n",
    "\n",
    "# combine into one dataframe for gapfilling\n",
    "df_yr_ts = pd.concat([df_yr, df_missing]).sort_values(['Id', 'Date'])\n",
    "\n",
    "# smooth all vegetation indices to gapfill\n",
    "for vegidx in veg_dict:\n",
    "    df_yr_ts[vegidx + '_smooth'] = df_yr_ts.groupby('Id')[vegidx].transform(lambda x: double_savgol(x.values))\n",
    "for band in band_list:\n",
    "    df_yr_ts[band + '_smooth'] = df_yr_ts.groupby('Id')[band].transform(lambda x: double_savgol(x.values))\n",
    "\n",
    "# convert date to datetime\n",
    "df_yr_ts['Date'] = pd.to_datetime(df_yr_ts['Date'])\n",
    "\n",
    "# rename smoothed columns and drop originals\n",
    "df_yr_ts = df_yr_ts.drop(columns=list(veg_dict.keys()) + band_list)\n",
    "col_rename_dict = {c: re.sub('_smooth', '', c) for c in df_yr_ts.columns if '_smooth' in c}\n",
    "df_yr_ts = df_yr_ts.rename(columns=col_rename_dict)"
   ]
  },
  {
   "cell_type": "code",
   "execution_count": 58,
   "id": "a8821e10-8ffa-4f24-a826-9218618101ac",
   "metadata": {},
   "outputs": [
    {
     "data": {
      "text/plain": [
       "1007.56"
      ]
     },
     "execution_count": 58,
     "metadata": {},
     "output_type": "execute_result"
    }
   ],
   "source": [
    "df_yr[(df_yr['Id'] == ID)][var].min()"
   ]
  },
  {
   "cell_type": "code",
   "execution_count": 68,
   "id": "1d9ec37e-87ac-4433-a20e-c81d3bfe150b",
   "metadata": {},
   "outputs": [
    {
     "data": {
      "text/plain": [
       "<AxesSubplot:xlabel='Date', ylabel='SWIR1'>"
      ]
     },
     "execution_count": 68,
     "metadata": {},
     "output_type": "execute_result"
    },
    {
     "data": {
      "image/png": "[encoded data removed]",
      "text/plain": [
       "<Figure size 432x288 with 1 Axes>"
      ]
     },
     "metadata": {
      "needs_background": "light"
     },
     "output_type": "display_data"
    }
   ],
   "source": [
    "ID = 'CN_P2'\n",
    "var = 'SWIR1'\n",
    "ax1 = df_yr[(df_yr['Id'] == ID)].plot(x='Date', y=var)\n",
    "df_yr_ts[(df_yr_ts['Id'] == ID)].plot(x='Date', y=var, ax=ax1, linestyle='dashed')\n",
    "df_out_old[(df_out_old['Id'] == ID) & \n",
    "           (df_out_old['Year'] == 2015)].plot.scatter(x='Date', y=var, c='orange', ax=ax1)\n",
    "df_out[(df_out['Id'] == ID) & \n",
    "           (df_out['Year'] == 2015)].plot.scatter(x='Date', y=var, c='red', ax=ax1)"
   ]
  },
  {
   "cell_type": "code",
   "execution_count": 59,
   "id": "15f239c8-513e-4670-990d-a7d62bcead64",
   "metadata": {},
   "outputs": [
    {
     "data": {
      "text/plain": [
       "[datetime.date(2013, 1, 2),\n",
       " datetime.date(2013, 1, 3),\n",
       " datetime.date(2013, 1, 4),\n",
       " datetime.date(2013, 2, 23),\n",
       " datetime.date(2013, 2, 24),\n",
       " datetime.date(2013, 2, 25),\n",
       " datetime.date(2013, 2, 26),\n",
       " datetime.date(2013, 10, 19),\n",
       " datetime.date(2013, 12, 7),\n",
       " datetime.date(2013, 12, 8),\n",
       " datetime.date(2013, 12, 9),\n",
       " datetime.date(2013, 12, 10),\n",
       " datetime.date(2013, 12, 11)]"
      ]
     },
     "execution_count": 59,
     "metadata": {},
     "output_type": "execute_result"
    }
   ],
   "source": [
    "dates_missing"
   ]
  },
  {
   "cell_type": "code",
   "execution_count": 63,
   "id": "bab907bb-7991-4125-a92a-e3a7fe1ade68",
   "metadata": {},
   "outputs": [
    {
     "data": {
      "text/plain": [
       "<AxesSubplot:xlabel='Date'>"
      ]
     },
     "execution_count": 63,
     "metadata": {},
     "output_type": "execute_result"
    },
    {
     "data": {
      "image/png": "[encoded data removed]",
      "text/plain": [
       "<Figure size 432x288 with 1 Axes>"
      ]
     },
     "metadata": {
      "needs_background": "light"
     },
     "output_type": "display_data"
    }
   ],
   "source": [
    "ax1 = df_yr[(df_yr['Id'] == '25NW_P1')].plot(x='Date', y='SWIR1')\n",
    "df_yr_ts[(df_yr_ts['Id'] == '25NW_P1')].plot(x='Date', y='SWIR1', ax=ax1)"
   ]
  },
  {
   "cell_type": "code",
   "execution_count": 22,
   "id": "d10451b7-5953-4884-a409-020384a34648",
   "metadata": {},
   "outputs": [],
   "source": [
    "yr = 2014\n",
    "from glob import glob\n",
    "lmfPATH_yr = glob(os.path.join(lmfDIR, 'CPER_' + str(yr) + '*.nc'))\n",
    "#lmfFILE_list = glob(os.path.join(lmfDIR_yr[0], '*.bin'))"
   ]
  },
  {
   "cell_type": "code",
   "execution_count": 7,
   "id": "9212dc12-1e8f-409e-97bb-4015c178b552",
   "metadata": {},
   "outputs": [],
   "source": [
    "bbox = gdf_vor.total_bounds"
   ]
  },
  {
   "cell_type": "code",
   "execution_count": 8,
   "id": "f70ac8e5-28e6-4e51-bddb-d4b9726d2826",
   "metadata": {},
   "outputs": [
    {
     "name": "stderr",
     "output_type": "stream",
     "text": [
      "Warning 1: +init=epsg:XXXX syntax is deprecated. It might return a CRS with a non-EPSG compliant axis order.\n"
     ]
    }
   ],
   "source": [
    "lmf_ds = riox.open_rasterio(lmfPATH_yr[0], \n",
    "                          nodata=-9999, mask=True).sel(x=slice(bbox[0], bbox[2]),\n",
    "                                                       y=slice(bbox[3], bbox[1])).load()"
   ]
  },
  {
   "cell_type": "code",
   "execution_count": 9,
   "id": "7488ee7c-352b-4bf5-bf4e-324b21f12da5",
   "metadata": {},
   "outputs": [],
   "source": [
    "lmf_ds = lmf_ds.chunk({'DOY': -1, 'y': 50, 'x': 50})"
   ]
  },
  {
   "cell_type": "code",
   "execution_count": 10,
   "id": "13d58c7b-4819-4b88-a195-0a716775f088",
   "metadata": {},
   "outputs": [],
   "source": [
    "# create an xarray mask from the ground data\n",
    "mask_info = gdf_vor.drop_duplicates(\n",
    "    subset=['Id', 'Date'])[['Id', 'geometry']].reset_index(drop=True).reset_index().rename(\n",
    "    columns={'index': 'id'})\n",
    "mask_shp = [(row.geometry, row.id+1) for _, row in mask_info.iterrows()]\n",
    "plot_mask = shp2mask(shp=mask_shp, \n",
    "                     transform=lmf_ds.rio.transform(), \n",
    "                     outshape=lmf_ds['BLUE'].shape[1:], \n",
    "                     xr_object=lmf_ds['BLUE'])\n",
    "mask_dict = {row.id+1: row.Id for _, row in mask_info.iterrows()}\n",
    "mask_dict[0] = 'UNK'\n",
    "plot_mask = np.array([mask_dict[i] for i in plot_mask.values.flatten()]).reshape(plot_mask.shape)"
   ]
  },
  {
   "cell_type": "code",
   "execution_count": 11,
   "id": "af06bb95-0068-4413-88da-bf1f22e875d9",
   "metadata": {},
   "outputs": [],
   "source": [
    "# assign the plot id's to the xarray dataset\n",
    "lmf_ds = lmf_ds.assign(Plot=(['y', 'x'], plot_mask)).chunk({'y': 50, 'x': 50})\n",
    "lmf_ds = lmf_ds.set_coords('Plot')\n",
    "\n",
    "# mask out areas outside ground plots\n",
    "lmf_ds = lmf_ds.where(lmf_ds['Plot'] != 'UNK')\n",
    "\n",
    "# lazy compute all vegetation indices\n",
    "for vegidx in veg_dict:\n",
    "    lmf_ds[vegidx] = veg_dict[vegidx](lmf_ds)\n",
    "\n",
    "# convert to dataframe at plot scale\n",
    "df_yr = lmf_ds[list(veg_dict.keys()) + band_list].groupby('Plot').mean('stacked_y_x').to_dataframe().reset_index()"
   ]
  },
  {
   "cell_type": "code",
   "execution_count": 22,
   "id": "a446202a-1ade-4262-bedb-bc03602c2db2",
   "metadata": {},
   "outputs": [],
   "source": [
    "df_yr['time'] = df_yr['DOY'].apply(lambda x: datetime(yr, 1, 1) + timedelta(days=x))\n",
    "df_yr = df_yr.drop(columns=['DOY'])"
   ]
  },
  {
   "cell_type": "code",
   "execution_count": 26,
   "id": "8fa670d5-d076-47b7-a495-a1e6515e2afd",
   "metadata": {},
   "outputs": [],
   "source": [
    "start_date = df_yr['time'].min()\n",
    "end_date = df_yr['time'].max()"
   ]
  },
  {
   "cell_type": "code",
   "execution_count": 28,
   "id": "13d42be5-11bf-4e2d-a1da-51a4764674fd",
   "metadata": {},
   "outputs": [],
   "source": [
    "# remove all non-plot data\n",
    "df_yr = df_yr[df_yr['Plot'] != 'UNK']\n",
    "\n",
    "# rename columns to match VOR data\n",
    "df_yr = df_yr.rename(columns={'time': 'Date',\n",
    "                              'Plot': 'Id'})\n",
    "\n",
    "# get missing dates for gap-filling\n",
    "dates_missing = [x for x in pd.date_range(start_date, end_date).date if x not in df_yr['Date'].unique()]\n",
    "\n",
    "# convert missing dates to a dataframe for combining with veg index data\n",
    "df_missing = pd.DataFrame({\n",
    "    'Id': list(chain.from_iterable([list(np.repeat(x, len(dates_missing))) for x in df_yr['Id'].unique()])),\n",
    "    'Date': list(chain.from_iterable(dates_missing for x in df_yr['Id'].unique()))})\n",
    "\n",
    "# combine into one dataframe for gapfilling\n",
    "df_yr_ts = pd.concat([df_yr, df_missing]).sort_values(['Id', 'Date'])\n",
    "\n",
    "# smooth all vegetation indices to gapfill\n",
    "for vegidx in veg_dict:\n",
    "    df_yr_ts[vegidx + '_smooth'] = df_yr_ts.groupby('Id')[vegidx].transform(lambda x: double_savgol(x.values))\n",
    "for band in band_list:\n",
    "    df_yr_ts[band + '_smooth'] = df_yr_ts.groupby('Id')[band].transform(lambda x: double_savgol(x.values))\n",
    "\n",
    "# convert date to datetime\n",
    "df_yr_ts['Date'] = pd.to_datetime(df_yr_ts['Date'])\n",
    "\n",
    "# rename smoothed columns and drop originals\n",
    "df_yr_ts = df_yr_ts.drop(columns=list(veg_dict.keys()) + band_list)\n",
    "col_rename_dict = {c: re.sub('_smooth', '', c) for c in df_yr_ts.columns if '_smooth' in c}\n",
    "df_yr_ts = df_yr_ts.rename(columns=col_rename_dict)"
   ]
  },
  {
   "cell_type": "code",
   "execution_count": 14,
   "id": "aefafae9-17aa-4b03-9418-fc3d2e2e730f",
   "metadata": {},
   "outputs": [
    {
     "data": {
      "text/plain": [
       "<AxesSubplot:xlabel='DOY', ylabel='NDVI'>"
      ]
     },
     "execution_count": 14,
     "metadata": {},
     "output_type": "execute_result"
    },
    {
     "data": {
      "image/png": "[encoded data removed]",
      "text/plain": [
       "<Figure size 432x288 with 1 Axes>"
      ]
     },
     "metadata": {
      "needs_background": "light"
     },
     "output_type": "display_data"
    }
   ],
   "source": [
    "import seaborn as sns\n",
    "sns.lineplot(x='DOY', y='NDVI', data=df_yr[df_yr['Plot'] == '10S_P1'])"
   ]
  },
  {
   "cell_type": "code",
   "execution_count": 31,
   "id": "2c01c78e-ba25-4795-b039-a7027b44a034",
   "metadata": {},
   "outputs": [
    {
     "data": {
      "text/plain": [
       "<AxesSubplot:xlabel='Date', ylabel='DFI'>"
      ]
     },
     "execution_count": 31,
     "metadata": {},
     "output_type": "execute_result"
    },
    {
     "data": {
      "image/png": "[encoded data removed]",
      "text/plain": [
       "<Figure size 432x288 with 1 Axes>"
      ]
     },
     "metadata": {
      "needs_background": "light"
     },
     "output_type": "display_data"
    }
   ],
   "source": [
    "sns.lineplot(x='Date', y='DFI', data=df_yr_ts[df_yr_ts['Id'] == '10S_P1'])"
   ]
  },
  {
   "cell_type": "code",
   "execution_count": 9,
   "id": "21a31ed3-4d08-4077-af69-5950d35799c4",
   "metadata": {},
   "outputs": [],
   "source": [
    "import seaborn as sns"
   ]
  },
  {
   "cell_type": "code",
   "execution_count": 10,
   "id": "5e55ace4-a56b-40d8-9d3d-0bcca94c2ac4",
   "metadata": {},
   "outputs": [
    {
     "data": {
      "text/plain": [
       "<AxesSubplot:xlabel='Date', ylabel='DFI'>"
      ]
     },
     "execution_count": 10,
     "metadata": {},
     "output_type": "execute_result"
    },
    {
     "data": {
      "image/png": "[encoded data removed]",
      "text/plain": [
       "<Figure size 432x288 with 1 Axes>"
      ]
     },
     "metadata": {
      "needs_background": "light"
     },
     "output_type": "display_data"
    }
   ],
   "source": [
    "sns.lineplot(x='Date', y='DFI', data=df_out[df_out['Id'] == '10S_P1'])"
   ]
  },
  {
   "cell_type": "code",
   "execution_count": null,
   "id": "0413a702-0629-4ba6-8252-4d9a90206e5d",
   "metadata": {},
   "outputs": [],
   "source": []
  }
 ],
 "metadata": {
  "kernelspec": {
   "display_name": "hls_nrt_env",
   "language": "python",
   "name": "hls_nrt_env"
  },
  "language_info": {
   "codemirror_mode": {
    "name": "ipython",
    "version": 3
   },
   "file_extension": ".py",
   "mimetype": "text/x-python",
   "name": "python",
   "nbconvert_exporter": "python",
   "pygments_lexer": "ipython3",
   "version": "3.9.12"
  }
 },
 "nbformat": 4,
 "nbformat_minor": 5
}
