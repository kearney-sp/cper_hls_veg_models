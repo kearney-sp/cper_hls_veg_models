{
 "cells": [
  {
   "cell_type": "markdown",
   "id": "03f4d848-d9fb-4d4c-848d-ecd7ee764df9",
   "metadata": {},
   "source": [
    "### Extract daily NDVI by pasture at CPER\n",
    "Uses pre-processed daily NDVI rasters from Landsat-MODIS fusion (LMF - see Gao et al. 2015) and Harmonized Landsat Sentinel (HLS - see Kearney et al. 2022). Computes the mean of all grid cells within each pasture. Returns a .csv file with a single NDVI value for each date for each pasture."
   ]
  },
  {
   "cell_type": "code",
   "execution_count": null,
   "id": "98eff7a8-e42c-4297-bf7d-33c945cfb563",
   "metadata": {},
   "outputs": [],
   "source": [
    "import rioxarray as riox\n",
    "import rasterio as rio\n",
    "import xarray as xr\n",
    "import os\n",
    "import re\n",
    "import numpy as np\n",
    "import pandas as pd\n",
    "import geopandas as gpd\n",
    "from datetime import datetime, timedelta\n",
    "from hlsstack.hls_funcs.masks import shp2mask\n",
    "from tqdm.notebook import tqdm\n",
    "import glob"
   ]
  },
  {
   "cell_type": "code",
   "execution_count": null,
   "id": "09c970d5-368c-4182-9749-4a75b7bbcdb1",
   "metadata": {},
   "outputs": [],
   "source": [
    "# dask cluster location\n",
    "cluster_loc = 'local'\n",
    "# the earliest year for using HLS\n",
    "hls_cutoff = 2016\n",
    "\n",
    "# the respective generic paths for LMF and HLS pre-processed data\n",
    "ndvi_dict = {\n",
    "    'lmf': '/mnt/t/3-GIS/CPER/Layers/CPER_Landsat-Modis-Fusion_V3/flexfit_ndvi.033032.{}.bin',\n",
    "    'hls': '/mnt/c/Users/Sean.Kearney/git_repos/hls_nrt/data/gcloud/hls_cper_{}_gcloud.nc'\n",
    "}\n",
    "\n",
    "# the path to a shapefile with CPER pasture boundaries\n",
    "cper_f = '../data/ground/boundaries/cper_pastures_2017_dissolved.shp'\n",
    "\n",
    "# the range of years to be processed\n",
    "yrs = range(2014, 2023)\n",
    "\n",
    "# the output path for the csv file\n",
    "out_f = '/mnt/t/3-GIS/CPER/Layers/CPER_RS_avgs/cper_ndvi_means_2014_2022.csv'"
   ]
  },
  {
   "cell_type": "code",
   "execution_count": null,
   "id": "eff5bc81-6bda-42a3-89a5-991840d77e2a",
   "metadata": {},
   "outputs": [],
   "source": [
    "# setup the dask cluster\n",
    "if cluster_loc == 'local':\n",
    "    #os.chdir(wkDIR)\n",
    "    print('   setting up Local cluster...')\n",
    "    from dask.distributed import LocalCluster, Client\n",
    "    import dask\n",
    "    cluster = LocalCluster(n_workers=8, threads_per_worker=2)\n",
    "    client = Client(cluster)\n",
    "    display(client)\n",
    "    inDIR = 'data/'"
   ]
  },
  {
   "cell_type": "code",
   "execution_count": null,
   "id": "5f6e63bc-c75f-40d5-983c-970f12f5b191",
   "metadata": {},
   "outputs": [],
   "source": [
    "# prepare the pasture boundaries to be converted into an xarray mask\n",
    "cper = gpd.read_file(cper_f).to_crs(32613)\n",
    "cper_info = cper[['Pasture', 'geometry']].reset_index(drop=True).reset_index().rename(columns={'index': 'id'})\n",
    "past_dict = {row.id+1: row.Pasture for _, row in cper_info.iterrows()}\n",
    "past_dict[0] = 'UNK'\n",
    "cper_mask_shp = [(row.geometry, row.id+1) for _, row in cper_info.iterrows()]"
   ]
  },
  {
   "cell_type": "code",
   "execution_count": null,
   "id": "cbff04c5-f0bb-47ef-a919-2615bb5d0aea",
   "metadata": {},
   "outputs": [],
   "source": [
    "# loop through each year and extract pasture NDVI means for each date\n",
    "for idx, yr in enumerate(tqdm(yrs)):\n",
    "    # determine whether to use LMF\n",
    "    if yr < hls_cutoff:\n",
    "        # define file path\n",
    "        fpath = ndvi_dict['lmf'].format(str(yr))\n",
    "        # read in data\n",
    "        da = riox.open_rasterio(fpath, masked=True)\n",
    "        # rename for converting to xarray.DataSet since LMF data are single-band and thus xarray.DataArray\n",
    "        da.name = 'NDVI'\n",
    "        # convert to xarray.DataSet\n",
    "        ds = da.to_dataset()\n",
    "        # reproject if necessary\n",
    "        if ds.rio.crs != cper.crs:\n",
    "            ds = ds.rio.reproject(cper.crs)\n",
    "        # convert the band coordinate to date\n",
    "        ds['band'] = [datetime(yr, 1, 1) + timedelta(days=int(x)) for x in ds['band'].values]\n",
    "        # rename band coordinate to date\n",
    "        ds = ds.rename({'band': 'date'})\n",
    "        # subset to only CPER boundaries\n",
    "        ds = ds.sel(x=slice(cper.total_bounds[0], cper.total_bounds[2] + 30),\n",
    "                    y=slice(cper.total_bounds[3], cper.total_bounds[1] - 30))\n",
    "    # use HLS \n",
    "    else:\n",
    "        # define the file path\n",
    "        fpath = ndvi_dict['hls'].format(str(yr))\n",
    "        # read in data, selecting only NDVI\n",
    "        ds = riox.open_rasterio(fpath, masked=True, variable='NDVI')\n",
    "        # reproject if necessary\n",
    "        if ds.rio.crs != cper.crs:\n",
    "            ds = ds.rio.reproject(cper.crs)\n",
    "    # create the pasture mask from shapefile\n",
    "    cper_mask = shp2mask(shp=cper_mask_shp, \n",
    "                         transform=ds.rio.transform(), \n",
    "                         outshape=ds['NDVI'].shape[1:], \n",
    "                         xr_object=ds['NDVI'])\n",
    "    # convert from numeric id's to pasture names\n",
    "    past_mask = np.array([past_dict[i] for i in cper_mask.values.flatten()]).reshape(cper_mask.shape)\n",
    "    # add the pasture mask to the NDVi dataset\n",
    "    ds = ds.assign(Pasture=(['y', 'x'], past_mask)).chunk({'y': 50, 'x': 50})\n",
    "    ds = ds.set_coords('Pasture')\n",
    "    # get pasture means and convert to dataframe\n",
    "    df_yr = ds.groupby(\n",
    "        ds['Pasture']).mean(\n",
    "        dim='stacked_y_x').to_dataframe().reset_index().drop(\n",
    "        columns='spatial_ref')\n",
    "    df_yr['Year'] = str(yr)\n",
    "    \n",
    "    # create the initial output dataframe if it doesn't exist\n",
    "    if idx == 0:\n",
    "        df_out = df_yr.copy()\n",
    "    # append to the existing output dataframe\n",
    "    else:\n",
    "        df_out = pd.concat([df_out, df_yr])"
   ]
  },
  {
   "cell_type": "code",
   "execution_count": null,
   "id": "2683efa4-568b-49ea-a361-c7a51a8cfef0",
   "metadata": {},
   "outputs": [],
   "source": [
    "# add the data source to the output dataframe\n",
    "df_out['Source'] = df_out['Year'].apply(lambda x: 'LMF' if int(x) < hls_cutoff else 'HLS')"
   ]
  },
  {
   "cell_type": "code",
   "execution_count": null,
   "id": "12e710e6-4e02-49cd-931c-8678be7cf8c1",
   "metadata": {},
   "outputs": [],
   "source": [
    "# quality control check that all pastures are present for each year\n",
    "df_out.groupby('Year').apply(lambda x: x['Pasture'].unique())"
   ]
  },
  {
   "cell_type": "code",
   "execution_count": null,
   "id": "9bd13602-c639-485a-9108-a41bc5450812",
   "metadata": {},
   "outputs": [],
   "source": [
    "# preview the output dataframe\n",
    "df_out"
   ]
  },
  {
   "cell_type": "code",
   "execution_count": null,
   "id": "18cc24a3-7185-4ab2-9142-2d21d6c0074b",
   "metadata": {},
   "outputs": [],
   "source": [
    "# write the output dataframe to disk\n",
    "df_out.to_csv(out_f, index=False)"
   ]
  },
  {
   "cell_type": "markdown",
   "id": "9b443781-17c9-447a-a381-03d6084b0d4c",
   "metadata": {},
   "source": [
    "#### Plot saved results"
   ]
  },
  {
   "cell_type": "code",
   "execution_count": null,
   "id": "78daaa9b-534c-4497-b75c-9263f2a55d15",
   "metadata": {},
   "outputs": [],
   "source": [
    "import seaborn as sns"
   ]
  },
  {
   "cell_type": "code",
   "execution_count": null,
   "id": "05133193-0dfc-4fac-a527-f9fc2c6e9aed",
   "metadata": {},
   "outputs": [],
   "source": [
    "# read in the saved .csv output\n",
    "df_saved = pd.read_csv('/mnt/t/3-GIS/CPER/Layers/CPER_RS_avgs/cper_ndvi_means_2014_2022.csv')"
   ]
  },
  {
   "cell_type": "code",
   "execution_count": null,
   "id": "70d21bba-4620-4bb9-84ac-614086826dfd",
   "metadata": {},
   "outputs": [],
   "source": [
    "# plot all pastures and all dates on a single figure\n",
    "sns.relplot(data=df_saved, x='date', y='NDVI', hue='Pasture', kind=\"line\", errorbar=None)"
   ]
  }
 ],
 "metadata": {
  "kernelspec": {
   "display_name": "Python 3 (ipykernel)",
   "language": "python",
   "name": "python3"
  },
  "language_info": {
   "codemirror_mode": {
    "name": "ipython",
    "version": 3
   },
   "file_extension": ".py",
   "mimetype": "text/x-python",
   "name": "python",
   "nbconvert_exporter": "python",
   "pygments_lexer": "ipython3",
   "version": "3.10.5"
  }
 },
 "nbformat": 4,
 "nbformat_minor": 5
}
